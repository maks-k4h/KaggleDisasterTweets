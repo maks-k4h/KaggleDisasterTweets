{
 "cells": [
  {
   "cell_type": "code",
   "execution_count": 1,
   "id": "6344c4ea",
   "metadata": {
    "_cell_guid": "b1076dfc-b9ad-4769-8c92-a6c4dae69d19",
    "_uuid": "8f2839f25d086af736a60e9eeb907d3b93b6e0e5",
    "execution": {
     "iopub.execute_input": "2023-04-06T17:17:48.027061Z",
     "iopub.status.busy": "2023-04-06T17:17:48.026664Z",
     "iopub.status.idle": "2023-04-06T17:17:48.039768Z",
     "shell.execute_reply": "2023-04-06T17:17:48.038758Z"
    },
    "papermill": {
     "duration": 0.027905,
     "end_time": "2023-04-06T17:17:48.042192",
     "exception": false,
     "start_time": "2023-04-06T17:17:48.014287",
     "status": "completed"
    },
    "tags": []
   },
   "outputs": [
    {
     "name": "stdout",
     "output_type": "stream",
     "text": [
      "/kaggle/input/nlp-getting-started/sample_submission.csv\n",
      "/kaggle/input/nlp-getting-started/train.csv\n",
      "/kaggle/input/nlp-getting-started/test.csv\n"
     ]
    }
   ],
   "source": [
    "# This Python 3 environment comes with many helpful analytics libraries installed\n",
    "# It is defined by the kaggle/python Docker image: https://github.com/kaggle/docker-python\n",
    "# For example, here's several helpful packages to load\n",
    "\n",
    "import numpy as np # linear algebra\n",
    "import pandas as pd # data processing, CSV file I/O (e.g. pd.read_csv)\n",
    "\n",
    "# Input data files are available in the read-only \"../input/\" directory\n",
    "# For example, running this (by clicking run or pressing Shift+Enter) will list all files under the input directory\n",
    "\n",
    "import os\n",
    "for dirname, _, filenames in os.walk('/kaggle/input'):\n",
    "    for filename in filenames:\n",
    "        print(os.path.join(dirname, filename))\n",
    "\n",
    "# You can write up to 20GB to the current directory (/kaggle/working/) that gets preserved as output when you create a version using \"Save & Run All\" \n",
    "# You can also write temporary files to /kaggle/temp/, but they won't be saved outside of the current session"
   ]
  },
  {
   "cell_type": "code",
   "execution_count": 2,
   "id": "cd5ddb64",
   "metadata": {
    "execution": {
     "iopub.execute_input": "2023-04-06T17:17:48.063183Z",
     "iopub.status.busy": "2023-04-06T17:17:48.062360Z",
     "iopub.status.idle": "2023-04-06T17:17:48.067436Z",
     "shell.execute_reply": "2023-04-06T17:17:48.066515Z"
    },
    "papermill": {
     "duration": 0.01763,
     "end_time": "2023-04-06T17:17:48.069562",
     "exception": false,
     "start_time": "2023-04-06T17:17:48.051932",
     "status": "completed"
    },
    "tags": []
   },
   "outputs": [],
   "source": [
    "device = 'cuda'\n",
    "model_checkpoint = \"roberta-base\""
   ]
  },
  {
   "cell_type": "markdown",
   "id": "3a8d9bfc",
   "metadata": {
    "papermill": {
     "duration": 0.0094,
     "end_time": "2023-04-06T17:17:48.090156",
     "exception": false,
     "start_time": "2023-04-06T17:17:48.080756",
     "status": "completed"
    },
    "tags": []
   },
   "source": [
    "## Exploring the data"
   ]
  },
  {
   "cell_type": "code",
   "execution_count": 3,
   "id": "00dc6003",
   "metadata": {
    "execution": {
     "iopub.execute_input": "2023-04-06T17:17:48.110656Z",
     "iopub.status.busy": "2023-04-06T17:17:48.110396Z",
     "iopub.status.idle": "2023-04-06T17:17:48.114672Z",
     "shell.execute_reply": "2023-04-06T17:17:48.113633Z"
    },
    "papermill": {
     "duration": 0.017132,
     "end_time": "2023-04-06T17:17:48.116990",
     "exception": false,
     "start_time": "2023-04-06T17:17:48.099858",
     "status": "completed"
    },
    "tags": []
   },
   "outputs": [],
   "source": [
    "import pandas as pd"
   ]
  },
  {
   "cell_type": "code",
   "execution_count": 4,
   "id": "8e6aaed5",
   "metadata": {
    "execution": {
     "iopub.execute_input": "2023-04-06T17:17:48.137174Z",
     "iopub.status.busy": "2023-04-06T17:17:48.136906Z",
     "iopub.status.idle": "2023-04-06T17:17:48.209841Z",
     "shell.execute_reply": "2023-04-06T17:17:48.208765Z"
    },
    "papermill": {
     "duration": 0.08601,
     "end_time": "2023-04-06T17:17:48.212521",
     "exception": false,
     "start_time": "2023-04-06T17:17:48.126511",
     "status": "completed"
    },
    "tags": []
   },
   "outputs": [],
   "source": [
    "raw_train_df = pd.read_csv('/kaggle/input/nlp-getting-started/train.csv')\n",
    "raw_test_df = pd.read_csv('/kaggle/input/nlp-getting-started/test.csv')"
   ]
  },
  {
   "cell_type": "code",
   "execution_count": 5,
   "id": "0bee8db0",
   "metadata": {
    "execution": {
     "iopub.execute_input": "2023-04-06T17:17:48.233975Z",
     "iopub.status.busy": "2023-04-06T17:17:48.233626Z",
     "iopub.status.idle": "2023-04-06T17:17:48.241056Z",
     "shell.execute_reply": "2023-04-06T17:17:48.240081Z"
    },
    "papermill": {
     "duration": 0.020447,
     "end_time": "2023-04-06T17:17:48.243097",
     "exception": false,
     "start_time": "2023-04-06T17:17:48.222650",
     "status": "completed"
    },
    "tags": []
   },
   "outputs": [
    {
     "data": {
      "text/plain": [
       "7613"
      ]
     },
     "execution_count": 5,
     "metadata": {},
     "output_type": "execute_result"
    }
   ],
   "source": [
    "len(raw_train_df)"
   ]
  },
  {
   "cell_type": "code",
   "execution_count": 6,
   "id": "5f34465b",
   "metadata": {
    "execution": {
     "iopub.execute_input": "2023-04-06T17:17:48.264487Z",
     "iopub.status.busy": "2023-04-06T17:17:48.263575Z",
     "iopub.status.idle": "2023-04-06T17:17:48.278978Z",
     "shell.execute_reply": "2023-04-06T17:17:48.277896Z"
    },
    "papermill": {
     "duration": 0.028229,
     "end_time": "2023-04-06T17:17:48.281014",
     "exception": false,
     "start_time": "2023-04-06T17:17:48.252785",
     "status": "completed"
    },
    "tags": []
   },
   "outputs": [
    {
     "data": {
      "text/html": [
       "<div>\n",
       "<style scoped>\n",
       "    .dataframe tbody tr th:only-of-type {\n",
       "        vertical-align: middle;\n",
       "    }\n",
       "\n",
       "    .dataframe tbody tr th {\n",
       "        vertical-align: top;\n",
       "    }\n",
       "\n",
       "    .dataframe thead th {\n",
       "        text-align: right;\n",
       "    }\n",
       "</style>\n",
       "<table border=\"1\" class=\"dataframe\">\n",
       "  <thead>\n",
       "    <tr style=\"text-align: right;\">\n",
       "      <th></th>\n",
       "      <th>id</th>\n",
       "      <th>keyword</th>\n",
       "      <th>location</th>\n",
       "      <th>text</th>\n",
       "      <th>target</th>\n",
       "    </tr>\n",
       "  </thead>\n",
       "  <tbody>\n",
       "    <tr>\n",
       "      <th>0</th>\n",
       "      <td>1</td>\n",
       "      <td>NaN</td>\n",
       "      <td>NaN</td>\n",
       "      <td>Our Deeds are the Reason of this #earthquake M...</td>\n",
       "      <td>1</td>\n",
       "    </tr>\n",
       "    <tr>\n",
       "      <th>1</th>\n",
       "      <td>4</td>\n",
       "      <td>NaN</td>\n",
       "      <td>NaN</td>\n",
       "      <td>Forest fire near La Ronge Sask. Canada</td>\n",
       "      <td>1</td>\n",
       "    </tr>\n",
       "    <tr>\n",
       "      <th>2</th>\n",
       "      <td>5</td>\n",
       "      <td>NaN</td>\n",
       "      <td>NaN</td>\n",
       "      <td>All residents asked to 'shelter in place' are ...</td>\n",
       "      <td>1</td>\n",
       "    </tr>\n",
       "    <tr>\n",
       "      <th>3</th>\n",
       "      <td>6</td>\n",
       "      <td>NaN</td>\n",
       "      <td>NaN</td>\n",
       "      <td>13,000 people receive #wildfires evacuation or...</td>\n",
       "      <td>1</td>\n",
       "    </tr>\n",
       "    <tr>\n",
       "      <th>4</th>\n",
       "      <td>7</td>\n",
       "      <td>NaN</td>\n",
       "      <td>NaN</td>\n",
       "      <td>Just got sent this photo from Ruby #Alaska as ...</td>\n",
       "      <td>1</td>\n",
       "    </tr>\n",
       "  </tbody>\n",
       "</table>\n",
       "</div>"
      ],
      "text/plain": [
       "   id keyword location                                               text  \\\n",
       "0   1     NaN      NaN  Our Deeds are the Reason of this #earthquake M...   \n",
       "1   4     NaN      NaN             Forest fire near La Ronge Sask. Canada   \n",
       "2   5     NaN      NaN  All residents asked to 'shelter in place' are ...   \n",
       "3   6     NaN      NaN  13,000 people receive #wildfires evacuation or...   \n",
       "4   7     NaN      NaN  Just got sent this photo from Ruby #Alaska as ...   \n",
       "\n",
       "   target  \n",
       "0       1  \n",
       "1       1  \n",
       "2       1  \n",
       "3       1  \n",
       "4       1  "
      ]
     },
     "execution_count": 6,
     "metadata": {},
     "output_type": "execute_result"
    }
   ],
   "source": [
    "raw_train_df.head()"
   ]
  },
  {
   "cell_type": "code",
   "execution_count": 7,
   "id": "147e245a",
   "metadata": {
    "execution": {
     "iopub.execute_input": "2023-04-06T17:17:48.302779Z",
     "iopub.status.busy": "2023-04-06T17:17:48.301863Z",
     "iopub.status.idle": "2023-04-06T17:17:48.311705Z",
     "shell.execute_reply": "2023-04-06T17:17:48.310668Z"
    },
    "papermill": {
     "duration": 0.022907,
     "end_time": "2023-04-06T17:17:48.313774",
     "exception": false,
     "start_time": "2023-04-06T17:17:48.290867",
     "status": "completed"
    },
    "tags": []
   },
   "outputs": [
    {
     "data": {
      "text/html": [
       "<div>\n",
       "<style scoped>\n",
       "    .dataframe tbody tr th:only-of-type {\n",
       "        vertical-align: middle;\n",
       "    }\n",
       "\n",
       "    .dataframe tbody tr th {\n",
       "        vertical-align: top;\n",
       "    }\n",
       "\n",
       "    .dataframe thead th {\n",
       "        text-align: right;\n",
       "    }\n",
       "</style>\n",
       "<table border=\"1\" class=\"dataframe\">\n",
       "  <thead>\n",
       "    <tr style=\"text-align: right;\">\n",
       "      <th></th>\n",
       "      <th>id</th>\n",
       "      <th>keyword</th>\n",
       "      <th>location</th>\n",
       "      <th>text</th>\n",
       "    </tr>\n",
       "  </thead>\n",
       "  <tbody>\n",
       "    <tr>\n",
       "      <th>0</th>\n",
       "      <td>0</td>\n",
       "      <td>NaN</td>\n",
       "      <td>NaN</td>\n",
       "      <td>Just happened a terrible car crash</td>\n",
       "    </tr>\n",
       "    <tr>\n",
       "      <th>1</th>\n",
       "      <td>2</td>\n",
       "      <td>NaN</td>\n",
       "      <td>NaN</td>\n",
       "      <td>Heard about #earthquake is different cities, s...</td>\n",
       "    </tr>\n",
       "    <tr>\n",
       "      <th>2</th>\n",
       "      <td>3</td>\n",
       "      <td>NaN</td>\n",
       "      <td>NaN</td>\n",
       "      <td>there is a forest fire at spot pond, geese are...</td>\n",
       "    </tr>\n",
       "    <tr>\n",
       "      <th>3</th>\n",
       "      <td>9</td>\n",
       "      <td>NaN</td>\n",
       "      <td>NaN</td>\n",
       "      <td>Apocalypse lighting. #Spokane #wildfires</td>\n",
       "    </tr>\n",
       "    <tr>\n",
       "      <th>4</th>\n",
       "      <td>11</td>\n",
       "      <td>NaN</td>\n",
       "      <td>NaN</td>\n",
       "      <td>Typhoon Soudelor kills 28 in China and Taiwan</td>\n",
       "    </tr>\n",
       "  </tbody>\n",
       "</table>\n",
       "</div>"
      ],
      "text/plain": [
       "   id keyword location                                               text\n",
       "0   0     NaN      NaN                 Just happened a terrible car crash\n",
       "1   2     NaN      NaN  Heard about #earthquake is different cities, s...\n",
       "2   3     NaN      NaN  there is a forest fire at spot pond, geese are...\n",
       "3   9     NaN      NaN           Apocalypse lighting. #Spokane #wildfires\n",
       "4  11     NaN      NaN      Typhoon Soudelor kills 28 in China and Taiwan"
      ]
     },
     "execution_count": 7,
     "metadata": {},
     "output_type": "execute_result"
    }
   ],
   "source": [
    "raw_test_df.head()"
   ]
  },
  {
   "cell_type": "code",
   "execution_count": 8,
   "id": "a041f43b",
   "metadata": {
    "execution": {
     "iopub.execute_input": "2023-04-06T17:17:48.335458Z",
     "iopub.status.busy": "2023-04-06T17:17:48.334619Z",
     "iopub.status.idle": "2023-04-06T17:17:48.352111Z",
     "shell.execute_reply": "2023-04-06T17:17:48.351081Z"
    },
    "papermill": {
     "duration": 0.030387,
     "end_time": "2023-04-06T17:17:48.354186",
     "exception": false,
     "start_time": "2023-04-06T17:17:48.323799",
     "status": "completed"
    },
    "tags": []
   },
   "outputs": [
    {
     "data": {
      "text/html": [
       "<div>\n",
       "<style scoped>\n",
       "    .dataframe tbody tr th:only-of-type {\n",
       "        vertical-align: middle;\n",
       "    }\n",
       "\n",
       "    .dataframe tbody tr th {\n",
       "        vertical-align: top;\n",
       "    }\n",
       "\n",
       "    .dataframe thead th {\n",
       "        text-align: right;\n",
       "    }\n",
       "</style>\n",
       "<table border=\"1\" class=\"dataframe\">\n",
       "  <thead>\n",
       "    <tr style=\"text-align: right;\">\n",
       "      <th></th>\n",
       "      <th>id</th>\n",
       "      <th>keyword</th>\n",
       "      <th>location</th>\n",
       "      <th>text</th>\n",
       "      <th>target</th>\n",
       "    </tr>\n",
       "  </thead>\n",
       "  <tbody>\n",
       "    <tr>\n",
       "      <th>4290</th>\n",
       "      <td>6094</td>\n",
       "      <td>hellfire</td>\n",
       "      <td>Jubail IC, Saudi Arabia.</td>\n",
       "      <td>#Allah describes piling up #wealth thinking it...</td>\n",
       "      <td>0</td>\n",
       "    </tr>\n",
       "    <tr>\n",
       "      <th>4299</th>\n",
       "      <td>6105</td>\n",
       "      <td>hellfire</td>\n",
       "      <td>?????? ??? ?????? ????????</td>\n",
       "      <td>#Allah describes piling up #wealth thinking it...</td>\n",
       "      <td>0</td>\n",
       "    </tr>\n",
       "    <tr>\n",
       "      <th>4312</th>\n",
       "      <td>6123</td>\n",
       "      <td>hellfire</td>\n",
       "      <td>?????? ???? ??????</td>\n",
       "      <td>#Allah describes piling up #wealth thinking it...</td>\n",
       "      <td>1</td>\n",
       "    </tr>\n",
       "    <tr>\n",
       "      <th>6363</th>\n",
       "      <td>9095</td>\n",
       "      <td>suicide%20bomb</td>\n",
       "      <td>Nigeria</td>\n",
       "      <td>#Bestnaijamade: 16yr old PKK suicide bomber wh...</td>\n",
       "      <td>1</td>\n",
       "    </tr>\n",
       "    <tr>\n",
       "      <th>6373</th>\n",
       "      <td>9107</td>\n",
       "      <td>suicide%20bomb</td>\n",
       "      <td>Nigeria</td>\n",
       "      <td>#Bestnaijamade: 16yr old PKK suicide bomber wh...</td>\n",
       "      <td>1</td>\n",
       "    </tr>\n",
       "  </tbody>\n",
       "</table>\n",
       "</div>"
      ],
      "text/plain": [
       "        id         keyword                    location  \\\n",
       "4290  6094        hellfire    Jubail IC, Saudi Arabia.   \n",
       "4299  6105        hellfire  ?????? ??? ?????? ????????   \n",
       "4312  6123        hellfire          ?????? ???? ??????   \n",
       "6363  9095  suicide%20bomb                     Nigeria   \n",
       "6373  9107  suicide%20bomb                     Nigeria   \n",
       "\n",
       "                                                   text  target  \n",
       "4290  #Allah describes piling up #wealth thinking it...       0  \n",
       "4299  #Allah describes piling up #wealth thinking it...       0  \n",
       "4312  #Allah describes piling up #wealth thinking it...       1  \n",
       "6363  #Bestnaijamade: 16yr old PKK suicide bomber wh...       1  \n",
       "6373  #Bestnaijamade: 16yr old PKK suicide bomber wh...       1  "
      ]
     },
     "execution_count": 8,
     "metadata": {},
     "output_type": "execute_result"
    }
   ],
   "source": [
    "duplicates_df = raw_train_df[raw_train_df.text.duplicated(keep=False)].sort_values('text')\n",
    "duplicates_df.head()"
   ]
  },
  {
   "cell_type": "markdown",
   "id": "d1d2a652",
   "metadata": {
    "papermill": {
     "duration": 0.009944,
     "end_time": "2023-04-06T17:17:48.374484",
     "exception": false,
     "start_time": "2023-04-06T17:17:48.364540",
     "status": "completed"
    },
    "tags": []
   },
   "source": [
    "## Clean the data"
   ]
  },
  {
   "cell_type": "markdown",
   "id": "bfd9822f",
   "metadata": {
    "papermill": {
     "duration": 0.009947,
     "end_time": "2023-04-06T17:17:48.394726",
     "exception": false,
     "start_time": "2023-04-06T17:17:48.384779",
     "status": "completed"
    },
    "tags": []
   },
   "source": [
    "As we've seen, there are dosens of duplicated tweets. Moreover, their labes are sometimes contradictory."
   ]
  },
  {
   "cell_type": "code",
   "execution_count": 9,
   "id": "37ff731e",
   "metadata": {
    "execution": {
     "iopub.execute_input": "2023-04-06T17:17:48.416605Z",
     "iopub.status.busy": "2023-04-06T17:17:48.415801Z",
     "iopub.status.idle": "2023-04-06T17:17:48.428329Z",
     "shell.execute_reply": "2023-04-06T17:17:48.427279Z"
    },
    "papermill": {
     "duration": 0.025573,
     "end_time": "2023-04-06T17:17:48.430388",
     "exception": false,
     "start_time": "2023-04-06T17:17:48.404815",
     "status": "completed"
    },
    "tags": []
   },
   "outputs": [
    {
     "data": {
      "text/html": [
       "<div>\n",
       "<style scoped>\n",
       "    .dataframe tbody tr th:only-of-type {\n",
       "        vertical-align: middle;\n",
       "    }\n",
       "\n",
       "    .dataframe tbody tr th {\n",
       "        vertical-align: top;\n",
       "    }\n",
       "\n",
       "    .dataframe thead th {\n",
       "        text-align: right;\n",
       "    }\n",
       "</style>\n",
       "<table border=\"1\" class=\"dataframe\">\n",
       "  <thead>\n",
       "    <tr style=\"text-align: right;\">\n",
       "      <th></th>\n",
       "      <th>id</th>\n",
       "      <th>keyword</th>\n",
       "      <th>location</th>\n",
       "      <th>text</th>\n",
       "      <th>target</th>\n",
       "    </tr>\n",
       "  </thead>\n",
       "  <tbody>\n",
       "    <tr>\n",
       "      <th>4290</th>\n",
       "      <td>6094</td>\n",
       "      <td>hellfire</td>\n",
       "      <td>Jubail IC, Saudi Arabia.</td>\n",
       "      <td>#Allah describes piling up #wealth thinking it...</td>\n",
       "      <td>0</td>\n",
       "    </tr>\n",
       "    <tr>\n",
       "      <th>4299</th>\n",
       "      <td>6105</td>\n",
       "      <td>hellfire</td>\n",
       "      <td>?????? ??? ?????? ????????</td>\n",
       "      <td>#Allah describes piling up #wealth thinking it...</td>\n",
       "      <td>0</td>\n",
       "    </tr>\n",
       "    <tr>\n",
       "      <th>4312</th>\n",
       "      <td>6123</td>\n",
       "      <td>hellfire</td>\n",
       "      <td>?????? ???? ??????</td>\n",
       "      <td>#Allah describes piling up #wealth thinking it...</td>\n",
       "      <td>1</td>\n",
       "    </tr>\n",
       "    <tr>\n",
       "      <th>6363</th>\n",
       "      <td>9095</td>\n",
       "      <td>suicide%20bomb</td>\n",
       "      <td>Nigeria</td>\n",
       "      <td>#Bestnaijamade: 16yr old PKK suicide bomber wh...</td>\n",
       "      <td>1</td>\n",
       "    </tr>\n",
       "    <tr>\n",
       "      <th>6373</th>\n",
       "      <td>9107</td>\n",
       "      <td>suicide%20bomb</td>\n",
       "      <td>Nigeria</td>\n",
       "      <td>#Bestnaijamade: 16yr old PKK suicide bomber wh...</td>\n",
       "      <td>1</td>\n",
       "    </tr>\n",
       "    <tr>\n",
       "      <th>6377</th>\n",
       "      <td>9113</td>\n",
       "      <td>suicide%20bomb</td>\n",
       "      <td>Nigeria</td>\n",
       "      <td>#Bestnaijamade: 16yr old PKK suicide bomber wh...</td>\n",
       "      <td>1</td>\n",
       "    </tr>\n",
       "    <tr>\n",
       "      <th>6378</th>\n",
       "      <td>9114</td>\n",
       "      <td>suicide%20bomb</td>\n",
       "      <td>Nigeria</td>\n",
       "      <td>#Bestnaijamade: 16yr old PKK suicide bomber wh...</td>\n",
       "      <td>1</td>\n",
       "    </tr>\n",
       "    <tr>\n",
       "      <th>6392</th>\n",
       "      <td>9135</td>\n",
       "      <td>suicide%20bomb</td>\n",
       "      <td>Nigeria</td>\n",
       "      <td>#Bestnaijamade: 16yr old PKK suicide bomber wh...</td>\n",
       "      <td>1</td>\n",
       "    </tr>\n",
       "    <tr>\n",
       "      <th>6366</th>\n",
       "      <td>9098</td>\n",
       "      <td>suicide%20bomb</td>\n",
       "      <td>Nigeria</td>\n",
       "      <td>#Bestnaijamade: 16yr old PKK suicide bomber wh...</td>\n",
       "      <td>1</td>\n",
       "    </tr>\n",
       "    <tr>\n",
       "      <th>2828</th>\n",
       "      <td>4064</td>\n",
       "      <td>displaced</td>\n",
       "      <td>NaN</td>\n",
       "      <td>#KCA #VoteJKT48ID 12News: UPDATE: A family of ...</td>\n",
       "      <td>1</td>\n",
       "    </tr>\n",
       "    <tr>\n",
       "      <th>2822</th>\n",
       "      <td>4057</td>\n",
       "      <td>displaced</td>\n",
       "      <td>NaN</td>\n",
       "      <td>#KCA #VoteJKT48ID 12News: UPDATE: A family of ...</td>\n",
       "      <td>1</td>\n",
       "    </tr>\n",
       "    <tr>\n",
       "      <th>2816</th>\n",
       "      <td>4049</td>\n",
       "      <td>displaced</td>\n",
       "      <td>Pedophile hunting ground</td>\n",
       "      <td>#Myanmar  Displaced #Rohingya at #Sittwe point...</td>\n",
       "      <td>1</td>\n",
       "    </tr>\n",
       "    <tr>\n",
       "      <th>2841</th>\n",
       "      <td>4086</td>\n",
       "      <td>displaced</td>\n",
       "      <td>Pedophile hunting ground</td>\n",
       "      <td>#Myanmar  Displaced #Rohingya at #Sittwe point...</td>\n",
       "      <td>1</td>\n",
       "    </tr>\n",
       "    <tr>\n",
       "      <th>1704</th>\n",
       "      <td>2459</td>\n",
       "      <td>collided</td>\n",
       "      <td>Peterborough, On</td>\n",
       "      <td>#Newswatch: 2 vehicles collided at Lock and La...</td>\n",
       "      <td>1</td>\n",
       "    </tr>\n",
       "    <tr>\n",
       "      <th>1725</th>\n",
       "      <td>2488</td>\n",
       "      <td>collided</td>\n",
       "      <td>Peterborough, Ont.</td>\n",
       "      <td>#Newswatch: 2 vehicles collided at Lock and La...</td>\n",
       "      <td>1</td>\n",
       "    </tr>\n",
       "    <tr>\n",
       "      <th>3795</th>\n",
       "      <td>5387</td>\n",
       "      <td>fire%20truck</td>\n",
       "      <td>Orange County, CA</td>\n",
       "      <td>#SigAlert: North &amp;amp; Southbound 133 closed b...</td>\n",
       "      <td>1</td>\n",
       "    </tr>\n",
       "    <tr>\n",
       "      <th>3790</th>\n",
       "      <td>5382</td>\n",
       "      <td>fire%20truck</td>\n",
       "      <td>Orange County, Calif.</td>\n",
       "      <td>#SigAlert: North &amp;amp; Southbound 133 closed b...</td>\n",
       "      <td>1</td>\n",
       "    </tr>\n",
       "    <tr>\n",
       "      <th>1242</th>\n",
       "      <td>1790</td>\n",
       "      <td>buildings%20on%20fire</td>\n",
       "      <td>Scotland</td>\n",
       "      <td>#TweetLikeItsSeptember11th2001 Those two build...</td>\n",
       "      <td>1</td>\n",
       "    </tr>\n",
       "    <tr>\n",
       "      <th>1251</th>\n",
       "      <td>1807</td>\n",
       "      <td>buildings%20on%20fire</td>\n",
       "      <td>UK</td>\n",
       "      <td>#TweetLikeItsSeptember11th2001 Those two build...</td>\n",
       "      <td>1</td>\n",
       "    </tr>\n",
       "    <tr>\n",
       "      <th>4239</th>\n",
       "      <td>6023</td>\n",
       "      <td>hazardous</td>\n",
       "      <td>Mysore, Karnataka</td>\n",
       "      <td>#foodscare #offers2go #NestleIndia slips into ...</td>\n",
       "      <td>1</td>\n",
       "    </tr>\n",
       "  </tbody>\n",
       "</table>\n",
       "</div>"
      ],
      "text/plain": [
       "        id                keyword                    location  \\\n",
       "4290  6094               hellfire    Jubail IC, Saudi Arabia.   \n",
       "4299  6105               hellfire  ?????? ??? ?????? ????????   \n",
       "4312  6123               hellfire          ?????? ???? ??????   \n",
       "6363  9095         suicide%20bomb                     Nigeria   \n",
       "6373  9107         suicide%20bomb                     Nigeria   \n",
       "6377  9113         suicide%20bomb                     Nigeria   \n",
       "6378  9114         suicide%20bomb                     Nigeria   \n",
       "6392  9135         suicide%20bomb                     Nigeria   \n",
       "6366  9098         suicide%20bomb                     Nigeria   \n",
       "2828  4064              displaced                         NaN   \n",
       "2822  4057              displaced                         NaN   \n",
       "2816  4049              displaced    Pedophile hunting ground   \n",
       "2841  4086              displaced    Pedophile hunting ground   \n",
       "1704  2459               collided            Peterborough, On   \n",
       "1725  2488               collided          Peterborough, Ont.   \n",
       "3795  5387           fire%20truck           Orange County, CA   \n",
       "3790  5382           fire%20truck       Orange County, Calif.   \n",
       "1242  1790  buildings%20on%20fire                   Scotland    \n",
       "1251  1807  buildings%20on%20fire                          UK   \n",
       "4239  6023              hazardous           Mysore, Karnataka   \n",
       "\n",
       "                                                   text  target  \n",
       "4290  #Allah describes piling up #wealth thinking it...       0  \n",
       "4299  #Allah describes piling up #wealth thinking it...       0  \n",
       "4312  #Allah describes piling up #wealth thinking it...       1  \n",
       "6363  #Bestnaijamade: 16yr old PKK suicide bomber wh...       1  \n",
       "6373  #Bestnaijamade: 16yr old PKK suicide bomber wh...       1  \n",
       "6377  #Bestnaijamade: 16yr old PKK suicide bomber wh...       1  \n",
       "6378  #Bestnaijamade: 16yr old PKK suicide bomber wh...       1  \n",
       "6392  #Bestnaijamade: 16yr old PKK suicide bomber wh...       1  \n",
       "6366  #Bestnaijamade: 16yr old PKK suicide bomber wh...       1  \n",
       "2828  #KCA #VoteJKT48ID 12News: UPDATE: A family of ...       1  \n",
       "2822  #KCA #VoteJKT48ID 12News: UPDATE: A family of ...       1  \n",
       "2816  #Myanmar  Displaced #Rohingya at #Sittwe point...       1  \n",
       "2841  #Myanmar  Displaced #Rohingya at #Sittwe point...       1  \n",
       "1704  #Newswatch: 2 vehicles collided at Lock and La...       1  \n",
       "1725  #Newswatch: 2 vehicles collided at Lock and La...       1  \n",
       "3795  #SigAlert: North &amp; Southbound 133 closed b...       1  \n",
       "3790  #SigAlert: North &amp; Southbound 133 closed b...       1  \n",
       "1242  #TweetLikeItsSeptember11th2001 Those two build...       1  \n",
       "1251  #TweetLikeItsSeptember11th2001 Those two build...       1  \n",
       "4239  #foodscare #offers2go #NestleIndia slips into ...       1  "
      ]
     },
     "execution_count": 9,
     "metadata": {},
     "output_type": "execute_result"
    }
   ],
   "source": [
    "duplicates_df[:20]"
   ]
  },
  {
   "cell_type": "code",
   "execution_count": 10,
   "id": "b72e38c7",
   "metadata": {
    "execution": {
     "iopub.execute_input": "2023-04-06T17:17:48.452427Z",
     "iopub.status.busy": "2023-04-06T17:17:48.452154Z",
     "iopub.status.idle": "2023-04-06T17:17:48.456560Z",
     "shell.execute_reply": "2023-04-06T17:17:48.455597Z"
    },
    "papermill": {
     "duration": 0.017796,
     "end_time": "2023-04-06T17:17:48.458623",
     "exception": false,
     "start_time": "2023-04-06T17:17:48.440827",
     "status": "completed"
    },
    "tags": []
   },
   "outputs": [],
   "source": [
    "duplicated_tweets = list(duplicates_df.text)"
   ]
  },
  {
   "cell_type": "code",
   "execution_count": 11,
   "id": "785ce33a",
   "metadata": {
    "execution": {
     "iopub.execute_input": "2023-04-06T17:17:48.481835Z",
     "iopub.status.busy": "2023-04-06T17:17:48.480416Z",
     "iopub.status.idle": "2023-04-06T17:17:48.486741Z",
     "shell.execute_reply": "2023-04-06T17:17:48.485808Z"
    },
    "papermill": {
     "duration": 0.019762,
     "end_time": "2023-04-06T17:17:48.488796",
     "exception": false,
     "start_time": "2023-04-06T17:17:48.469034",
     "status": "completed"
    },
    "tags": []
   },
   "outputs": [
    {
     "data": {
      "text/plain": [
       "179"
      ]
     },
     "execution_count": 11,
     "metadata": {},
     "output_type": "execute_result"
    }
   ],
   "source": [
    "len(duplicated_tweets)"
   ]
  },
  {
   "cell_type": "markdown",
   "id": "b9d5085c",
   "metadata": {
    "papermill": {
     "duration": 0.010324,
     "end_time": "2023-04-06T17:17:48.509601",
     "exception": false,
     "start_time": "2023-04-06T17:17:48.499277",
     "status": "completed"
    },
    "tags": []
   },
   "source": [
    "Now search for contradictions"
   ]
  },
  {
   "cell_type": "code",
   "execution_count": 12,
   "id": "84978f44",
   "metadata": {
    "execution": {
     "iopub.execute_input": "2023-04-06T17:17:48.532223Z",
     "iopub.status.busy": "2023-04-06T17:17:48.531604Z",
     "iopub.status.idle": "2023-04-06T17:17:48.604946Z",
     "shell.execute_reply": "2023-04-06T17:17:48.603927Z"
    },
    "papermill": {
     "duration": 0.087127,
     "end_time": "2023-04-06T17:17:48.607292",
     "exception": false,
     "start_time": "2023-04-06T17:17:48.520165",
     "status": "completed"
    },
    "tags": []
   },
   "outputs": [
    {
     "name": "stdout",
     "output_type": "stream",
     "text": [
      "18 <class 'list'>\n"
     ]
    }
   ],
   "source": [
    "contradictory_tweets = set()\n",
    "for tweet in duplicated_tweets:\n",
    "    if len(set(duplicates_df[duplicates_df['text'] == tweet].target)) > 1:\n",
    "        contradictory_tweets.add(tweet)\n",
    "\n",
    "contradictory_tweets = list(contradictory_tweets)\n",
    "print(len(contradictory_tweets), type(contradictory_tweets))"
   ]
  },
  {
   "cell_type": "markdown",
   "id": "2ef4e766",
   "metadata": {
    "papermill": {
     "duration": 0.010692,
     "end_time": "2023-04-06T17:17:48.629165",
     "exception": false,
     "start_time": "2023-04-06T17:17:48.618473",
     "status": "completed"
    },
    "tags": []
   },
   "source": [
    "We're going to label those manually"
   ]
  },
  {
   "cell_type": "code",
   "execution_count": 13,
   "id": "5d41f766",
   "metadata": {
    "execution": {
     "iopub.execute_input": "2023-04-06T17:17:48.651644Z",
     "iopub.status.busy": "2023-04-06T17:17:48.651334Z",
     "iopub.status.idle": "2023-04-06T17:17:48.656895Z",
     "shell.execute_reply": "2023-04-06T17:17:48.655900Z"
    },
    "papermill": {
     "duration": 0.019376,
     "end_time": "2023-04-06T17:17:48.659129",
     "exception": false,
     "start_time": "2023-04-06T17:17:48.639753",
     "status": "completed"
    },
    "tags": []
   },
   "outputs": [
    {
     "name": "stdout",
     "output_type": "stream",
     "text": [
      "0 I Pledge Allegiance To The P.O.P.E. And The Burning Buildings of Epic City. ?????? \n",
      "\n",
      "1 Hellfire! We donÛªt even want to think about it or mention it so letÛªs not do anything that leads to it #islam! \n",
      "\n",
      "2 .POTUS #StrategicPatience is a strategy for #Genocide; refugees; IDP Internally displaced people; horror; etc. https://t.co/rqWuoy1fm4 \n",
      "\n",
      "3 RT NotExplained: The only known image of infamous hijacker D.B. Cooper. http://t.co/JlzK2HdeTG \n",
      "\n",
      "4 #foodscare #offers2go #NestleIndia slips into loss after #Magginoodle #ban unsafe and hazardous for #humanconsumption \n",
      "\n",
      "5 #Allah describes piling up #wealth thinking it would last #forever as the description of the people of #Hellfire in Surah Humaza. #Reflect \n",
      "\n",
      "6 Mmmmmm I'm burning.... I'm burning buildings I'm building.... Oooooohhhh oooh ooh... \n",
      "\n",
      "7 The Prophet (peace be upon him) said 'Save yourself from Hellfire even if it is by giving half a date in charity.' \n",
      "\n",
      "8 like for the music video I want some real action shit like burning buildings and police chases not some weak ben winston shit \n",
      "\n",
      "9 that horrible sinking feeling when youÛªve been at home on your phone for a while and you realise its been on 3G this whole time \n",
      "\n",
      "10 In #islam saving a person is equal in reward to saving all humans! Islam is the opposite of terrorism! \n",
      "\n",
      "11 wowo--=== 12000 Nigerian refugees repatriated from Cameroon \n",
      "\n",
      "12 Caution: breathing may be hazardous to your health. \n",
      "\n",
      "13 He came to a land which was engulfed in tribal war and turned it into a land of peace i.e. Madinah. #ProphetMuhammad #islam \n",
      "\n",
      "14 Who is bringing the tornadoes and floods. Who is bringing the climate change. God is after America He is plaguing her\n",
      " \n",
      "#FARRAKHAN #QUOTE \n",
      "\n",
      "15 CLEARED:incident with injury:I-495  inner loop Exit 31 - MD 97/Georgia Ave Silver Spring \n",
      "\n",
      "16 To fight bioterrorism sir. \n",
      "\n",
      "17 Hellfire is surrounded by desires so be careful and donÛªt let your desires control you! #Afterlife \n",
      "\n"
     ]
    }
   ],
   "source": [
    "for i, tweet in enumerate(contradictory_tweets):\n",
    "    print(i, tweet, '\\n')"
   ]
  },
  {
   "cell_type": "code",
   "execution_count": 14,
   "id": "8d221fce",
   "metadata": {
    "execution": {
     "iopub.execute_input": "2023-04-06T17:17:48.681683Z",
     "iopub.status.busy": "2023-04-06T17:17:48.681387Z",
     "iopub.status.idle": "2023-04-06T17:17:48.693821Z",
     "shell.execute_reply": "2023-04-06T17:17:48.692871Z"
    },
    "papermill": {
     "duration": 0.02613,
     "end_time": "2023-04-06T17:17:48.695926",
     "exception": false,
     "start_time": "2023-04-06T17:17:48.669796",
     "status": "completed"
    },
    "tags": []
   },
   "outputs": [
    {
     "name": "stdout",
     "output_type": "stream",
     "text": [
      "7503\n"
     ]
    }
   ],
   "source": [
    "no_duplicates_train_df = raw_train_df.drop_duplicates('text')\n",
    "print(len(no_duplicates_train_df))"
   ]
  },
  {
   "cell_type": "code",
   "execution_count": 15,
   "id": "bde7327d",
   "metadata": {
    "execution": {
     "iopub.execute_input": "2023-04-06T17:17:48.719622Z",
     "iopub.status.busy": "2023-04-06T17:17:48.718775Z",
     "iopub.status.idle": "2023-04-06T17:17:48.751822Z",
     "shell.execute_reply": "2023-04-06T17:17:48.750546Z"
    },
    "papermill": {
     "duration": 0.047066,
     "end_time": "2023-04-06T17:17:48.754028",
     "exception": false,
     "start_time": "2023-04-06T17:17:48.706962",
     "status": "completed"
    },
    "tags": []
   },
   "outputs": [
    {
     "name": "stderr",
     "output_type": "stream",
     "text": [
      "/opt/conda/lib/python3.7/site-packages/pandas/core/indexing.py:1817: SettingWithCopyWarning: \n",
      "A value is trying to be set on a copy of a slice from a DataFrame.\n",
      "Try using .loc[row_indexer,col_indexer] = value instead\n",
      "\n",
      "See the caveats in the documentation: https://pandas.pydata.org/pandas-docs/stable/user_guide/indexing.html#returning-a-view-versus-a-copy\n",
      "  self._setitem_single_column(loc, value, pi)\n"
     ]
    }
   ],
   "source": [
    "no_duplicates_train_df.loc[no_duplicates_train_df['text'] == contradictory_tweets[0], 'target'] = 0\n",
    "no_duplicates_train_df.loc[no_duplicates_train_df['text'] == contradictory_tweets[1], 'target'] = 0\n",
    "no_duplicates_train_df.loc[no_duplicates_train_df['text'] == contradictory_tweets[2], 'target'] = 0\n",
    "no_duplicates_train_df.loc[no_duplicates_train_df['text'] == contradictory_tweets[3], 'target'] = 0 \n",
    "no_duplicates_train_df.loc[no_duplicates_train_df['text'] == contradictory_tweets[4], 'target'] = 0\n",
    "no_duplicates_train_df.loc[no_duplicates_train_df['text'] == contradictory_tweets[5], 'target'] = 0\n",
    "no_duplicates_train_df.loc[no_duplicates_train_df['text'] == contradictory_tweets[6], 'target'] = 0\n",
    "no_duplicates_train_df.loc[no_duplicates_train_df['text'] == contradictory_tweets[7], 'target'] = 0\n",
    "no_duplicates_train_df.loc[no_duplicates_train_df['text'] == contradictory_tweets[8], 'target'] = 0\n",
    "no_duplicates_train_df.loc[no_duplicates_train_df['text'] == contradictory_tweets[9], 'target'] = 1\n",
    "no_duplicates_train_df.loc[no_duplicates_train_df['text'] == contradictory_tweets[10], 'target'] = 0\n",
    "no_duplicates_train_df.loc[no_duplicates_train_df['text'] == contradictory_tweets[11], 'target'] = 1\n",
    "no_duplicates_train_df.loc[no_duplicates_train_df['text'] == contradictory_tweets[12], 'target'] = 0\n",
    "no_duplicates_train_df.loc[no_duplicates_train_df['text'] == contradictory_tweets[13], 'target'] = 0\n",
    "no_duplicates_train_df.loc[no_duplicates_train_df['text'] == contradictory_tweets[14], 'target'] = 0\n",
    "no_duplicates_train_df.loc[no_duplicates_train_df['text'] == contradictory_tweets[15], 'target'] = 0\n",
    "no_duplicates_train_df.loc[no_duplicates_train_df['text'] == contradictory_tweets[16], 'target'] = 0\n",
    "no_duplicates_train_df.loc[no_duplicates_train_df['text'] == contradictory_tweets[17], 'target'] = 1"
   ]
  },
  {
   "cell_type": "markdown",
   "id": "948708a0",
   "metadata": {
    "papermill": {
     "duration": 0.010628,
     "end_time": "2023-04-06T17:17:48.775524",
     "exception": false,
     "start_time": "2023-04-06T17:17:48.764896",
     "status": "completed"
    },
    "tags": []
   },
   "source": [
    "## Create the Datasets"
   ]
  },
  {
   "cell_type": "code",
   "execution_count": 16,
   "id": "c59fc5e5",
   "metadata": {
    "execution": {
     "iopub.execute_input": "2023-04-06T17:17:48.799799Z",
     "iopub.status.busy": "2023-04-06T17:17:48.798297Z",
     "iopub.status.idle": "2023-04-06T17:17:54.019444Z",
     "shell.execute_reply": "2023-04-06T17:17:54.018221Z"
    },
    "papermill": {
     "duration": 5.235546,
     "end_time": "2023-04-06T17:17:54.022073",
     "exception": false,
     "start_time": "2023-04-06T17:17:48.786527",
     "status": "completed"
    },
    "tags": []
   },
   "outputs": [],
   "source": [
    "import torch\n",
    "from torch.utils.data import Dataset\n",
    "from transformers import RobertaTokenizer,RobertaModel\n",
    "\n",
    "from tqdm import tqdm\n",
    "from copy import deepcopy\n",
    "import random"
   ]
  },
  {
   "cell_type": "code",
   "execution_count": 17,
   "id": "133bdfce",
   "metadata": {
    "execution": {
     "iopub.execute_input": "2023-04-06T17:17:54.046528Z",
     "iopub.status.busy": "2023-04-06T17:17:54.045616Z",
     "iopub.status.idle": "2023-04-06T17:17:55.742208Z",
     "shell.execute_reply": "2023-04-06T17:17:55.741191Z"
    },
    "papermill": {
     "duration": 1.711246,
     "end_time": "2023-04-06T17:17:55.744718",
     "exception": false,
     "start_time": "2023-04-06T17:17:54.033472",
     "status": "completed"
    },
    "tags": []
   },
   "outputs": [
    {
     "data": {
      "application/vnd.jupyter.widget-view+json": {
       "model_id": "f9a130b5bdb44227a6aab828c7d5f560",
       "version_major": 2,
       "version_minor": 0
      },
      "text/plain": [
       "Downloading (…)olve/main/vocab.json:   0%|          | 0.00/899k [00:00<?, ?B/s]"
      ]
     },
     "metadata": {},
     "output_type": "display_data"
    },
    {
     "data": {
      "application/vnd.jupyter.widget-view+json": {
       "model_id": "3c9c287db3604416a588b9b8477e417a",
       "version_major": 2,
       "version_minor": 0
      },
      "text/plain": [
       "Downloading (…)olve/main/merges.txt:   0%|          | 0.00/456k [00:00<?, ?B/s]"
      ]
     },
     "metadata": {},
     "output_type": "display_data"
    },
    {
     "data": {
      "application/vnd.jupyter.widget-view+json": {
       "model_id": "9c32898f4b074314b865be05653781a9",
       "version_major": 2,
       "version_minor": 0
      },
      "text/plain": [
       "Downloading (…)lve/main/config.json:   0%|          | 0.00/481 [00:00<?, ?B/s]"
      ]
     },
     "metadata": {},
     "output_type": "display_data"
    }
   ],
   "source": [
    "tokenizer = RobertaTokenizer.from_pretrained(model_checkpoint)"
   ]
  },
  {
   "cell_type": "code",
   "execution_count": 18,
   "id": "42634a2d",
   "metadata": {
    "execution": {
     "iopub.execute_input": "2023-04-06T17:17:55.771181Z",
     "iopub.status.busy": "2023-04-06T17:17:55.770837Z",
     "iopub.status.idle": "2023-04-06T17:17:55.786291Z",
     "shell.execute_reply": "2023-04-06T17:17:55.785196Z"
    },
    "papermill": {
     "duration": 0.031691,
     "end_time": "2023-04-06T17:17:55.788819",
     "exception": false,
     "start_time": "2023-04-06T17:17:55.757128",
     "status": "completed"
    },
    "tags": []
   },
   "outputs": [],
   "source": [
    "class LabeledDisasterTweetsDataset(Dataset):\n",
    "    def __init__(self, \n",
    "                 df, \n",
    "                 tokenizer, \n",
    "                 max_tweet_len=256, \n",
    "                 tweet_column='text',\n",
    "                 location_column='location', \n",
    "                 keyword_column='keyword', \n",
    "                 target_column='target', \n",
    "                 device='cpu'):\n",
    "        \n",
    "        self._data = []\n",
    "        \n",
    "        for index, row in tqdm(df.iterrows(), total=len(df), ncols=70):\n",
    "            tokenized = tokenizer(row[tweet_column], padding=\"max_length\", truncation=True, max_length=256, return_tensors='pt')\n",
    "            self._data.append(((tokenized['input_ids'][0].to(device), tokenized['attention_mask'][0].to(device)), torch.tensor(row[target_column]).to(device)))\n",
    "        \n",
    "        print('NOTE: you can safely delete the dataframe')\n",
    "        \n",
    "    def __len__(self):\n",
    "        return len(self._data)\n",
    "    \n",
    "    def __getitem__(self, i):\n",
    "        \"\"\"return: ((input_ids, attention_mask), target)\"\"\"\n",
    "        return self._data[i] \n",
    "    \n",
    "    def train_valid_split(self, train_fraction=.9, shuffle=True):\n",
    "        num_train_examples = int(len(self) * train_fraction)\n",
    "        \n",
    "        train_dataset = deepcopy(self)\n",
    "        \n",
    "        if shuffle:\n",
    "            random.shuffle(train_dataset._data)\n",
    "        \n",
    "        valid_dataset = deepcopy(train_dataset)\n",
    "        train_dataset._data = train_dataset._data[:num_train_examples]\n",
    "        valid_dataset._data = valid_dataset._data[num_train_examples:]\n",
    "        \n",
    "        print('NOTE: you can safely delete parent dataset. The train|valid split is {}|{}.'.format(len(train_dataset), len(valid_dataset)))\n",
    "        \n",
    "        return train_dataset, valid_dataset\n",
    "    \n",
    "    \n",
    "class UnlabeledDisasterTweetsDataset(Dataset):\n",
    "    def __init__(self, \n",
    "                 df, \n",
    "                 tokenizer, \n",
    "                 max_tweet_len=256, \n",
    "                 tweet_column='text', \n",
    "                 id_column='id', \n",
    "                 device='cpu'):\n",
    "        \n",
    "        self._data = []\n",
    "        \n",
    "        for index, row in tqdm(df.iterrows(), total=len(df), ncols=70):\n",
    "            tokenized = tokenizer(row[tweet_column], padding=\"max_length\", truncation=True, max_length=256, return_tensors='pt')\n",
    "            self._data.append((torch.tensor(row[id_column]).to(device) ,(tokenized['input_ids'][0].to(device), tokenized['attention_mask'][0].to(device))))\n",
    "        \n",
    "        print('NOTE: you can safely delete the dataframe')\n",
    "        \n",
    "    def __len__(self):\n",
    "        return len(self._data)\n",
    "    \n",
    "    def __getitem__(self, i):\n",
    "        \"\"\"return: (id, (input_ids, attention_mask))\"\"\"\n",
    "        return self._data[i] "
   ]
  },
  {
   "cell_type": "code",
   "execution_count": 19,
   "id": "ec4709ed",
   "metadata": {
    "execution": {
     "iopub.execute_input": "2023-04-06T17:17:55.813208Z",
     "iopub.status.busy": "2023-04-06T17:17:55.812352Z",
     "iopub.status.idle": "2023-04-06T17:18:05.091003Z",
     "shell.execute_reply": "2023-04-06T17:18:05.089815Z"
    },
    "papermill": {
     "duration": 9.293175,
     "end_time": "2023-04-06T17:18:05.093343",
     "exception": false,
     "start_time": "2023-04-06T17:17:55.800168",
     "status": "completed"
    },
    "tags": []
   },
   "outputs": [
    {
     "name": "stderr",
     "output_type": "stream",
     "text": [
      "100%|████████████████████████████| 7503/7503 [00:09<00:00, 809.73it/s]"
     ]
    },
    {
     "name": "stdout",
     "output_type": "stream",
     "text": [
      "NOTE: you can safely delete the dataframe\n"
     ]
    },
    {
     "name": "stderr",
     "output_type": "stream",
     "text": [
      "\n"
     ]
    }
   ],
   "source": [
    "dataset = LabeledDisasterTweetsDataset(no_duplicates_train_df, tokenizer, device=device)"
   ]
  },
  {
   "cell_type": "code",
   "execution_count": 20,
   "id": "b1940eda",
   "metadata": {
    "execution": {
     "iopub.execute_input": "2023-04-06T17:18:05.125700Z",
     "iopub.status.busy": "2023-04-06T17:18:05.124812Z",
     "iopub.status.idle": "2023-04-06T17:18:07.905639Z",
     "shell.execute_reply": "2023-04-06T17:18:07.904508Z"
    },
    "papermill": {
     "duration": 2.799846,
     "end_time": "2023-04-06T17:18:07.908558",
     "exception": false,
     "start_time": "2023-04-06T17:18:05.108712",
     "status": "completed"
    },
    "tags": []
   },
   "outputs": [
    {
     "name": "stdout",
     "output_type": "stream",
     "text": [
      "NOTE: you can safely delete parent dataset. The train|valid split is 6752|751.\n"
     ]
    }
   ],
   "source": [
    "train_dataset, valid_dataset = dataset.train_valid_split()"
   ]
  },
  {
   "cell_type": "code",
   "execution_count": 21,
   "id": "3fe6fe8f",
   "metadata": {
    "execution": {
     "iopub.execute_input": "2023-04-06T17:18:07.942495Z",
     "iopub.status.busy": "2023-04-06T17:18:07.941985Z",
     "iopub.status.idle": "2023-04-06T17:18:10.568370Z",
     "shell.execute_reply": "2023-04-06T17:18:10.567049Z"
    },
    "papermill": {
     "duration": 2.644963,
     "end_time": "2023-04-06T17:18:10.570722",
     "exception": false,
     "start_time": "2023-04-06T17:18:07.925759",
     "status": "completed"
    },
    "tags": []
   },
   "outputs": [
    {
     "name": "stderr",
     "output_type": "stream",
     "text": [
      "100%|███████████████████████████| 3263/3263 [00:02<00:00, 1247.23it/s]"
     ]
    },
    {
     "name": "stdout",
     "output_type": "stream",
     "text": [
      "NOTE: you can safely delete the dataframe\n"
     ]
    },
    {
     "name": "stderr",
     "output_type": "stream",
     "text": [
      "\n"
     ]
    }
   ],
   "source": [
    "eval_dataset = UnlabeledDisasterTweetsDataset(raw_test_df, tokenizer, device='cuda')"
   ]
  },
  {
   "cell_type": "markdown",
   "id": "7baff642",
   "metadata": {
    "papermill": {
     "duration": 0.016702,
     "end_time": "2023-04-06T17:18:10.603924",
     "exception": false,
     "start_time": "2023-04-06T17:18:10.587222",
     "status": "completed"
    },
    "tags": []
   },
   "source": [
    "## Defining the model"
   ]
  },
  {
   "cell_type": "code",
   "execution_count": 22,
   "id": "6b293a00",
   "metadata": {
    "execution": {
     "iopub.execute_input": "2023-04-06T17:18:10.637236Z",
     "iopub.status.busy": "2023-04-06T17:18:10.636923Z",
     "iopub.status.idle": "2023-04-06T17:18:10.645502Z",
     "shell.execute_reply": "2023-04-06T17:18:10.644590Z"
    },
    "papermill": {
     "duration": 0.027723,
     "end_time": "2023-04-06T17:18:10.647673",
     "exception": false,
     "start_time": "2023-04-06T17:18:10.619950",
     "status": "completed"
    },
    "tags": []
   },
   "outputs": [],
   "source": [
    "class RobertaClassifier(torch.nn.Module):\n",
    "    def __init__(self, n_classes=2, head_dropout=.5, head_activation=torch.nn.ReLU, model_checkpoint=model_checkpoint):\n",
    "        super().__init__()\n",
    "        \n",
    "        self.Roberta = RobertaModel.from_pretrained(model_checkpoint)\n",
    "        \n",
    "        self.Head = torch.nn.Sequential(\n",
    "            torch.nn.Dropout(head_dropout),\n",
    "            torch.nn.Linear(768, n_classes)\n",
    "        )\n",
    "        \n",
    "    def forward(self, input_ids, attention_mask=None, *argv):\n",
    "        res = self.Roberta(input_ids=input_ids, attention_mask=attention_mask)\n",
    "        res = res['pooler_output']\n",
    "        res = self.Head(res)\n",
    "        return res\n",
    "    \n",
    "    def parameters_num(self):\n",
    "        return sum(p.numel() for p in self.parameters())"
   ]
  },
  {
   "cell_type": "code",
   "execution_count": 23,
   "id": "0134d1e3",
   "metadata": {
    "execution": {
     "iopub.execute_input": "2023-04-06T17:18:10.681018Z",
     "iopub.status.busy": "2023-04-06T17:18:10.680696Z",
     "iopub.status.idle": "2023-04-06T17:18:14.819900Z",
     "shell.execute_reply": "2023-04-06T17:18:14.818927Z"
    },
    "papermill": {
     "duration": 4.158411,
     "end_time": "2023-04-06T17:18:14.822129",
     "exception": false,
     "start_time": "2023-04-06T17:18:10.663718",
     "status": "completed"
    },
    "tags": []
   },
   "outputs": [
    {
     "data": {
      "application/vnd.jupyter.widget-view+json": {
       "model_id": "40dcf7519bb74e108bb036727dcb7914",
       "version_major": 2,
       "version_minor": 0
      },
      "text/plain": [
       "Downloading pytorch_model.bin:   0%|          | 0.00/501M [00:00<?, ?B/s]"
      ]
     },
     "metadata": {},
     "output_type": "display_data"
    },
    {
     "name": "stderr",
     "output_type": "stream",
     "text": [
      "Some weights of the model checkpoint at roberta-base were not used when initializing RobertaModel: ['lm_head.layer_norm.weight', 'lm_head.decoder.weight', 'lm_head.dense.bias', 'lm_head.dense.weight', 'lm_head.bias', 'lm_head.layer_norm.bias']\n",
      "- This IS expected if you are initializing RobertaModel from the checkpoint of a model trained on another task or with another architecture (e.g. initializing a BertForSequenceClassification model from a BertForPreTraining model).\n",
      "- This IS NOT expected if you are initializing RobertaModel from the checkpoint of a model that you expect to be exactly identical (initializing a BertForSequenceClassification model from a BertForSequenceClassification model).\n"
     ]
    }
   ],
   "source": [
    "model = RobertaClassifier()"
   ]
  },
  {
   "cell_type": "code",
   "execution_count": 24,
   "id": "3360d3a6",
   "metadata": {
    "execution": {
     "iopub.execute_input": "2023-04-06T17:18:14.857397Z",
     "iopub.status.busy": "2023-04-06T17:18:14.857101Z",
     "iopub.status.idle": "2023-04-06T17:18:15.004465Z",
     "shell.execute_reply": "2023-04-06T17:18:15.003400Z"
    },
    "papermill": {
     "duration": 0.167729,
     "end_time": "2023-04-06T17:18:15.007166",
     "exception": false,
     "start_time": "2023-04-06T17:18:14.839437",
     "status": "completed"
    },
    "tags": []
   },
   "outputs": [],
   "source": [
    "model = model.to(device)"
   ]
  },
  {
   "cell_type": "code",
   "execution_count": 25,
   "id": "872cffbf",
   "metadata": {
    "execution": {
     "iopub.execute_input": "2023-04-06T17:18:15.041417Z",
     "iopub.status.busy": "2023-04-06T17:18:15.041109Z",
     "iopub.status.idle": "2023-04-06T17:18:16.616919Z",
     "shell.execute_reply": "2023-04-06T17:18:16.615675Z"
    },
    "papermill": {
     "duration": 1.595917,
     "end_time": "2023-04-06T17:18:16.619720",
     "exception": false,
     "start_time": "2023-04-06T17:18:15.023803",
     "status": "completed"
    },
    "tags": []
   },
   "outputs": [
    {
     "data": {
      "text/plain": [
       "tensor([[-0.1073,  0.0455]], device='cuda:0', grad_fn=<AddmmBackward0>)"
      ]
     },
     "execution_count": 25,
     "metadata": {},
     "output_type": "execute_result"
    }
   ],
   "source": [
    "model(torch.tensor([[1]], device=device))"
   ]
  },
  {
   "cell_type": "code",
   "execution_count": 26,
   "id": "f7848d4b",
   "metadata": {
    "execution": {
     "iopub.execute_input": "2023-04-06T17:18:16.654070Z",
     "iopub.status.busy": "2023-04-06T17:18:16.653755Z",
     "iopub.status.idle": "2023-04-06T17:18:16.660015Z",
     "shell.execute_reply": "2023-04-06T17:18:16.658953Z"
    },
    "papermill": {
     "duration": 0.026094,
     "end_time": "2023-04-06T17:18:16.662461",
     "exception": false,
     "start_time": "2023-04-06T17:18:16.636367",
     "status": "completed"
    },
    "tags": []
   },
   "outputs": [
    {
     "name": "stdout",
     "output_type": "stream",
     "text": [
      "Our Roberta has 124,647,170 parameters...\n"
     ]
    }
   ],
   "source": [
    "print('Our Roberta has {:,d} parameters...'.format(model.parameters_num()))"
   ]
  },
  {
   "cell_type": "markdown",
   "id": "e3f67c79",
   "metadata": {
    "papermill": {
     "duration": 0.016239,
     "end_time": "2023-04-06T17:18:16.694984",
     "exception": false,
     "start_time": "2023-04-06T17:18:16.678745",
     "status": "completed"
    },
    "tags": []
   },
   "source": [
    "## Fine-tuning"
   ]
  },
  {
   "cell_type": "code",
   "execution_count": 27,
   "id": "19cd44cb",
   "metadata": {
    "execution": {
     "iopub.execute_input": "2023-04-06T17:18:16.729425Z",
     "iopub.status.busy": "2023-04-06T17:18:16.728586Z",
     "iopub.status.idle": "2023-04-06T17:18:16.733414Z",
     "shell.execute_reply": "2023-04-06T17:18:16.732469Z"
    },
    "papermill": {
     "duration": 0.024164,
     "end_time": "2023-04-06T17:18:16.735455",
     "exception": false,
     "start_time": "2023-04-06T17:18:16.711291",
     "status": "completed"
    },
    "tags": []
   },
   "outputs": [],
   "source": [
    "from torch.utils.data import DataLoader"
   ]
  },
  {
   "cell_type": "code",
   "execution_count": 28,
   "id": "783bc0a7",
   "metadata": {
    "execution": {
     "iopub.execute_input": "2023-04-06T17:18:16.769600Z",
     "iopub.status.busy": "2023-04-06T17:18:16.769307Z",
     "iopub.status.idle": "2023-04-06T17:18:16.773726Z",
     "shell.execute_reply": "2023-04-06T17:18:16.772660Z"
    },
    "papermill": {
     "duration": 0.023907,
     "end_time": "2023-04-06T17:18:16.775797",
     "exception": false,
     "start_time": "2023-04-06T17:18:16.751890",
     "status": "completed"
    },
    "tags": []
   },
   "outputs": [],
   "source": [
    "batch_size = 8"
   ]
  },
  {
   "cell_type": "code",
   "execution_count": 29,
   "id": "35362de8",
   "metadata": {
    "execution": {
     "iopub.execute_input": "2023-04-06T17:18:16.810101Z",
     "iopub.status.busy": "2023-04-06T17:18:16.809247Z",
     "iopub.status.idle": "2023-04-06T17:18:16.814999Z",
     "shell.execute_reply": "2023-04-06T17:18:16.814020Z"
    },
    "papermill": {
     "duration": 0.025144,
     "end_time": "2023-04-06T17:18:16.817138",
     "exception": false,
     "start_time": "2023-04-06T17:18:16.791994",
     "status": "completed"
    },
    "tags": []
   },
   "outputs": [],
   "source": [
    "train_dataloader = DataLoader(\n",
    "    train_dataset, \n",
    "    batch_size=batch_size, \n",
    "    shuffle=False\n",
    ")\n",
    "\n",
    "valid_dataloader = DataLoader(\n",
    "    valid_dataset,\n",
    "    batch_size=batch_size,\n",
    "    shuffle=False\n",
    ")"
   ]
  },
  {
   "cell_type": "code",
   "execution_count": 30,
   "id": "5e3638d4",
   "metadata": {
    "execution": {
     "iopub.execute_input": "2023-04-06T17:18:16.851953Z",
     "iopub.status.busy": "2023-04-06T17:18:16.850977Z",
     "iopub.status.idle": "2023-04-06T17:18:17.629395Z",
     "shell.execute_reply": "2023-04-06T17:18:17.628371Z"
    },
    "papermill": {
     "duration": 0.798464,
     "end_time": "2023-04-06T17:18:17.631952",
     "exception": false,
     "start_time": "2023-04-06T17:18:16.833488",
     "status": "completed"
    },
    "tags": []
   },
   "outputs": [],
   "source": [
    "from sklearn.metrics import accuracy_score, precision_score, recall_score, f1_score"
   ]
  },
  {
   "cell_type": "code",
   "execution_count": 31,
   "id": "0c856f10",
   "metadata": {
    "execution": {
     "iopub.execute_input": "2023-04-06T17:18:17.667070Z",
     "iopub.status.busy": "2023-04-06T17:18:17.666743Z",
     "iopub.status.idle": "2023-04-06T17:18:17.684956Z",
     "shell.execute_reply": "2023-04-06T17:18:17.683945Z"
    },
    "papermill": {
     "duration": 0.037994,
     "end_time": "2023-04-06T17:18:17.686978",
     "exception": false,
     "start_time": "2023-04-06T17:18:17.648984",
     "status": "completed"
    },
    "tags": []
   },
   "outputs": [],
   "source": [
    "def train(model, \n",
    "          train_dataloader, \n",
    "          valid_dataloader, \n",
    "          steps, \n",
    "          optimizer,\n",
    "          blind_steps=None,\n",
    "          loss_fn=torch.nn.BCELoss(),\n",
    "          main_metric=('f1', f1_score), \n",
    "          additional_metrics=[],\n",
    "          filepath='model_sd.pt',\n",
    "          load_best=True,\n",
    "          scheduler=None,\n",
    "          losses_dict=None):\n",
    "    \n",
    "    if blind_steps == None:\n",
    "        blind_steps = len(train_dataloader) // 4\n",
    "    \n",
    "    def evaluate():  # the first score returned is the main\n",
    "        model.eval()\n",
    "        \n",
    "        y_trues = []\n",
    "        y_hats = []\n",
    "        \n",
    "        loss = 0\n",
    "        k = 0\n",
    "        \n",
    "        with torch.no_grad():\n",
    "            for batch in valid_dataloader:\n",
    "                \n",
    "                (ids, mask), y_true = batch\n",
    "                hots = torch.nn.functional.one_hot(y_true, 2).to(device, torch.float)\n",
    "                y_hat = torch.softmax(model.forward(input_ids=ids, attention_mask=mask),dim=-1)\n",
    "\n",
    "                loss += float(loss_fn(y_hat, hots))\n",
    "                k += 1\n",
    "                \n",
    "                for i in range(y_true.shape[0]):\n",
    "                    y_trues.append(int(y_true[i]))\n",
    "                    y_hats.append(1 if y_hat[i][0] < y_hat[i][1] else 0)\n",
    "        \n",
    "        scores = [(main_metric[0], main_metric[1](y_trues, y_hats))]\n",
    "        \n",
    "        for metric in additional_metrics:\n",
    "            scores.append((metric[0], metric[1](y_trues, y_hats)))        \n",
    "        \n",
    "        model.train()\n",
    "        return scores + [('valid_loss', loss/k)]\n",
    "    \n",
    "    \n",
    "    def render_scores(scores, step, best=None):\n",
    "        print('{:05d} steps'.format(step), end=' ')\n",
    "        \n",
    "        for score in scores:\n",
    "            print(\"| {}: {:.3f}\".format(*score), end=' ')\n",
    "            \n",
    "        if best != None:\n",
    "            print('| best_score: {:.3f}'.format(best))\n",
    "            \n",
    "    \n",
    "    # initial scores\n",
    "    scores = evaluate()\n",
    "    render_scores(scores, 0)\n",
    "    best_score = scores[0][1]\n",
    "    torch.save(model.state_dict(), filepath)\n",
    "    \n",
    "    # logs\n",
    "    if losses_dict != None:\n",
    "        losses_dict['train_loss'] = []\n",
    "        losses_dict['valid_loss'] = []\n",
    "    \n",
    "    epoch_loss = 0\n",
    "    k = 0\n",
    "    \n",
    "    train_iter = iter(train_dataloader)\n",
    "    model.train()\n",
    "    \n",
    "    for step in tqdm(range(steps)):\n",
    "        \n",
    "        # retrieving a batch\n",
    "        try:\n",
    "            batch = next(train_iter)\n",
    "        except:\n",
    "            train_iter = iter(train_dataloader)\n",
    "            batch = next(train_iter)\n",
    "\n",
    "        (ids, mask), y_true = batch\n",
    "\n",
    "        # prediction\n",
    "        y_hat = torch.softmax(model.forward(input_ids=ids, attention_mask=mask),dim=-1)\n",
    "        hots = torch.nn.functional.one_hot(y_true, 2).to(device, torch.float)\n",
    "        loss = loss_fn(y_hat, hots)\n",
    "        \n",
    "        # backprop\n",
    "        optimizer.zero_grad()\n",
    "        loss.backward()\n",
    "        optimizer.step()\n",
    "        \n",
    "        if scheduler != None:\n",
    "            scheduler.step()\n",
    "            \n",
    "        epoch_loss += float(loss)\n",
    "        k+=1\n",
    "        \n",
    "        # evaluation\n",
    "        if (step + 1) % blind_steps == 0:\n",
    "            scores = evaluate() + [('train_loss', epoch_loss/k)]\n",
    "            \n",
    "            if losses_dict != None:\n",
    "                losses_dict['valid_loss'].append(float(scores[-2][1]))\n",
    "                losses_dict['train_loss'].append(float(scores[-1][1]))\n",
    "            \n",
    "            if scores[0][1] > best_score:\n",
    "                best_score = scores[0][1]\n",
    "                torch.save(model.state_dict(), filepath)\n",
    "                \n",
    "            render_scores(scores, step + 1, best=best_score)\n",
    "            epoch_loss = 0\n",
    "            k = 0\n",
    "                \n",
    "    if load_best:\n",
    "        model.load_state_dict(torch.load(filepath))\n"
   ]
  },
  {
   "cell_type": "code",
   "execution_count": 32,
   "id": "37baa946",
   "metadata": {
    "execution": {
     "iopub.execute_input": "2023-04-06T17:18:17.721679Z",
     "iopub.status.busy": "2023-04-06T17:18:17.720747Z",
     "iopub.status.idle": "2023-04-06T17:18:17.726993Z",
     "shell.execute_reply": "2023-04-06T17:18:17.725913Z"
    },
    "papermill": {
     "duration": 0.025874,
     "end_time": "2023-04-06T17:18:17.729089",
     "exception": false,
     "start_time": "2023-04-06T17:18:17.703215",
     "status": "completed"
    },
    "tags": []
   },
   "outputs": [],
   "source": [
    "optimizer = torch.optim.Adam(model.parameters(), lr=2e-5, weight_decay=1e-3)"
   ]
  },
  {
   "cell_type": "code",
   "execution_count": 33,
   "id": "d2cbdcdc",
   "metadata": {
    "execution": {
     "iopub.execute_input": "2023-04-06T17:18:17.764063Z",
     "iopub.status.busy": "2023-04-06T17:18:17.763016Z",
     "iopub.status.idle": "2023-04-06T17:18:17.768119Z",
     "shell.execute_reply": "2023-04-06T17:18:17.767197Z"
    },
    "papermill": {
     "duration": 0.024628,
     "end_time": "2023-04-06T17:18:17.770062",
     "exception": false,
     "start_time": "2023-04-06T17:18:17.745434",
     "status": "completed"
    },
    "tags": []
   },
   "outputs": [],
   "source": [
    "logs_dict = {}"
   ]
  },
  {
   "cell_type": "code",
   "execution_count": 34,
   "id": "11e7865a",
   "metadata": {
    "execution": {
     "iopub.execute_input": "2023-04-06T17:18:17.804725Z",
     "iopub.status.busy": "2023-04-06T17:18:17.803799Z",
     "iopub.status.idle": "2023-04-06T18:02:56.572480Z",
     "shell.execute_reply": "2023-04-06T18:02:56.571324Z"
    },
    "papermill": {
     "duration": 2679.199303,
     "end_time": "2023-04-06T18:02:56.985955",
     "exception": false,
     "start_time": "2023-04-06T17:18:17.786652",
     "status": "completed"
    },
    "tags": []
   },
   "outputs": [
    {
     "name": "stdout",
     "output_type": "stream",
     "text": [
      "00000 steps | f1: 0.605 | precision: 0.434 | recall: 1.000 | accuracy: 0.434 | valid_loss: 0.709 "
     ]
    },
    {
     "name": "stderr",
     "output_type": "stream",
     "text": [
      "  1%|▏         | 125/10000 [00:34<6:22:16,  2.32s/it]"
     ]
    },
    {
     "name": "stdout",
     "output_type": "stream",
     "text": [
      "00125 steps | f1: 0.765 | precision: 0.839 | recall: 0.702 | accuracy: 0.812 | valid_loss: 0.421 | train_loss: 0.565 | best_score: 0.765\n"
     ]
    },
    {
     "name": "stderr",
     "output_type": "stream",
     "text": [
      "  2%|▎         | 250/10000 [01:08<6:20:13,  2.34s/it]"
     ]
    },
    {
     "name": "stdout",
     "output_type": "stream",
     "text": [
      "00250 steps | f1: 0.784 | precision: 0.739 | recall: 0.834 | accuracy: 0.800 | valid_loss: 0.461 | train_loss: 0.440 | best_score: 0.784\n"
     ]
    },
    {
     "name": "stderr",
     "output_type": "stream",
     "text": [
      "  4%|▍         | 375/10000 [01:41<5:25:13,  2.03s/it]"
     ]
    },
    {
     "name": "stdout",
     "output_type": "stream",
     "text": [
      "00375 steps | f1: 0.773 | precision: 0.841 | recall: 0.715 | accuracy: 0.818 | valid_loss: 0.419 | train_loss: 0.457 | best_score: 0.784\n"
     ]
    },
    {
     "name": "stderr",
     "output_type": "stream",
     "text": [
      "  5%|▌         | 500/10000 [02:15<5:21:03,  2.03s/it]"
     ]
    },
    {
     "name": "stdout",
     "output_type": "stream",
     "text": [
      "00500 steps | f1: 0.779 | precision: 0.768 | recall: 0.791 | accuracy: 0.806 | valid_loss: 0.428 | train_loss: 0.431 | best_score: 0.784\n"
     ]
    },
    {
     "name": "stderr",
     "output_type": "stream",
     "text": [
      "  6%|▋         | 625/10000 [02:49<6:04:20,  2.33s/it]"
     ]
    },
    {
     "name": "stdout",
     "output_type": "stream",
     "text": [
      "00625 steps | f1: 0.788 | precision: 0.814 | recall: 0.764 | accuracy: 0.822 | valid_loss: 0.430 | train_loss: 0.442 | best_score: 0.788\n"
     ]
    },
    {
     "name": "stderr",
     "output_type": "stream",
     "text": [
      "  8%|▊         | 750/10000 [03:22<5:12:44,  2.03s/it]"
     ]
    },
    {
     "name": "stdout",
     "output_type": "stream",
     "text": [
      "00750 steps | f1: 0.777 | precision: 0.773 | recall: 0.782 | accuracy: 0.806 | valid_loss: 0.429 | train_loss: 0.436 | best_score: 0.788\n"
     ]
    },
    {
     "name": "stderr",
     "output_type": "stream",
     "text": [
      "  9%|▉         | 875/10000 [03:56<5:53:23,  2.32s/it]"
     ]
    },
    {
     "name": "stdout",
     "output_type": "stream",
     "text": [
      "00875 steps | f1: 0.796 | precision: 0.835 | recall: 0.761 | accuracy: 0.831 | valid_loss: 0.409 | train_loss: 0.433 | best_score: 0.796\n"
     ]
    },
    {
     "name": "stderr",
     "output_type": "stream",
     "text": [
      " 10%|█         | 1000/10000 [04:29<5:04:13,  2.03s/it]"
     ]
    },
    {
     "name": "stdout",
     "output_type": "stream",
     "text": [
      "01000 steps | f1: 0.778 | precision: 0.871 | recall: 0.702 | accuracy: 0.826 | valid_loss: 0.402 | train_loss: 0.372 | best_score: 0.796\n"
     ]
    },
    {
     "name": "stderr",
     "output_type": "stream",
     "text": [
      " 11%|█▏        | 1125/10000 [05:03<5:00:11,  2.03s/it]"
     ]
    },
    {
     "name": "stdout",
     "output_type": "stream",
     "text": [
      "01125 steps | f1: 0.768 | precision: 0.930 | recall: 0.653 | accuracy: 0.828 | valid_loss: 0.414 | train_loss: 0.330 | best_score: 0.796\n"
     ]
    },
    {
     "name": "stderr",
     "output_type": "stream",
     "text": [
      " 12%|█▎        | 1250/10000 [05:36<4:56:01,  2.03s/it]"
     ]
    },
    {
     "name": "stdout",
     "output_type": "stream",
     "text": [
      "01250 steps | f1: 0.791 | precision: 0.877 | recall: 0.721 | accuracy: 0.835 | valid_loss: 0.421 | train_loss: 0.375 | best_score: 0.796\n"
     ]
    },
    {
     "name": "stderr",
     "output_type": "stream",
     "text": [
      " 14%|█▍        | 1375/10000 [06:09<4:51:49,  2.03s/it]"
     ]
    },
    {
     "name": "stdout",
     "output_type": "stream",
     "text": [
      "01375 steps | f1: 0.786 | precision: 0.848 | recall: 0.733 | accuracy: 0.827 | valid_loss: 0.433 | train_loss: 0.350 | best_score: 0.796\n"
     ]
    },
    {
     "name": "stderr",
     "output_type": "stream",
     "text": [
      " 15%|█▌        | 1500/10000 [06:43<5:26:31,  2.30s/it]"
     ]
    },
    {
     "name": "stdout",
     "output_type": "stream",
     "text": [
      "01500 steps | f1: 0.799 | precision: 0.864 | recall: 0.742 | accuracy: 0.838 | valid_loss: 0.417 | train_loss: 0.359 | best_score: 0.799\n"
     ]
    },
    {
     "name": "stderr",
     "output_type": "stream",
     "text": [
      " 16%|█▋        | 1625/10000 [07:18<5:20:55,  2.30s/it]"
     ]
    },
    {
     "name": "stdout",
     "output_type": "stream",
     "text": [
      "01625 steps | f1: 0.800 | precision: 0.802 | recall: 0.798 | accuracy: 0.827 | valid_loss: 0.426 | train_loss: 0.355 | best_score: 0.800\n"
     ]
    },
    {
     "name": "stderr",
     "output_type": "stream",
     "text": [
      " 18%|█▊        | 1750/10000 [07:51<4:38:49,  2.03s/it]"
     ]
    },
    {
     "name": "stdout",
     "output_type": "stream",
     "text": [
      "01750 steps | f1: 0.785 | precision: 0.810 | recall: 0.761 | accuracy: 0.819 | valid_loss: 0.500 | train_loss: 0.347 | best_score: 0.800\n"
     ]
    },
    {
     "name": "stderr",
     "output_type": "stream",
     "text": [
      " 19%|█▉        | 1875/10000 [08:24<4:34:29,  2.03s/it]"
     ]
    },
    {
     "name": "stdout",
     "output_type": "stream",
     "text": [
      "01875 steps | f1: 0.794 | precision: 0.768 | recall: 0.822 | accuracy: 0.815 | valid_loss: 0.518 | train_loss: 0.295 | best_score: 0.800\n"
     ]
    },
    {
     "name": "stderr",
     "output_type": "stream",
     "text": [
      " 20%|██        | 2000/10000 [08:57<4:30:25,  2.03s/it]"
     ]
    },
    {
     "name": "stdout",
     "output_type": "stream",
     "text": [
      "02000 steps | f1: 0.799 | precision: 0.873 | recall: 0.736 | accuracy: 0.839 | valid_loss: 0.417 | train_loss: 0.287 | best_score: 0.800\n"
     ]
    },
    {
     "name": "stderr",
     "output_type": "stream",
     "text": [
      " 21%|██▏       | 2125/10000 [09:31<4:26:08,  2.03s/it]"
     ]
    },
    {
     "name": "stdout",
     "output_type": "stream",
     "text": [
      "02125 steps | f1: 0.776 | precision: 0.859 | recall: 0.709 | accuracy: 0.823 | valid_loss: 0.490 | train_loss: 0.279 | best_score: 0.800\n"
     ]
    },
    {
     "name": "stderr",
     "output_type": "stream",
     "text": [
      " 22%|██▎       | 2250/10000 [10:04<4:21:59,  2.03s/it]"
     ]
    },
    {
     "name": "stdout",
     "output_type": "stream",
     "text": [
      "02250 steps | f1: 0.792 | precision: 0.844 | recall: 0.745 | accuracy: 0.830 | valid_loss: 0.444 | train_loss: 0.288 | best_score: 0.800\n"
     ]
    },
    {
     "name": "stderr",
     "output_type": "stream",
     "text": [
      " 24%|██▍       | 2375/10000 [10:37<4:17:52,  2.03s/it]"
     ]
    },
    {
     "name": "stdout",
     "output_type": "stream",
     "text": [
      "02375 steps | f1: 0.784 | precision: 0.795 | recall: 0.773 | accuracy: 0.815 | valid_loss: 0.533 | train_loss: 0.287 | best_score: 0.800\n"
     ]
    },
    {
     "name": "stderr",
     "output_type": "stream",
     "text": [
      " 25%|██▌       | 2500/10000 [11:10<4:13:29,  2.03s/it]"
     ]
    },
    {
     "name": "stdout",
     "output_type": "stream",
     "text": [
      "02500 steps | f1: 0.793 | precision: 0.818 | recall: 0.770 | accuracy: 0.826 | valid_loss: 0.434 | train_loss: 0.285 | best_score: 0.800\n"
     ]
    },
    {
     "name": "stderr",
     "output_type": "stream",
     "text": [
      " 26%|██▋       | 2625/10000 [11:43<4:09:10,  2.03s/it]"
     ]
    },
    {
     "name": "stdout",
     "output_type": "stream",
     "text": [
      "02625 steps | f1: 0.794 | precision: 0.858 | recall: 0.739 | accuracy: 0.834 | valid_loss: 0.427 | train_loss: 0.306 | best_score: 0.800\n"
     ]
    },
    {
     "name": "stderr",
     "output_type": "stream",
     "text": [
      " 28%|██▊       | 2750/10000 [12:18<4:38:04,  2.30s/it]"
     ]
    },
    {
     "name": "stdout",
     "output_type": "stream",
     "text": [
      "02750 steps | f1: 0.803 | precision: 0.793 | recall: 0.813 | accuracy: 0.827 | valid_loss: 0.563 | train_loss: 0.213 | best_score: 0.803\n"
     ]
    },
    {
     "name": "stderr",
     "output_type": "stream",
     "text": [
      " 29%|██▉       | 2875/10000 [12:51<4:00:46,  2.03s/it]"
     ]
    },
    {
     "name": "stdout",
     "output_type": "stream",
     "text": [
      "02875 steps | f1: 0.781 | precision: 0.744 | recall: 0.822 | accuracy: 0.800 | valid_loss: 0.542 | train_loss: 0.293 | best_score: 0.803\n"
     ]
    },
    {
     "name": "stderr",
     "output_type": "stream",
     "text": [
      " 30%|███       | 3000/10000 [13:24<3:56:36,  2.03s/it]"
     ]
    },
    {
     "name": "stdout",
     "output_type": "stream",
     "text": [
      "03000 steps | f1: 0.780 | precision: 0.777 | recall: 0.782 | accuracy: 0.808 | valid_loss: 0.604 | train_loss: 0.211 | best_score: 0.803\n"
     ]
    },
    {
     "name": "stderr",
     "output_type": "stream",
     "text": [
      " 31%|███▏      | 3125/10000 [13:57<3:52:41,  2.03s/it]"
     ]
    },
    {
     "name": "stdout",
     "output_type": "stream",
     "text": [
      "03125 steps | f1: 0.792 | precision: 0.836 | recall: 0.752 | accuracy: 0.828 | valid_loss: 0.549 | train_loss: 0.228 | best_score: 0.803\n"
     ]
    },
    {
     "name": "stderr",
     "output_type": "stream",
     "text": [
      " 32%|███▎      | 3250/10000 [14:32<4:23:37,  2.34s/it]"
     ]
    },
    {
     "name": "stdout",
     "output_type": "stream",
     "text": [
      "03250 steps | f1: 0.810 | precision: 0.837 | recall: 0.785 | accuracy: 0.840 | valid_loss: 0.513 | train_loss: 0.279 | best_score: 0.810\n"
     ]
    },
    {
     "name": "stderr",
     "output_type": "stream",
     "text": [
      " 34%|███▍      | 3375/10000 [15:05<3:44:09,  2.03s/it]"
     ]
    },
    {
     "name": "stdout",
     "output_type": "stream",
     "text": [
      "03375 steps | f1: 0.801 | precision: 0.818 | recall: 0.785 | accuracy: 0.831 | valid_loss: 0.500 | train_loss: 0.234 | best_score: 0.810\n"
     ]
    },
    {
     "name": "stderr",
     "output_type": "stream",
     "text": [
      " 35%|███▌      | 3500/10000 [15:39<4:10:13,  2.31s/it]"
     ]
    },
    {
     "name": "stdout",
     "output_type": "stream",
     "text": [
      "03500 steps | f1: 0.811 | precision: 0.881 | recall: 0.752 | accuracy: 0.848 | valid_loss: 0.502 | train_loss: 0.239 | best_score: 0.811\n"
     ]
    },
    {
     "name": "stderr",
     "output_type": "stream",
     "text": [
      " 36%|███▋      | 3625/10000 [16:12<3:35:33,  2.03s/it]"
     ]
    },
    {
     "name": "stdout",
     "output_type": "stream",
     "text": [
      "03625 steps | f1: 0.773 | precision: 0.939 | recall: 0.656 | accuracy: 0.832 | valid_loss: 0.521 | train_loss: 0.185 | best_score: 0.811\n"
     ]
    },
    {
     "name": "stderr",
     "output_type": "stream",
     "text": [
      " 38%|███▊      | 3750/10000 [16:46<3:31:32,  2.03s/it]"
     ]
    },
    {
     "name": "stdout",
     "output_type": "stream",
     "text": [
      "03750 steps | f1: 0.799 | precision: 0.862 | recall: 0.745 | accuracy: 0.838 | valid_loss: 0.528 | train_loss: 0.227 | best_score: 0.811\n"
     ]
    },
    {
     "name": "stderr",
     "output_type": "stream",
     "text": [
      " 39%|███▉      | 3875/10000 [17:19<3:27:16,  2.03s/it]"
     ]
    },
    {
     "name": "stdout",
     "output_type": "stream",
     "text": [
      "03875 steps | f1: 0.769 | precision: 0.766 | recall: 0.773 | accuracy: 0.799 | valid_loss: 0.591 | train_loss: 0.177 | best_score: 0.811\n"
     ]
    },
    {
     "name": "stderr",
     "output_type": "stream",
     "text": [
      " 40%|████      | 4000/10000 [17:52<3:22:58,  2.03s/it]"
     ]
    },
    {
     "name": "stdout",
     "output_type": "stream",
     "text": [
      "04000 steps | f1: 0.797 | precision: 0.848 | recall: 0.752 | accuracy: 0.834 | valid_loss: 0.501 | train_loss: 0.197 | best_score: 0.811\n"
     ]
    },
    {
     "name": "stderr",
     "output_type": "stream",
     "text": [
      " 41%|████▏     | 4125/10000 [18:25<3:18:35,  2.03s/it]"
     ]
    },
    {
     "name": "stdout",
     "output_type": "stream",
     "text": [
      "04125 steps | f1: 0.799 | precision: 0.798 | recall: 0.801 | accuracy: 0.826 | valid_loss: 0.528 | train_loss: 0.250 | best_score: 0.811\n"
     ]
    },
    {
     "name": "stderr",
     "output_type": "stream",
     "text": [
      " 42%|████▎     | 4250/10000 [18:59<3:14:17,  2.03s/it]"
     ]
    },
    {
     "name": "stdout",
     "output_type": "stream",
     "text": [
      "04250 steps | f1: 0.791 | precision: 0.854 | recall: 0.736 | accuracy: 0.831 | valid_loss: 0.574 | train_loss: 0.179 | best_score: 0.811\n"
     ]
    },
    {
     "name": "stderr",
     "output_type": "stream",
     "text": [
      " 44%|████▍     | 4375/10000 [19:32<3:10:08,  2.03s/it]"
     ]
    },
    {
     "name": "stdout",
     "output_type": "stream",
     "text": [
      "04375 steps | f1: 0.797 | precision: 0.861 | recall: 0.742 | accuracy: 0.836 | valid_loss: 0.607 | train_loss: 0.145 | best_score: 0.811\n"
     ]
    },
    {
     "name": "stderr",
     "output_type": "stream",
     "text": [
      " 45%|████▌     | 4500/10000 [20:05<3:05:58,  2.03s/it]"
     ]
    },
    {
     "name": "stdout",
     "output_type": "stream",
     "text": [
      "04500 steps | f1: 0.797 | precision: 0.881 | recall: 0.727 | accuracy: 0.839 | valid_loss: 0.570 | train_loss: 0.162 | best_score: 0.811\n"
     ]
    },
    {
     "name": "stderr",
     "output_type": "stream",
     "text": [
      " 46%|████▋     | 4625/10000 [20:38<3:01:42,  2.03s/it]"
     ]
    },
    {
     "name": "stdout",
     "output_type": "stream",
     "text": [
      "04625 steps | f1: 0.809 | precision: 0.884 | recall: 0.745 | accuracy: 0.847 | valid_loss: 0.533 | train_loss: 0.204 | best_score: 0.811\n"
     ]
    },
    {
     "name": "stderr",
     "output_type": "stream",
     "text": [
      " 48%|████▊     | 4750/10000 [21:12<2:57:29,  2.03s/it]"
     ]
    },
    {
     "name": "stdout",
     "output_type": "stream",
     "text": [
      "04750 steps | f1: 0.780 | precision: 0.782 | recall: 0.779 | accuracy: 0.810 | valid_loss: 0.485 | train_loss: 0.179 | best_score: 0.811\n"
     ]
    },
    {
     "name": "stderr",
     "output_type": "stream",
     "text": [
      " 49%|████▉     | 4875/10000 [21:45<2:53:29,  2.03s/it]"
     ]
    },
    {
     "name": "stdout",
     "output_type": "stream",
     "text": [
      "04875 steps | f1: 0.677 | precision: 0.966 | recall: 0.521 | accuracy: 0.784 | valid_loss: 0.499 | train_loss: 0.207 | best_score: 0.811\n"
     ]
    },
    {
     "name": "stderr",
     "output_type": "stream",
     "text": [
      " 50%|█████     | 5000/10000 [22:18<2:48:54,  2.03s/it]"
     ]
    },
    {
     "name": "stdout",
     "output_type": "stream",
     "text": [
      "05000 steps | f1: 0.791 | precision: 0.742 | recall: 0.847 | accuracy: 0.806 | valid_loss: 0.659 | train_loss: 0.211 | best_score: 0.811\n"
     ]
    },
    {
     "name": "stderr",
     "output_type": "stream",
     "text": [
      " 51%|█████▏    | 5125/10000 [22:52<2:44:49,  2.03s/it]"
     ]
    },
    {
     "name": "stdout",
     "output_type": "stream",
     "text": [
      "05125 steps | f1: 0.793 | precision: 0.877 | recall: 0.724 | accuracy: 0.836 | valid_loss: 0.732 | train_loss: 0.159 | best_score: 0.811\n"
     ]
    },
    {
     "name": "stderr",
     "output_type": "stream",
     "text": [
      " 52%|█████▎    | 5250/10000 [23:25<2:40:35,  2.03s/it]"
     ]
    },
    {
     "name": "stdout",
     "output_type": "stream",
     "text": [
      "05250 steps | f1: 0.794 | precision: 0.866 | recall: 0.733 | accuracy: 0.835 | valid_loss: 0.549 | train_loss: 0.160 | best_score: 0.811\n"
     ]
    },
    {
     "name": "stderr",
     "output_type": "stream",
     "text": [
      " 54%|█████▍    | 5375/10000 [23:59<2:58:32,  2.32s/it]"
     ]
    },
    {
     "name": "stdout",
     "output_type": "stream",
     "text": [
      "05375 steps | f1: 0.812 | precision: 0.809 | recall: 0.816 | accuracy: 0.836 | valid_loss: 0.486 | train_loss: 0.160 | best_score: 0.812\n"
     ]
    },
    {
     "name": "stderr",
     "output_type": "stream",
     "text": [
      " 55%|█████▌    | 5500/10000 [24:32<2:32:10,  2.03s/it]"
     ]
    },
    {
     "name": "stdout",
     "output_type": "stream",
     "text": [
      "05500 steps | f1: 0.804 | precision: 0.828 | recall: 0.782 | accuracy: 0.835 | valid_loss: 0.604 | train_loss: 0.147 | best_score: 0.812\n"
     ]
    },
    {
     "name": "stderr",
     "output_type": "stream",
     "text": [
      " 56%|█████▋    | 5625/10000 [25:06<2:28:15,  2.03s/it]"
     ]
    },
    {
     "name": "stdout",
     "output_type": "stream",
     "text": [
      "05625 steps | f1: 0.775 | precision: 0.819 | recall: 0.736 | accuracy: 0.815 | valid_loss: 0.609 | train_loss: 0.169 | best_score: 0.812\n"
     ]
    },
    {
     "name": "stderr",
     "output_type": "stream",
     "text": [
      " 57%|█████▊    | 5750/10000 [25:39<2:23:51,  2.03s/it]"
     ]
    },
    {
     "name": "stdout",
     "output_type": "stream",
     "text": [
      "05750 steps | f1: 0.794 | precision: 0.779 | recall: 0.810 | accuracy: 0.818 | valid_loss: 0.491 | train_loss: 0.222 | best_score: 0.812\n"
     ]
    },
    {
     "name": "stderr",
     "output_type": "stream",
     "text": [
      " 59%|█████▉    | 5875/10000 [26:12<2:19:29,  2.03s/it]"
     ]
    },
    {
     "name": "stdout",
     "output_type": "stream",
     "text": [
      "05875 steps | f1: 0.796 | precision: 0.772 | recall: 0.822 | accuracy: 0.818 | valid_loss: 0.776 | train_loss: 0.127 | best_score: 0.812\n"
     ]
    },
    {
     "name": "stderr",
     "output_type": "stream",
     "text": [
      " 60%|██████    | 6000/10000 [26:45<2:15:11,  2.03s/it]"
     ]
    },
    {
     "name": "stdout",
     "output_type": "stream",
     "text": [
      "06000 steps | f1: 0.800 | precision: 0.809 | recall: 0.791 | accuracy: 0.828 | valid_loss: 0.635 | train_loss: 0.124 | best_score: 0.812\n"
     ]
    },
    {
     "name": "stderr",
     "output_type": "stream",
     "text": [
      " 61%|██████▏   | 6125/10000 [27:19<2:11:09,  2.03s/it]"
     ]
    },
    {
     "name": "stdout",
     "output_type": "stream",
     "text": [
      "06125 steps | f1: 0.767 | precision: 0.884 | recall: 0.678 | accuracy: 0.822 | valid_loss: 0.620 | train_loss: 0.112 | best_score: 0.812\n"
     ]
    },
    {
     "name": "stderr",
     "output_type": "stream",
     "text": [
      " 62%|██████▎   | 6250/10000 [27:52<2:06:50,  2.03s/it]"
     ]
    },
    {
     "name": "stdout",
     "output_type": "stream",
     "text": [
      "06250 steps | f1: 0.807 | precision: 0.789 | recall: 0.825 | accuracy: 0.828 | valid_loss: 0.557 | train_loss: 0.138 | best_score: 0.812\n"
     ]
    },
    {
     "name": "stderr",
     "output_type": "stream",
     "text": [
      " 64%|██████▍   | 6375/10000 [28:25<2:02:41,  2.03s/it]"
     ]
    },
    {
     "name": "stdout",
     "output_type": "stream",
     "text": [
      "06375 steps | f1: 0.769 | precision: 0.703 | recall: 0.850 | accuracy: 0.779 | valid_loss: 0.663 | train_loss: 0.109 | best_score: 0.812\n"
     ]
    },
    {
     "name": "stderr",
     "output_type": "stream",
     "text": [
      " 65%|██████▌   | 6500/10000 [28:58<1:58:19,  2.03s/it]"
     ]
    },
    {
     "name": "stdout",
     "output_type": "stream",
     "text": [
      "06500 steps | f1: 0.780 | precision: 0.840 | recall: 0.727 | accuracy: 0.822 | valid_loss: 0.633 | train_loss: 0.150 | best_score: 0.812\n"
     ]
    },
    {
     "name": "stderr",
     "output_type": "stream",
     "text": [
      " 66%|██████▋   | 6625/10000 [29:32<1:54:11,  2.03s/it]"
     ]
    },
    {
     "name": "stdout",
     "output_type": "stream",
     "text": [
      "06625 steps | f1: 0.794 | precision: 0.794 | recall: 0.794 | accuracy: 0.822 | valid_loss: 0.675 | train_loss: 0.172 | best_score: 0.812\n"
     ]
    },
    {
     "name": "stderr",
     "output_type": "stream",
     "text": [
      " 68%|██████▊   | 6750/10000 [30:05<1:49:50,  2.03s/it]"
     ]
    },
    {
     "name": "stdout",
     "output_type": "stream",
     "text": [
      "06750 steps | f1: 0.786 | precision: 0.856 | recall: 0.727 | accuracy: 0.828 | valid_loss: 0.566 | train_loss: 0.136 | best_score: 0.812\n"
     ]
    },
    {
     "name": "stderr",
     "output_type": "stream",
     "text": [
      " 69%|██████▉   | 6875/10000 [30:38<1:45:41,  2.03s/it]"
     ]
    },
    {
     "name": "stdout",
     "output_type": "stream",
     "text": [
      "06875 steps | f1: 0.790 | precision: 0.795 | recall: 0.785 | accuracy: 0.819 | valid_loss: 0.705 | train_loss: 0.100 | best_score: 0.812\n"
     ]
    },
    {
     "name": "stderr",
     "output_type": "stream",
     "text": [
      " 70%|███████   | 7000/10000 [31:12<1:41:24,  2.03s/it]"
     ]
    },
    {
     "name": "stdout",
     "output_type": "stream",
     "text": [
      "07000 steps | f1: 0.791 | precision: 0.868 | recall: 0.727 | accuracy: 0.834 | valid_loss: 0.674 | train_loss: 0.125 | best_score: 0.812\n"
     ]
    },
    {
     "name": "stderr",
     "output_type": "stream",
     "text": [
      " 71%|███████▏  | 7125/10000 [31:45<1:37:12,  2.03s/it]"
     ]
    },
    {
     "name": "stdout",
     "output_type": "stream",
     "text": [
      "07125 steps | f1: 0.775 | precision: 0.873 | recall: 0.696 | accuracy: 0.824 | valid_loss: 0.594 | train_loss: 0.132 | best_score: 0.812\n"
     ]
    },
    {
     "name": "stderr",
     "output_type": "stream",
     "text": [
      " 72%|███████▎  | 7250/10000 [32:18<1:32:59,  2.03s/it]"
     ]
    },
    {
     "name": "stdout",
     "output_type": "stream",
     "text": [
      "07250 steps | f1: 0.781 | precision: 0.816 | recall: 0.748 | accuracy: 0.818 | valid_loss: 0.734 | train_loss: 0.120 | best_score: 0.812\n"
     ]
    },
    {
     "name": "stderr",
     "output_type": "stream",
     "text": [
      " 74%|███████▍  | 7375/10000 [32:51<1:28:51,  2.03s/it]"
     ]
    },
    {
     "name": "stdout",
     "output_type": "stream",
     "text": [
      "07375 steps | f1: 0.779 | precision: 0.731 | recall: 0.834 | accuracy: 0.795 | valid_loss: 0.633 | train_loss: 0.129 | best_score: 0.812\n"
     ]
    },
    {
     "name": "stderr",
     "output_type": "stream",
     "text": [
      " 75%|███████▌  | 7500/10000 [33:25<1:24:37,  2.03s/it]"
     ]
    },
    {
     "name": "stdout",
     "output_type": "stream",
     "text": [
      "07500 steps | f1: 0.802 | precision: 0.830 | recall: 0.776 | accuracy: 0.834 | valid_loss: 0.731 | train_loss: 0.121 | best_score: 0.812\n"
     ]
    },
    {
     "name": "stderr",
     "output_type": "stream",
     "text": [
      " 76%|███████▋  | 7625/10000 [33:58<1:20:26,  2.03s/it]"
     ]
    },
    {
     "name": "stdout",
     "output_type": "stream",
     "text": [
      "07625 steps | f1: 0.798 | precision: 0.786 | recall: 0.810 | accuracy: 0.822 | valid_loss: 0.622 | train_loss: 0.113 | best_score: 0.812\n"
     ]
    },
    {
     "name": "stderr",
     "output_type": "stream",
     "text": [
      " 78%|███████▊  | 7750/10000 [34:31<1:16:08,  2.03s/it]"
     ]
    },
    {
     "name": "stdout",
     "output_type": "stream",
     "text": [
      "07750 steps | f1: 0.789 | precision: 0.885 | recall: 0.712 | accuracy: 0.835 | valid_loss: 0.707 | train_loss: 0.094 | best_score: 0.812\n"
     ]
    },
    {
     "name": "stderr",
     "output_type": "stream",
     "text": [
      " 79%|███████▉  | 7875/10000 [35:04<1:11:57,  2.03s/it]"
     ]
    },
    {
     "name": "stdout",
     "output_type": "stream",
     "text": [
      "07875 steps | f1: 0.747 | precision: 0.665 | recall: 0.853 | accuracy: 0.750 | valid_loss: 0.711 | train_loss: 0.108 | best_score: 0.812\n"
     ]
    },
    {
     "name": "stderr",
     "output_type": "stream",
     "text": [
      " 80%|████████  | 8000/10000 [35:38<1:07:39,  2.03s/it]"
     ]
    },
    {
     "name": "stdout",
     "output_type": "stream",
     "text": [
      "08000 steps | f1: 0.797 | precision: 0.817 | recall: 0.779 | accuracy: 0.828 | valid_loss: 0.618 | train_loss: 0.136 | best_score: 0.812\n"
     ]
    },
    {
     "name": "stderr",
     "output_type": "stream",
     "text": [
      " 81%|████████▏ | 8125/10000 [36:11<1:03:26,  2.03s/it]"
     ]
    },
    {
     "name": "stdout",
     "output_type": "stream",
     "text": [
      "08125 steps | f1: 0.772 | precision: 0.844 | recall: 0.712 | accuracy: 0.818 | valid_loss: 0.764 | train_loss: 0.110 | best_score: 0.812\n"
     ]
    },
    {
     "name": "stderr",
     "output_type": "stream",
     "text": [
      " 82%|████████▎ | 8250/10000 [36:44<59:11,  2.03s/it]"
     ]
    },
    {
     "name": "stdout",
     "output_type": "stream",
     "text": [
      "08250 steps | f1: 0.780 | precision: 0.805 | recall: 0.758 | accuracy: 0.815 | valid_loss: 0.581 | train_loss: 0.115 | best_score: 0.812\n"
     ]
    },
    {
     "name": "stderr",
     "output_type": "stream",
     "text": [
      " 84%|████████▍ | 8375/10000 [37:18<54:57,  2.03s/it]"
     ]
    },
    {
     "name": "stdout",
     "output_type": "stream",
     "text": [
      "08375 steps | f1: 0.801 | precision: 0.813 | recall: 0.788 | accuracy: 0.830 | valid_loss: 0.695 | train_loss: 0.103 | best_score: 0.812\n"
     ]
    },
    {
     "name": "stderr",
     "output_type": "stream",
     "text": [
      " 85%|████████▌ | 8500/10000 [37:51<50:45,  2.03s/it]"
     ]
    },
    {
     "name": "stdout",
     "output_type": "stream",
     "text": [
      "08500 steps | f1: 0.807 | precision: 0.858 | recall: 0.761 | accuracy: 0.842 | valid_loss: 0.765 | train_loss: 0.086 | best_score: 0.812\n"
     ]
    },
    {
     "name": "stderr",
     "output_type": "stream",
     "text": [
      " 86%|████████▋ | 8625/10000 [38:24<46:30,  2.03s/it]"
     ]
    },
    {
     "name": "stdout",
     "output_type": "stream",
     "text": [
      "08625 steps | f1: 0.796 | precision: 0.828 | recall: 0.767 | accuracy: 0.830 | valid_loss: 0.689 | train_loss: 0.097 | best_score: 0.812\n"
     ]
    },
    {
     "name": "stderr",
     "output_type": "stream",
     "text": [
      " 88%|████████▊ | 8750/10000 [38:57<42:15,  2.03s/it]"
     ]
    },
    {
     "name": "stdout",
     "output_type": "stream",
     "text": [
      "08750 steps | f1: 0.795 | precision: 0.872 | recall: 0.730 | accuracy: 0.836 | valid_loss: 0.550 | train_loss: 0.106 | best_score: 0.812\n"
     ]
    },
    {
     "name": "stderr",
     "output_type": "stream",
     "text": [
      " 89%|████████▉ | 8875/10000 [39:31<38:03,  2.03s/it]"
     ]
    },
    {
     "name": "stdout",
     "output_type": "stream",
     "text": [
      "08875 steps | f1: 0.790 | precision: 0.791 | recall: 0.788 | accuracy: 0.818 | valid_loss: 0.700 | train_loss: 0.148 | best_score: 0.812\n"
     ]
    },
    {
     "name": "stderr",
     "output_type": "stream",
     "text": [
      " 90%|█████████ | 9000/10000 [40:04<33:49,  2.03s/it]"
     ]
    },
    {
     "name": "stdout",
     "output_type": "stream",
     "text": [
      "09000 steps | f1: 0.769 | precision: 0.812 | recall: 0.730 | accuracy: 0.810 | valid_loss: 0.686 | train_loss: 0.135 | best_score: 0.812\n"
     ]
    },
    {
     "name": "stderr",
     "output_type": "stream",
     "text": [
      " 91%|█████████▏| 9125/10000 [40:37<29:35,  2.03s/it]"
     ]
    },
    {
     "name": "stdout",
     "output_type": "stream",
     "text": [
      "09125 steps | f1: 0.777 | precision: 0.801 | recall: 0.755 | accuracy: 0.812 | valid_loss: 0.613 | train_loss: 0.120 | best_score: 0.812\n"
     ]
    },
    {
     "name": "stderr",
     "output_type": "stream",
     "text": [
      " 92%|█████████▎| 9250/10000 [41:11<25:23,  2.03s/it]"
     ]
    },
    {
     "name": "stdout",
     "output_type": "stream",
     "text": [
      "09250 steps | f1: 0.794 | precision: 0.796 | recall: 0.791 | accuracy: 0.822 | valid_loss: 0.713 | train_loss: 0.095 | best_score: 0.812\n"
     ]
    },
    {
     "name": "stderr",
     "output_type": "stream",
     "text": [
      " 94%|█████████▍| 9375/10000 [41:44<21:08,  2.03s/it]"
     ]
    },
    {
     "name": "stdout",
     "output_type": "stream",
     "text": [
      "09375 steps | f1: 0.808 | precision: 0.789 | recall: 0.828 | accuracy: 0.830 | valid_loss: 0.788 | train_loss: 0.087 | best_score: 0.812\n"
     ]
    },
    {
     "name": "stderr",
     "output_type": "stream",
     "text": [
      " 95%|█████████▌| 9500/10000 [42:17<16:57,  2.04s/it]"
     ]
    },
    {
     "name": "stdout",
     "output_type": "stream",
     "text": [
      "09500 steps | f1: 0.793 | precision: 0.798 | recall: 0.788 | accuracy: 0.822 | valid_loss: 0.740 | train_loss: 0.075 | best_score: 0.812\n"
     ]
    },
    {
     "name": "stderr",
     "output_type": "stream",
     "text": [
      " 96%|█████████▋| 9625/10000 [42:51<14:39,  2.35s/it]"
     ]
    },
    {
     "name": "stdout",
     "output_type": "stream",
     "text": [
      "09625 steps | f1: 0.814 | precision: 0.824 | recall: 0.804 | accuracy: 0.840 | valid_loss: 0.594 | train_loss: 0.105 | best_score: 0.814\n"
     ]
    },
    {
     "name": "stderr",
     "output_type": "stream",
     "text": [
      " 98%|█████████▊| 9750/10000 [43:25<08:28,  2.03s/it]"
     ]
    },
    {
     "name": "stdout",
     "output_type": "stream",
     "text": [
      "09750 steps | f1: 0.786 | precision: 0.806 | recall: 0.767 | accuracy: 0.819 | valid_loss: 0.816 | train_loss: 0.081 | best_score: 0.814\n"
     ]
    },
    {
     "name": "stderr",
     "output_type": "stream",
     "text": [
      " 99%|█████████▉| 9875/10000 [43:58<04:14,  2.04s/it]"
     ]
    },
    {
     "name": "stdout",
     "output_type": "stream",
     "text": [
      "09875 steps | f1: 0.763 | precision: 0.799 | recall: 0.730 | accuracy: 0.803 | valid_loss: 0.717 | train_loss: 0.093 | best_score: 0.814\n"
     ]
    },
    {
     "name": "stderr",
     "output_type": "stream",
     "text": [
      "100%|██████████| 10000/10000 [44:31<00:00,  3.74it/s]"
     ]
    },
    {
     "name": "stdout",
     "output_type": "stream",
     "text": [
      "10000 steps | f1: 0.788 | precision: 0.864 | recall: 0.724 | accuracy: 0.831 | valid_loss: 0.708 | train_loss: 0.111 | best_score: 0.814\n"
     ]
    },
    {
     "name": "stderr",
     "output_type": "stream",
     "text": [
      "\n"
     ]
    }
   ],
   "source": [
    "train(\n",
    "      model, \n",
    "      train_dataloader, \n",
    "      valid_dataloader, \n",
    "      10000, \n",
    "      optimizer, \n",
    "      blind_steps=125, \n",
    "      additional_metrics=[('precision', precision_score), ('recall', recall_score),('accuracy', accuracy_score)],\n",
    "      losses_dict=logs_dict\n",
    "      #scheduler=scheduler\n",
    "     )"
   ]
  },
  {
   "cell_type": "code",
   "execution_count": 35,
   "id": "29660835",
   "metadata": {
    "execution": {
     "iopub.execute_input": "2023-04-06T18:02:58.115447Z",
     "iopub.status.busy": "2023-04-06T18:02:58.113674Z",
     "iopub.status.idle": "2023-04-06T18:02:58.654781Z",
     "shell.execute_reply": "2023-04-06T18:02:58.653756Z"
    },
    "papermill": {
     "duration": 1.076728,
     "end_time": "2023-04-06T18:02:58.657174",
     "exception": false,
     "start_time": "2023-04-06T18:02:57.580446",
     "status": "completed"
    },
    "tags": []
   },
   "outputs": [
    {
     "data": {
      "text/plain": [
       "<AxesSubplot:>"
      ]
     },
     "execution_count": 35,
     "metadata": {},
     "output_type": "execute_result"
    },
    {
     "data": {
      "image/png": "[encoded data removed]",
      "text/plain": [
       "<Figure size 640x480 with 1 Axes>"
      ]
     },
     "metadata": {},
     "output_type": "display_data"
    }
   ],
   "source": [
    "import numpy as np\n",
    "import seaborn as sns\n",
    "\n",
    "sns.set_theme(style=\"whitegrid\")\n",
    "\n",
    "sns.lineplot(data=logs_dict, palette=\"tab10\", linewidth=2.5)"
   ]
  },
  {
   "cell_type": "markdown",
   "id": "f621fa1c",
   "metadata": {
    "papermill": {
     "duration": 0.592297,
     "end_time": "2023-04-06T18:02:59.789424",
     "exception": false,
     "start_time": "2023-04-06T18:02:59.197127",
     "status": "completed"
    },
    "tags": []
   },
   "source": [
    "## Evaluate"
   ]
  },
  {
   "cell_type": "code",
   "execution_count": 36,
   "id": "7cfc3089",
   "metadata": {
    "execution": {
     "iopub.execute_input": "2023-04-06T18:03:00.864901Z",
     "iopub.status.busy": "2023-04-06T18:03:00.864506Z",
     "iopub.status.idle": "2023-04-06T18:03:00.872302Z",
     "shell.execute_reply": "2023-04-06T18:03:00.871275Z"
    },
    "papermill": {
     "duration": 0.54758,
     "end_time": "2023-04-06T18:03:00.874483",
     "exception": false,
     "start_time": "2023-04-06T18:03:00.326903",
     "status": "completed"
    },
    "tags": []
   },
   "outputs": [],
   "source": [
    "def evaluate(model, valid_dataloader, metrics=[('f1', f1_score),('precision', precision_score), ('recall', recall_score),('accuracy', accuracy_score)]):\n",
    "    model.eval()\n",
    "\n",
    "    y_trues = []\n",
    "    y_hats = []\n",
    "\n",
    "    with torch.no_grad():\n",
    "        for batch in valid_dataloader:\n",
    "\n",
    "            (ids, mask), y_true = batch\n",
    "            y_hat = torch.softmax(model.forward(input_ids=ids, attention_mask=mask),dim=-1)\n",
    "\n",
    "            for i in range(y_true.shape[0]):\n",
    "                y_trues.append(int(y_true[i]))\n",
    "                y_hats.append(1 if y_hat[i][0] < y_hat[i][1] else 0)\n",
    "\n",
    "    scores = []\n",
    "\n",
    "    for metric in metrics:\n",
    "        scores.append((metric[0], metric[1](y_trues, y_hats)))        \n",
    "\n",
    "    return scores"
   ]
  },
  {
   "cell_type": "code",
   "execution_count": 37,
   "id": "73ca410e",
   "metadata": {
    "execution": {
     "iopub.execute_input": "2023-04-06T18:03:02.027950Z",
     "iopub.status.busy": "2023-04-06T18:03:02.026915Z",
     "iopub.status.idle": "2023-04-06T18:03:08.085003Z",
     "shell.execute_reply": "2023-04-06T18:03:08.083832Z"
    },
    "papermill": {
     "duration": 6.620523,
     "end_time": "2023-04-06T18:03:08.087284",
     "exception": false,
     "start_time": "2023-04-06T18:03:01.466761",
     "status": "completed"
    },
    "tags": []
   },
   "outputs": [
    {
     "data": {
      "text/plain": [
       "[('f1', 0.8136645962732919),\n",
       " ('precision', 0.8238993710691824),\n",
       " ('recall', 0.803680981595092),\n",
       " ('accuracy', 0.8402130492676432)]"
      ]
     },
     "execution_count": 37,
     "metadata": {},
     "output_type": "execute_result"
    }
   ],
   "source": [
    "evaluate(model, valid_dataloader)"
   ]
  },
  {
   "cell_type": "code",
   "execution_count": 38,
   "id": "211bb4ec",
   "metadata": {
    "execution": {
     "iopub.execute_input": "2023-04-06T18:03:09.213984Z",
     "iopub.status.busy": "2023-04-06T18:03:09.213355Z",
     "iopub.status.idle": "2023-04-06T18:03:09.218614Z",
     "shell.execute_reply": "2023-04-06T18:03:09.217600Z"
    },
    "papermill": {
     "duration": 0.543198,
     "end_time": "2023-04-06T18:03:09.220872",
     "exception": false,
     "start_time": "2023-04-06T18:03:08.677674",
     "status": "completed"
    },
    "tags": []
   },
   "outputs": [],
   "source": [
    "def classify(tweet):\n",
    "    ids = torch.tensor(tokenizer(tweet)['input_ids'])[None].to(device)\n",
    "    return model.forward(input_ids=ids)"
   ]
  },
  {
   "cell_type": "code",
   "execution_count": 39,
   "id": "da6e3f07",
   "metadata": {
    "execution": {
     "iopub.execute_input": "2023-04-06T18:03:10.338906Z",
     "iopub.status.busy": "2023-04-06T18:03:10.338516Z",
     "iopub.status.idle": "2023-04-06T18:03:10.357589Z",
     "shell.execute_reply": "2023-04-06T18:03:10.356470Z"
    },
    "papermill": {
     "duration": 0.605113,
     "end_time": "2023-04-06T18:03:10.359840",
     "exception": false,
     "start_time": "2023-04-06T18:03:09.754727",
     "status": "completed"
    },
    "tags": []
   },
   "outputs": [
    {
     "data": {
      "text/plain": [
       "tensor([[ 0.6736, -1.0917]], device='cuda:0', grad_fn=<AddmmBackward0>)"
      ]
     },
     "execution_count": 39,
     "metadata": {},
     "output_type": "execute_result"
    }
   ],
   "source": [
    "classify(\"Over 2 hundred families have become victims of my cookie-shop iniciative\")"
   ]
  },
  {
   "cell_type": "markdown",
   "id": "6f359746",
   "metadata": {
    "papermill": {
     "duration": 0.593548,
     "end_time": "2023-04-06T18:03:11.486093",
     "exception": false,
     "start_time": "2023-04-06T18:03:10.892545",
     "status": "completed"
    },
    "tags": []
   },
   "source": [
    "## Make predictions"
   ]
  },
  {
   "cell_type": "code",
   "execution_count": 40,
   "id": "af082c1f",
   "metadata": {
    "execution": {
     "iopub.execute_input": "2023-04-06T18:03:12.569984Z",
     "iopub.status.busy": "2023-04-06T18:03:12.569606Z",
     "iopub.status.idle": "2023-04-06T18:03:52.418579Z",
     "shell.execute_reply": "2023-04-06T18:03:52.417174Z"
    },
    "papermill": {
     "duration": 40.402742,
     "end_time": "2023-04-06T18:03:52.421584",
     "exception": false,
     "start_time": "2023-04-06T18:03:12.018842",
     "status": "completed"
    },
    "tags": []
   },
   "outputs": [
    {
     "name": "stderr",
     "output_type": "stream",
     "text": [
      "100%|██████████| 3263/3263 [00:39<00:00, 81.92it/s]\n"
     ]
    }
   ],
   "source": [
    "\n",
    "predictions_df = pd.DataFrame()\n",
    "for i, (ids, mask) in tqdm(eval_dataset):\n",
    "    pred = model(input_ids=ids[None], attention_mask=mask[None])[0]\n",
    "    y_hat = 1 if pred[0] < pred[1] else 0\n",
    "    r = [int(i), y_hat]\n",
    "    predictions_df = pd.concat([predictions_df, pd.DataFrame(np.array(r)[None,:], columns=['id', 'target'])])\n"
   ]
  },
  {
   "cell_type": "code",
   "execution_count": 41,
   "id": "c671ef5b",
   "metadata": {
    "execution": {
     "iopub.execute_input": "2023-04-06T18:03:53.610715Z",
     "iopub.status.busy": "2023-04-06T18:03:53.610333Z",
     "iopub.status.idle": "2023-04-06T18:03:53.624955Z",
     "shell.execute_reply": "2023-04-06T18:03:53.623996Z"
    },
    "papermill": {
     "duration": 0.599708,
     "end_time": "2023-04-06T18:03:53.626971",
     "exception": false,
     "start_time": "2023-04-06T18:03:53.027263",
     "status": "completed"
    },
    "tags": []
   },
   "outputs": [
    {
     "data": {
      "text/html": [
       "<div>\n",
       "<style scoped>\n",
       "    .dataframe tbody tr th:only-of-type {\n",
       "        vertical-align: middle;\n",
       "    }\n",
       "\n",
       "    .dataframe tbody tr th {\n",
       "        vertical-align: top;\n",
       "    }\n",
       "\n",
       "    .dataframe thead th {\n",
       "        text-align: right;\n",
       "    }\n",
       "</style>\n",
       "<table border=\"1\" class=\"dataframe\">\n",
       "  <thead>\n",
       "    <tr style=\"text-align: right;\">\n",
       "      <th></th>\n",
       "      <th>id</th>\n",
       "      <th>target</th>\n",
       "    </tr>\n",
       "  </thead>\n",
       "  <tbody>\n",
       "    <tr>\n",
       "      <th>0</th>\n",
       "      <td>0</td>\n",
       "      <td>0</td>\n",
       "    </tr>\n",
       "    <tr>\n",
       "      <th>0</th>\n",
       "      <td>2</td>\n",
       "      <td>1</td>\n",
       "    </tr>\n",
       "    <tr>\n",
       "      <th>0</th>\n",
       "      <td>3</td>\n",
       "      <td>1</td>\n",
       "    </tr>\n",
       "    <tr>\n",
       "      <th>0</th>\n",
       "      <td>9</td>\n",
       "      <td>1</td>\n",
       "    </tr>\n",
       "    <tr>\n",
       "      <th>0</th>\n",
       "      <td>11</td>\n",
       "      <td>1</td>\n",
       "    </tr>\n",
       "    <tr>\n",
       "      <th>0</th>\n",
       "      <td>12</td>\n",
       "      <td>0</td>\n",
       "    </tr>\n",
       "    <tr>\n",
       "      <th>0</th>\n",
       "      <td>21</td>\n",
       "      <td>0</td>\n",
       "    </tr>\n",
       "    <tr>\n",
       "      <th>0</th>\n",
       "      <td>22</td>\n",
       "      <td>0</td>\n",
       "    </tr>\n",
       "    <tr>\n",
       "      <th>0</th>\n",
       "      <td>27</td>\n",
       "      <td>0</td>\n",
       "    </tr>\n",
       "    <tr>\n",
       "      <th>0</th>\n",
       "      <td>29</td>\n",
       "      <td>0</td>\n",
       "    </tr>\n",
       "    <tr>\n",
       "      <th>0</th>\n",
       "      <td>30</td>\n",
       "      <td>0</td>\n",
       "    </tr>\n",
       "    <tr>\n",
       "      <th>0</th>\n",
       "      <td>35</td>\n",
       "      <td>0</td>\n",
       "    </tr>\n",
       "    <tr>\n",
       "      <th>0</th>\n",
       "      <td>42</td>\n",
       "      <td>0</td>\n",
       "    </tr>\n",
       "    <tr>\n",
       "      <th>0</th>\n",
       "      <td>43</td>\n",
       "      <td>0</td>\n",
       "    </tr>\n",
       "    <tr>\n",
       "      <th>0</th>\n",
       "      <td>45</td>\n",
       "      <td>0</td>\n",
       "    </tr>\n",
       "    <tr>\n",
       "      <th>0</th>\n",
       "      <td>46</td>\n",
       "      <td>1</td>\n",
       "    </tr>\n",
       "    <tr>\n",
       "      <th>0</th>\n",
       "      <td>47</td>\n",
       "      <td>0</td>\n",
       "    </tr>\n",
       "    <tr>\n",
       "      <th>0</th>\n",
       "      <td>51</td>\n",
       "      <td>1</td>\n",
       "    </tr>\n",
       "    <tr>\n",
       "      <th>0</th>\n",
       "      <td>58</td>\n",
       "      <td>0</td>\n",
       "    </tr>\n",
       "    <tr>\n",
       "      <th>0</th>\n",
       "      <td>60</td>\n",
       "      <td>0</td>\n",
       "    </tr>\n",
       "  </tbody>\n",
       "</table>\n",
       "</div>"
      ],
      "text/plain": [
       "   id  target\n",
       "0   0       0\n",
       "0   2       1\n",
       "0   3       1\n",
       "0   9       1\n",
       "0  11       1\n",
       "0  12       0\n",
       "0  21       0\n",
       "0  22       0\n",
       "0  27       0\n",
       "0  29       0\n",
       "0  30       0\n",
       "0  35       0\n",
       "0  42       0\n",
       "0  43       0\n",
       "0  45       0\n",
       "0  46       1\n",
       "0  47       0\n",
       "0  51       1\n",
       "0  58       0\n",
       "0  60       0"
      ]
     },
     "execution_count": 41,
     "metadata": {},
     "output_type": "execute_result"
    }
   ],
   "source": [
    "predictions_df.target = predictions_df.target.astype(int)\n",
    "predictions_df.id = predictions_df.id.astype(int)\n",
    "predictions_df.head(20)"
   ]
  },
  {
   "cell_type": "code",
   "execution_count": 42,
   "id": "f55efb53",
   "metadata": {
    "execution": {
     "iopub.execute_input": "2023-04-06T18:03:54.811396Z",
     "iopub.status.busy": "2023-04-06T18:03:54.811019Z",
     "iopub.status.idle": "2023-04-06T18:03:54.822698Z",
     "shell.execute_reply": "2023-04-06T18:03:54.821126Z"
    },
    "papermill": {
     "duration": 0.584782,
     "end_time": "2023-04-06T18:03:54.825144",
     "exception": false,
     "start_time": "2023-04-06T18:03:54.240362",
     "status": "completed"
    },
    "tags": []
   },
   "outputs": [
    {
     "name": "stdout",
     "output_type": "stream",
     "text": [
      "Done!\n"
     ]
    }
   ],
   "source": [
    "predictions_df.to_csv('submission.csv', index=False)\n",
    "print('Done!')"
   ]
  },
  {
   "cell_type": "code",
   "execution_count": null,
   "id": "6058b898",
   "metadata": {
    "papermill": {
     "duration": 0.562519,
     "end_time": "2023-04-06T18:03:56.009181",
     "exception": false,
     "start_time": "2023-04-06T18:03:55.446662",
     "status": "completed"
    },
    "tags": []
   },
   "outputs": [],
   "source": []
  },
  {
   "cell_type": "code",
   "execution_count": null,
   "id": "471d1b4f",
   "metadata": {
    "papermill": {
     "duration": 0.57901,
     "end_time": "2023-04-06T18:03:57.230206",
     "exception": false,
     "start_time": "2023-04-06T18:03:56.651196",
     "status": "completed"
    },
    "tags": []
   },
   "outputs": [],
   "source": []
  },
  {
   "cell_type": "code",
   "execution_count": null,
   "id": "257a8d34",
   "metadata": {
    "papermill": {
     "duration": 0.578331,
     "end_time": "2023-04-06T18:03:58.497364",
     "exception": false,
     "start_time": "2023-04-06T18:03:57.919033",
     "status": "completed"
    },
    "tags": []
   },
   "outputs": [],
   "source": []
  }
 ],
 "metadata": {
  "kernelspec": {
   "display_name": "Python 3",
   "language": "python",
   "name": "python3"
  },
  "language_info": {
   "codemirror_mode": {
    "name": "ipython",
    "version": 3
   },
   "file_extension": ".py",
   "mimetype": "text/x-python",
   "name": "python",
   "nbconvert_exporter": "python",
   "pygments_lexer": "ipython3",
   "version": "3.7.12"
  },
  "papermill": {
   "default_parameters": {},
   "duration": 2782.375646,
   "end_time": "2023-04-06T18:04:00.796687",
   "environment_variables": {},
   "exception": null,
   "input_path": "__notebook__.ipynb",
   "output_path": "__notebook__.ipynb",
   "parameters": {},
   "start_time": "2023-04-06T17:17:38.421041",
   "version": "2.4.0"
  },
  "widgets": {
   "application/vnd.jupyter.widget-state+json": {
    "state": {
     "0464681603254b2f840dc29eabcda20e": {
      "model_module": "@jupyter-widgets/controls",
      "model_module_version": "1.5.0",
      "model_name": "HTMLModel",
      "state": {
       "_dom_classes": [],
       "_model_module": "@jupyter-widgets/controls",
       "_model_module_version": "1.5.0",
       "_model_name": "HTMLModel",
       "_view_count": null,
       "_view_module": "@jupyter-widgets/controls",
       "_view_module_version": "1.5.0",
       "_view_name": "HTMLView",
       "description": "",
       "description_tooltip": null,
       "layout": "IPY_MODEL_f562e4990e2d44ca839e23cfc26e380a",
       "placeholder": "​",
       "style": "IPY_MODEL_ffe815a3b64a45f4ac3e65669ec6a346",
       "value": " 481/481 [00:00&lt;00:00, 31.3kB/s]"
      }
     },
     "0f78b6f3019a4b6eb3e3d2552986cd59": {
      "model_module": "@jupyter-widgets/controls",
      "model_module_version": "1.5.0",
      "model_name": "FloatProgressModel",
      "state": {
       "_dom_classes": [],
       "_model_module": "@jupyter-widgets/controls",
       "_model_module_version": "1.5.0",
       "_model_name": "FloatProgressModel",
       "_view_count": null,
       "_view_module": "@jupyter-widgets/controls",
       "_view_module_version": "1.5.0",
       "_view_name": "ProgressView",
       "bar_style": "success",
       "description": "",
       "description_tooltip": null,
       "layout": "IPY_MODEL_d2904f59c5604c108b34604182b8372d",
       "max": 501200538.0,
       "min": 0.0,
       "orientation": "horizontal",
       "style": "IPY_MODEL_3618ef6108914d19ace79309b403f80d",
       "value": 501200538.0
      }
     },
     "11da7f01ab0745849aa605f8dcccfa21": {
      "model_module": "@jupyter-widgets/controls",
      "model_module_version": "1.5.0",
      "model_name": "DescriptionStyleModel",
      "state": {
       "_model_module": "@jupyter-widgets/controls",
       "_model_module_version": "1.5.0",
       "_model_name": "DescriptionStyleModel",
       "_view_count": null,
       "_view_module": "@jupyter-widgets/base",
       "_view_module_version": "1.2.0",
       "_view_name": "StyleView",
       "description_width": ""
      }
     },
     "11fc006909cf46758c81e65e00489b1f": {
      "model_module": "@jupyter-widgets/base",
      "model_module_version": "1.2.0",
      "model_name": "LayoutModel",
      "state": {
       "_model_module": "@jupyter-widgets/base",
       "_model_module_version": "1.2.0",
       "_model_name": "LayoutModel",
       "_view_count": null,
       "_view_module": "@jupyter-widgets/base",
       "_view_module_version": "1.2.0",
       "_view_name": "LayoutView",
       "align_content": null,
       "align_items": null,
       "align_self": null,
       "border": null,
       "bottom": null,
       "display": null,
       "flex": null,
       "flex_flow": null,
       "grid_area": null,
       "grid_auto_columns": null,
       "grid_auto_flow": null,
       "grid_auto_rows": null,
       "grid_column": null,
       "grid_gap": null,
       "grid_row": null,
       "grid_template_areas": null,
       "grid_template_columns": null,
       "grid_template_rows": null,
       "height": null,
       "justify_content": null,
       "justify_items": null,
       "left": null,
       "margin": null,
       "max_height": null,
       "max_width": null,
       "min_height": null,
       "min_width": null,
       "object_fit": null,
       "object_position": null,
       "order": null,
       "overflow": null,
       "overflow_x": null,
       "overflow_y": null,
       "padding": null,
       "right": null,
       "top": null,
       "visibility": null,
       "width": null
      }
     },
     "1664f8e199084ac8adbed421aeb3a65b": {
      "model_module": "@jupyter-widgets/controls",
      "model_module_version": "1.5.0",
      "model_name": "DescriptionStyleModel",
      "state": {
       "_model_module": "@jupyter-widgets/controls",
       "_model_module_version": "1.5.0",
       "_model_name": "DescriptionStyleModel",
       "_view_count": null,
       "_view_module": "@jupyter-widgets/base",
       "_view_module_version": "1.2.0",
       "_view_name": "StyleView",
       "description_width": ""
      }
     },
     "1e6149ec7a5e44e9892c8e5171049fe4": {
      "model_module": "@jupyter-widgets/controls",
      "model_module_version": "1.5.0",
      "model_name": "HTMLModel",
      "state": {
       "_dom_classes": [],
       "_model_module": "@jupyter-widgets/controls",
       "_model_module_version": "1.5.0",
       "_model_name": "HTMLModel",
       "_view_count": null,
       "_view_module": "@jupyter-widgets/controls",
       "_view_module_version": "1.5.0",
       "_view_name": "HTMLView",
       "description": "",
       "description_tooltip": null,
       "layout": "IPY_MODEL_8114d0faf0834c9f94e1ffededbe87c8",
       "placeholder": "​",
       "style": "IPY_MODEL_11da7f01ab0745849aa605f8dcccfa21",
       "value": "Downloading (…)lve/main/config.json: 100%"
      }
     },
     "26ba4ec19b0c4b249a4b16a04584dc45": {
      "model_module": "@jupyter-widgets/controls",
      "model_module_version": "1.5.0",
      "model_name": "HTMLModel",
      "state": {
       "_dom_classes": [],
       "_model_module": "@jupyter-widgets/controls",
       "_model_module_version": "1.5.0",
       "_model_name": "HTMLModel",
       "_view_count": null,
       "_view_module": "@jupyter-widgets/controls",
       "_view_module_version": "1.5.0",
       "_view_name": "HTMLView",
       "description": "",
       "description_tooltip": null,
       "layout": "IPY_MODEL_85205a4a2d674b6aa5501e0bbc091b8a",
       "placeholder": "​",
       "style": "IPY_MODEL_3a1d2ccb5fce4904961fe3d539b77e56",
       "value": "Downloading pytorch_model.bin: 100%"
      }
     },
     "2c887b7a74f1424b94d86929d2a4bd7b": {
      "model_module": "@jupyter-widgets/base",
      "model_module_version": "1.2.0",
      "model_name": "LayoutModel",
      "state": {
       "_model_module": "@jupyter-widgets/base",
       "_model_module_version": "1.2.0",
       "_model_name": "LayoutModel",
       "_view_count": null,
       "_view_module": "@jupyter-widgets/base",
       "_view_module_version": "1.2.0",
       "_view_name": "LayoutView",
       "align_content": null,
       "align_items": null,
       "align_self": null,
       "border": null,
       "bottom": null,
       "display": null,
       "flex": null,
       "flex_flow": null,
       "grid_area": null,
       "grid_auto_columns": null,
       "grid_auto_flow": null,
       "grid_auto_rows": null,
       "grid_column": null,
       "grid_gap": null,
       "grid_row": null,
       "grid_template_areas": null,
       "grid_template_columns": null,
       "grid_template_rows": null,
       "height": null,
       "justify_content": null,
       "justify_items": null,
       "left": null,
       "margin": null,
       "max_height": null,
       "max_width": null,
       "min_height": null,
       "min_width": null,
       "object_fit": null,
       "object_position": null,
       "order": null,
       "overflow": null,
       "overflow_x": null,
       "overflow_y": null,
       "padding": null,
       "right": null,
       "top": null,
       "visibility": null,
       "width": null
      }
     },
     "3618ef6108914d19ace79309b403f80d": {
      "model_module": "@jupyter-widgets/controls",
      "model_module_version": "1.5.0",
      "model_name": "ProgressStyleModel",
      "state": {
       "_model_module": "@jupyter-widgets/controls",
       "_model_module_version": "1.5.0",
       "_model_name": "ProgressStyleModel",
       "_view_count": null,
       "_view_module": "@jupyter-widgets/base",
       "_view_module_version": "1.2.0",
       "_view_name": "StyleView",
       "bar_color": null,
       "description_width": ""
      }
     },
     "3a1d2ccb5fce4904961fe3d539b77e56": {
      "model_module": "@jupyter-widgets/controls",
      "model_module_version": "1.5.0",
      "model_name": "DescriptionStyleModel",
      "state": {
       "_model_module": "@jupyter-widgets/controls",
       "_model_module_version": "1.5.0",
       "_model_name": "DescriptionStyleModel",
       "_view_count": null,
       "_view_module": "@jupyter-widgets/base",
       "_view_module_version": "1.2.0",
       "_view_name": "StyleView",
       "description_width": ""
      }
     },
     "3baf1a63c8a84a658ec56b27c0990b6c": {
      "model_module": "@jupyter-widgets/base",
      "model_module_version": "1.2.0",
      "model_name": "LayoutModel",
      "state": {
       "_model_module": "@jupyter-widgets/base",
       "_model_module_version": "1.2.0",
       "_model_name": "LayoutModel",
       "_view_count": null,
       "_view_module": "@jupyter-widgets/base",
       "_view_module_version": "1.2.0",
       "_view_name": "LayoutView",
       "align_content": null,
       "align_items": null,
       "align_self": null,
       "border": null,
       "bottom": null,
       "display": null,
       "flex": null,
       "flex_flow": null,
       "grid_area": null,
       "grid_auto_columns": null,
       "grid_auto_flow": null,
       "grid_auto_rows": null,
       "grid_column": null,
       "grid_gap": null,
       "grid_row": null,
       "grid_template_areas": null,
       "grid_template_columns": null,
       "grid_template_rows": null,
       "height": null,
       "justify_content": null,
       "justify_items": null,
       "left": null,
       "margin": null,
       "max_height": null,
       "max_width": null,
       "min_height": null,
       "min_width": null,
       "object_fit": null,
       "object_position": null,
       "order": null,
       "overflow": null,
       "overflow_x": null,
       "overflow_y": null,
       "padding": null,
       "right": null,
       "top": null,
       "visibility": null,
       "width": null
      }
     },
     "3c9c287db3604416a588b9b8477e417a": {
      "model_module": "@jupyter-widgets/controls",
      "model_module_version": "1.5.0",
      "model_name": "HBoxModel",
      "state": {
       "_dom_classes": [],
       "_model_module": "@jupyter-widgets/controls",
       "_model_module_version": "1.5.0",
       "_model_name": "HBoxModel",
       "_view_count": null,
       "_view_module": "@jupyter-widgets/controls",
       "_view_module_version": "1.5.0",
       "_view_name": "HBoxView",
       "box_style": "",
       "children": [
        "IPY_MODEL_80ce9281153842429b594777ebd1b8e2",
        "IPY_MODEL_61b73487b08c4a03a252cda2fdcb8d45",
        "IPY_MODEL_731362ca9921491fa48dc7f4ed954404"
       ],
       "layout": "IPY_MODEL_e3daeeb8d26746229175b94b97e1afcb"
      }
     },
     "40dcf7519bb74e108bb036727dcb7914": {
      "model_module": "@jupyter-widgets/controls",
      "model_module_version": "1.5.0",
      "model_name": "HBoxModel",
      "state": {
       "_dom_classes": [],
       "_model_module": "@jupyter-widgets/controls",
       "_model_module_version": "1.5.0",
       "_model_name": "HBoxModel",
       "_view_count": null,
       "_view_module": "@jupyter-widgets/controls",
       "_view_module_version": "1.5.0",
       "_view_name": "HBoxView",
       "box_style": "",
       "children": [
        "IPY_MODEL_26ba4ec19b0c4b249a4b16a04584dc45",
        "IPY_MODEL_0f78b6f3019a4b6eb3e3d2552986cd59",
        "IPY_MODEL_f98ebec60ec64c3d91d2cd2fad0f5832"
       ],
       "layout": "IPY_MODEL_7923ced7728943649e846c5b0fd51947"
      }
     },
     "512590d91f864b9db767d12475afb935": {
      "model_module": "@jupyter-widgets/controls",
      "model_module_version": "1.5.0",
      "model_name": "ProgressStyleModel",
      "state": {
       "_model_module": "@jupyter-widgets/controls",
       "_model_module_version": "1.5.0",
       "_model_name": "ProgressStyleModel",
       "_view_count": null,
       "_view_module": "@jupyter-widgets/base",
       "_view_module_version": "1.2.0",
       "_view_name": "StyleView",
       "bar_color": null,
       "description_width": ""
      }
     },
     "52b87b1eefee4bf1b08f68e21a48f40e": {
      "model_module": "@jupyter-widgets/base",
      "model_module_version": "1.2.0",
      "model_name": "LayoutModel",
      "state": {
       "_model_module": "@jupyter-widgets/base",
       "_model_module_version": "1.2.0",
       "_model_name": "LayoutModel",
       "_view_count": null,
       "_view_module": "@jupyter-widgets/base",
       "_view_module_version": "1.2.0",
       "_view_name": "LayoutView",
       "align_content": null,
       "align_items": null,
       "align_self": null,
       "border": null,
       "bottom": null,
       "display": null,
       "flex": null,
       "flex_flow": null,
       "grid_area": null,
       "grid_auto_columns": null,
       "grid_auto_flow": null,
       "grid_auto_rows": null,
       "grid_column": null,
       "grid_gap": null,
       "grid_row": null,
       "grid_template_areas": null,
       "grid_template_columns": null,
       "grid_template_rows": null,
       "height": null,
       "justify_content": null,
       "justify_items": null,
       "left": null,
       "margin": null,
       "max_height": null,
       "max_width": null,
       "min_height": null,
       "min_width": null,
       "object_fit": null,
       "object_position": null,
       "order": null,
       "overflow": null,
       "overflow_x": null,
       "overflow_y": null,
       "padding": null,
       "right": null,
       "top": null,
       "visibility": null,
       "width": null
      }
     },
     "589a631526ca404681905c4636180e25": {
      "model_module": "@jupyter-widgets/base",
      "model_module_version": "1.2.0",
      "model_name": "LayoutModel",
      "state": {
       "_model_module": "@jupyter-widgets/base",
       "_model_module_version": "1.2.0",
       "_model_name": "LayoutModel",
       "_view_count": null,
       "_view_module": "@jupyter-widgets/base",
       "_view_module_version": "1.2.0",
       "_view_name": "LayoutView",
       "align_content": null,
       "align_items": null,
       "align_self": null,
       "border": null,
       "bottom": null,
       "display": null,
       "flex": null,
       "flex_flow": null,
       "grid_area": null,
       "grid_auto_columns": null,
       "grid_auto_flow": null,
       "grid_auto_rows": null,
       "grid_column": null,
       "grid_gap": null,
       "grid_row": null,
       "grid_template_areas": null,
       "grid_template_columns": null,
       "grid_template_rows": null,
       "height": null,
       "justify_content": null,
       "justify_items": null,
       "left": null,
       "margin": null,
       "max_height": null,
       "max_width": null,
       "min_height": null,
       "min_width": null,
       "object_fit": null,
       "object_position": null,
       "order": null,
       "overflow": null,
       "overflow_x": null,
       "overflow_y": null,
       "padding": null,
       "right": null,
       "top": null,
       "visibility": null,
       "width": null
      }
     },
     "61b73487b08c4a03a252cda2fdcb8d45": {
      "model_module": "@jupyter-widgets/controls",
      "model_module_version": "1.5.0",
      "model_name": "FloatProgressModel",
      "state": {
       "_dom_classes": [],
       "_model_module": "@jupyter-widgets/controls",
       "_model_module_version": "1.5.0",
       "_model_name": "FloatProgressModel",
       "_view_count": null,
       "_view_module": "@jupyter-widgets/controls",
       "_view_module_version": "1.5.0",
       "_view_name": "ProgressView",
       "bar_style": "success",
       "description": "",
       "description_tooltip": null,
       "layout": "IPY_MODEL_3baf1a63c8a84a658ec56b27c0990b6c",
       "max": 456318.0,
       "min": 0.0,
       "orientation": "horizontal",
       "style": "IPY_MODEL_512590d91f864b9db767d12475afb935",
       "value": 456318.0
      }
     },
     "6edce5d11b0c4cf995fc0a15982f3f84": {
      "model_module": "@jupyter-widgets/controls",
      "model_module_version": "1.5.0",
      "model_name": "DescriptionStyleModel",
      "state": {
       "_model_module": "@jupyter-widgets/controls",
       "_model_module_version": "1.5.0",
       "_model_name": "DescriptionStyleModel",
       "_view_count": null,
       "_view_module": "@jupyter-widgets/base",
       "_view_module_version": "1.2.0",
       "_view_name": "StyleView",
       "description_width": ""
      }
     },
     "714c1f8728184c48a31f712a7b1bf6a6": {
      "model_module": "@jupyter-widgets/controls",
      "model_module_version": "1.5.0",
      "model_name": "HTMLModel",
      "state": {
       "_dom_classes": [],
       "_model_module": "@jupyter-widgets/controls",
       "_model_module_version": "1.5.0",
       "_model_name": "HTMLModel",
       "_view_count": null,
       "_view_module": "@jupyter-widgets/controls",
       "_view_module_version": "1.5.0",
       "_view_name": "HTMLView",
       "description": "",
       "description_tooltip": null,
       "layout": "IPY_MODEL_810308efc168423aa3a03a09f65f8cf6",
       "placeholder": "​",
       "style": "IPY_MODEL_6edce5d11b0c4cf995fc0a15982f3f84",
       "value": " 899k/899k [00:00&lt;00:00, 8.71MB/s]"
      }
     },
     "731362ca9921491fa48dc7f4ed954404": {
      "model_module": "@jupyter-widgets/controls",
      "model_module_version": "1.5.0",
      "model_name": "HTMLModel",
      "state": {
       "_dom_classes": [],
       "_model_module": "@jupyter-widgets/controls",
       "_model_module_version": "1.5.0",
       "_model_name": "HTMLModel",
       "_view_count": null,
       "_view_module": "@jupyter-widgets/controls",
       "_view_module_version": "1.5.0",
       "_view_name": "HTMLView",
       "description": "",
       "description_tooltip": null,
       "layout": "IPY_MODEL_11fc006909cf46758c81e65e00489b1f",
       "placeholder": "​",
       "style": "IPY_MODEL_7d2e01f6d486479484183f390707223d",
       "value": " 456k/456k [00:00&lt;00:00, 2.30MB/s]"
      }
     },
     "779783ba05f84ddc8aa7cb9d8ebcf0b1": {
      "model_module": "@jupyter-widgets/base",
      "model_module_version": "1.2.0",
      "model_name": "LayoutModel",
      "state": {
       "_model_module": "@jupyter-widgets/base",
       "_model_module_version": "1.2.0",
       "_model_name": "LayoutModel",
       "_view_count": null,
       "_view_module": "@jupyter-widgets/base",
       "_view_module_version": "1.2.0",
       "_view_name": "LayoutView",
       "align_content": null,
       "align_items": null,
       "align_self": null,
       "border": null,
       "bottom": null,
       "display": null,
       "flex": null,
       "flex_flow": null,
       "grid_area": null,
       "grid_auto_columns": null,
       "grid_auto_flow": null,
       "grid_auto_rows": null,
       "grid_column": null,
       "grid_gap": null,
       "grid_row": null,
       "grid_template_areas": null,
       "grid_template_columns": null,
       "grid_template_rows": null,
       "height": null,
       "justify_content": null,
       "justify_items": null,
       "left": null,
       "margin": null,
       "max_height": null,
       "max_width": null,
       "min_height": null,
       "min_width": null,
       "object_fit": null,
       "object_position": null,
       "order": null,
       "overflow": null,
       "overflow_x": null,
       "overflow_y": null,
       "padding": null,
       "right": null,
       "top": null,
       "visibility": null,
       "width": null
      }
     },
     "7923ced7728943649e846c5b0fd51947": {
      "model_module": "@jupyter-widgets/base",
      "model_module_version": "1.2.0",
      "model_name": "LayoutModel",
      "state": {
       "_model_module": "@jupyter-widgets/base",
       "_model_module_version": "1.2.0",
       "_model_name": "LayoutModel",
       "_view_count": null,
       "_view_module": "@jupyter-widgets/base",
       "_view_module_version": "1.2.0",
       "_view_name": "LayoutView",
       "align_content": null,
       "align_items": null,
       "align_self": null,
       "border": null,
       "bottom": null,
       "display": null,
       "flex": null,
       "flex_flow": null,
       "grid_area": null,
       "grid_auto_columns": null,
       "grid_auto_flow": null,
       "grid_auto_rows": null,
       "grid_column": null,
       "grid_gap": null,
       "grid_row": null,
       "grid_template_areas": null,
       "grid_template_columns": null,
       "grid_template_rows": null,
       "height": null,
       "justify_content": null,
       "justify_items": null,
       "left": null,
       "margin": null,
       "max_height": null,
       "max_width": null,
       "min_height": null,
       "min_width": null,
       "object_fit": null,
       "object_position": null,
       "order": null,
       "overflow": null,
       "overflow_x": null,
       "overflow_y": null,
       "padding": null,
       "right": null,
       "top": null,
       "visibility": null,
       "width": null
      }
     },
     "7d2e01f6d486479484183f390707223d": {
      "model_module": "@jupyter-widgets/controls",
      "model_module_version": "1.5.0",
      "model_name": "DescriptionStyleModel",
      "state": {
       "_model_module": "@jupyter-widgets/controls",
       "_model_module_version": "1.5.0",
       "_model_name": "DescriptionStyleModel",
       "_view_count": null,
       "_view_module": "@jupyter-widgets/base",
       "_view_module_version": "1.2.0",
       "_view_name": "StyleView",
       "description_width": ""
      }
     },
     "80ce9281153842429b594777ebd1b8e2": {
      "model_module": "@jupyter-widgets/controls",
      "model_module_version": "1.5.0",
      "model_name": "HTMLModel",
      "state": {
       "_dom_classes": [],
       "_model_module": "@jupyter-widgets/controls",
       "_model_module_version": "1.5.0",
       "_model_name": "HTMLModel",
       "_view_count": null,
       "_view_module": "@jupyter-widgets/controls",
       "_view_module_version": "1.5.0",
       "_view_name": "HTMLView",
       "description": "",
       "description_tooltip": null,
       "layout": "IPY_MODEL_589a631526ca404681905c4636180e25",
       "placeholder": "​",
       "style": "IPY_MODEL_1664f8e199084ac8adbed421aeb3a65b",
       "value": "Downloading (…)olve/main/merges.txt: 100%"
      }
     },
     "810308efc168423aa3a03a09f65f8cf6": {
      "model_module": "@jupyter-widgets/base",
      "model_module_version": "1.2.0",
      "model_name": "LayoutModel",
      "state": {
       "_model_module": "@jupyter-widgets/base",
       "_model_module_version": "1.2.0",
       "_model_name": "LayoutModel",
       "_view_count": null,
       "_view_module": "@jupyter-widgets/base",
       "_view_module_version": "1.2.0",
       "_view_name": "LayoutView",
       "align_content": null,
       "align_items": null,
       "align_self": null,
       "border": null,
       "bottom": null,
       "display": null,
       "flex": null,
       "flex_flow": null,
       "grid_area": null,
       "grid_auto_columns": null,
       "grid_auto_flow": null,
       "grid_auto_rows": null,
       "grid_column": null,
       "grid_gap": null,
       "grid_row": null,
       "grid_template_areas": null,
       "grid_template_columns": null,
       "grid_template_rows": null,
       "height": null,
       "justify_content": null,
       "justify_items": null,
       "left": null,
       "margin": null,
       "max_height": null,
       "max_width": null,
       "min_height": null,
       "min_width": null,
       "object_fit": null,
       "object_position": null,
       "order": null,
       "overflow": null,
       "overflow_x": null,
       "overflow_y": null,
       "padding": null,
       "right": null,
       "top": null,
       "visibility": null,
       "width": null
      }
     },
     "8114d0faf0834c9f94e1ffededbe87c8": {
      "model_module": "@jupyter-widgets/base",
      "model_module_version": "1.2.0",
      "model_name": "LayoutModel",
      "state": {
       "_model_module": "@jupyter-widgets/base",
       "_model_module_version": "1.2.0",
       "_model_name": "LayoutModel",
       "_view_count": null,
       "_view_module": "@jupyter-widgets/base",
       "_view_module_version": "1.2.0",
       "_view_name": "LayoutView",
       "align_content": null,
       "align_items": null,
       "align_self": null,
       "border": null,
       "bottom": null,
       "display": null,
       "flex": null,
       "flex_flow": null,
       "grid_area": null,
       "grid_auto_columns": null,
       "grid_auto_flow": null,
       "grid_auto_rows": null,
       "grid_column": null,
       "grid_gap": null,
       "grid_row": null,
       "grid_template_areas": null,
       "grid_template_columns": null,
       "grid_template_rows": null,
       "height": null,
       "justify_content": null,
       "justify_items": null,
       "left": null,
       "margin": null,
       "max_height": null,
       "max_width": null,
       "min_height": null,
       "min_width": null,
       "object_fit": null,
       "object_position": null,
       "order": null,
       "overflow": null,
       "overflow_x": null,
       "overflow_y": null,
       "padding": null,
       "right": null,
       "top": null,
       "visibility": null,
       "width": null
      }
     },
     "85205a4a2d674b6aa5501e0bbc091b8a": {
      "model_module": "@jupyter-widgets/base",
      "model_module_version": "1.2.0",
      "model_name": "LayoutModel",
      "state": {
       "_model_module": "@jupyter-widgets/base",
       "_model_module_version": "1.2.0",
       "_model_name": "LayoutModel",
       "_view_count": null,
       "_view_module": "@jupyter-widgets/base",
       "_view_module_version": "1.2.0",
       "_view_name": "LayoutView",
       "align_content": null,
       "align_items": null,
       "align_self": null,
       "border": null,
       "bottom": null,
       "display": null,
       "flex": null,
       "flex_flow": null,
       "grid_area": null,
       "grid_auto_columns": null,
       "grid_auto_flow": null,
       "grid_auto_rows": null,
       "grid_column": null,
       "grid_gap": null,
       "grid_row": null,
       "grid_template_areas": null,
       "grid_template_columns": null,
       "grid_template_rows": null,
       "height": null,
       "justify_content": null,
       "justify_items": null,
       "left": null,
       "margin": null,
       "max_height": null,
       "max_width": null,
       "min_height": null,
       "min_width": null,
       "object_fit": null,
       "object_position": null,
       "order": null,
       "overflow": null,
       "overflow_x": null,
       "overflow_y": null,
       "padding": null,
       "right": null,
       "top": null,
       "visibility": null,
       "width": null
      }
     },
     "8873d4d232404dd98d6b741e887df091": {
      "model_module": "@jupyter-widgets/base",
      "model_module_version": "1.2.0",
      "model_name": "LayoutModel",
      "state": {
       "_model_module": "@jupyter-widgets/base",
       "_model_module_version": "1.2.0",
       "_model_name": "LayoutModel",
       "_view_count": null,
       "_view_module": "@jupyter-widgets/base",
       "_view_module_version": "1.2.0",
       "_view_name": "LayoutView",
       "align_content": null,
       "align_items": null,
       "align_self": null,
       "border": null,
       "bottom": null,
       "display": null,
       "flex": null,
       "flex_flow": null,
       "grid_area": null,
       "grid_auto_columns": null,
       "grid_auto_flow": null,
       "grid_auto_rows": null,
       "grid_column": null,
       "grid_gap": null,
       "grid_row": null,
       "grid_template_areas": null,
       "grid_template_columns": null,
       "grid_template_rows": null,
       "height": null,
       "justify_content": null,
       "justify_items": null,
       "left": null,
       "margin": null,
       "max_height": null,
       "max_width": null,
       "min_height": null,
       "min_width": null,
       "object_fit": null,
       "object_position": null,
       "order": null,
       "overflow": null,
       "overflow_x": null,
       "overflow_y": null,
       "padding": null,
       "right": null,
       "top": null,
       "visibility": null,
       "width": null
      }
     },
     "9a796a264091446996356eddc816ff7f": {
      "model_module": "@jupyter-widgets/base",
      "model_module_version": "1.2.0",
      "model_name": "LayoutModel",
      "state": {
       "_model_module": "@jupyter-widgets/base",
       "_model_module_version": "1.2.0",
       "_model_name": "LayoutModel",
       "_view_count": null,
       "_view_module": "@jupyter-widgets/base",
       "_view_module_version": "1.2.0",
       "_view_name": "LayoutView",
       "align_content": null,
       "align_items": null,
       "align_self": null,
       "border": null,
       "bottom": null,
       "display": null,
       "flex": null,
       "flex_flow": null,
       "grid_area": null,
       "grid_auto_columns": null,
       "grid_auto_flow": null,
       "grid_auto_rows": null,
       "grid_column": null,
       "grid_gap": null,
       "grid_row": null,
       "grid_template_areas": null,
       "grid_template_columns": null,
       "grid_template_rows": null,
       "height": null,
       "justify_content": null,
       "justify_items": null,
       "left": null,
       "margin": null,
       "max_height": null,
       "max_width": null,
       "min_height": null,
       "min_width": null,
       "object_fit": null,
       "object_position": null,
       "order": null,
       "overflow": null,
       "overflow_x": null,
       "overflow_y": null,
       "padding": null,
       "right": null,
       "top": null,
       "visibility": null,
       "width": null
      }
     },
     "9c32898f4b074314b865be05653781a9": {
      "model_module": "@jupyter-widgets/controls",
      "model_module_version": "1.5.0",
      "model_name": "HBoxModel",
      "state": {
       "_dom_classes": [],
       "_model_module": "@jupyter-widgets/controls",
       "_model_module_version": "1.5.0",
       "_model_name": "HBoxModel",
       "_view_count": null,
       "_view_module": "@jupyter-widgets/controls",
       "_view_module_version": "1.5.0",
       "_view_name": "HBoxView",
       "box_style": "",
       "children": [
        "IPY_MODEL_1e6149ec7a5e44e9892c8e5171049fe4",
        "IPY_MODEL_a7bfcdfbd012406e85727216936580c2",
        "IPY_MODEL_0464681603254b2f840dc29eabcda20e"
       ],
       "layout": "IPY_MODEL_2c887b7a74f1424b94d86929d2a4bd7b"
      }
     },
     "a23313b234c24a1184da2e6d73adc0fc": {
      "model_module": "@jupyter-widgets/controls",
      "model_module_version": "1.5.0",
      "model_name": "DescriptionStyleModel",
      "state": {
       "_model_module": "@jupyter-widgets/controls",
       "_model_module_version": "1.5.0",
       "_model_name": "DescriptionStyleModel",
       "_view_count": null,
       "_view_module": "@jupyter-widgets/base",
       "_view_module_version": "1.2.0",
       "_view_name": "StyleView",
       "description_width": ""
      }
     },
     "a5271c03da2c4d448542b5fae83fd8a4": {
      "model_module": "@jupyter-widgets/controls",
      "model_module_version": "1.5.0",
      "model_name": "ProgressStyleModel",
      "state": {
       "_model_module": "@jupyter-widgets/controls",
       "_model_module_version": "1.5.0",
       "_model_name": "ProgressStyleModel",
       "_view_count": null,
       "_view_module": "@jupyter-widgets/base",
       "_view_module_version": "1.2.0",
       "_view_name": "StyleView",
       "bar_color": null,
       "description_width": ""
      }
     },
     "a7bfcdfbd012406e85727216936580c2": {
      "model_module": "@jupyter-widgets/controls",
      "model_module_version": "1.5.0",
      "model_name": "FloatProgressModel",
      "state": {
       "_dom_classes": [],
       "_model_module": "@jupyter-widgets/controls",
       "_model_module_version": "1.5.0",
       "_model_name": "FloatProgressModel",
       "_view_count": null,
       "_view_module": "@jupyter-widgets/controls",
       "_view_module_version": "1.5.0",
       "_view_name": "ProgressView",
       "bar_style": "success",
       "description": "",
       "description_tooltip": null,
       "layout": "IPY_MODEL_8873d4d232404dd98d6b741e887df091",
       "max": 481.0,
       "min": 0.0,
       "orientation": "horizontal",
       "style": "IPY_MODEL_baf703bd4a264b66ba46e37e8a73047b",
       "value": 481.0
      }
     },
     "baf703bd4a264b66ba46e37e8a73047b": {
      "model_module": "@jupyter-widgets/controls",
      "model_module_version": "1.5.0",
      "model_name": "ProgressStyleModel",
      "state": {
       "_model_module": "@jupyter-widgets/controls",
       "_model_module_version": "1.5.0",
       "_model_name": "ProgressStyleModel",
       "_view_count": null,
       "_view_module": "@jupyter-widgets/base",
       "_view_module_version": "1.2.0",
       "_view_name": "StyleView",
       "bar_color": null,
       "description_width": ""
      }
     },
     "caee9eefba5f44f3b9678547902246f3": {
      "model_module": "@jupyter-widgets/base",
      "model_module_version": "1.2.0",
      "model_name": "LayoutModel",
      "state": {
       "_model_module": "@jupyter-widgets/base",
       "_model_module_version": "1.2.0",
       "_model_name": "LayoutModel",
       "_view_count": null,
       "_view_module": "@jupyter-widgets/base",
       "_view_module_version": "1.2.0",
       "_view_name": "LayoutView",
       "align_content": null,
       "align_items": null,
       "align_self": null,
       "border": null,
       "bottom": null,
       "display": null,
       "flex": null,
       "flex_flow": null,
       "grid_area": null,
       "grid_auto_columns": null,
       "grid_auto_flow": null,
       "grid_auto_rows": null,
       "grid_column": null,
       "grid_gap": null,
       "grid_row": null,
       "grid_template_areas": null,
       "grid_template_columns": null,
       "grid_template_rows": null,
       "height": null,
       "justify_content": null,
       "justify_items": null,
       "left": null,
       "margin": null,
       "max_height": null,
       "max_width": null,
       "min_height": null,
       "min_width": null,
       "object_fit": null,
       "object_position": null,
       "order": null,
       "overflow": null,
       "overflow_x": null,
       "overflow_y": null,
       "padding": null,
       "right": null,
       "top": null,
       "visibility": null,
       "width": null
      }
     },
     "cb3facb2edf34ea0bd31a86c461b9e05": {
      "model_module": "@jupyter-widgets/controls",
      "model_module_version": "1.5.0",
      "model_name": "FloatProgressModel",
      "state": {
       "_dom_classes": [],
       "_model_module": "@jupyter-widgets/controls",
       "_model_module_version": "1.5.0",
       "_model_name": "FloatProgressModel",
       "_view_count": null,
       "_view_module": "@jupyter-widgets/controls",
       "_view_module_version": "1.5.0",
       "_view_name": "ProgressView",
       "bar_style": "success",
       "description": "",
       "description_tooltip": null,
       "layout": "IPY_MODEL_52b87b1eefee4bf1b08f68e21a48f40e",
       "max": 898823.0,
       "min": 0.0,
       "orientation": "horizontal",
       "style": "IPY_MODEL_a5271c03da2c4d448542b5fae83fd8a4",
       "value": 898823.0
      }
     },
     "d2904f59c5604c108b34604182b8372d": {
      "model_module": "@jupyter-widgets/base",
      "model_module_version": "1.2.0",
      "model_name": "LayoutModel",
      "state": {
       "_model_module": "@jupyter-widgets/base",
       "_model_module_version": "1.2.0",
       "_model_name": "LayoutModel",
       "_view_count": null,
       "_view_module": "@jupyter-widgets/base",
       "_view_module_version": "1.2.0",
       "_view_name": "LayoutView",
       "align_content": null,
       "align_items": null,
       "align_self": null,
       "border": null,
       "bottom": null,
       "display": null,
       "flex": null,
       "flex_flow": null,
       "grid_area": null,
       "grid_auto_columns": null,
       "grid_auto_flow": null,
       "grid_auto_rows": null,
       "grid_column": null,
       "grid_gap": null,
       "grid_row": null,
       "grid_template_areas": null,
       "grid_template_columns": null,
       "grid_template_rows": null,
       "height": null,
       "justify_content": null,
       "justify_items": null,
       "left": null,
       "margin": null,
       "max_height": null,
       "max_width": null,
       "min_height": null,
       "min_width": null,
       "object_fit": null,
       "object_position": null,
       "order": null,
       "overflow": null,
       "overflow_x": null,
       "overflow_y": null,
       "padding": null,
       "right": null,
       "top": null,
       "visibility": null,
       "width": null
      }
     },
     "e3daeeb8d26746229175b94b97e1afcb": {
      "model_module": "@jupyter-widgets/base",
      "model_module_version": "1.2.0",
      "model_name": "LayoutModel",
      "state": {
       "_model_module": "@jupyter-widgets/base",
       "_model_module_version": "1.2.0",
       "_model_name": "LayoutModel",
       "_view_count": null,
       "_view_module": "@jupyter-widgets/base",
       "_view_module_version": "1.2.0",
       "_view_name": "LayoutView",
       "align_content": null,
       "align_items": null,
       "align_self": null,
       "border": null,
       "bottom": null,
       "display": null,
       "flex": null,
       "flex_flow": null,
       "grid_area": null,
       "grid_auto_columns": null,
       "grid_auto_flow": null,
       "grid_auto_rows": null,
       "grid_column": null,
       "grid_gap": null,
       "grid_row": null,
       "grid_template_areas": null,
       "grid_template_columns": null,
       "grid_template_rows": null,
       "height": null,
       "justify_content": null,
       "justify_items": null,
       "left": null,
       "margin": null,
       "max_height": null,
       "max_width": null,
       "min_height": null,
       "min_width": null,
       "object_fit": null,
       "object_position": null,
       "order": null,
       "overflow": null,
       "overflow_x": null,
       "overflow_y": null,
       "padding": null,
       "right": null,
       "top": null,
       "visibility": null,
       "width": null
      }
     },
     "e9312c8c55984cc2a2e49cc11d4dd06a": {
      "model_module": "@jupyter-widgets/controls",
      "model_module_version": "1.5.0",
      "model_name": "HTMLModel",
      "state": {
       "_dom_classes": [],
       "_model_module": "@jupyter-widgets/controls",
       "_model_module_version": "1.5.0",
       "_model_name": "HTMLModel",
       "_view_count": null,
       "_view_module": "@jupyter-widgets/controls",
       "_view_module_version": "1.5.0",
       "_view_name": "HTMLView",
       "description": "",
       "description_tooltip": null,
       "layout": "IPY_MODEL_779783ba05f84ddc8aa7cb9d8ebcf0b1",
       "placeholder": "​",
       "style": "IPY_MODEL_ff10e6c3a2e441e3bfa086202a5acb6a",
       "value": "Downloading (…)olve/main/vocab.json: 100%"
      }
     },
     "f562e4990e2d44ca839e23cfc26e380a": {
      "model_module": "@jupyter-widgets/base",
      "model_module_version": "1.2.0",
      "model_name": "LayoutModel",
      "state": {
       "_model_module": "@jupyter-widgets/base",
       "_model_module_version": "1.2.0",
       "_model_name": "LayoutModel",
       "_view_count": null,
       "_view_module": "@jupyter-widgets/base",
       "_view_module_version": "1.2.0",
       "_view_name": "LayoutView",
       "align_content": null,
       "align_items": null,
       "align_self": null,
       "border": null,
       "bottom": null,
       "display": null,
       "flex": null,
       "flex_flow": null,
       "grid_area": null,
       "grid_auto_columns": null,
       "grid_auto_flow": null,
       "grid_auto_rows": null,
       "grid_column": null,
       "grid_gap": null,
       "grid_row": null,
       "grid_template_areas": null,
       "grid_template_columns": null,
       "grid_template_rows": null,
       "height": null,
       "justify_content": null,
       "justify_items": null,
       "left": null,
       "margin": null,
       "max_height": null,
       "max_width": null,
       "min_height": null,
       "min_width": null,
       "object_fit": null,
       "object_position": null,
       "order": null,
       "overflow": null,
       "overflow_x": null,
       "overflow_y": null,
       "padding": null,
       "right": null,
       "top": null,
       "visibility": null,
       "width": null
      }
     },
     "f98ebec60ec64c3d91d2cd2fad0f5832": {
      "model_module": "@jupyter-widgets/controls",
      "model_module_version": "1.5.0",
      "model_name": "HTMLModel",
      "state": {
       "_dom_classes": [],
       "_model_module": "@jupyter-widgets/controls",
       "_model_module_version": "1.5.0",
       "_model_name": "HTMLModel",
       "_view_count": null,
       "_view_module": "@jupyter-widgets/controls",
       "_view_module_version": "1.5.0",
       "_view_name": "HTMLView",
       "description": "",
       "description_tooltip": null,
       "layout": "IPY_MODEL_9a796a264091446996356eddc816ff7f",
       "placeholder": "​",
       "style": "IPY_MODEL_a23313b234c24a1184da2e6d73adc0fc",
       "value": " 501M/501M [00:02&lt;00:00, 255MB/s]"
      }
     },
     "f9a130b5bdb44227a6aab828c7d5f560": {
      "model_module": "@jupyter-widgets/controls",
      "model_module_version": "1.5.0",
      "model_name": "HBoxModel",
      "state": {
       "_dom_classes": [],
       "_model_module": "@jupyter-widgets/controls",
       "_model_module_version": "1.5.0",
       "_model_name": "HBoxModel",
       "_view_count": null,
       "_view_module": "@jupyter-widgets/controls",
       "_view_module_version": "1.5.0",
       "_view_name": "HBoxView",
       "box_style": "",
       "children": [
        "IPY_MODEL_e9312c8c55984cc2a2e49cc11d4dd06a",
        "IPY_MODEL_cb3facb2edf34ea0bd31a86c461b9e05",
        "IPY_MODEL_714c1f8728184c48a31f712a7b1bf6a6"
       ],
       "layout": "IPY_MODEL_caee9eefba5f44f3b9678547902246f3"
      }
     },
     "ff10e6c3a2e441e3bfa086202a5acb6a": {
      "model_module": "@jupyter-widgets/controls",
      "model_module_version": "1.5.0",
      "model_name": "DescriptionStyleModel",
      "state": {
       "_model_module": "@jupyter-widgets/controls",
       "_model_module_version": "1.5.0",
       "_model_name": "DescriptionStyleModel",
       "_view_count": null,
       "_view_module": "@jupyter-widgets/base",
       "_view_module_version": "1.2.0",
       "_view_name": "StyleView",
       "description_width": ""
      }
     },
     "ffe815a3b64a45f4ac3e65669ec6a346": {
      "model_module": "@jupyter-widgets/controls",
      "model_module_version": "1.5.0",
      "model_name": "DescriptionStyleModel",
      "state": {
       "_model_module": "@jupyter-widgets/controls",
       "_model_module_version": "1.5.0",
       "_model_name": "DescriptionStyleModel",
       "_view_count": null,
       "_view_module": "@jupyter-widgets/base",
       "_view_module_version": "1.2.0",
       "_view_name": "StyleView",
       "description_width": ""
      }
     }
    },
    "version_major": 2,
    "version_minor": 0
   }
  }
 },
 "nbformat": 4,
 "nbformat_minor": 5
}

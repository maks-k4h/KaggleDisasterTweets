{
 "cells": [
  {
   "cell_type": "code",
   "execution_count": 1,
   "id": "c3cdc932",
   "metadata": {
    "_cell_guid": "b1076dfc-b9ad-4769-8c92-a6c4dae69d19",
    "_uuid": "8f2839f25d086af736a60e9eeb907d3b93b6e0e5",
    "execution": {
     "iopub.execute_input": "2023-04-05T23:08:55.832437Z",
     "iopub.status.busy": "2023-04-05T23:08:55.831600Z",
     "iopub.status.idle": "2023-04-05T23:08:55.845576Z",
     "shell.execute_reply": "2023-04-05T23:08:55.844514Z"
    },
    "papermill": {
     "duration": 0.029195,
     "end_time": "2023-04-05T23:08:55.847857",
     "exception": false,
     "start_time": "2023-04-05T23:08:55.818662",
     "status": "completed"
    },
    "tags": []
   },
   "outputs": [
    {
     "name": "stdout",
     "output_type": "stream",
     "text": [
      "/kaggle/input/nlp-getting-started/sample_submission.csv\n",
      "/kaggle/input/nlp-getting-started/train.csv\n",
      "/kaggle/input/nlp-getting-started/test.csv\n"
     ]
    }
   ],
   "source": [
    "# This Python 3 environment comes with many helpful analytics libraries installed\n",
    "# It is defined by the kaggle/python Docker image: https://github.com/kaggle/docker-python\n",
    "# For example, here's several helpful packages to load\n",
    "\n",
    "import numpy as np # linear algebra\n",
    "import pandas as pd # data processing, CSV file I/O (e.g. pd.read_csv)\n",
    "\n",
    "# Input data files are available in the read-only \"../input/\" directory\n",
    "# For example, running this (by clicking run or pressing Shift+Enter) will list all files under the input directory\n",
    "\n",
    "import os\n",
    "for dirname, _, filenames in os.walk('/kaggle/input'):\n",
    "    for filename in filenames:\n",
    "        print(os.path.join(dirname, filename))\n",
    "\n",
    "# You can write up to 20GB to the current directory (/kaggle/working/) that gets preserved as output when you create a version using \"Save & Run All\" \n",
    "# You can also write temporary files to /kaggle/temp/, but they won't be saved outside of the current session"
   ]
  },
  {
   "cell_type": "code",
   "execution_count": 2,
   "id": "656575d3",
   "metadata": {
    "execution": {
     "iopub.execute_input": "2023-04-05T23:08:55.869986Z",
     "iopub.status.busy": "2023-04-05T23:08:55.869342Z",
     "iopub.status.idle": "2023-04-05T23:08:55.874203Z",
     "shell.execute_reply": "2023-04-05T23:08:55.873248Z"
    },
    "papermill": {
     "duration": 0.017936,
     "end_time": "2023-04-05T23:08:55.876256",
     "exception": false,
     "start_time": "2023-04-05T23:08:55.858320",
     "status": "completed"
    },
    "tags": []
   },
   "outputs": [],
   "source": [
    "device = 'cuda'"
   ]
  },
  {
   "cell_type": "markdown",
   "id": "bed6a21b",
   "metadata": {
    "papermill": {
     "duration": 0.009735,
     "end_time": "2023-04-05T23:08:55.897042",
     "exception": false,
     "start_time": "2023-04-05T23:08:55.887307",
     "status": "completed"
    },
    "tags": []
   },
   "source": [
    "## Exploring the data"
   ]
  },
  {
   "cell_type": "code",
   "execution_count": 3,
   "id": "99cc70d8",
   "metadata": {
    "execution": {
     "iopub.execute_input": "2023-04-05T23:08:55.918643Z",
     "iopub.status.busy": "2023-04-05T23:08:55.917720Z",
     "iopub.status.idle": "2023-04-05T23:08:55.922810Z",
     "shell.execute_reply": "2023-04-05T23:08:55.921899Z"
    },
    "papermill": {
     "duration": 0.017952,
     "end_time": "2023-04-05T23:08:55.924821",
     "exception": false,
     "start_time": "2023-04-05T23:08:55.906869",
     "status": "completed"
    },
    "tags": []
   },
   "outputs": [],
   "source": [
    "import pandas as pd"
   ]
  },
  {
   "cell_type": "code",
   "execution_count": 4,
   "id": "4b2a9d59",
   "metadata": {
    "execution": {
     "iopub.execute_input": "2023-04-05T23:08:55.945752Z",
     "iopub.status.busy": "2023-04-05T23:08:55.945473Z",
     "iopub.status.idle": "2023-04-05T23:08:56.020621Z",
     "shell.execute_reply": "2023-04-05T23:08:56.019580Z"
    },
    "papermill": {
     "duration": 0.088543,
     "end_time": "2023-04-05T23:08:56.023275",
     "exception": false,
     "start_time": "2023-04-05T23:08:55.934732",
     "status": "completed"
    },
    "tags": []
   },
   "outputs": [],
   "source": [
    "raw_train_df = pd.read_csv('/kaggle/input/nlp-getting-started/train.csv')\n",
    "raw_test_df = pd.read_csv('/kaggle/input/nlp-getting-started/test.csv')"
   ]
  },
  {
   "cell_type": "code",
   "execution_count": 5,
   "id": "6a753c03",
   "metadata": {
    "execution": {
     "iopub.execute_input": "2023-04-05T23:08:56.047231Z",
     "iopub.status.busy": "2023-04-05T23:08:56.045322Z",
     "iopub.status.idle": "2023-04-05T23:08:56.055374Z",
     "shell.execute_reply": "2023-04-05T23:08:56.054390Z"
    },
    "papermill": {
     "duration": 0.023817,
     "end_time": "2023-04-05T23:08:56.057590",
     "exception": false,
     "start_time": "2023-04-05T23:08:56.033773",
     "status": "completed"
    },
    "tags": []
   },
   "outputs": [
    {
     "data": {
      "text/plain": [
       "7613"
      ]
     },
     "execution_count": 5,
     "metadata": {},
     "output_type": "execute_result"
    }
   ],
   "source": [
    "len(raw_train_df)"
   ]
  },
  {
   "cell_type": "code",
   "execution_count": 6,
   "id": "7d3346bb",
   "metadata": {
    "execution": {
     "iopub.execute_input": "2023-04-05T23:08:56.079186Z",
     "iopub.status.busy": "2023-04-05T23:08:56.078850Z",
     "iopub.status.idle": "2023-04-05T23:08:56.095968Z",
     "shell.execute_reply": "2023-04-05T23:08:56.094887Z"
    },
    "papermill": {
     "duration": 0.03061,
     "end_time": "2023-04-05T23:08:56.098107",
     "exception": false,
     "start_time": "2023-04-05T23:08:56.067497",
     "status": "completed"
    },
    "tags": []
   },
   "outputs": [
    {
     "data": {
      "text/html": [
       "<div>\n",
       "<style scoped>\n",
       "    .dataframe tbody tr th:only-of-type {\n",
       "        vertical-align: middle;\n",
       "    }\n",
       "\n",
       "    .dataframe tbody tr th {\n",
       "        vertical-align: top;\n",
       "    }\n",
       "\n",
       "    .dataframe thead th {\n",
       "        text-align: right;\n",
       "    }\n",
       "</style>\n",
       "<table border=\"1\" class=\"dataframe\">\n",
       "  <thead>\n",
       "    <tr style=\"text-align: right;\">\n",
       "      <th></th>\n",
       "      <th>id</th>\n",
       "      <th>keyword</th>\n",
       "      <th>location</th>\n",
       "      <th>text</th>\n",
       "      <th>target</th>\n",
       "    </tr>\n",
       "  </thead>\n",
       "  <tbody>\n",
       "    <tr>\n",
       "      <th>0</th>\n",
       "      <td>1</td>\n",
       "      <td>NaN</td>\n",
       "      <td>NaN</td>\n",
       "      <td>Our Deeds are the Reason of this #earthquake M...</td>\n",
       "      <td>1</td>\n",
       "    </tr>\n",
       "    <tr>\n",
       "      <th>1</th>\n",
       "      <td>4</td>\n",
       "      <td>NaN</td>\n",
       "      <td>NaN</td>\n",
       "      <td>Forest fire near La Ronge Sask. Canada</td>\n",
       "      <td>1</td>\n",
       "    </tr>\n",
       "    <tr>\n",
       "      <th>2</th>\n",
       "      <td>5</td>\n",
       "      <td>NaN</td>\n",
       "      <td>NaN</td>\n",
       "      <td>All residents asked to 'shelter in place' are ...</td>\n",
       "      <td>1</td>\n",
       "    </tr>\n",
       "    <tr>\n",
       "      <th>3</th>\n",
       "      <td>6</td>\n",
       "      <td>NaN</td>\n",
       "      <td>NaN</td>\n",
       "      <td>13,000 people receive #wildfires evacuation or...</td>\n",
       "      <td>1</td>\n",
       "    </tr>\n",
       "    <tr>\n",
       "      <th>4</th>\n",
       "      <td>7</td>\n",
       "      <td>NaN</td>\n",
       "      <td>NaN</td>\n",
       "      <td>Just got sent this photo from Ruby #Alaska as ...</td>\n",
       "      <td>1</td>\n",
       "    </tr>\n",
       "  </tbody>\n",
       "</table>\n",
       "</div>"
      ],
      "text/plain": [
       "   id keyword location                                               text  \\\n",
       "0   1     NaN      NaN  Our Deeds are the Reason of this #earthquake M...   \n",
       "1   4     NaN      NaN             Forest fire near La Ronge Sask. Canada   \n",
       "2   5     NaN      NaN  All residents asked to 'shelter in place' are ...   \n",
       "3   6     NaN      NaN  13,000 people receive #wildfires evacuation or...   \n",
       "4   7     NaN      NaN  Just got sent this photo from Ruby #Alaska as ...   \n",
       "\n",
       "   target  \n",
       "0       1  \n",
       "1       1  \n",
       "2       1  \n",
       "3       1  \n",
       "4       1  "
      ]
     },
     "execution_count": 6,
     "metadata": {},
     "output_type": "execute_result"
    }
   ],
   "source": [
    "raw_train_df.head()"
   ]
  },
  {
   "cell_type": "code",
   "execution_count": 7,
   "id": "aae37504",
   "metadata": {
    "execution": {
     "iopub.execute_input": "2023-04-05T23:08:56.121182Z",
     "iopub.status.busy": "2023-04-05T23:08:56.120209Z",
     "iopub.status.idle": "2023-04-05T23:08:56.131921Z",
     "shell.execute_reply": "2023-04-05T23:08:56.130885Z"
    },
    "papermill": {
     "duration": 0.025818,
     "end_time": "2023-04-05T23:08:56.134190",
     "exception": false,
     "start_time": "2023-04-05T23:08:56.108372",
     "status": "completed"
    },
    "tags": []
   },
   "outputs": [
    {
     "data": {
      "text/html": [
       "<div>\n",
       "<style scoped>\n",
       "    .dataframe tbody tr th:only-of-type {\n",
       "        vertical-align: middle;\n",
       "    }\n",
       "\n",
       "    .dataframe tbody tr th {\n",
       "        vertical-align: top;\n",
       "    }\n",
       "\n",
       "    .dataframe thead th {\n",
       "        text-align: right;\n",
       "    }\n",
       "</style>\n",
       "<table border=\"1\" class=\"dataframe\">\n",
       "  <thead>\n",
       "    <tr style=\"text-align: right;\">\n",
       "      <th></th>\n",
       "      <th>id</th>\n",
       "      <th>keyword</th>\n",
       "      <th>location</th>\n",
       "      <th>text</th>\n",
       "    </tr>\n",
       "  </thead>\n",
       "  <tbody>\n",
       "    <tr>\n",
       "      <th>0</th>\n",
       "      <td>0</td>\n",
       "      <td>NaN</td>\n",
       "      <td>NaN</td>\n",
       "      <td>Just happened a terrible car crash</td>\n",
       "    </tr>\n",
       "    <tr>\n",
       "      <th>1</th>\n",
       "      <td>2</td>\n",
       "      <td>NaN</td>\n",
       "      <td>NaN</td>\n",
       "      <td>Heard about #earthquake is different cities, s...</td>\n",
       "    </tr>\n",
       "    <tr>\n",
       "      <th>2</th>\n",
       "      <td>3</td>\n",
       "      <td>NaN</td>\n",
       "      <td>NaN</td>\n",
       "      <td>there is a forest fire at spot pond, geese are...</td>\n",
       "    </tr>\n",
       "    <tr>\n",
       "      <th>3</th>\n",
       "      <td>9</td>\n",
       "      <td>NaN</td>\n",
       "      <td>NaN</td>\n",
       "      <td>Apocalypse lighting. #Spokane #wildfires</td>\n",
       "    </tr>\n",
       "    <tr>\n",
       "      <th>4</th>\n",
       "      <td>11</td>\n",
       "      <td>NaN</td>\n",
       "      <td>NaN</td>\n",
       "      <td>Typhoon Soudelor kills 28 in China and Taiwan</td>\n",
       "    </tr>\n",
       "  </tbody>\n",
       "</table>\n",
       "</div>"
      ],
      "text/plain": [
       "   id keyword location                                               text\n",
       "0   0     NaN      NaN                 Just happened a terrible car crash\n",
       "1   2     NaN      NaN  Heard about #earthquake is different cities, s...\n",
       "2   3     NaN      NaN  there is a forest fire at spot pond, geese are...\n",
       "3   9     NaN      NaN           Apocalypse lighting. #Spokane #wildfires\n",
       "4  11     NaN      NaN      Typhoon Soudelor kills 28 in China and Taiwan"
      ]
     },
     "execution_count": 7,
     "metadata": {},
     "output_type": "execute_result"
    }
   ],
   "source": [
    "raw_test_df.head()"
   ]
  },
  {
   "cell_type": "code",
   "execution_count": 8,
   "id": "935a5128",
   "metadata": {
    "execution": {
     "iopub.execute_input": "2023-04-05T23:08:56.157000Z",
     "iopub.status.busy": "2023-04-05T23:08:56.156653Z",
     "iopub.status.idle": "2023-04-05T23:08:56.176497Z",
     "shell.execute_reply": "2023-04-05T23:08:56.175286Z"
    },
    "papermill": {
     "duration": 0.034467,
     "end_time": "2023-04-05T23:08:56.179241",
     "exception": false,
     "start_time": "2023-04-05T23:08:56.144774",
     "status": "completed"
    },
    "tags": []
   },
   "outputs": [
    {
     "data": {
      "text/html": [
       "<div>\n",
       "<style scoped>\n",
       "    .dataframe tbody tr th:only-of-type {\n",
       "        vertical-align: middle;\n",
       "    }\n",
       "\n",
       "    .dataframe tbody tr th {\n",
       "        vertical-align: top;\n",
       "    }\n",
       "\n",
       "    .dataframe thead th {\n",
       "        text-align: right;\n",
       "    }\n",
       "</style>\n",
       "<table border=\"1\" class=\"dataframe\">\n",
       "  <thead>\n",
       "    <tr style=\"text-align: right;\">\n",
       "      <th></th>\n",
       "      <th>id</th>\n",
       "      <th>keyword</th>\n",
       "      <th>location</th>\n",
       "      <th>text</th>\n",
       "      <th>target</th>\n",
       "    </tr>\n",
       "  </thead>\n",
       "  <tbody>\n",
       "    <tr>\n",
       "      <th>4290</th>\n",
       "      <td>6094</td>\n",
       "      <td>hellfire</td>\n",
       "      <td>Jubail IC, Saudi Arabia.</td>\n",
       "      <td>#Allah describes piling up #wealth thinking it...</td>\n",
       "      <td>0</td>\n",
       "    </tr>\n",
       "    <tr>\n",
       "      <th>4299</th>\n",
       "      <td>6105</td>\n",
       "      <td>hellfire</td>\n",
       "      <td>?????? ??? ?????? ????????</td>\n",
       "      <td>#Allah describes piling up #wealth thinking it...</td>\n",
       "      <td>0</td>\n",
       "    </tr>\n",
       "    <tr>\n",
       "      <th>4312</th>\n",
       "      <td>6123</td>\n",
       "      <td>hellfire</td>\n",
       "      <td>?????? ???? ??????</td>\n",
       "      <td>#Allah describes piling up #wealth thinking it...</td>\n",
       "      <td>1</td>\n",
       "    </tr>\n",
       "    <tr>\n",
       "      <th>6363</th>\n",
       "      <td>9095</td>\n",
       "      <td>suicide%20bomb</td>\n",
       "      <td>Nigeria</td>\n",
       "      <td>#Bestnaijamade: 16yr old PKK suicide bomber wh...</td>\n",
       "      <td>1</td>\n",
       "    </tr>\n",
       "    <tr>\n",
       "      <th>6373</th>\n",
       "      <td>9107</td>\n",
       "      <td>suicide%20bomb</td>\n",
       "      <td>Nigeria</td>\n",
       "      <td>#Bestnaijamade: 16yr old PKK suicide bomber wh...</td>\n",
       "      <td>1</td>\n",
       "    </tr>\n",
       "  </tbody>\n",
       "</table>\n",
       "</div>"
      ],
      "text/plain": [
       "        id         keyword                    location  \\\n",
       "4290  6094        hellfire    Jubail IC, Saudi Arabia.   \n",
       "4299  6105        hellfire  ?????? ??? ?????? ????????   \n",
       "4312  6123        hellfire          ?????? ???? ??????   \n",
       "6363  9095  suicide%20bomb                     Nigeria   \n",
       "6373  9107  suicide%20bomb                     Nigeria   \n",
       "\n",
       "                                                   text  target  \n",
       "4290  #Allah describes piling up #wealth thinking it...       0  \n",
       "4299  #Allah describes piling up #wealth thinking it...       0  \n",
       "4312  #Allah describes piling up #wealth thinking it...       1  \n",
       "6363  #Bestnaijamade: 16yr old PKK suicide bomber wh...       1  \n",
       "6373  #Bestnaijamade: 16yr old PKK suicide bomber wh...       1  "
      ]
     },
     "execution_count": 8,
     "metadata": {},
     "output_type": "execute_result"
    }
   ],
   "source": [
    "duplicates_df = raw_train_df[raw_train_df.text.duplicated(keep=False)].sort_values('text')\n",
    "duplicates_df.head()"
   ]
  },
  {
   "cell_type": "markdown",
   "id": "bac54f1c",
   "metadata": {
    "papermill": {
     "duration": 0.01054,
     "end_time": "2023-04-05T23:08:56.200914",
     "exception": false,
     "start_time": "2023-04-05T23:08:56.190374",
     "status": "completed"
    },
    "tags": []
   },
   "source": [
    "## Clean the data"
   ]
  },
  {
   "cell_type": "markdown",
   "id": "18e46181",
   "metadata": {
    "papermill": {
     "duration": 0.010595,
     "end_time": "2023-04-05T23:08:56.222662",
     "exception": false,
     "start_time": "2023-04-05T23:08:56.212067",
     "status": "completed"
    },
    "tags": []
   },
   "source": [
    "As we've seen, there are dosens of duplicated tweets. Moreover, their labes are sometimes contradictory."
   ]
  },
  {
   "cell_type": "code",
   "execution_count": 9,
   "id": "0d0215c7",
   "metadata": {
    "execution": {
     "iopub.execute_input": "2023-04-05T23:08:56.246759Z",
     "iopub.status.busy": "2023-04-05T23:08:56.245685Z",
     "iopub.status.idle": "2023-04-05T23:08:56.259964Z",
     "shell.execute_reply": "2023-04-05T23:08:56.258903Z"
    },
    "papermill": {
     "duration": 0.028693,
     "end_time": "2023-04-05T23:08:56.262085",
     "exception": false,
     "start_time": "2023-04-05T23:08:56.233392",
     "status": "completed"
    },
    "tags": []
   },
   "outputs": [
    {
     "data": {
      "text/html": [
       "<div>\n",
       "<style scoped>\n",
       "    .dataframe tbody tr th:only-of-type {\n",
       "        vertical-align: middle;\n",
       "    }\n",
       "\n",
       "    .dataframe tbody tr th {\n",
       "        vertical-align: top;\n",
       "    }\n",
       "\n",
       "    .dataframe thead th {\n",
       "        text-align: right;\n",
       "    }\n",
       "</style>\n",
       "<table border=\"1\" class=\"dataframe\">\n",
       "  <thead>\n",
       "    <tr style=\"text-align: right;\">\n",
       "      <th></th>\n",
       "      <th>id</th>\n",
       "      <th>keyword</th>\n",
       "      <th>location</th>\n",
       "      <th>text</th>\n",
       "      <th>target</th>\n",
       "    </tr>\n",
       "  </thead>\n",
       "  <tbody>\n",
       "    <tr>\n",
       "      <th>4290</th>\n",
       "      <td>6094</td>\n",
       "      <td>hellfire</td>\n",
       "      <td>Jubail IC, Saudi Arabia.</td>\n",
       "      <td>#Allah describes piling up #wealth thinking it...</td>\n",
       "      <td>0</td>\n",
       "    </tr>\n",
       "    <tr>\n",
       "      <th>4299</th>\n",
       "      <td>6105</td>\n",
       "      <td>hellfire</td>\n",
       "      <td>?????? ??? ?????? ????????</td>\n",
       "      <td>#Allah describes piling up #wealth thinking it...</td>\n",
       "      <td>0</td>\n",
       "    </tr>\n",
       "    <tr>\n",
       "      <th>4312</th>\n",
       "      <td>6123</td>\n",
       "      <td>hellfire</td>\n",
       "      <td>?????? ???? ??????</td>\n",
       "      <td>#Allah describes piling up #wealth thinking it...</td>\n",
       "      <td>1</td>\n",
       "    </tr>\n",
       "    <tr>\n",
       "      <th>6363</th>\n",
       "      <td>9095</td>\n",
       "      <td>suicide%20bomb</td>\n",
       "      <td>Nigeria</td>\n",
       "      <td>#Bestnaijamade: 16yr old PKK suicide bomber wh...</td>\n",
       "      <td>1</td>\n",
       "    </tr>\n",
       "    <tr>\n",
       "      <th>6373</th>\n",
       "      <td>9107</td>\n",
       "      <td>suicide%20bomb</td>\n",
       "      <td>Nigeria</td>\n",
       "      <td>#Bestnaijamade: 16yr old PKK suicide bomber wh...</td>\n",
       "      <td>1</td>\n",
       "    </tr>\n",
       "    <tr>\n",
       "      <th>6377</th>\n",
       "      <td>9113</td>\n",
       "      <td>suicide%20bomb</td>\n",
       "      <td>Nigeria</td>\n",
       "      <td>#Bestnaijamade: 16yr old PKK suicide bomber wh...</td>\n",
       "      <td>1</td>\n",
       "    </tr>\n",
       "    <tr>\n",
       "      <th>6378</th>\n",
       "      <td>9114</td>\n",
       "      <td>suicide%20bomb</td>\n",
       "      <td>Nigeria</td>\n",
       "      <td>#Bestnaijamade: 16yr old PKK suicide bomber wh...</td>\n",
       "      <td>1</td>\n",
       "    </tr>\n",
       "    <tr>\n",
       "      <th>6392</th>\n",
       "      <td>9135</td>\n",
       "      <td>suicide%20bomb</td>\n",
       "      <td>Nigeria</td>\n",
       "      <td>#Bestnaijamade: 16yr old PKK suicide bomber wh...</td>\n",
       "      <td>1</td>\n",
       "    </tr>\n",
       "    <tr>\n",
       "      <th>6366</th>\n",
       "      <td>9098</td>\n",
       "      <td>suicide%20bomb</td>\n",
       "      <td>Nigeria</td>\n",
       "      <td>#Bestnaijamade: 16yr old PKK suicide bomber wh...</td>\n",
       "      <td>1</td>\n",
       "    </tr>\n",
       "    <tr>\n",
       "      <th>2828</th>\n",
       "      <td>4064</td>\n",
       "      <td>displaced</td>\n",
       "      <td>NaN</td>\n",
       "      <td>#KCA #VoteJKT48ID 12News: UPDATE: A family of ...</td>\n",
       "      <td>1</td>\n",
       "    </tr>\n",
       "    <tr>\n",
       "      <th>2822</th>\n",
       "      <td>4057</td>\n",
       "      <td>displaced</td>\n",
       "      <td>NaN</td>\n",
       "      <td>#KCA #VoteJKT48ID 12News: UPDATE: A family of ...</td>\n",
       "      <td>1</td>\n",
       "    </tr>\n",
       "    <tr>\n",
       "      <th>2816</th>\n",
       "      <td>4049</td>\n",
       "      <td>displaced</td>\n",
       "      <td>Pedophile hunting ground</td>\n",
       "      <td>#Myanmar  Displaced #Rohingya at #Sittwe point...</td>\n",
       "      <td>1</td>\n",
       "    </tr>\n",
       "    <tr>\n",
       "      <th>2841</th>\n",
       "      <td>4086</td>\n",
       "      <td>displaced</td>\n",
       "      <td>Pedophile hunting ground</td>\n",
       "      <td>#Myanmar  Displaced #Rohingya at #Sittwe point...</td>\n",
       "      <td>1</td>\n",
       "    </tr>\n",
       "    <tr>\n",
       "      <th>1704</th>\n",
       "      <td>2459</td>\n",
       "      <td>collided</td>\n",
       "      <td>Peterborough, On</td>\n",
       "      <td>#Newswatch: 2 vehicles collided at Lock and La...</td>\n",
       "      <td>1</td>\n",
       "    </tr>\n",
       "    <tr>\n",
       "      <th>1725</th>\n",
       "      <td>2488</td>\n",
       "      <td>collided</td>\n",
       "      <td>Peterborough, Ont.</td>\n",
       "      <td>#Newswatch: 2 vehicles collided at Lock and La...</td>\n",
       "      <td>1</td>\n",
       "    </tr>\n",
       "    <tr>\n",
       "      <th>3795</th>\n",
       "      <td>5387</td>\n",
       "      <td>fire%20truck</td>\n",
       "      <td>Orange County, CA</td>\n",
       "      <td>#SigAlert: North &amp;amp; Southbound 133 closed b...</td>\n",
       "      <td>1</td>\n",
       "    </tr>\n",
       "    <tr>\n",
       "      <th>3790</th>\n",
       "      <td>5382</td>\n",
       "      <td>fire%20truck</td>\n",
       "      <td>Orange County, Calif.</td>\n",
       "      <td>#SigAlert: North &amp;amp; Southbound 133 closed b...</td>\n",
       "      <td>1</td>\n",
       "    </tr>\n",
       "    <tr>\n",
       "      <th>1242</th>\n",
       "      <td>1790</td>\n",
       "      <td>buildings%20on%20fire</td>\n",
       "      <td>Scotland</td>\n",
       "      <td>#TweetLikeItsSeptember11th2001 Those two build...</td>\n",
       "      <td>1</td>\n",
       "    </tr>\n",
       "    <tr>\n",
       "      <th>1251</th>\n",
       "      <td>1807</td>\n",
       "      <td>buildings%20on%20fire</td>\n",
       "      <td>UK</td>\n",
       "      <td>#TweetLikeItsSeptember11th2001 Those two build...</td>\n",
       "      <td>1</td>\n",
       "    </tr>\n",
       "    <tr>\n",
       "      <th>4239</th>\n",
       "      <td>6023</td>\n",
       "      <td>hazardous</td>\n",
       "      <td>Mysore, Karnataka</td>\n",
       "      <td>#foodscare #offers2go #NestleIndia slips into ...</td>\n",
       "      <td>1</td>\n",
       "    </tr>\n",
       "  </tbody>\n",
       "</table>\n",
       "</div>"
      ],
      "text/plain": [
       "        id                keyword                    location  \\\n",
       "4290  6094               hellfire    Jubail IC, Saudi Arabia.   \n",
       "4299  6105               hellfire  ?????? ??? ?????? ????????   \n",
       "4312  6123               hellfire          ?????? ???? ??????   \n",
       "6363  9095         suicide%20bomb                     Nigeria   \n",
       "6373  9107         suicide%20bomb                     Nigeria   \n",
       "6377  9113         suicide%20bomb                     Nigeria   \n",
       "6378  9114         suicide%20bomb                     Nigeria   \n",
       "6392  9135         suicide%20bomb                     Nigeria   \n",
       "6366  9098         suicide%20bomb                     Nigeria   \n",
       "2828  4064              displaced                         NaN   \n",
       "2822  4057              displaced                         NaN   \n",
       "2816  4049              displaced    Pedophile hunting ground   \n",
       "2841  4086              displaced    Pedophile hunting ground   \n",
       "1704  2459               collided            Peterborough, On   \n",
       "1725  2488               collided          Peterborough, Ont.   \n",
       "3795  5387           fire%20truck           Orange County, CA   \n",
       "3790  5382           fire%20truck       Orange County, Calif.   \n",
       "1242  1790  buildings%20on%20fire                   Scotland    \n",
       "1251  1807  buildings%20on%20fire                          UK   \n",
       "4239  6023              hazardous           Mysore, Karnataka   \n",
       "\n",
       "                                                   text  target  \n",
       "4290  #Allah describes piling up #wealth thinking it...       0  \n",
       "4299  #Allah describes piling up #wealth thinking it...       0  \n",
       "4312  #Allah describes piling up #wealth thinking it...       1  \n",
       "6363  #Bestnaijamade: 16yr old PKK suicide bomber wh...       1  \n",
       "6373  #Bestnaijamade: 16yr old PKK suicide bomber wh...       1  \n",
       "6377  #Bestnaijamade: 16yr old PKK suicide bomber wh...       1  \n",
       "6378  #Bestnaijamade: 16yr old PKK suicide bomber wh...       1  \n",
       "6392  #Bestnaijamade: 16yr old PKK suicide bomber wh...       1  \n",
       "6366  #Bestnaijamade: 16yr old PKK suicide bomber wh...       1  \n",
       "2828  #KCA #VoteJKT48ID 12News: UPDATE: A family of ...       1  \n",
       "2822  #KCA #VoteJKT48ID 12News: UPDATE: A family of ...       1  \n",
       "2816  #Myanmar  Displaced #Rohingya at #Sittwe point...       1  \n",
       "2841  #Myanmar  Displaced #Rohingya at #Sittwe point...       1  \n",
       "1704  #Newswatch: 2 vehicles collided at Lock and La...       1  \n",
       "1725  #Newswatch: 2 vehicles collided at Lock and La...       1  \n",
       "3795  #SigAlert: North &amp; Southbound 133 closed b...       1  \n",
       "3790  #SigAlert: North &amp; Southbound 133 closed b...       1  \n",
       "1242  #TweetLikeItsSeptember11th2001 Those two build...       1  \n",
       "1251  #TweetLikeItsSeptember11th2001 Those two build...       1  \n",
       "4239  #foodscare #offers2go #NestleIndia slips into ...       1  "
      ]
     },
     "execution_count": 9,
     "metadata": {},
     "output_type": "execute_result"
    }
   ],
   "source": [
    "duplicates_df[:20]"
   ]
  },
  {
   "cell_type": "code",
   "execution_count": 10,
   "id": "e95b693b",
   "metadata": {
    "execution": {
     "iopub.execute_input": "2023-04-05T23:08:56.286242Z",
     "iopub.status.busy": "2023-04-05T23:08:56.285275Z",
     "iopub.status.idle": "2023-04-05T23:08:56.291279Z",
     "shell.execute_reply": "2023-04-05T23:08:56.290274Z"
    },
    "papermill": {
     "duration": 0.02043,
     "end_time": "2023-04-05T23:08:56.293686",
     "exception": false,
     "start_time": "2023-04-05T23:08:56.273256",
     "status": "completed"
    },
    "tags": []
   },
   "outputs": [],
   "source": [
    "duplicated_tweets = list(duplicates_df.text)"
   ]
  },
  {
   "cell_type": "code",
   "execution_count": 11,
   "id": "cbf7d3f5",
   "metadata": {
    "execution": {
     "iopub.execute_input": "2023-04-05T23:08:56.318400Z",
     "iopub.status.busy": "2023-04-05T23:08:56.317972Z",
     "iopub.status.idle": "2023-04-05T23:08:56.324684Z",
     "shell.execute_reply": "2023-04-05T23:08:56.323713Z"
    },
    "papermill": {
     "duration": 0.022003,
     "end_time": "2023-04-05T23:08:56.327037",
     "exception": false,
     "start_time": "2023-04-05T23:08:56.305034",
     "status": "completed"
    },
    "tags": []
   },
   "outputs": [
    {
     "data": {
      "text/plain": [
       "179"
      ]
     },
     "execution_count": 11,
     "metadata": {},
     "output_type": "execute_result"
    }
   ],
   "source": [
    "len(duplicated_tweets)"
   ]
  },
  {
   "cell_type": "markdown",
   "id": "de7601d8",
   "metadata": {
    "papermill": {
     "duration": 0.011393,
     "end_time": "2023-04-05T23:08:56.350011",
     "exception": false,
     "start_time": "2023-04-05T23:08:56.338618",
     "status": "completed"
    },
    "tags": []
   },
   "source": [
    "Now search for contradictions"
   ]
  },
  {
   "cell_type": "code",
   "execution_count": 12,
   "id": "172261e2",
   "metadata": {
    "execution": {
     "iopub.execute_input": "2023-04-05T23:08:56.374018Z",
     "iopub.status.busy": "2023-04-05T23:08:56.373153Z",
     "iopub.status.idle": "2023-04-05T23:08:56.466910Z",
     "shell.execute_reply": "2023-04-05T23:08:56.465704Z"
    },
    "papermill": {
     "duration": 0.108256,
     "end_time": "2023-04-05T23:08:56.469156",
     "exception": false,
     "start_time": "2023-04-05T23:08:56.360900",
     "status": "completed"
    },
    "tags": []
   },
   "outputs": [
    {
     "name": "stdout",
     "output_type": "stream",
     "text": [
      "18 <class 'list'>\n"
     ]
    }
   ],
   "source": [
    "contradictory_tweets = set()\n",
    "for tweet in duplicated_tweets:\n",
    "    if len(set(duplicates_df[duplicates_df['text'] == tweet].target)) > 1:\n",
    "        contradictory_tweets.add(tweet)\n",
    "\n",
    "contradictory_tweets = list(contradictory_tweets)\n",
    "print(len(contradictory_tweets), type(contradictory_tweets))"
   ]
  },
  {
   "cell_type": "markdown",
   "id": "2cfc680e",
   "metadata": {
    "papermill": {
     "duration": 0.011257,
     "end_time": "2023-04-05T23:08:56.492371",
     "exception": false,
     "start_time": "2023-04-05T23:08:56.481114",
     "status": "completed"
    },
    "tags": []
   },
   "source": [
    "We're going to label those manually"
   ]
  },
  {
   "cell_type": "code",
   "execution_count": 13,
   "id": "dc70c98b",
   "metadata": {
    "execution": {
     "iopub.execute_input": "2023-04-05T23:08:56.517078Z",
     "iopub.status.busy": "2023-04-05T23:08:56.516714Z",
     "iopub.status.idle": "2023-04-05T23:08:56.522716Z",
     "shell.execute_reply": "2023-04-05T23:08:56.521734Z"
    },
    "papermill": {
     "duration": 0.022256,
     "end_time": "2023-04-05T23:08:56.525749",
     "exception": false,
     "start_time": "2023-04-05T23:08:56.503493",
     "status": "completed"
    },
    "tags": []
   },
   "outputs": [
    {
     "name": "stdout",
     "output_type": "stream",
     "text": [
      "0 In #islam saving a person is equal in reward to saving all humans! Islam is the opposite of terrorism! \n",
      "\n",
      "1 #Allah describes piling up #wealth thinking it would last #forever as the description of the people of #Hellfire in Surah Humaza. #Reflect \n",
      "\n",
      "2 #foodscare #offers2go #NestleIndia slips into loss after #Magginoodle #ban unsafe and hazardous for #humanconsumption \n",
      "\n",
      "3 .POTUS #StrategicPatience is a strategy for #Genocide; refugees; IDP Internally displaced people; horror; etc. https://t.co/rqWuoy1fm4 \n",
      "\n",
      "4 Hellfire! We donÛªt even want to think about it or mention it so letÛªs not do anything that leads to it #islam! \n",
      "\n",
      "5 Hellfire is surrounded by desires so be careful and donÛªt let your desires control you! #Afterlife \n",
      "\n",
      "6 I Pledge Allegiance To The P.O.P.E. And The Burning Buildings of Epic City. ?????? \n",
      "\n",
      "7 To fight bioterrorism sir. \n",
      "\n",
      "8 Caution: breathing may be hazardous to your health. \n",
      "\n",
      "9 Who is bringing the tornadoes and floods. Who is bringing the climate change. God is after America He is plaguing her\n",
      " \n",
      "#FARRAKHAN #QUOTE \n",
      "\n",
      "10 He came to a land which was engulfed in tribal war and turned it into a land of peace i.e. Madinah. #ProphetMuhammad #islam \n",
      "\n",
      "11 The Prophet (peace be upon him) said 'Save yourself from Hellfire even if it is by giving half a date in charity.' \n",
      "\n",
      "12 Mmmmmm I'm burning.... I'm burning buildings I'm building.... Oooooohhhh oooh ooh... \n",
      "\n",
      "13 wowo--=== 12000 Nigerian refugees repatriated from Cameroon \n",
      "\n",
      "14 like for the music video I want some real action shit like burning buildings and police chases not some weak ben winston shit \n",
      "\n",
      "15 CLEARED:incident with injury:I-495  inner loop Exit 31 - MD 97/Georgia Ave Silver Spring \n",
      "\n",
      "16 that horrible sinking feeling when youÛªve been at home on your phone for a while and you realise its been on 3G this whole time \n",
      "\n",
      "17 RT NotExplained: The only known image of infamous hijacker D.B. Cooper. http://t.co/JlzK2HdeTG \n",
      "\n"
     ]
    }
   ],
   "source": [
    "for i, tweet in enumerate(contradictory_tweets):\n",
    "    print(i, tweet, '\\n')"
   ]
  },
  {
   "cell_type": "code",
   "execution_count": 14,
   "id": "46415d5e",
   "metadata": {
    "execution": {
     "iopub.execute_input": "2023-04-05T23:08:56.550423Z",
     "iopub.status.busy": "2023-04-05T23:08:56.550011Z",
     "iopub.status.idle": "2023-04-05T23:08:56.563325Z",
     "shell.execute_reply": "2023-04-05T23:08:56.561862Z"
    },
    "papermill": {
     "duration": 0.028516,
     "end_time": "2023-04-05T23:08:56.565623",
     "exception": false,
     "start_time": "2023-04-05T23:08:56.537107",
     "status": "completed"
    },
    "tags": []
   },
   "outputs": [
    {
     "name": "stdout",
     "output_type": "stream",
     "text": [
      "7503\n"
     ]
    }
   ],
   "source": [
    "no_duplicates_train_df = raw_train_df.drop_duplicates('text')\n",
    "print(len(no_duplicates_train_df))"
   ]
  },
  {
   "cell_type": "code",
   "execution_count": 15,
   "id": "d22926fb",
   "metadata": {
    "execution": {
     "iopub.execute_input": "2023-04-05T23:08:56.590835Z",
     "iopub.status.busy": "2023-04-05T23:08:56.590115Z",
     "iopub.status.idle": "2023-04-05T23:08:56.624536Z",
     "shell.execute_reply": "2023-04-05T23:08:56.623421Z"
    },
    "papermill": {
     "duration": 0.049874,
     "end_time": "2023-04-05T23:08:56.627209",
     "exception": false,
     "start_time": "2023-04-05T23:08:56.577335",
     "status": "completed"
    },
    "tags": []
   },
   "outputs": [
    {
     "name": "stderr",
     "output_type": "stream",
     "text": [
      "/opt/conda/lib/python3.7/site-packages/pandas/core/indexing.py:1817: SettingWithCopyWarning: \n",
      "A value is trying to be set on a copy of a slice from a DataFrame.\n",
      "Try using .loc[row_indexer,col_indexer] = value instead\n",
      "\n",
      "See the caveats in the documentation: https://pandas.pydata.org/pandas-docs/stable/user_guide/indexing.html#returning-a-view-versus-a-copy\n",
      "  self._setitem_single_column(loc, value, pi)\n"
     ]
    }
   ],
   "source": [
    "no_duplicates_train_df.loc[no_duplicates_train_df['text'] == contradictory_tweets[0], 'target'] = 0\n",
    "no_duplicates_train_df.loc[no_duplicates_train_df['text'] == contradictory_tweets[1], 'target'] = 0\n",
    "no_duplicates_train_df.loc[no_duplicates_train_df['text'] == contradictory_tweets[2], 'target'] = 0\n",
    "no_duplicates_train_df.loc[no_duplicates_train_df['text'] == contradictory_tweets[3], 'target'] = 0 \n",
    "no_duplicates_train_df.loc[no_duplicates_train_df['text'] == contradictory_tweets[4], 'target'] = 0\n",
    "no_duplicates_train_df.loc[no_duplicates_train_df['text'] == contradictory_tweets[5], 'target'] = 0\n",
    "no_duplicates_train_df.loc[no_duplicates_train_df['text'] == contradictory_tweets[6], 'target'] = 0\n",
    "no_duplicates_train_df.loc[no_duplicates_train_df['text'] == contradictory_tweets[7], 'target'] = 0\n",
    "no_duplicates_train_df.loc[no_duplicates_train_df['text'] == contradictory_tweets[8], 'target'] = 0\n",
    "no_duplicates_train_df.loc[no_duplicates_train_df['text'] == contradictory_tweets[9], 'target'] = 1\n",
    "no_duplicates_train_df.loc[no_duplicates_train_df['text'] == contradictory_tweets[10], 'target'] = 0\n",
    "no_duplicates_train_df.loc[no_duplicates_train_df['text'] == contradictory_tweets[11], 'target'] = 1\n",
    "no_duplicates_train_df.loc[no_duplicates_train_df['text'] == contradictory_tweets[12], 'target'] = 0\n",
    "no_duplicates_train_df.loc[no_duplicates_train_df['text'] == contradictory_tweets[13], 'target'] = 0\n",
    "no_duplicates_train_df.loc[no_duplicates_train_df['text'] == contradictory_tweets[14], 'target'] = 0\n",
    "no_duplicates_train_df.loc[no_duplicates_train_df['text'] == contradictory_tweets[15], 'target'] = 0\n",
    "no_duplicates_train_df.loc[no_duplicates_train_df['text'] == contradictory_tweets[16], 'target'] = 0\n",
    "no_duplicates_train_df.loc[no_duplicates_train_df['text'] == contradictory_tweets[17], 'target'] = 1"
   ]
  },
  {
   "cell_type": "markdown",
   "id": "ff77e312",
   "metadata": {
    "papermill": {
     "duration": 0.011383,
     "end_time": "2023-04-05T23:08:56.650512",
     "exception": false,
     "start_time": "2023-04-05T23:08:56.639129",
     "status": "completed"
    },
    "tags": []
   },
   "source": [
    "## Create the Datasets"
   ]
  },
  {
   "cell_type": "code",
   "execution_count": 16,
   "id": "5d8ef9ad",
   "metadata": {
    "execution": {
     "iopub.execute_input": "2023-04-05T23:08:56.676244Z",
     "iopub.status.busy": "2023-04-05T23:08:56.675228Z",
     "iopub.status.idle": "2023-04-05T23:09:02.500954Z",
     "shell.execute_reply": "2023-04-05T23:09:02.499690Z"
    },
    "papermill": {
     "duration": 5.841797,
     "end_time": "2023-04-05T23:09:02.503918",
     "exception": false,
     "start_time": "2023-04-05T23:08:56.662121",
     "status": "completed"
    },
    "tags": []
   },
   "outputs": [],
   "source": [
    "import torch\n",
    "from torch.utils.data import Dataset\n",
    "from transformers import RobertaTokenizer,RobertaModel\n",
    "\n",
    "from tqdm import tqdm\n",
    "from copy import deepcopy\n",
    "import random"
   ]
  },
  {
   "cell_type": "code",
   "execution_count": 17,
   "id": "1495f06b",
   "metadata": {
    "execution": {
     "iopub.execute_input": "2023-04-05T23:09:02.528356Z",
     "iopub.status.busy": "2023-04-05T23:09:02.527979Z",
     "iopub.status.idle": "2023-04-05T23:09:03.825886Z",
     "shell.execute_reply": "2023-04-05T23:09:03.824818Z"
    },
    "papermill": {
     "duration": 1.312927,
     "end_time": "2023-04-05T23:09:03.828407",
     "exception": false,
     "start_time": "2023-04-05T23:09:02.515480",
     "status": "completed"
    },
    "tags": []
   },
   "outputs": [
    {
     "data": {
      "application/vnd.jupyter.widget-view+json": {
       "model_id": "5b092f870ca64b628228d46b211abc92",
       "version_major": 2,
       "version_minor": 0
      },
      "text/plain": [
       "Downloading (…)olve/main/vocab.json: 0.00B [00:00, ?B/s]"
      ]
     },
     "metadata": {},
     "output_type": "display_data"
    },
    {
     "data": {
      "application/vnd.jupyter.widget-view+json": {
       "model_id": "a5d564553ca841be8ab4172fda027c62",
       "version_major": 2,
       "version_minor": 0
      },
      "text/plain": [
       "Downloading (…)olve/main/merges.txt: 0.00B [00:00, ?B/s]"
      ]
     },
     "metadata": {},
     "output_type": "display_data"
    },
    {
     "data": {
      "application/vnd.jupyter.widget-view+json": {
       "model_id": "0cca8594bf064f158eb9a5bd0946ac2a",
       "version_major": 2,
       "version_minor": 0
      },
      "text/plain": [
       "Downloading (…)lve/main/config.json:   0%|          | 0.00/481 [00:00<?, ?B/s]"
      ]
     },
     "metadata": {},
     "output_type": "display_data"
    }
   ],
   "source": [
    "model_checkpoint = \"roberta-base\"\n",
    "tokenizer = RobertaTokenizer.from_pretrained(model_checkpoint)"
   ]
  },
  {
   "cell_type": "code",
   "execution_count": 18,
   "id": "38842c64",
   "metadata": {
    "execution": {
     "iopub.execute_input": "2023-04-05T23:09:03.854779Z",
     "iopub.status.busy": "2023-04-05T23:09:03.854444Z",
     "iopub.status.idle": "2023-04-05T23:09:03.869916Z",
     "shell.execute_reply": "2023-04-05T23:09:03.868646Z"
    },
    "papermill": {
     "duration": 0.031901,
     "end_time": "2023-04-05T23:09:03.872741",
     "exception": false,
     "start_time": "2023-04-05T23:09:03.840840",
     "status": "completed"
    },
    "tags": []
   },
   "outputs": [],
   "source": [
    "class LabeledDisasterTweetsDataset(Dataset):\n",
    "    def __init__(self, \n",
    "                 df, \n",
    "                 tokenizer, \n",
    "                 max_tweet_len=256, \n",
    "                 tweet_column='text',\n",
    "                 location_column='location', \n",
    "                 keyword_column='keyword', \n",
    "                 target_column='target', \n",
    "                 device='cpu'):\n",
    "        \n",
    "        self._data = []\n",
    "        \n",
    "        for index, row in tqdm(df.iterrows(), total=len(df), ncols=70):\n",
    "            tokenized = tokenizer(row[tweet_column], padding=\"max_length\", truncation=True, max_length=256, return_tensors='pt')\n",
    "            self._data.append(((tokenized['input_ids'][0].to(device), tokenized['attention_mask'][0].to(device)), torch.tensor(row[target_column]).to(device)))\n",
    "        \n",
    "        print('NOTE: you can safely delete the dataframe')\n",
    "        \n",
    "    def __len__(self):\n",
    "        return len(self._data)\n",
    "    \n",
    "    def __getitem__(self, i):\n",
    "        \"\"\"return: ((input_ids, attention_mask), target)\"\"\"\n",
    "        return self._data[i] \n",
    "    \n",
    "    def train_valid_split(self, train_fraction=.9, shuffle=True):\n",
    "        num_train_examples = int(len(self) * train_fraction)\n",
    "        \n",
    "        train_dataset = deepcopy(self)\n",
    "        \n",
    "        if shuffle:\n",
    "            random.shuffle(train_dataset._data)\n",
    "        \n",
    "        valid_dataset = deepcopy(train_dataset)\n",
    "        train_dataset._data = train_dataset._data[:num_train_examples]\n",
    "        valid_dataset._data = valid_dataset._data[num_train_examples:]\n",
    "        \n",
    "        print('NOTE: you can safely delete parent dataset. The train|valid split is {}|{}.'.format(len(train_dataset), len(valid_dataset)))\n",
    "        \n",
    "        return train_dataset, valid_dataset\n",
    "    \n",
    "    \n",
    "class UnlabeledDisasterTweetsDataset(Dataset):\n",
    "    def __init__(self, \n",
    "                 df, \n",
    "                 tokenizer, \n",
    "                 max_tweet_len=256, \n",
    "                 tweet_column='text', \n",
    "                 id_column='id', \n",
    "                 device='cpu'):\n",
    "        \n",
    "        self._data = []\n",
    "        \n",
    "        for index, row in tqdm(df.iterrows(), total=len(df), ncols=70):\n",
    "            tokenized = tokenizer(row[tweet_column], padding=\"max_length\", truncation=True, max_length=256, return_tensors='pt')\n",
    "            self._data.append((torch.tensor(row[id_column]).to(device) ,(tokenized['input_ids'][0].to(device), tokenized['attention_mask'][0].to(device))))\n",
    "        \n",
    "        print('NOTE: you can safely delete the dataframe')\n",
    "        \n",
    "    def __len__(self):\n",
    "        return len(self._data)\n",
    "    \n",
    "    def __getitem__(self, i):\n",
    "        \"\"\"return: (id, (input_ids, attention_mask))\"\"\"\n",
    "        return self._data[i] "
   ]
  },
  {
   "cell_type": "code",
   "execution_count": 19,
   "id": "8af82401",
   "metadata": {
    "execution": {
     "iopub.execute_input": "2023-04-05T23:09:03.897808Z",
     "iopub.status.busy": "2023-04-05T23:09:03.897018Z",
     "iopub.status.idle": "2023-04-05T23:09:13.546906Z",
     "shell.execute_reply": "2023-04-05T23:09:13.545516Z"
    },
    "papermill": {
     "duration": 9.665537,
     "end_time": "2023-04-05T23:09:13.549848",
     "exception": false,
     "start_time": "2023-04-05T23:09:03.884311",
     "status": "completed"
    },
    "tags": []
   },
   "outputs": [
    {
     "name": "stderr",
     "output_type": "stream",
     "text": [
      "100%|████████████████████████████| 7503/7503 [00:09<00:00, 778.57it/s]"
     ]
    },
    {
     "name": "stdout",
     "output_type": "stream",
     "text": [
      "NOTE: you can safely delete the dataframe\n"
     ]
    },
    {
     "name": "stderr",
     "output_type": "stream",
     "text": [
      "\n"
     ]
    }
   ],
   "source": [
    "dataset = LabeledDisasterTweetsDataset(no_duplicates_train_df, tokenizer, device=device)"
   ]
  },
  {
   "cell_type": "code",
   "execution_count": 20,
   "id": "14636ef1",
   "metadata": {
    "execution": {
     "iopub.execute_input": "2023-04-05T23:09:13.586695Z",
     "iopub.status.busy": "2023-04-05T23:09:13.585702Z",
     "iopub.status.idle": "2023-04-05T23:09:16.381520Z",
     "shell.execute_reply": "2023-04-05T23:09:16.376693Z"
    },
    "papermill": {
     "duration": 2.823894,
     "end_time": "2023-04-05T23:09:16.391234",
     "exception": false,
     "start_time": "2023-04-05T23:09:13.567340",
     "status": "completed"
    },
    "tags": []
   },
   "outputs": [
    {
     "name": "stdout",
     "output_type": "stream",
     "text": [
      "NOTE: you can safely delete parent dataset. The train|valid split is 6752|751.\n"
     ]
    }
   ],
   "source": [
    "train_dataset, valid_dataset = dataset.train_valid_split()"
   ]
  },
  {
   "cell_type": "code",
   "execution_count": 21,
   "id": "3ab11ed7",
   "metadata": {
    "execution": {
     "iopub.execute_input": "2023-04-05T23:09:16.464314Z",
     "iopub.status.busy": "2023-04-05T23:09:16.462882Z",
     "iopub.status.idle": "2023-04-05T23:09:19.374510Z",
     "shell.execute_reply": "2023-04-05T23:09:19.373385Z"
    },
    "papermill": {
     "duration": 2.952632,
     "end_time": "2023-04-05T23:09:19.377014",
     "exception": false,
     "start_time": "2023-04-05T23:09:16.424382",
     "status": "completed"
    },
    "tags": []
   },
   "outputs": [
    {
     "name": "stderr",
     "output_type": "stream",
     "text": [
      "100%|███████████████████████████| 3263/3263 [00:02<00:00, 1129.79it/s]"
     ]
    },
    {
     "name": "stdout",
     "output_type": "stream",
     "text": [
      "NOTE: you can safely delete the dataframe\n"
     ]
    },
    {
     "name": "stderr",
     "output_type": "stream",
     "text": [
      "\n"
     ]
    }
   ],
   "source": [
    "eval_dataset = UnlabeledDisasterTweetsDataset(raw_test_df, tokenizer, device='cuda')"
   ]
  },
  {
   "cell_type": "code",
   "execution_count": 22,
   "id": "976acd9b",
   "metadata": {
    "execution": {
     "iopub.execute_input": "2023-04-05T23:09:19.414616Z",
     "iopub.status.busy": "2023-04-05T23:09:19.413819Z",
     "iopub.status.idle": "2023-04-05T23:09:19.454562Z",
     "shell.execute_reply": "2023-04-05T23:09:19.453240Z"
    },
    "papermill": {
     "duration": 0.062926,
     "end_time": "2023-04-05T23:09:19.457851",
     "exception": false,
     "start_time": "2023-04-05T23:09:19.394925",
     "status": "completed"
    },
    "tags": []
   },
   "outputs": [
    {
     "name": "stdout",
     "output_type": "stream",
     "text": [
      "((tensor([    0,  1039, 24009,   139,  1990, 14601,   261,   787,   565,  1942,\n",
      "        38469,    45,     7, 16195,  2990,    53,    25,    10, 33954, 35832,\n",
      "          740, 13714,  8772,    38,    64,  4559,    42,    25,  1528,   131,\n",
      "        40913, 28117,  5457,    73,  5214,  5100,    73,  5605,    13,   390,\n",
      "            4,     2,     1,     1,     1,     1,     1,     1,     1,     1,\n",
      "            1,     1,     1,     1,     1,     1,     1,     1,     1,     1,\n",
      "            1,     1,     1,     1,     1,     1,     1,     1,     1,     1,\n",
      "            1,     1,     1,     1,     1,     1,     1,     1,     1,     1,\n",
      "            1,     1,     1,     1,     1,     1,     1,     1,     1,     1,\n",
      "            1,     1,     1,     1,     1,     1,     1,     1,     1,     1,\n",
      "            1,     1,     1,     1,     1,     1,     1,     1,     1,     1,\n",
      "            1,     1,     1,     1,     1,     1,     1,     1,     1,     1,\n",
      "            1,     1,     1,     1,     1,     1,     1,     1,     1,     1,\n",
      "            1,     1,     1,     1,     1,     1,     1,     1,     1,     1,\n",
      "            1,     1,     1,     1,     1,     1,     1,     1,     1,     1,\n",
      "            1,     1,     1,     1,     1,     1,     1,     1,     1,     1,\n",
      "            1,     1,     1,     1,     1,     1,     1,     1,     1,     1,\n",
      "            1,     1,     1,     1,     1,     1,     1,     1,     1,     1,\n",
      "            1,     1,     1,     1,     1,     1,     1,     1,     1,     1,\n",
      "            1,     1,     1,     1,     1,     1,     1,     1,     1,     1,\n",
      "            1,     1,     1,     1,     1,     1,     1,     1,     1,     1,\n",
      "            1,     1,     1,     1,     1,     1,     1,     1,     1,     1,\n",
      "            1,     1,     1,     1,     1,     1,     1,     1,     1,     1,\n",
      "            1,     1,     1,     1,     1,     1,     1,     1,     1,     1,\n",
      "            1,     1,     1,     1,     1,     1,     1,     1,     1,     1,\n",
      "            1,     1,     1,     1,     1,     1], device='cuda:0'), tensor([1, 1, 1, 1, 1, 1, 1, 1, 1, 1, 1, 1, 1, 1, 1, 1, 1, 1, 1, 1, 1, 1, 1, 1,\n",
      "        1, 1, 1, 1, 1, 1, 1, 1, 1, 1, 1, 1, 1, 1, 1, 1, 1, 1, 0, 0, 0, 0, 0, 0,\n",
      "        0, 0, 0, 0, 0, 0, 0, 0, 0, 0, 0, 0, 0, 0, 0, 0, 0, 0, 0, 0, 0, 0, 0, 0,\n",
      "        0, 0, 0, 0, 0, 0, 0, 0, 0, 0, 0, 0, 0, 0, 0, 0, 0, 0, 0, 0, 0, 0, 0, 0,\n",
      "        0, 0, 0, 0, 0, 0, 0, 0, 0, 0, 0, 0, 0, 0, 0, 0, 0, 0, 0, 0, 0, 0, 0, 0,\n",
      "        0, 0, 0, 0, 0, 0, 0, 0, 0, 0, 0, 0, 0, 0, 0, 0, 0, 0, 0, 0, 0, 0, 0, 0,\n",
      "        0, 0, 0, 0, 0, 0, 0, 0, 0, 0, 0, 0, 0, 0, 0, 0, 0, 0, 0, 0, 0, 0, 0, 0,\n",
      "        0, 0, 0, 0, 0, 0, 0, 0, 0, 0, 0, 0, 0, 0, 0, 0, 0, 0, 0, 0, 0, 0, 0, 0,\n",
      "        0, 0, 0, 0, 0, 0, 0, 0, 0, 0, 0, 0, 0, 0, 0, 0, 0, 0, 0, 0, 0, 0, 0, 0,\n",
      "        0, 0, 0, 0, 0, 0, 0, 0, 0, 0, 0, 0, 0, 0, 0, 0, 0, 0, 0, 0, 0, 0, 0, 0,\n",
      "        0, 0, 0, 0, 0, 0, 0, 0, 0, 0, 0, 0, 0, 0, 0, 0], device='cuda:0')), tensor(1, device='cuda:0')) \n",
      "\n",
      " ((tensor([    0,  6766,    75,  5848,  6162,   122,     4,   370,   214,   357,\n",
      "           87,    14,     4, 42254,     2,     1,     1,     1,     1,     1,\n",
      "            1,     1,     1,     1,     1,     1,     1,     1,     1,     1,\n",
      "            1,     1,     1,     1,     1,     1,     1,     1,     1,     1,\n",
      "            1,     1,     1,     1,     1,     1,     1,     1,     1,     1,\n",
      "            1,     1,     1,     1,     1,     1,     1,     1,     1,     1,\n",
      "            1,     1,     1,     1,     1,     1,     1,     1,     1,     1,\n",
      "            1,     1,     1,     1,     1,     1,     1,     1,     1,     1,\n",
      "            1,     1,     1,     1,     1,     1,     1,     1,     1,     1,\n",
      "            1,     1,     1,     1,     1,     1,     1,     1,     1,     1,\n",
      "            1,     1,     1,     1,     1,     1,     1,     1,     1,     1,\n",
      "            1,     1,     1,     1,     1,     1,     1,     1,     1,     1,\n",
      "            1,     1,     1,     1,     1,     1,     1,     1,     1,     1,\n",
      "            1,     1,     1,     1,     1,     1,     1,     1,     1,     1,\n",
      "            1,     1,     1,     1,     1,     1,     1,     1,     1,     1,\n",
      "            1,     1,     1,     1,     1,     1,     1,     1,     1,     1,\n",
      "            1,     1,     1,     1,     1,     1,     1,     1,     1,     1,\n",
      "            1,     1,     1,     1,     1,     1,     1,     1,     1,     1,\n",
      "            1,     1,     1,     1,     1,     1,     1,     1,     1,     1,\n",
      "            1,     1,     1,     1,     1,     1,     1,     1,     1,     1,\n",
      "            1,     1,     1,     1,     1,     1,     1,     1,     1,     1,\n",
      "            1,     1,     1,     1,     1,     1,     1,     1,     1,     1,\n",
      "            1,     1,     1,     1,     1,     1,     1,     1,     1,     1,\n",
      "            1,     1,     1,     1,     1,     1,     1,     1,     1,     1,\n",
      "            1,     1,     1,     1,     1,     1,     1,     1,     1,     1,\n",
      "            1,     1,     1,     1,     1,     1], device='cuda:0'), tensor([1, 1, 1, 1, 1, 1, 1, 1, 1, 1, 1, 1, 1, 1, 1, 0, 0, 0, 0, 0, 0, 0, 0, 0,\n",
      "        0, 0, 0, 0, 0, 0, 0, 0, 0, 0, 0, 0, 0, 0, 0, 0, 0, 0, 0, 0, 0, 0, 0, 0,\n",
      "        0, 0, 0, 0, 0, 0, 0, 0, 0, 0, 0, 0, 0, 0, 0, 0, 0, 0, 0, 0, 0, 0, 0, 0,\n",
      "        0, 0, 0, 0, 0, 0, 0, 0, 0, 0, 0, 0, 0, 0, 0, 0, 0, 0, 0, 0, 0, 0, 0, 0,\n",
      "        0, 0, 0, 0, 0, 0, 0, 0, 0, 0, 0, 0, 0, 0, 0, 0, 0, 0, 0, 0, 0, 0, 0, 0,\n",
      "        0, 0, 0, 0, 0, 0, 0, 0, 0, 0, 0, 0, 0, 0, 0, 0, 0, 0, 0, 0, 0, 0, 0, 0,\n",
      "        0, 0, 0, 0, 0, 0, 0, 0, 0, 0, 0, 0, 0, 0, 0, 0, 0, 0, 0, 0, 0, 0, 0, 0,\n",
      "        0, 0, 0, 0, 0, 0, 0, 0, 0, 0, 0, 0, 0, 0, 0, 0, 0, 0, 0, 0, 0, 0, 0, 0,\n",
      "        0, 0, 0, 0, 0, 0, 0, 0, 0, 0, 0, 0, 0, 0, 0, 0, 0, 0, 0, 0, 0, 0, 0, 0,\n",
      "        0, 0, 0, 0, 0, 0, 0, 0, 0, 0, 0, 0, 0, 0, 0, 0, 0, 0, 0, 0, 0, 0, 0, 0,\n",
      "        0, 0, 0, 0, 0, 0, 0, 0, 0, 0, 0, 0, 0, 0, 0, 0], device='cuda:0')), tensor(0, device='cuda:0')) \n",
      "\n",
      " ((tensor([    0, 12667,  8009,   361,  4197,  1244, 22046,   668, 17162,   885,\n",
      "           73,   221, 33004,  1437,    38,  6222,  1833, 27212,     4,  1211,\n",
      "        31528,   112,    35,  5677,  1437,  4136,  2054,   640,    90,     4,\n",
      "          876,    73, 48685, 25356,   791,  2379,   534,   282,  2054,   640,\n",
      "           90,     4,   876,    73,   119,  1864,   506, 10643,   530,  1000,\n",
      "         2553,   298,     2,     1,     1,     1,     1,     1,     1,     1,\n",
      "            1,     1,     1,     1,     1,     1,     1,     1,     1,     1,\n",
      "            1,     1,     1,     1,     1,     1,     1,     1,     1,     1,\n",
      "            1,     1,     1,     1,     1,     1,     1,     1,     1,     1,\n",
      "            1,     1,     1,     1,     1,     1,     1,     1,     1,     1,\n",
      "            1,     1,     1,     1,     1,     1,     1,     1,     1,     1,\n",
      "            1,     1,     1,     1,     1,     1,     1,     1,     1,     1,\n",
      "            1,     1,     1,     1,     1,     1,     1,     1,     1,     1,\n",
      "            1,     1,     1,     1,     1,     1,     1,     1,     1,     1,\n",
      "            1,     1,     1,     1,     1,     1,     1,     1,     1,     1,\n",
      "            1,     1,     1,     1,     1,     1,     1,     1,     1,     1,\n",
      "            1,     1,     1,     1,     1,     1,     1,     1,     1,     1,\n",
      "            1,     1,     1,     1,     1,     1,     1,     1,     1,     1,\n",
      "            1,     1,     1,     1,     1,     1,     1,     1,     1,     1,\n",
      "            1,     1,     1,     1,     1,     1,     1,     1,     1,     1,\n",
      "            1,     1,     1,     1,     1,     1,     1,     1,     1,     1,\n",
      "            1,     1,     1,     1,     1,     1,     1,     1,     1,     1,\n",
      "            1,     1,     1,     1,     1,     1,     1,     1,     1,     1,\n",
      "            1,     1,     1,     1,     1,     1,     1,     1,     1,     1,\n",
      "            1,     1,     1,     1,     1,     1,     1,     1,     1,     1,\n",
      "            1,     1,     1,     1,     1,     1], device='cuda:0'), tensor([1, 1, 1, 1, 1, 1, 1, 1, 1, 1, 1, 1, 1, 1, 1, 1, 1, 1, 1, 1, 1, 1, 1, 1,\n",
      "        1, 1, 1, 1, 1, 1, 1, 1, 1, 1, 1, 1, 1, 1, 1, 1, 1, 1, 1, 1, 1, 1, 1, 1,\n",
      "        1, 1, 1, 1, 1, 0, 0, 0, 0, 0, 0, 0, 0, 0, 0, 0, 0, 0, 0, 0, 0, 0, 0, 0,\n",
      "        0, 0, 0, 0, 0, 0, 0, 0, 0, 0, 0, 0, 0, 0, 0, 0, 0, 0, 0, 0, 0, 0, 0, 0,\n",
      "        0, 0, 0, 0, 0, 0, 0, 0, 0, 0, 0, 0, 0, 0, 0, 0, 0, 0, 0, 0, 0, 0, 0, 0,\n",
      "        0, 0, 0, 0, 0, 0, 0, 0, 0, 0, 0, 0, 0, 0, 0, 0, 0, 0, 0, 0, 0, 0, 0, 0,\n",
      "        0, 0, 0, 0, 0, 0, 0, 0, 0, 0, 0, 0, 0, 0, 0, 0, 0, 0, 0, 0, 0, 0, 0, 0,\n",
      "        0, 0, 0, 0, 0, 0, 0, 0, 0, 0, 0, 0, 0, 0, 0, 0, 0, 0, 0, 0, 0, 0, 0, 0,\n",
      "        0, 0, 0, 0, 0, 0, 0, 0, 0, 0, 0, 0, 0, 0, 0, 0, 0, 0, 0, 0, 0, 0, 0, 0,\n",
      "        0, 0, 0, 0, 0, 0, 0, 0, 0, 0, 0, 0, 0, 0, 0, 0, 0, 0, 0, 0, 0, 0, 0, 0,\n",
      "        0, 0, 0, 0, 0, 0, 0, 0, 0, 0, 0, 0, 0, 0, 0, 0], device='cuda:0')), tensor(0, device='cuda:0'))\n"
     ]
    }
   ],
   "source": [
    "print(train_dataset[0],'\\n\\n', train_dataset[-1],'\\n\\n', valid_dataset[0])"
   ]
  },
  {
   "cell_type": "code",
   "execution_count": 23,
   "id": "20f06c0b",
   "metadata": {
    "execution": {
     "iopub.execute_input": "2023-04-05T23:09:19.494307Z",
     "iopub.status.busy": "2023-04-05T23:09:19.493932Z",
     "iopub.status.idle": "2023-04-05T23:09:19.508556Z",
     "shell.execute_reply": "2023-04-05T23:09:19.507045Z"
    },
    "papermill": {
     "duration": 0.035813,
     "end_time": "2023-04-05T23:09:19.510968",
     "exception": false,
     "start_time": "2023-04-05T23:09:19.475155",
     "status": "completed"
    },
    "tags": []
   },
   "outputs": [
    {
     "name": "stdout",
     "output_type": "stream",
     "text": [
      "(tensor(0, device='cuda:0'), (tensor([   0, 6785, 1102,   10, 6587,  512, 2058,    2,    1,    1,    1,    1,\n",
      "           1,    1,    1,    1,    1,    1,    1,    1,    1,    1,    1,    1,\n",
      "           1,    1,    1,    1,    1,    1,    1,    1,    1,    1,    1,    1,\n",
      "           1,    1,    1,    1,    1,    1,    1,    1,    1,    1,    1,    1,\n",
      "           1,    1,    1,    1,    1,    1,    1,    1,    1,    1,    1,    1,\n",
      "           1,    1,    1,    1,    1,    1,    1,    1,    1,    1,    1,    1,\n",
      "           1,    1,    1,    1,    1,    1,    1,    1,    1,    1,    1,    1,\n",
      "           1,    1,    1,    1,    1,    1,    1,    1,    1,    1,    1,    1,\n",
      "           1,    1,    1,    1,    1,    1,    1,    1,    1,    1,    1,    1,\n",
      "           1,    1,    1,    1,    1,    1,    1,    1,    1,    1,    1,    1,\n",
      "           1,    1,    1,    1,    1,    1,    1,    1,    1,    1,    1,    1,\n",
      "           1,    1,    1,    1,    1,    1,    1,    1,    1,    1,    1,    1,\n",
      "           1,    1,    1,    1,    1,    1,    1,    1,    1,    1,    1,    1,\n",
      "           1,    1,    1,    1,    1,    1,    1,    1,    1,    1,    1,    1,\n",
      "           1,    1,    1,    1,    1,    1,    1,    1,    1,    1,    1,    1,\n",
      "           1,    1,    1,    1,    1,    1,    1,    1,    1,    1,    1,    1,\n",
      "           1,    1,    1,    1,    1,    1,    1,    1,    1,    1,    1,    1,\n",
      "           1,    1,    1,    1,    1,    1,    1,    1,    1,    1,    1,    1,\n",
      "           1,    1,    1,    1,    1,    1,    1,    1,    1,    1,    1,    1,\n",
      "           1,    1,    1,    1,    1,    1,    1,    1,    1,    1,    1,    1,\n",
      "           1,    1,    1,    1,    1,    1,    1,    1,    1,    1,    1,    1,\n",
      "           1,    1,    1,    1], device='cuda:0'), tensor([1, 1, 1, 1, 1, 1, 1, 1, 0, 0, 0, 0, 0, 0, 0, 0, 0, 0, 0, 0, 0, 0, 0, 0,\n",
      "        0, 0, 0, 0, 0, 0, 0, 0, 0, 0, 0, 0, 0, 0, 0, 0, 0, 0, 0, 0, 0, 0, 0, 0,\n",
      "        0, 0, 0, 0, 0, 0, 0, 0, 0, 0, 0, 0, 0, 0, 0, 0, 0, 0, 0, 0, 0, 0, 0, 0,\n",
      "        0, 0, 0, 0, 0, 0, 0, 0, 0, 0, 0, 0, 0, 0, 0, 0, 0, 0, 0, 0, 0, 0, 0, 0,\n",
      "        0, 0, 0, 0, 0, 0, 0, 0, 0, 0, 0, 0, 0, 0, 0, 0, 0, 0, 0, 0, 0, 0, 0, 0,\n",
      "        0, 0, 0, 0, 0, 0, 0, 0, 0, 0, 0, 0, 0, 0, 0, 0, 0, 0, 0, 0, 0, 0, 0, 0,\n",
      "        0, 0, 0, 0, 0, 0, 0, 0, 0, 0, 0, 0, 0, 0, 0, 0, 0, 0, 0, 0, 0, 0, 0, 0,\n",
      "        0, 0, 0, 0, 0, 0, 0, 0, 0, 0, 0, 0, 0, 0, 0, 0, 0, 0, 0, 0, 0, 0, 0, 0,\n",
      "        0, 0, 0, 0, 0, 0, 0, 0, 0, 0, 0, 0, 0, 0, 0, 0, 0, 0, 0, 0, 0, 0, 0, 0,\n",
      "        0, 0, 0, 0, 0, 0, 0, 0, 0, 0, 0, 0, 0, 0, 0, 0, 0, 0, 0, 0, 0, 0, 0, 0,\n",
      "        0, 0, 0, 0, 0, 0, 0, 0, 0, 0, 0, 0, 0, 0, 0, 0], device='cuda:0')))\n"
     ]
    }
   ],
   "source": [
    "print(eval_dataset[0])"
   ]
  },
  {
   "cell_type": "markdown",
   "id": "a50f0f5e",
   "metadata": {
    "papermill": {
     "duration": 0.017129,
     "end_time": "2023-04-05T23:09:19.545140",
     "exception": false,
     "start_time": "2023-04-05T23:09:19.528011",
     "status": "completed"
    },
    "tags": []
   },
   "source": [
    "## Defining the model"
   ]
  },
  {
   "cell_type": "code",
   "execution_count": 24,
   "id": "82a2f647",
   "metadata": {
    "execution": {
     "iopub.execute_input": "2023-04-05T23:09:19.582575Z",
     "iopub.status.busy": "2023-04-05T23:09:19.581862Z",
     "iopub.status.idle": "2023-04-05T23:09:19.590238Z",
     "shell.execute_reply": "2023-04-05T23:09:19.589032Z"
    },
    "papermill": {
     "duration": 0.029706,
     "end_time": "2023-04-05T23:09:19.592594",
     "exception": false,
     "start_time": "2023-04-05T23:09:19.562888",
     "status": "completed"
    },
    "tags": []
   },
   "outputs": [],
   "source": [
    "class RobertaClassifier(torch.nn.Module):\n",
    "    def __init__(self, n_classes=2, head_dropout=.3, head_activation=torch.nn.ReLU, model_checkpoint='roberta-base'):\n",
    "        super().__init__()\n",
    "        \n",
    "        self.Roberta = RobertaModel.from_pretrained(model_checkpoint)\n",
    "        \n",
    "        self.Head = torch.nn.Sequential(\n",
    "            torch.nn.Dropout(head_dropout),\n",
    "            torch.nn.Linear(768, n_classes)\n",
    "        )\n",
    "        \n",
    "    def forward(self, input_ids, attention_mask=None, *argv):\n",
    "        res = self.Roberta(input_ids=input_ids, attention_mask=attention_mask)\n",
    "        res = res['pooler_output']\n",
    "        res = self.Head(res)\n",
    "        return res\n",
    "    \n",
    "    def parameters_num(self):\n",
    "        return sum(p.numel() for p in self.parameters())"
   ]
  },
  {
   "cell_type": "code",
   "execution_count": 25,
   "id": "5adb0645",
   "metadata": {
    "execution": {
     "iopub.execute_input": "2023-04-05T23:09:19.627972Z",
     "iopub.status.busy": "2023-04-05T23:09:19.627651Z",
     "iopub.status.idle": "2023-04-05T23:09:24.284914Z",
     "shell.execute_reply": "2023-04-05T23:09:24.283856Z"
    },
    "papermill": {
     "duration": 4.67827,
     "end_time": "2023-04-05T23:09:24.287685",
     "exception": false,
     "start_time": "2023-04-05T23:09:19.609415",
     "status": "completed"
    },
    "tags": []
   },
   "outputs": [
    {
     "data": {
      "application/vnd.jupyter.widget-view+json": {
       "model_id": "57df9d9e1e5c485fa3a1f0b6fcbdb705",
       "version_major": 2,
       "version_minor": 0
      },
      "text/plain": [
       "Downloading pytorch_model.bin:   0%|          | 0.00/501M [00:00<?, ?B/s]"
      ]
     },
     "metadata": {},
     "output_type": "display_data"
    },
    {
     "name": "stderr",
     "output_type": "stream",
     "text": [
      "Some weights of the model checkpoint at roberta-base were not used when initializing RobertaModel: ['lm_head.layer_norm.bias', 'lm_head.dense.weight', 'lm_head.bias', 'lm_head.dense.bias', 'lm_head.decoder.weight', 'lm_head.layer_norm.weight']\n",
      "- This IS expected if you are initializing RobertaModel from the checkpoint of a model trained on another task or with another architecture (e.g. initializing a BertForSequenceClassification model from a BertForPreTraining model).\n",
      "- This IS NOT expected if you are initializing RobertaModel from the checkpoint of a model that you expect to be exactly identical (initializing a BertForSequenceClassification model from a BertForSequenceClassification model).\n"
     ]
    }
   ],
   "source": [
    "model = RobertaClassifier()"
   ]
  },
  {
   "cell_type": "code",
   "execution_count": 26,
   "id": "cca2eb00",
   "metadata": {
    "execution": {
     "iopub.execute_input": "2023-04-05T23:09:24.327525Z",
     "iopub.status.busy": "2023-04-05T23:09:24.325311Z",
     "iopub.status.idle": "2023-04-05T23:09:24.478734Z",
     "shell.execute_reply": "2023-04-05T23:09:24.477555Z"
    },
    "papermill": {
     "duration": 0.176484,
     "end_time": "2023-04-05T23:09:24.482195",
     "exception": false,
     "start_time": "2023-04-05T23:09:24.305711",
     "status": "completed"
    },
    "tags": []
   },
   "outputs": [
    {
     "data": {
      "text/plain": [
       "RobertaClassifier(\n",
       "  (Roberta): RobertaModel(\n",
       "    (embeddings): RobertaEmbeddings(\n",
       "      (word_embeddings): Embedding(50265, 768, padding_idx=1)\n",
       "      (position_embeddings): Embedding(514, 768, padding_idx=1)\n",
       "      (token_type_embeddings): Embedding(1, 768)\n",
       "      (LayerNorm): LayerNorm((768,), eps=1e-05, elementwise_affine=True)\n",
       "      (dropout): Dropout(p=0.1, inplace=False)\n",
       "    )\n",
       "    (encoder): RobertaEncoder(\n",
       "      (layer): ModuleList(\n",
       "        (0): RobertaLayer(\n",
       "          (attention): RobertaAttention(\n",
       "            (self): RobertaSelfAttention(\n",
       "              (query): Linear(in_features=768, out_features=768, bias=True)\n",
       "              (key): Linear(in_features=768, out_features=768, bias=True)\n",
       "              (value): Linear(in_features=768, out_features=768, bias=True)\n",
       "              (dropout): Dropout(p=0.1, inplace=False)\n",
       "            )\n",
       "            (output): RobertaSelfOutput(\n",
       "              (dense): Linear(in_features=768, out_features=768, bias=True)\n",
       "              (LayerNorm): LayerNorm((768,), eps=1e-05, elementwise_affine=True)\n",
       "              (dropout): Dropout(p=0.1, inplace=False)\n",
       "            )\n",
       "          )\n",
       "          (intermediate): RobertaIntermediate(\n",
       "            (dense): Linear(in_features=768, out_features=3072, bias=True)\n",
       "            (intermediate_act_fn): GELUActivation()\n",
       "          )\n",
       "          (output): RobertaOutput(\n",
       "            (dense): Linear(in_features=3072, out_features=768, bias=True)\n",
       "            (LayerNorm): LayerNorm((768,), eps=1e-05, elementwise_affine=True)\n",
       "            (dropout): Dropout(p=0.1, inplace=False)\n",
       "          )\n",
       "        )\n",
       "        (1): RobertaLayer(\n",
       "          (attention): RobertaAttention(\n",
       "            (self): RobertaSelfAttention(\n",
       "              (query): Linear(in_features=768, out_features=768, bias=True)\n",
       "              (key): Linear(in_features=768, out_features=768, bias=True)\n",
       "              (value): Linear(in_features=768, out_features=768, bias=True)\n",
       "              (dropout): Dropout(p=0.1, inplace=False)\n",
       "            )\n",
       "            (output): RobertaSelfOutput(\n",
       "              (dense): Linear(in_features=768, out_features=768, bias=True)\n",
       "              (LayerNorm): LayerNorm((768,), eps=1e-05, elementwise_affine=True)\n",
       "              (dropout): Dropout(p=0.1, inplace=False)\n",
       "            )\n",
       "          )\n",
       "          (intermediate): RobertaIntermediate(\n",
       "            (dense): Linear(in_features=768, out_features=3072, bias=True)\n",
       "            (intermediate_act_fn): GELUActivation()\n",
       "          )\n",
       "          (output): RobertaOutput(\n",
       "            (dense): Linear(in_features=3072, out_features=768, bias=True)\n",
       "            (LayerNorm): LayerNorm((768,), eps=1e-05, elementwise_affine=True)\n",
       "            (dropout): Dropout(p=0.1, inplace=False)\n",
       "          )\n",
       "        )\n",
       "        (2): RobertaLayer(\n",
       "          (attention): RobertaAttention(\n",
       "            (self): RobertaSelfAttention(\n",
       "              (query): Linear(in_features=768, out_features=768, bias=True)\n",
       "              (key): Linear(in_features=768, out_features=768, bias=True)\n",
       "              (value): Linear(in_features=768, out_features=768, bias=True)\n",
       "              (dropout): Dropout(p=0.1, inplace=False)\n",
       "            )\n",
       "            (output): RobertaSelfOutput(\n",
       "              (dense): Linear(in_features=768, out_features=768, bias=True)\n",
       "              (LayerNorm): LayerNorm((768,), eps=1e-05, elementwise_affine=True)\n",
       "              (dropout): Dropout(p=0.1, inplace=False)\n",
       "            )\n",
       "          )\n",
       "          (intermediate): RobertaIntermediate(\n",
       "            (dense): Linear(in_features=768, out_features=3072, bias=True)\n",
       "            (intermediate_act_fn): GELUActivation()\n",
       "          )\n",
       "          (output): RobertaOutput(\n",
       "            (dense): Linear(in_features=3072, out_features=768, bias=True)\n",
       "            (LayerNorm): LayerNorm((768,), eps=1e-05, elementwise_affine=True)\n",
       "            (dropout): Dropout(p=0.1, inplace=False)\n",
       "          )\n",
       "        )\n",
       "        (3): RobertaLayer(\n",
       "          (attention): RobertaAttention(\n",
       "            (self): RobertaSelfAttention(\n",
       "              (query): Linear(in_features=768, out_features=768, bias=True)\n",
       "              (key): Linear(in_features=768, out_features=768, bias=True)\n",
       "              (value): Linear(in_features=768, out_features=768, bias=True)\n",
       "              (dropout): Dropout(p=0.1, inplace=False)\n",
       "            )\n",
       "            (output): RobertaSelfOutput(\n",
       "              (dense): Linear(in_features=768, out_features=768, bias=True)\n",
       "              (LayerNorm): LayerNorm((768,), eps=1e-05, elementwise_affine=True)\n",
       "              (dropout): Dropout(p=0.1, inplace=False)\n",
       "            )\n",
       "          )\n",
       "          (intermediate): RobertaIntermediate(\n",
       "            (dense): Linear(in_features=768, out_features=3072, bias=True)\n",
       "            (intermediate_act_fn): GELUActivation()\n",
       "          )\n",
       "          (output): RobertaOutput(\n",
       "            (dense): Linear(in_features=3072, out_features=768, bias=True)\n",
       "            (LayerNorm): LayerNorm((768,), eps=1e-05, elementwise_affine=True)\n",
       "            (dropout): Dropout(p=0.1, inplace=False)\n",
       "          )\n",
       "        )\n",
       "        (4): RobertaLayer(\n",
       "          (attention): RobertaAttention(\n",
       "            (self): RobertaSelfAttention(\n",
       "              (query): Linear(in_features=768, out_features=768, bias=True)\n",
       "              (key): Linear(in_features=768, out_features=768, bias=True)\n",
       "              (value): Linear(in_features=768, out_features=768, bias=True)\n",
       "              (dropout): Dropout(p=0.1, inplace=False)\n",
       "            )\n",
       "            (output): RobertaSelfOutput(\n",
       "              (dense): Linear(in_features=768, out_features=768, bias=True)\n",
       "              (LayerNorm): LayerNorm((768,), eps=1e-05, elementwise_affine=True)\n",
       "              (dropout): Dropout(p=0.1, inplace=False)\n",
       "            )\n",
       "          )\n",
       "          (intermediate): RobertaIntermediate(\n",
       "            (dense): Linear(in_features=768, out_features=3072, bias=True)\n",
       "            (intermediate_act_fn): GELUActivation()\n",
       "          )\n",
       "          (output): RobertaOutput(\n",
       "            (dense): Linear(in_features=3072, out_features=768, bias=True)\n",
       "            (LayerNorm): LayerNorm((768,), eps=1e-05, elementwise_affine=True)\n",
       "            (dropout): Dropout(p=0.1, inplace=False)\n",
       "          )\n",
       "        )\n",
       "        (5): RobertaLayer(\n",
       "          (attention): RobertaAttention(\n",
       "            (self): RobertaSelfAttention(\n",
       "              (query): Linear(in_features=768, out_features=768, bias=True)\n",
       "              (key): Linear(in_features=768, out_features=768, bias=True)\n",
       "              (value): Linear(in_features=768, out_features=768, bias=True)\n",
       "              (dropout): Dropout(p=0.1, inplace=False)\n",
       "            )\n",
       "            (output): RobertaSelfOutput(\n",
       "              (dense): Linear(in_features=768, out_features=768, bias=True)\n",
       "              (LayerNorm): LayerNorm((768,), eps=1e-05, elementwise_affine=True)\n",
       "              (dropout): Dropout(p=0.1, inplace=False)\n",
       "            )\n",
       "          )\n",
       "          (intermediate): RobertaIntermediate(\n",
       "            (dense): Linear(in_features=768, out_features=3072, bias=True)\n",
       "            (intermediate_act_fn): GELUActivation()\n",
       "          )\n",
       "          (output): RobertaOutput(\n",
       "            (dense): Linear(in_features=3072, out_features=768, bias=True)\n",
       "            (LayerNorm): LayerNorm((768,), eps=1e-05, elementwise_affine=True)\n",
       "            (dropout): Dropout(p=0.1, inplace=False)\n",
       "          )\n",
       "        )\n",
       "        (6): RobertaLayer(\n",
       "          (attention): RobertaAttention(\n",
       "            (self): RobertaSelfAttention(\n",
       "              (query): Linear(in_features=768, out_features=768, bias=True)\n",
       "              (key): Linear(in_features=768, out_features=768, bias=True)\n",
       "              (value): Linear(in_features=768, out_features=768, bias=True)\n",
       "              (dropout): Dropout(p=0.1, inplace=False)\n",
       "            )\n",
       "            (output): RobertaSelfOutput(\n",
       "              (dense): Linear(in_features=768, out_features=768, bias=True)\n",
       "              (LayerNorm): LayerNorm((768,), eps=1e-05, elementwise_affine=True)\n",
       "              (dropout): Dropout(p=0.1, inplace=False)\n",
       "            )\n",
       "          )\n",
       "          (intermediate): RobertaIntermediate(\n",
       "            (dense): Linear(in_features=768, out_features=3072, bias=True)\n",
       "            (intermediate_act_fn): GELUActivation()\n",
       "          )\n",
       "          (output): RobertaOutput(\n",
       "            (dense): Linear(in_features=3072, out_features=768, bias=True)\n",
       "            (LayerNorm): LayerNorm((768,), eps=1e-05, elementwise_affine=True)\n",
       "            (dropout): Dropout(p=0.1, inplace=False)\n",
       "          )\n",
       "        )\n",
       "        (7): RobertaLayer(\n",
       "          (attention): RobertaAttention(\n",
       "            (self): RobertaSelfAttention(\n",
       "              (query): Linear(in_features=768, out_features=768, bias=True)\n",
       "              (key): Linear(in_features=768, out_features=768, bias=True)\n",
       "              (value): Linear(in_features=768, out_features=768, bias=True)\n",
       "              (dropout): Dropout(p=0.1, inplace=False)\n",
       "            )\n",
       "            (output): RobertaSelfOutput(\n",
       "              (dense): Linear(in_features=768, out_features=768, bias=True)\n",
       "              (LayerNorm): LayerNorm((768,), eps=1e-05, elementwise_affine=True)\n",
       "              (dropout): Dropout(p=0.1, inplace=False)\n",
       "            )\n",
       "          )\n",
       "          (intermediate): RobertaIntermediate(\n",
       "            (dense): Linear(in_features=768, out_features=3072, bias=True)\n",
       "            (intermediate_act_fn): GELUActivation()\n",
       "          )\n",
       "          (output): RobertaOutput(\n",
       "            (dense): Linear(in_features=3072, out_features=768, bias=True)\n",
       "            (LayerNorm): LayerNorm((768,), eps=1e-05, elementwise_affine=True)\n",
       "            (dropout): Dropout(p=0.1, inplace=False)\n",
       "          )\n",
       "        )\n",
       "        (8): RobertaLayer(\n",
       "          (attention): RobertaAttention(\n",
       "            (self): RobertaSelfAttention(\n",
       "              (query): Linear(in_features=768, out_features=768, bias=True)\n",
       "              (key): Linear(in_features=768, out_features=768, bias=True)\n",
       "              (value): Linear(in_features=768, out_features=768, bias=True)\n",
       "              (dropout): Dropout(p=0.1, inplace=False)\n",
       "            )\n",
       "            (output): RobertaSelfOutput(\n",
       "              (dense): Linear(in_features=768, out_features=768, bias=True)\n",
       "              (LayerNorm): LayerNorm((768,), eps=1e-05, elementwise_affine=True)\n",
       "              (dropout): Dropout(p=0.1, inplace=False)\n",
       "            )\n",
       "          )\n",
       "          (intermediate): RobertaIntermediate(\n",
       "            (dense): Linear(in_features=768, out_features=3072, bias=True)\n",
       "            (intermediate_act_fn): GELUActivation()\n",
       "          )\n",
       "          (output): RobertaOutput(\n",
       "            (dense): Linear(in_features=3072, out_features=768, bias=True)\n",
       "            (LayerNorm): LayerNorm((768,), eps=1e-05, elementwise_affine=True)\n",
       "            (dropout): Dropout(p=0.1, inplace=False)\n",
       "          )\n",
       "        )\n",
       "        (9): RobertaLayer(\n",
       "          (attention): RobertaAttention(\n",
       "            (self): RobertaSelfAttention(\n",
       "              (query): Linear(in_features=768, out_features=768, bias=True)\n",
       "              (key): Linear(in_features=768, out_features=768, bias=True)\n",
       "              (value): Linear(in_features=768, out_features=768, bias=True)\n",
       "              (dropout): Dropout(p=0.1, inplace=False)\n",
       "            )\n",
       "            (output): RobertaSelfOutput(\n",
       "              (dense): Linear(in_features=768, out_features=768, bias=True)\n",
       "              (LayerNorm): LayerNorm((768,), eps=1e-05, elementwise_affine=True)\n",
       "              (dropout): Dropout(p=0.1, inplace=False)\n",
       "            )\n",
       "          )\n",
       "          (intermediate): RobertaIntermediate(\n",
       "            (dense): Linear(in_features=768, out_features=3072, bias=True)\n",
       "            (intermediate_act_fn): GELUActivation()\n",
       "          )\n",
       "          (output): RobertaOutput(\n",
       "            (dense): Linear(in_features=3072, out_features=768, bias=True)\n",
       "            (LayerNorm): LayerNorm((768,), eps=1e-05, elementwise_affine=True)\n",
       "            (dropout): Dropout(p=0.1, inplace=False)\n",
       "          )\n",
       "        )\n",
       "        (10): RobertaLayer(\n",
       "          (attention): RobertaAttention(\n",
       "            (self): RobertaSelfAttention(\n",
       "              (query): Linear(in_features=768, out_features=768, bias=True)\n",
       "              (key): Linear(in_features=768, out_features=768, bias=True)\n",
       "              (value): Linear(in_features=768, out_features=768, bias=True)\n",
       "              (dropout): Dropout(p=0.1, inplace=False)\n",
       "            )\n",
       "            (output): RobertaSelfOutput(\n",
       "              (dense): Linear(in_features=768, out_features=768, bias=True)\n",
       "              (LayerNorm): LayerNorm((768,), eps=1e-05, elementwise_affine=True)\n",
       "              (dropout): Dropout(p=0.1, inplace=False)\n",
       "            )\n",
       "          )\n",
       "          (intermediate): RobertaIntermediate(\n",
       "            (dense): Linear(in_features=768, out_features=3072, bias=True)\n",
       "            (intermediate_act_fn): GELUActivation()\n",
       "          )\n",
       "          (output): RobertaOutput(\n",
       "            (dense): Linear(in_features=3072, out_features=768, bias=True)\n",
       "            (LayerNorm): LayerNorm((768,), eps=1e-05, elementwise_affine=True)\n",
       "            (dropout): Dropout(p=0.1, inplace=False)\n",
       "          )\n",
       "        )\n",
       "        (11): RobertaLayer(\n",
       "          (attention): RobertaAttention(\n",
       "            (self): RobertaSelfAttention(\n",
       "              (query): Linear(in_features=768, out_features=768, bias=True)\n",
       "              (key): Linear(in_features=768, out_features=768, bias=True)\n",
       "              (value): Linear(in_features=768, out_features=768, bias=True)\n",
       "              (dropout): Dropout(p=0.1, inplace=False)\n",
       "            )\n",
       "            (output): RobertaSelfOutput(\n",
       "              (dense): Linear(in_features=768, out_features=768, bias=True)\n",
       "              (LayerNorm): LayerNorm((768,), eps=1e-05, elementwise_affine=True)\n",
       "              (dropout): Dropout(p=0.1, inplace=False)\n",
       "            )\n",
       "          )\n",
       "          (intermediate): RobertaIntermediate(\n",
       "            (dense): Linear(in_features=768, out_features=3072, bias=True)\n",
       "            (intermediate_act_fn): GELUActivation()\n",
       "          )\n",
       "          (output): RobertaOutput(\n",
       "            (dense): Linear(in_features=3072, out_features=768, bias=True)\n",
       "            (LayerNorm): LayerNorm((768,), eps=1e-05, elementwise_affine=True)\n",
       "            (dropout): Dropout(p=0.1, inplace=False)\n",
       "          )\n",
       "        )\n",
       "      )\n",
       "    )\n",
       "    (pooler): RobertaPooler(\n",
       "      (dense): Linear(in_features=768, out_features=768, bias=True)\n",
       "      (activation): Tanh()\n",
       "    )\n",
       "  )\n",
       "  (Head): Sequential(\n",
       "    (0): Dropout(p=0.3, inplace=False)\n",
       "    (1): Linear(in_features=768, out_features=2, bias=True)\n",
       "  )\n",
       ")"
      ]
     },
     "execution_count": 26,
     "metadata": {},
     "output_type": "execute_result"
    }
   ],
   "source": [
    "model.to(device)"
   ]
  },
  {
   "cell_type": "code",
   "execution_count": 27,
   "id": "3e1c0ffa",
   "metadata": {
    "execution": {
     "iopub.execute_input": "2023-04-05T23:09:24.521884Z",
     "iopub.status.busy": "2023-04-05T23:09:24.521242Z",
     "iopub.status.idle": "2023-04-05T23:09:26.132631Z",
     "shell.execute_reply": "2023-04-05T23:09:26.131576Z"
    },
    "papermill": {
     "duration": 1.634303,
     "end_time": "2023-04-05T23:09:26.134951",
     "exception": false,
     "start_time": "2023-04-05T23:09:24.500648",
     "status": "completed"
    },
    "tags": []
   },
   "outputs": [
    {
     "data": {
      "text/plain": [
       "tensor([[-0.1332,  0.0338]], device='cuda:0', grad_fn=<AddmmBackward0>)"
      ]
     },
     "execution_count": 27,
     "metadata": {},
     "output_type": "execute_result"
    }
   ],
   "source": [
    "model(torch.tensor([[1]], device=device))"
   ]
  },
  {
   "cell_type": "code",
   "execution_count": 28,
   "id": "33886acd",
   "metadata": {
    "execution": {
     "iopub.execute_input": "2023-04-05T23:09:26.172955Z",
     "iopub.status.busy": "2023-04-05T23:09:26.172393Z",
     "iopub.status.idle": "2023-04-05T23:09:26.178696Z",
     "shell.execute_reply": "2023-04-05T23:09:26.177649Z"
    },
    "papermill": {
     "duration": 0.02801,
     "end_time": "2023-04-05T23:09:26.181055",
     "exception": false,
     "start_time": "2023-04-05T23:09:26.153045",
     "status": "completed"
    },
    "tags": []
   },
   "outputs": [
    {
     "name": "stdout",
     "output_type": "stream",
     "text": [
      "Our Roberta has 124,647,170 parameters...\n"
     ]
    }
   ],
   "source": [
    "print('Our Roberta has {:,d} parameters...'.format(model.parameters_num()))"
   ]
  },
  {
   "cell_type": "markdown",
   "id": "b2f4581b",
   "metadata": {
    "papermill": {
     "duration": 0.018576,
     "end_time": "2023-04-05T23:09:26.218049",
     "exception": false,
     "start_time": "2023-04-05T23:09:26.199473",
     "status": "completed"
    },
    "tags": []
   },
   "source": [
    "## Fine-tuning"
   ]
  },
  {
   "cell_type": "code",
   "execution_count": 29,
   "id": "1c2e5063",
   "metadata": {
    "execution": {
     "iopub.execute_input": "2023-04-05T23:09:26.257498Z",
     "iopub.status.busy": "2023-04-05T23:09:26.256386Z",
     "iopub.status.idle": "2023-04-05T23:09:26.262017Z",
     "shell.execute_reply": "2023-04-05T23:09:26.260932Z"
    },
    "papermill": {
     "duration": 0.027599,
     "end_time": "2023-04-05T23:09:26.264154",
     "exception": false,
     "start_time": "2023-04-05T23:09:26.236555",
     "status": "completed"
    },
    "tags": []
   },
   "outputs": [],
   "source": [
    "from torch.utils.data import DataLoader"
   ]
  },
  {
   "cell_type": "code",
   "execution_count": 30,
   "id": "4a3d05eb",
   "metadata": {
    "execution": {
     "iopub.execute_input": "2023-04-05T23:09:26.302946Z",
     "iopub.status.busy": "2023-04-05T23:09:26.302569Z",
     "iopub.status.idle": "2023-04-05T23:09:26.307583Z",
     "shell.execute_reply": "2023-04-05T23:09:26.306329Z"
    },
    "papermill": {
     "duration": 0.027014,
     "end_time": "2023-04-05T23:09:26.309925",
     "exception": false,
     "start_time": "2023-04-05T23:09:26.282911",
     "status": "completed"
    },
    "tags": []
   },
   "outputs": [],
   "source": [
    "batch_size = 8"
   ]
  },
  {
   "cell_type": "code",
   "execution_count": 31,
   "id": "738949b7",
   "metadata": {
    "execution": {
     "iopub.execute_input": "2023-04-05T23:09:26.348230Z",
     "iopub.status.busy": "2023-04-05T23:09:26.347913Z",
     "iopub.status.idle": "2023-04-05T23:09:26.353546Z",
     "shell.execute_reply": "2023-04-05T23:09:26.352430Z"
    },
    "papermill": {
     "duration": 0.027488,
     "end_time": "2023-04-05T23:09:26.355737",
     "exception": false,
     "start_time": "2023-04-05T23:09:26.328249",
     "status": "completed"
    },
    "tags": []
   },
   "outputs": [],
   "source": [
    "train_dataloader = DataLoader(\n",
    "    train_dataset, \n",
    "    batch_size=batch_size, \n",
    "    shuffle=True\n",
    ")\n",
    "\n",
    "valid_dataloader = DataLoader(\n",
    "    valid_dataset,\n",
    "    batch_size=batch_size,\n",
    "    shuffle=True\n",
    ")"
   ]
  },
  {
   "cell_type": "code",
   "execution_count": 32,
   "id": "87c405c3",
   "metadata": {
    "execution": {
     "iopub.execute_input": "2023-04-05T23:09:26.397397Z",
     "iopub.status.busy": "2023-04-05T23:09:26.397009Z",
     "iopub.status.idle": "2023-04-05T23:09:27.185165Z",
     "shell.execute_reply": "2023-04-05T23:09:27.184111Z"
    },
    "papermill": {
     "duration": 0.812837,
     "end_time": "2023-04-05T23:09:27.188005",
     "exception": false,
     "start_time": "2023-04-05T23:09:26.375168",
     "status": "completed"
    },
    "tags": []
   },
   "outputs": [],
   "source": [
    "from sklearn.metrics import accuracy_score, precision_score, recall_score, f1_score"
   ]
  },
  {
   "cell_type": "code",
   "execution_count": 33,
   "id": "f6d8183f",
   "metadata": {
    "execution": {
     "iopub.execute_input": "2023-04-05T23:09:27.226073Z",
     "iopub.status.busy": "2023-04-05T23:09:27.225699Z",
     "iopub.status.idle": "2023-04-05T23:09:27.243334Z",
     "shell.execute_reply": "2023-04-05T23:09:27.242117Z"
    },
    "papermill": {
     "duration": 0.039591,
     "end_time": "2023-04-05T23:09:27.245855",
     "exception": false,
     "start_time": "2023-04-05T23:09:27.206264",
     "status": "completed"
    },
    "tags": []
   },
   "outputs": [],
   "source": [
    "def train(model, \n",
    "          train_dataloader, \n",
    "          valid_dataloader, \n",
    "          steps, \n",
    "          optimizer,\n",
    "          blind_steps=None,\n",
    "          loss_fn=torch.nn.BCELoss(),\n",
    "          main_metric=('f1', f1_score), \n",
    "          additional_metrics=[],\n",
    "          filepath='model_sd.pt',\n",
    "          load_best=True):\n",
    "    \n",
    "    if blind_steps == None:\n",
    "        blind_steps = len(train_dataloader) // 4\n",
    "    \n",
    "    def evaluate():  # the first score returned is the main\n",
    "        model.eval()\n",
    "        \n",
    "        y_trues = []\n",
    "        y_hats = []\n",
    "        \n",
    "        loss = 0\n",
    "        k = 0\n",
    "        \n",
    "        with torch.no_grad():\n",
    "            for batch in valid_dataloader:\n",
    "                \n",
    "                (ids, mask), y_true = batch\n",
    "                hots = torch.nn.functional.one_hot(y_true, 2).to(device, torch.float)\n",
    "                y_hat = torch.softmax(model.forward(input_ids=ids, attention_mask=mask),dim=-1)\n",
    "\n",
    "                loss += float(loss_fn(y_hat, hots))\n",
    "                k += 1\n",
    "                \n",
    "                for i in range(y_true.shape[0]):\n",
    "                    y_trues.append(int(y_true[i]))\n",
    "                    y_hats.append(1 if y_hat[i][0] < y_hat[i][1] else 0)\n",
    "        \n",
    "        scores = [(main_metric[0], main_metric[1](y_trues, y_hats))]\n",
    "        \n",
    "        for metric in additional_metrics:\n",
    "            scores.append((metric[0], metric[1](y_trues, y_hats)))        \n",
    "        \n",
    "        model.train()\n",
    "        return scores + [('valid_loss', loss/k)]\n",
    "    \n",
    "    \n",
    "    def render_scores(scores, step, best=None):\n",
    "        print('{:05d} steps'.format(step), end=' ')\n",
    "        \n",
    "        for score in scores:\n",
    "            print(\"| {}: {:.3f}\".format(*score), end=' ')\n",
    "            \n",
    "        if best != None:\n",
    "            print('| best_score: {:.3f}'.format(best))\n",
    "    \n",
    "    train_iter = iter(train_dataloader)\n",
    "    model.train()\n",
    "    \n",
    "    scores = evaluate()\n",
    "    render_scores(scores, 0)\n",
    "    best_score = .7 # threshold\n",
    "    torch.save(model.state_dict(), filepath)\n",
    "    \n",
    "    epoch_loss = 0\n",
    "    k = 0\n",
    "    \n",
    "    for step in tqdm(range(steps)):\n",
    "        \n",
    "        \n",
    "        try:\n",
    "            batch = next(train_iter)\n",
    "        except:\n",
    "            train_iter = iter(train_dataloader)\n",
    "            batch = next(train_iter)\n",
    "\n",
    "        (ids, mask), y_true = batch\n",
    "\n",
    "        model.zero_grad()\n",
    "        y_hat = torch.softmax(model.forward(input_ids=ids, attention_mask=mask),dim=-1)\n",
    "\n",
    "        hots = torch.nn.functional.one_hot(y_true, 2).to(device, torch.float)\n",
    "        loss = loss_fn(y_hat, hots)\n",
    "        loss.backward()\n",
    "\n",
    "        optimizer.step()\n",
    "\n",
    "        epoch_loss += float(loss)\n",
    "        k+=1\n",
    "\n",
    "        if (step + 1) % blind_steps == 0:\n",
    "            scores = evaluate() + [('train_loss', epoch_loss/k)]\n",
    "            if scores[0][1] > best_score:\n",
    "                best_score = scores[0][1]\n",
    "                torch.save(model.state_dict(), filepath)\n",
    "            render_scores(scores, step + 1, best=best_score)\n",
    "            epoch_loss = 0\n",
    "            k = 0\n",
    "                \n",
    "    if load_best:\n",
    "        model.load_state_dict(torch.load(filepath))"
   ]
  },
  {
   "cell_type": "code",
   "execution_count": 34,
   "id": "babd23f6",
   "metadata": {
    "execution": {
     "iopub.execute_input": "2023-04-05T23:09:27.286205Z",
     "iopub.status.busy": "2023-04-05T23:09:27.285320Z",
     "iopub.status.idle": "2023-04-05T23:09:27.292540Z",
     "shell.execute_reply": "2023-04-05T23:09:27.291395Z"
    },
    "papermill": {
     "duration": 0.029626,
     "end_time": "2023-04-05T23:09:27.294730",
     "exception": false,
     "start_time": "2023-04-05T23:09:27.265104",
     "status": "completed"
    },
    "tags": []
   },
   "outputs": [],
   "source": [
    "optimizer = torch.optim.Adam(model.parameters(), lr=1e-6)"
   ]
  },
  {
   "cell_type": "code",
   "execution_count": 35,
   "id": "37ff6dd5",
   "metadata": {
    "execution": {
     "iopub.execute_input": "2023-04-05T23:09:27.334108Z",
     "iopub.status.busy": "2023-04-05T23:09:27.333493Z",
     "iopub.status.idle": "2023-04-05T23:53:52.356882Z",
     "shell.execute_reply": "2023-04-05T23:53:52.355782Z"
    },
    "papermill": {
     "duration": 2665.045966,
     "end_time": "2023-04-05T23:53:52.359823",
     "exception": false,
     "start_time": "2023-04-05T23:09:27.313857",
     "status": "completed"
    },
    "tags": []
   },
   "outputs": [
    {
     "name": "stdout",
     "output_type": "stream",
     "text": [
      "00000 steps | f1: 0.342 | precision: 0.410 | recall: 0.293 | accuracy: 0.523 | valid_loss: 0.693 "
     ]
    },
    {
     "name": "stderr",
     "output_type": "stream",
     "text": [
      "  2%|▏         | 249/11000 [00:53<38:48,  4.62it/s]/opt/conda/lib/python3.7/site-packages/sklearn/metrics/_classification.py:1318: UndefinedMetricWarning: Precision is ill-defined and being set to 0.0 due to no predicted samples. Use `zero_division` parameter to control this behavior.\n",
      "  _warn_prf(average, modifier, msg_start, len(result))\n",
      "  2%|▏         | 250/11000 [01:00<6:05:47,  2.04s/it]"
     ]
    },
    {
     "name": "stdout",
     "output_type": "stream",
     "text": [
      "00250 steps | f1: 0.000 | precision: 0.000 | recall: 0.000 | accuracy: 0.578 | valid_loss: 0.673 | train_loss: 0.686 | best_score: 0.700\n"
     ]
    },
    {
     "name": "stderr",
     "output_type": "stream",
     "text": [
      "  5%|▍         | 500/11000 [02:01<6:51:32,  2.35s/it]"
     ]
    },
    {
     "name": "stdout",
     "output_type": "stream",
     "text": [
      "00500 steps | f1: 0.781 | precision: 0.786 | recall: 0.776 | accuracy: 0.816 | valid_loss: 0.457 | train_loss: 0.630 | best_score: 0.781\n"
     ]
    },
    {
     "name": "stderr",
     "output_type": "stream",
     "text": [
      "  7%|▋         | 750/11000 [03:02<6:41:40,  2.35s/it]"
     ]
    },
    {
     "name": "stdout",
     "output_type": "stream",
     "text": [
      "00750 steps | f1: 0.792 | precision: 0.816 | recall: 0.770 | accuracy: 0.830 | valid_loss: 0.405 | train_loss: 0.436 | best_score: 0.792\n"
     ]
    },
    {
     "name": "stderr",
     "output_type": "stream",
     "text": [
      "  9%|▉         | 1000/11000 [04:03<5:39:23,  2.04s/it]"
     ]
    },
    {
     "name": "stdout",
     "output_type": "stream",
     "text": [
      "01000 steps | f1: 0.790 | precision: 0.815 | recall: 0.767 | accuracy: 0.828 | valid_loss: 0.399 | train_loss: 0.399 | best_score: 0.792\n"
     ]
    },
    {
     "name": "stderr",
     "output_type": "stream",
     "text": [
      " 11%|█▏        | 1250/11000 [05:03<5:30:57,  2.04s/it]"
     ]
    },
    {
     "name": "stdout",
     "output_type": "stream",
     "text": [
      "01250 steps | f1: 0.786 | precision: 0.796 | recall: 0.776 | accuracy: 0.822 | valid_loss: 0.400 | train_loss: 0.409 | best_score: 0.792\n"
     ]
    },
    {
     "name": "stderr",
     "output_type": "stream",
     "text": [
      " 14%|█▎        | 1500/11000 [06:04<6:11:56,  2.35s/it]"
     ]
    },
    {
     "name": "stdout",
     "output_type": "stream",
     "text": [
      "01500 steps | f1: 0.799 | precision: 0.803 | recall: 0.795 | accuracy: 0.831 | valid_loss: 0.400 | train_loss: 0.381 | best_score: 0.799\n"
     ]
    },
    {
     "name": "stderr",
     "output_type": "stream",
     "text": [
      " 16%|█▌        | 1750/11000 [07:04<5:13:54,  2.04s/it]"
     ]
    },
    {
     "name": "stdout",
     "output_type": "stream",
     "text": [
      "01750 steps | f1: 0.786 | precision: 0.790 | recall: 0.782 | accuracy: 0.820 | valid_loss: 0.403 | train_loss: 0.390 | best_score: 0.799\n"
     ]
    },
    {
     "name": "stderr",
     "output_type": "stream",
     "text": [
      " 18%|█▊        | 2000/11000 [08:05<5:05:11,  2.03s/it]"
     ]
    },
    {
     "name": "stdout",
     "output_type": "stream",
     "text": [
      "02000 steps | f1: 0.796 | precision: 0.791 | recall: 0.801 | accuracy: 0.827 | valid_loss: 0.407 | train_loss: 0.381 | best_score: 0.799\n"
     ]
    },
    {
     "name": "stderr",
     "output_type": "stream",
     "text": [
      " 20%|██        | 2250/11000 [09:05<4:57:00,  2.04s/it]"
     ]
    },
    {
     "name": "stdout",
     "output_type": "stream",
     "text": [
      "02250 steps | f1: 0.793 | precision: 0.819 | recall: 0.770 | accuracy: 0.831 | valid_loss: 0.393 | train_loss: 0.375 | best_score: 0.799\n"
     ]
    },
    {
     "name": "stderr",
     "output_type": "stream",
     "text": [
      " 23%|██▎       | 2500/11000 [10:05<4:48:28,  2.04s/it]"
     ]
    },
    {
     "name": "stdout",
     "output_type": "stream",
     "text": [
      "02500 steps | f1: 0.784 | precision: 0.779 | recall: 0.789 | accuracy: 0.816 | valid_loss: 0.408 | train_loss: 0.351 | best_score: 0.799\n"
     ]
    },
    {
     "name": "stderr",
     "output_type": "stream",
     "text": [
      " 25%|██▌       | 2750/11000 [11:05<4:40:22,  2.04s/it]"
     ]
    },
    {
     "name": "stdout",
     "output_type": "stream",
     "text": [
      "02750 steps | f1: 0.789 | precision: 0.787 | recall: 0.792 | accuracy: 0.822 | valid_loss: 0.407 | train_loss: 0.350 | best_score: 0.799\n"
     ]
    },
    {
     "name": "stderr",
     "output_type": "stream",
     "text": [
      " 27%|██▋       | 3000/11000 [12:06<4:31:15,  2.03s/it]"
     ]
    },
    {
     "name": "stdout",
     "output_type": "stream",
     "text": [
      "03000 steps | f1: 0.788 | precision: 0.801 | recall: 0.776 | accuracy: 0.824 | valid_loss: 0.405 | train_loss: 0.353 | best_score: 0.799\n"
     ]
    },
    {
     "name": "stderr",
     "output_type": "stream",
     "text": [
      " 30%|██▉       | 3250/11000 [13:06<4:22:50,  2.03s/it]"
     ]
    },
    {
     "name": "stdout",
     "output_type": "stream",
     "text": [
      "03250 steps | f1: 0.787 | precision: 0.782 | recall: 0.792 | accuracy: 0.819 | valid_loss: 0.407 | train_loss: 0.352 | best_score: 0.799\n"
     ]
    },
    {
     "name": "stderr",
     "output_type": "stream",
     "text": [
      " 32%|███▏      | 3500/11000 [14:06<4:14:30,  2.04s/it]"
     ]
    },
    {
     "name": "stdout",
     "output_type": "stream",
     "text": [
      "03500 steps | f1: 0.788 | precision: 0.803 | recall: 0.773 | accuracy: 0.824 | valid_loss: 0.410 | train_loss: 0.322 | best_score: 0.799\n"
     ]
    },
    {
     "name": "stderr",
     "output_type": "stream",
     "text": [
      " 34%|███▍      | 3750/11000 [15:06<4:06:16,  2.04s/it]"
     ]
    },
    {
     "name": "stdout",
     "output_type": "stream",
     "text": [
      "03750 steps | f1: 0.794 | precision: 0.810 | recall: 0.779 | accuracy: 0.830 | valid_loss: 0.399 | train_loss: 0.347 | best_score: 0.799\n"
     ]
    },
    {
     "name": "stderr",
     "output_type": "stream",
     "text": [
      " 36%|███▋      | 4000/11000 [16:07<3:57:36,  2.04s/it]"
     ]
    },
    {
     "name": "stdout",
     "output_type": "stream",
     "text": [
      "04000 steps | f1: 0.791 | precision: 0.807 | recall: 0.776 | accuracy: 0.827 | valid_loss: 0.409 | train_loss: 0.326 | best_score: 0.799\n"
     ]
    },
    {
     "name": "stderr",
     "output_type": "stream",
     "text": [
      " 39%|███▊      | 4250/11000 [17:07<3:49:03,  2.04s/it]"
     ]
    },
    {
     "name": "stdout",
     "output_type": "stream",
     "text": [
      "04250 steps | f1: 0.795 | precision: 0.768 | recall: 0.823 | accuracy: 0.820 | valid_loss: 0.453 | train_loss: 0.314 | best_score: 0.799\n"
     ]
    },
    {
     "name": "stderr",
     "output_type": "stream",
     "text": [
      " 41%|████      | 4500/11000 [18:07<3:40:30,  2.04s/it]"
     ]
    },
    {
     "name": "stdout",
     "output_type": "stream",
     "text": [
      "04500 steps | f1: 0.791 | precision: 0.782 | recall: 0.801 | accuracy: 0.822 | valid_loss: 0.426 | train_loss: 0.321 | best_score: 0.799\n"
     ]
    },
    {
     "name": "stderr",
     "output_type": "stream",
     "text": [
      " 43%|████▎     | 4750/11000 [19:08<3:32:29,  2.04s/it]"
     ]
    },
    {
     "name": "stdout",
     "output_type": "stream",
     "text": [
      "04750 steps | f1: 0.789 | precision: 0.835 | recall: 0.748 | accuracy: 0.831 | valid_loss: 0.411 | train_loss: 0.307 | best_score: 0.799\n"
     ]
    },
    {
     "name": "stderr",
     "output_type": "stream",
     "text": [
      " 45%|████▌     | 5000/11000 [20:08<3:24:23,  2.04s/it]"
     ]
    },
    {
     "name": "stdout",
     "output_type": "stream",
     "text": [
      "05000 steps | f1: 0.784 | precision: 0.773 | recall: 0.795 | accuracy: 0.815 | valid_loss: 0.432 | train_loss: 0.322 | best_score: 0.799\n"
     ]
    },
    {
     "name": "stderr",
     "output_type": "stream",
     "text": [
      " 48%|████▊     | 5250/11000 [21:08<3:15:32,  2.04s/it]"
     ]
    },
    {
     "name": "stdout",
     "output_type": "stream",
     "text": [
      "05250 steps | f1: 0.796 | precision: 0.799 | recall: 0.792 | accuracy: 0.828 | valid_loss: 0.423 | train_loss: 0.302 | best_score: 0.799\n"
     ]
    },
    {
     "name": "stderr",
     "output_type": "stream",
     "text": [
      " 50%|█████     | 5500/11000 [22:09<3:06:41,  2.04s/it]"
     ]
    },
    {
     "name": "stdout",
     "output_type": "stream",
     "text": [
      "05500 steps | f1: 0.797 | precision: 0.806 | recall: 0.789 | accuracy: 0.831 | valid_loss: 0.420 | train_loss: 0.311 | best_score: 0.799\n"
     ]
    },
    {
     "name": "stderr",
     "output_type": "stream",
     "text": [
      " 52%|█████▏    | 5750/11000 [23:09<2:58:04,  2.04s/it]"
     ]
    },
    {
     "name": "stdout",
     "output_type": "stream",
     "text": [
      "05750 steps | f1: 0.799 | precision: 0.837 | recall: 0.763 | accuracy: 0.838 | valid_loss: 0.416 | train_loss: 0.281 | best_score: 0.799\n"
     ]
    },
    {
     "name": "stderr",
     "output_type": "stream",
     "text": [
      " 55%|█████▍    | 6000/11000 [24:10<3:15:09,  2.34s/it]"
     ]
    },
    {
     "name": "stdout",
     "output_type": "stream",
     "text": [
      "06000 steps | f1: 0.805 | precision: 0.832 | recall: 0.779 | accuracy: 0.840 | valid_loss: 0.424 | train_loss: 0.296 | best_score: 0.805\n"
     ]
    },
    {
     "name": "stderr",
     "output_type": "stream",
     "text": [
      " 57%|█████▋    | 6250/11000 [25:10<2:41:13,  2.04s/it]"
     ]
    },
    {
     "name": "stdout",
     "output_type": "stream",
     "text": [
      "06250 steps | f1: 0.799 | precision: 0.821 | recall: 0.779 | accuracy: 0.835 | valid_loss: 0.437 | train_loss: 0.276 | best_score: 0.805\n"
     ]
    },
    {
     "name": "stderr",
     "output_type": "stream",
     "text": [
      " 59%|█████▉    | 6500/11000 [26:11<2:32:59,  2.04s/it]"
     ]
    },
    {
     "name": "stdout",
     "output_type": "stream",
     "text": [
      "06500 steps | f1: 0.796 | precision: 0.824 | recall: 0.770 | accuracy: 0.834 | valid_loss: 0.429 | train_loss: 0.290 | best_score: 0.805\n"
     ]
    },
    {
     "name": "stderr",
     "output_type": "stream",
     "text": [
      " 61%|██████▏   | 6750/11000 [27:11<2:24:18,  2.04s/it]"
     ]
    },
    {
     "name": "stdout",
     "output_type": "stream",
     "text": [
      "06750 steps | f1: 0.793 | precision: 0.849 | recall: 0.744 | accuracy: 0.836 | valid_loss: 0.415 | train_loss: 0.289 | best_score: 0.805\n"
     ]
    },
    {
     "name": "stderr",
     "output_type": "stream",
     "text": [
      " 64%|██████▎   | 7000/11000 [28:12<2:16:00,  2.04s/it]"
     ]
    },
    {
     "name": "stdout",
     "output_type": "stream",
     "text": [
      "07000 steps | f1: 0.790 | precision: 0.845 | recall: 0.741 | accuracy: 0.834 | valid_loss: 0.435 | train_loss: 0.254 | best_score: 0.805\n"
     ]
    },
    {
     "name": "stderr",
     "output_type": "stream",
     "text": [
      " 66%|██████▌   | 7250/11000 [29:12<2:07:28,  2.04s/it]"
     ]
    },
    {
     "name": "stdout",
     "output_type": "stream",
     "text": [
      "07250 steps | f1: 0.799 | precision: 0.814 | recall: 0.785 | accuracy: 0.834 | valid_loss: 0.447 | train_loss: 0.258 | best_score: 0.805\n"
     ]
    },
    {
     "name": "stderr",
     "output_type": "stream",
     "text": [
      " 68%|██████▊   | 7500/11000 [30:12<1:59:11,  2.04s/it]"
     ]
    },
    {
     "name": "stdout",
     "output_type": "stream",
     "text": [
      "07500 steps | f1: 0.790 | precision: 0.797 | recall: 0.782 | accuracy: 0.824 | valid_loss: 0.452 | train_loss: 0.278 | best_score: 0.805\n"
     ]
    },
    {
     "name": "stderr",
     "output_type": "stream",
     "text": [
      " 70%|███████   | 7750/11000 [31:13<1:50:37,  2.04s/it]"
     ]
    },
    {
     "name": "stdout",
     "output_type": "stream",
     "text": [
      "07750 steps | f1: 0.796 | precision: 0.817 | recall: 0.776 | accuracy: 0.832 | valid_loss: 0.451 | train_loss: 0.259 | best_score: 0.805\n"
     ]
    },
    {
     "name": "stderr",
     "output_type": "stream",
     "text": [
      " 73%|███████▎  | 8000/11000 [32:13<1:42:01,  2.04s/it]"
     ]
    },
    {
     "name": "stdout",
     "output_type": "stream",
     "text": [
      "08000 steps | f1: 0.803 | precision: 0.808 | recall: 0.798 | accuracy: 0.835 | valid_loss: 0.462 | train_loss: 0.267 | best_score: 0.805\n"
     ]
    },
    {
     "name": "stderr",
     "output_type": "stream",
     "text": [
      " 75%|███████▌  | 8250/11000 [33:13<1:33:20,  2.04s/it]"
     ]
    },
    {
     "name": "stdout",
     "output_type": "stream",
     "text": [
      "08250 steps | f1: 0.794 | precision: 0.824 | recall: 0.767 | accuracy: 0.832 | valid_loss: 0.460 | train_loss: 0.235 | best_score: 0.805\n"
     ]
    },
    {
     "name": "stderr",
     "output_type": "stream",
     "text": [
      " 77%|███████▋  | 8500/11000 [34:14<1:25:00,  2.04s/it]"
     ]
    },
    {
     "name": "stdout",
     "output_type": "stream",
     "text": [
      "08500 steps | f1: 0.785 | precision: 0.785 | recall: 0.785 | accuracy: 0.819 | valid_loss: 0.479 | train_loss: 0.254 | best_score: 0.805\n"
     ]
    },
    {
     "name": "stderr",
     "output_type": "stream",
     "text": [
      " 80%|███████▉  | 8750/11000 [35:14<1:16:26,  2.04s/it]"
     ]
    },
    {
     "name": "stdout",
     "output_type": "stream",
     "text": [
      "08750 steps | f1: 0.797 | precision: 0.806 | recall: 0.789 | accuracy: 0.831 | valid_loss: 0.482 | train_loss: 0.247 | best_score: 0.805\n"
     ]
    },
    {
     "name": "stderr",
     "output_type": "stream",
     "text": [
      " 82%|████████▏ | 9000/11000 [36:14<1:07:57,  2.04s/it]"
     ]
    },
    {
     "name": "stdout",
     "output_type": "stream",
     "text": [
      "09000 steps | f1: 0.792 | precision: 0.786 | recall: 0.798 | accuracy: 0.823 | valid_loss: 0.486 | train_loss: 0.239 | best_score: 0.805\n"
     ]
    },
    {
     "name": "stderr",
     "output_type": "stream",
     "text": [
      " 84%|████████▍ | 9250/11000 [37:15<59:28,  2.04s/it]"
     ]
    },
    {
     "name": "stdout",
     "output_type": "stream",
     "text": [
      "09250 steps | f1: 0.801 | precision: 0.828 | recall: 0.776 | accuracy: 0.838 | valid_loss: 0.482 | train_loss: 0.238 | best_score: 0.805\n"
     ]
    },
    {
     "name": "stderr",
     "output_type": "stream",
     "text": [
      " 86%|████████▋ | 9500/11000 [38:15<50:56,  2.04s/it]"
     ]
    },
    {
     "name": "stdout",
     "output_type": "stream",
     "text": [
      "09500 steps | f1: 0.792 | precision: 0.805 | recall: 0.779 | accuracy: 0.827 | valid_loss: 0.490 | train_loss: 0.220 | best_score: 0.805\n"
     ]
    },
    {
     "name": "stderr",
     "output_type": "stream",
     "text": [
      " 89%|████████▊ | 9750/11000 [39:15<42:28,  2.04s/it]"
     ]
    },
    {
     "name": "stdout",
     "output_type": "stream",
     "text": [
      "09750 steps | f1: 0.778 | precision: 0.783 | recall: 0.773 | accuracy: 0.814 | valid_loss: 0.502 | train_loss: 0.221 | best_score: 0.805\n"
     ]
    },
    {
     "name": "stderr",
     "output_type": "stream",
     "text": [
      " 91%|█████████ | 10000/11000 [40:16<34:00,  2.04s/it]"
     ]
    },
    {
     "name": "stdout",
     "output_type": "stream",
     "text": [
      "10000 steps | f1: 0.782 | precision: 0.788 | recall: 0.776 | accuracy: 0.818 | valid_loss: 0.476 | train_loss: 0.241 | best_score: 0.805\n"
     ]
    },
    {
     "name": "stderr",
     "output_type": "stream",
     "text": [
      " 93%|█████████▎| 10250/11000 [41:16<25:30,  2.04s/it]"
     ]
    },
    {
     "name": "stdout",
     "output_type": "stream",
     "text": [
      "10250 steps | f1: 0.785 | precision: 0.785 | recall: 0.785 | accuracy: 0.819 | valid_loss: 0.509 | train_loss: 0.204 | best_score: 0.805\n"
     ]
    },
    {
     "name": "stderr",
     "output_type": "stream",
     "text": [
      " 95%|█████████▌| 10500/11000 [42:17<17:01,  2.04s/it]"
     ]
    },
    {
     "name": "stdout",
     "output_type": "stream",
     "text": [
      "10500 steps | f1: 0.782 | precision: 0.767 | recall: 0.798 | accuracy: 0.812 | valid_loss: 0.540 | train_loss: 0.211 | best_score: 0.805\n"
     ]
    },
    {
     "name": "stderr",
     "output_type": "stream",
     "text": [
      " 98%|█████████▊| 10750/11000 [43:17<08:29,  2.04s/it]"
     ]
    },
    {
     "name": "stdout",
     "output_type": "stream",
     "text": [
      "10750 steps | f1: 0.779 | precision: 0.773 | recall: 0.785 | accuracy: 0.812 | valid_loss: 0.532 | train_loss: 0.221 | best_score: 0.805\n"
     ]
    },
    {
     "name": "stderr",
     "output_type": "stream",
     "text": [
      "100%|██████████| 11000/11000 [44:17<00:00,  4.14it/s]"
     ]
    },
    {
     "name": "stdout",
     "output_type": "stream",
     "text": [
      "11000 steps | f1: 0.777 | precision: 0.778 | recall: 0.776 | accuracy: 0.812 | valid_loss: 0.535 | train_loss: 0.208 | best_score: 0.805\n"
     ]
    },
    {
     "name": "stderr",
     "output_type": "stream",
     "text": [
      "\n"
     ]
    }
   ],
   "source": [
    "train(model, \n",
    "      train_dataloader, \n",
    "      valid_dataloader, \n",
    "      11000, \n",
    "      optimizer, \n",
    "      blind_steps=250, \n",
    "      additional_metrics=[('precision', precision_score), ('recall', recall_score),('accuracy', accuracy_score)])"
   ]
  },
  {
   "cell_type": "code",
   "execution_count": 36,
   "id": "068b15e0",
   "metadata": {
    "execution": {
     "iopub.execute_input": "2023-04-05T23:53:53.734657Z",
     "iopub.status.busy": "2023-04-05T23:53:53.734224Z",
     "iopub.status.idle": "2023-04-06T00:14:09.803811Z",
     "shell.execute_reply": "2023-04-06T00:14:09.802660Z"
    },
    "papermill": {
     "duration": 1216.701968,
     "end_time": "2023-04-06T00:14:09.807032",
     "exception": false,
     "start_time": "2023-04-05T23:53:53.105064",
     "status": "completed"
    },
    "tags": []
   },
   "outputs": [
    {
     "name": "stdout",
     "output_type": "stream",
     "text": [
      "00000 steps | f1: 0.805 | precision: 0.832 | recall: 0.779 | accuracy: 0.840 | valid_loss: 0.424 "
     ]
    },
    {
     "name": "stderr",
     "output_type": "stream",
     "text": [
      "  5%|▌         | 250/5000 [01:01<3:04:59,  2.34s/it]"
     ]
    },
    {
     "name": "stdout",
     "output_type": "stream",
     "text": [
      "00250 steps | f1: 0.798 | precision: 0.798 | recall: 0.798 | accuracy: 0.830 | valid_loss: 0.435 | train_loss: 0.283 | best_score: 0.798\n"
     ]
    },
    {
     "name": "stderr",
     "output_type": "stream",
     "text": [
      " 10%|█         | 500/5000 [02:01<2:32:49,  2.04s/it]"
     ]
    },
    {
     "name": "stdout",
     "output_type": "stream",
     "text": [
      "00500 steps | f1: 0.797 | precision: 0.802 | recall: 0.792 | accuracy: 0.830 | valid_loss: 0.439 | train_loss: 0.273 | best_score: 0.798\n"
     ]
    },
    {
     "name": "stderr",
     "output_type": "stream",
     "text": [
      " 15%|█▌        | 750/5000 [03:02<2:24:24,  2.04s/it]"
     ]
    },
    {
     "name": "stdout",
     "output_type": "stream",
     "text": [
      "00750 steps | f1: 0.797 | precision: 0.802 | recall: 0.792 | accuracy: 0.830 | valid_loss: 0.443 | train_loss: 0.282 | best_score: 0.798\n"
     ]
    },
    {
     "name": "stderr",
     "output_type": "stream",
     "text": [
      " 20%|██        | 1000/5000 [04:02<2:15:57,  2.04s/it]"
     ]
    },
    {
     "name": "stdout",
     "output_type": "stream",
     "text": [
      "01000 steps | f1: 0.793 | precision: 0.762 | recall: 0.826 | accuracy: 0.818 | valid_loss: 0.490 | train_loss: 0.276 | best_score: 0.798\n"
     ]
    },
    {
     "name": "stderr",
     "output_type": "stream",
     "text": [
      " 25%|██▌       | 1250/5000 [05:03<2:07:21,  2.04s/it]"
     ]
    },
    {
     "name": "stdout",
     "output_type": "stream",
     "text": [
      "01250 steps | f1: 0.794 | precision: 0.792 | recall: 0.795 | accuracy: 0.826 | valid_loss: 0.460 | train_loss: 0.271 | best_score: 0.798\n"
     ]
    },
    {
     "name": "stderr",
     "output_type": "stream",
     "text": [
      " 30%|███       | 1500/5000 [06:03<1:59:05,  2.04s/it]"
     ]
    },
    {
     "name": "stdout",
     "output_type": "stream",
     "text": [
      "01500 steps | f1: 0.794 | precision: 0.797 | recall: 0.792 | accuracy: 0.827 | valid_loss: 0.460 | train_loss: 0.277 | best_score: 0.798\n"
     ]
    },
    {
     "name": "stderr",
     "output_type": "stream",
     "text": [
      " 35%|███▌      | 1750/5000 [07:03<1:50:20,  2.04s/it]"
     ]
    },
    {
     "name": "stdout",
     "output_type": "stream",
     "text": [
      "01750 steps | f1: 0.797 | precision: 0.829 | recall: 0.767 | accuracy: 0.835 | valid_loss: 0.450 | train_loss: 0.250 | best_score: 0.798\n"
     ]
    },
    {
     "name": "stderr",
     "output_type": "stream",
     "text": [
      " 40%|████      | 2000/5000 [08:04<1:41:59,  2.04s/it]"
     ]
    },
    {
     "name": "stdout",
     "output_type": "stream",
     "text": [
      "02000 steps | f1: 0.791 | precision: 0.813 | recall: 0.770 | accuracy: 0.828 | valid_loss: 0.461 | train_loss: 0.267 | best_score: 0.798\n"
     ]
    },
    {
     "name": "stderr",
     "output_type": "stream",
     "text": [
      " 45%|████▌     | 2250/5000 [09:04<1:33:30,  2.04s/it]"
     ]
    },
    {
     "name": "stdout",
     "output_type": "stream",
     "text": [
      "02250 steps | f1: 0.792 | precision: 0.811 | recall: 0.773 | accuracy: 0.828 | valid_loss: 0.460 | train_loss: 0.258 | best_score: 0.798\n"
     ]
    },
    {
     "name": "stderr",
     "output_type": "stream",
     "text": [
      " 50%|█████     | 2500/5000 [10:04<1:25:09,  2.04s/it]"
     ]
    },
    {
     "name": "stdout",
     "output_type": "stream",
     "text": [
      "02500 steps | f1: 0.783 | precision: 0.765 | recall: 0.801 | accuracy: 0.812 | valid_loss: 0.487 | train_loss: 0.255 | best_score: 0.798\n"
     ]
    },
    {
     "name": "stderr",
     "output_type": "stream",
     "text": [
      " 55%|█████▌    | 2750/5000 [11:05<1:16:34,  2.04s/it]"
     ]
    },
    {
     "name": "stdout",
     "output_type": "stream",
     "text": [
      "02750 steps | f1: 0.794 | precision: 0.780 | recall: 0.808 | accuracy: 0.823 | valid_loss: 0.476 | train_loss: 0.229 | best_score: 0.798\n"
     ]
    },
    {
     "name": "stderr",
     "output_type": "stream",
     "text": [
      " 60%|██████    | 3000/5000 [12:05<1:08:10,  2.05s/it]"
     ]
    },
    {
     "name": "stdout",
     "output_type": "stream",
     "text": [
      "03000 steps | f1: 0.795 | precision: 0.808 | recall: 0.782 | accuracy: 0.830 | valid_loss: 0.487 | train_loss: 0.230 | best_score: 0.798\n"
     ]
    },
    {
     "name": "stderr",
     "output_type": "stream",
     "text": [
      " 65%|██████▌   | 3250/5000 [13:06<59:28,  2.04s/it]"
     ]
    },
    {
     "name": "stdout",
     "output_type": "stream",
     "text": [
      "03250 steps | f1: 0.787 | precision: 0.782 | recall: 0.792 | accuracy: 0.819 | valid_loss: 0.523 | train_loss: 0.234 | best_score: 0.798\n"
     ]
    },
    {
     "name": "stderr",
     "output_type": "stream",
     "text": [
      " 70%|███████   | 3500/5000 [14:06<50:56,  2.04s/it]"
     ]
    },
    {
     "name": "stdout",
     "output_type": "stream",
     "text": [
      "03500 steps | f1: 0.790 | precision: 0.804 | recall: 0.776 | accuracy: 0.826 | valid_loss: 0.488 | train_loss: 0.246 | best_score: 0.798\n"
     ]
    },
    {
     "name": "stderr",
     "output_type": "stream",
     "text": [
      " 75%|███████▌  | 3750/5000 [15:06<42:28,  2.04s/it]"
     ]
    },
    {
     "name": "stdout",
     "output_type": "stream",
     "text": [
      "03750 steps | f1: 0.789 | precision: 0.806 | recall: 0.773 | accuracy: 0.826 | valid_loss: 0.501 | train_loss: 0.204 | best_score: 0.798\n"
     ]
    },
    {
     "name": "stderr",
     "output_type": "stream",
     "text": [
      " 80%|████████  | 4000/5000 [16:07<33:56,  2.04s/it]"
     ]
    },
    {
     "name": "stdout",
     "output_type": "stream",
     "text": [
      "04000 steps | f1: 0.783 | precision: 0.799 | recall: 0.767 | accuracy: 0.820 | valid_loss: 0.486 | train_loss: 0.243 | best_score: 0.798\n"
     ]
    },
    {
     "name": "stderr",
     "output_type": "stream",
     "text": [
      " 85%|████████▌ | 4250/5000 [17:07<25:28,  2.04s/it]"
     ]
    },
    {
     "name": "stdout",
     "output_type": "stream",
     "text": [
      "04250 steps | f1: 0.786 | precision: 0.803 | recall: 0.770 | accuracy: 0.823 | valid_loss: 0.500 | train_loss: 0.239 | best_score: 0.798\n"
     ]
    },
    {
     "name": "stderr",
     "output_type": "stream",
     "text": [
      " 90%|█████████ | 4500/5000 [18:07<17:00,  2.04s/it]"
     ]
    },
    {
     "name": "stdout",
     "output_type": "stream",
     "text": [
      "04500 steps | f1: 0.788 | precision: 0.803 | recall: 0.773 | accuracy: 0.824 | valid_loss: 0.518 | train_loss: 0.210 | best_score: 0.798\n"
     ]
    },
    {
     "name": "stderr",
     "output_type": "stream",
     "text": [
      " 95%|█████████▌| 4750/5000 [19:08<08:29,  2.04s/it]"
     ]
    },
    {
     "name": "stdout",
     "output_type": "stream",
     "text": [
      "04750 steps | f1: 0.787 | precision: 0.792 | recall: 0.782 | accuracy: 0.822 | valid_loss: 0.524 | train_loss: 0.215 | best_score: 0.798\n"
     ]
    },
    {
     "name": "stderr",
     "output_type": "stream",
     "text": [
      "100%|██████████| 5000/5000 [20:08<00:00,  4.14it/s]"
     ]
    },
    {
     "name": "stdout",
     "output_type": "stream",
     "text": [
      "05000 steps | f1: 0.786 | precision: 0.790 | recall: 0.782 | accuracy: 0.820 | valid_loss: 0.533 | train_loss: 0.219 | best_score: 0.798\n"
     ]
    },
    {
     "name": "stderr",
     "output_type": "stream",
     "text": [
      "\n"
     ]
    }
   ],
   "source": [
    "train(model, \n",
    "      train_dataloader, \n",
    "      valid_dataloader, \n",
    "      5000, \n",
    "      optimizer, \n",
    "      blind_steps=250, \n",
    "      additional_metrics=[('precision', precision_score), ('recall', recall_score),('accuracy', accuracy_score)])"
   ]
  },
  {
   "cell_type": "markdown",
   "id": "1f839ca3",
   "metadata": {
    "papermill": {
     "duration": 0.907,
     "end_time": "2023-04-06T00:14:11.807251",
     "exception": false,
     "start_time": "2023-04-06T00:14:10.900251",
     "status": "completed"
    },
    "tags": []
   },
   "source": [
    "## Evaluate"
   ]
  },
  {
   "cell_type": "code",
   "execution_count": 37,
   "id": "b4bc8dbb",
   "metadata": {
    "execution": {
     "iopub.execute_input": "2023-04-06T00:14:13.686614Z",
     "iopub.status.busy": "2023-04-06T00:14:13.686099Z",
     "iopub.status.idle": "2023-04-06T00:14:13.694569Z",
     "shell.execute_reply": "2023-04-06T00:14:13.693394Z"
    },
    "papermill": {
     "duration": 0.910194,
     "end_time": "2023-04-06T00:14:13.696885",
     "exception": false,
     "start_time": "2023-04-06T00:14:12.786691",
     "status": "completed"
    },
    "tags": []
   },
   "outputs": [],
   "source": [
    "def evaluate(model, valid_dataloader, metrics=[('f1', f1_score),('precision', precision_score), ('recall', recall_score),('accuracy', accuracy_score)]):\n",
    "    model.eval()\n",
    "\n",
    "    y_trues = []\n",
    "    y_hats = []\n",
    "\n",
    "    with torch.no_grad():\n",
    "        for batch in valid_dataloader:\n",
    "\n",
    "            (ids, mask), y_true = batch\n",
    "            y_hat = torch.softmax(model.forward(input_ids=ids, attention_mask=mask),dim=-1)\n",
    "\n",
    "            for i in range(y_true.shape[0]):\n",
    "                y_trues.append(int(y_true[i]))\n",
    "                y_hats.append(1 if y_hat[i][0] < y_hat[i][1] else 0)\n",
    "\n",
    "    scores = []\n",
    "\n",
    "    for metric in metrics:\n",
    "        scores.append((metric[0], metric[1](y_trues, y_hats)))        \n",
    "\n",
    "    model.train()\n",
    "    return scores"
   ]
  },
  {
   "cell_type": "code",
   "execution_count": 38,
   "id": "3ab556a4",
   "metadata": {
    "execution": {
     "iopub.execute_input": "2023-04-06T00:14:15.541238Z",
     "iopub.status.busy": "2023-04-06T00:14:15.540172Z",
     "iopub.status.idle": "2023-04-06T00:14:21.621488Z",
     "shell.execute_reply": "2023-04-06T00:14:21.620332Z"
    },
    "papermill": {
     "duration": 6.978068,
     "end_time": "2023-04-06T00:14:21.623827",
     "exception": false,
     "start_time": "2023-04-06T00:14:14.645759",
     "status": "completed"
    },
    "tags": []
   },
   "outputs": [
    {
     "data": {
      "text/plain": [
       "[('f1', 0.7981072555205049),\n",
       " ('precision', 0.7981072555205048),\n",
       " ('recall', 0.7981072555205048),\n",
       " ('accuracy', 0.829560585885486)]"
      ]
     },
     "execution_count": 38,
     "metadata": {},
     "output_type": "execute_result"
    }
   ],
   "source": [
    "evaluate(model, valid_dataloader)"
   ]
  },
  {
   "cell_type": "code",
   "execution_count": 39,
   "id": "d40a7ecc",
   "metadata": {
    "execution": {
     "iopub.execute_input": "2023-04-06T00:14:23.587016Z",
     "iopub.status.busy": "2023-04-06T00:14:23.586610Z",
     "iopub.status.idle": "2023-04-06T00:14:23.592078Z",
     "shell.execute_reply": "2023-04-06T00:14:23.590935Z"
    },
    "papermill": {
     "duration": 1.003301,
     "end_time": "2023-04-06T00:14:23.594836",
     "exception": false,
     "start_time": "2023-04-06T00:14:22.591535",
     "status": "completed"
    },
    "tags": []
   },
   "outputs": [],
   "source": [
    "def classify(tweet):\n",
    "    ids = torch.tensor(tokenizer(tweet)['input_ids'])[None].to(device)\n",
    "    return model.forward(input_ids=ids)"
   ]
  },
  {
   "cell_type": "code",
   "execution_count": 40,
   "id": "88571140",
   "metadata": {
    "execution": {
     "iopub.execute_input": "2023-04-06T00:14:25.438168Z",
     "iopub.status.busy": "2023-04-06T00:14:25.437790Z",
     "iopub.status.idle": "2023-04-06T00:14:25.458774Z",
     "shell.execute_reply": "2023-04-06T00:14:25.457554Z"
    },
    "papermill": {
     "duration": 0.993519,
     "end_time": "2023-04-06T00:14:25.461568",
     "exception": false,
     "start_time": "2023-04-06T00:14:24.468049",
     "status": "completed"
    },
    "tags": []
   },
   "outputs": [
    {
     "data": {
      "text/plain": [
       "tensor([[ 1.1673, -1.1818]], device='cuda:0', grad_fn=<AddmmBackward0>)"
      ]
     },
     "execution_count": 40,
     "metadata": {},
     "output_type": "execute_result"
    }
   ],
   "source": [
    "classify(\"Over 2 hundred families have become victims of my cookie-shop iniciative\")"
   ]
  },
  {
   "cell_type": "markdown",
   "id": "c1312925",
   "metadata": {
    "papermill": {
     "duration": 0.951819,
     "end_time": "2023-04-06T00:14:27.317705",
     "exception": false,
     "start_time": "2023-04-06T00:14:26.365886",
     "status": "completed"
    },
    "tags": []
   },
   "source": [
    "## Make predictions"
   ]
  },
  {
   "cell_type": "code",
   "execution_count": 41,
   "id": "b7254ef6",
   "metadata": {
    "execution": {
     "iopub.execute_input": "2023-04-06T00:14:29.178767Z",
     "iopub.status.busy": "2023-04-06T00:14:29.178406Z",
     "iopub.status.idle": "2023-04-06T00:15:12.586752Z",
     "shell.execute_reply": "2023-04-06T00:15:12.585536Z"
    },
    "papermill": {
     "duration": 44.358514,
     "end_time": "2023-04-06T00:15:12.590238",
     "exception": false,
     "start_time": "2023-04-06T00:14:28.231724",
     "status": "completed"
    },
    "tags": []
   },
   "outputs": [
    {
     "name": "stderr",
     "output_type": "stream",
     "text": [
      "100%|██████████| 3263/3263 [00:43<00:00, 75.19it/s]\n"
     ]
    }
   ],
   "source": [
    "\n",
    "predictions_df = pd.DataFrame()\n",
    "for i, (ids, mask) in tqdm(eval_dataset):\n",
    "    pred = model(input_ids=ids[None], attention_mask=mask[None])[0]\n",
    "    y_hat = 1 if pred[0] < pred[1] else 0\n",
    "    r = [int(i), y_hat]\n",
    "    predictions_df = pd.concat([predictions_df, pd.DataFrame(np.array(r)[None,:], columns=['id', 'target'])])\n"
   ]
  },
  {
   "cell_type": "code",
   "execution_count": 42,
   "id": "e0e74871",
   "metadata": {
    "execution": {
     "iopub.execute_input": "2023-04-06T00:15:14.575047Z",
     "iopub.status.busy": "2023-04-06T00:15:14.574695Z",
     "iopub.status.idle": "2023-04-06T00:15:14.587454Z",
     "shell.execute_reply": "2023-04-06T00:15:14.586380Z"
    },
    "papermill": {
     "duration": 0.998453,
     "end_time": "2023-04-06T00:15:14.589681",
     "exception": false,
     "start_time": "2023-04-06T00:15:13.591228",
     "status": "completed"
    },
    "tags": []
   },
   "outputs": [
    {
     "data": {
      "text/html": [
       "<div>\n",
       "<style scoped>\n",
       "    .dataframe tbody tr th:only-of-type {\n",
       "        vertical-align: middle;\n",
       "    }\n",
       "\n",
       "    .dataframe tbody tr th {\n",
       "        vertical-align: top;\n",
       "    }\n",
       "\n",
       "    .dataframe thead th {\n",
       "        text-align: right;\n",
       "    }\n",
       "</style>\n",
       "<table border=\"1\" class=\"dataframe\">\n",
       "  <thead>\n",
       "    <tr style=\"text-align: right;\">\n",
       "      <th></th>\n",
       "      <th>id</th>\n",
       "      <th>target</th>\n",
       "    </tr>\n",
       "  </thead>\n",
       "  <tbody>\n",
       "    <tr>\n",
       "      <th>0</th>\n",
       "      <td>0</td>\n",
       "      <td>1</td>\n",
       "    </tr>\n",
       "    <tr>\n",
       "      <th>0</th>\n",
       "      <td>2</td>\n",
       "      <td>1</td>\n",
       "    </tr>\n",
       "    <tr>\n",
       "      <th>0</th>\n",
       "      <td>3</td>\n",
       "      <td>1</td>\n",
       "    </tr>\n",
       "    <tr>\n",
       "      <th>0</th>\n",
       "      <td>9</td>\n",
       "      <td>1</td>\n",
       "    </tr>\n",
       "    <tr>\n",
       "      <th>0</th>\n",
       "      <td>11</td>\n",
       "      <td>1</td>\n",
       "    </tr>\n",
       "    <tr>\n",
       "      <th>0</th>\n",
       "      <td>12</td>\n",
       "      <td>1</td>\n",
       "    </tr>\n",
       "    <tr>\n",
       "      <th>0</th>\n",
       "      <td>21</td>\n",
       "      <td>0</td>\n",
       "    </tr>\n",
       "    <tr>\n",
       "      <th>0</th>\n",
       "      <td>22</td>\n",
       "      <td>0</td>\n",
       "    </tr>\n",
       "    <tr>\n",
       "      <th>0</th>\n",
       "      <td>27</td>\n",
       "      <td>0</td>\n",
       "    </tr>\n",
       "    <tr>\n",
       "      <th>0</th>\n",
       "      <td>29</td>\n",
       "      <td>0</td>\n",
       "    </tr>\n",
       "    <tr>\n",
       "      <th>0</th>\n",
       "      <td>30</td>\n",
       "      <td>0</td>\n",
       "    </tr>\n",
       "    <tr>\n",
       "      <th>0</th>\n",
       "      <td>35</td>\n",
       "      <td>0</td>\n",
       "    </tr>\n",
       "    <tr>\n",
       "      <th>0</th>\n",
       "      <td>42</td>\n",
       "      <td>0</td>\n",
       "    </tr>\n",
       "    <tr>\n",
       "      <th>0</th>\n",
       "      <td>43</td>\n",
       "      <td>0</td>\n",
       "    </tr>\n",
       "    <tr>\n",
       "      <th>0</th>\n",
       "      <td>45</td>\n",
       "      <td>0</td>\n",
       "    </tr>\n",
       "    <tr>\n",
       "      <th>0</th>\n",
       "      <td>46</td>\n",
       "      <td>1</td>\n",
       "    </tr>\n",
       "    <tr>\n",
       "      <th>0</th>\n",
       "      <td>47</td>\n",
       "      <td>0</td>\n",
       "    </tr>\n",
       "    <tr>\n",
       "      <th>0</th>\n",
       "      <td>51</td>\n",
       "      <td>0</td>\n",
       "    </tr>\n",
       "    <tr>\n",
       "      <th>0</th>\n",
       "      <td>58</td>\n",
       "      <td>0</td>\n",
       "    </tr>\n",
       "    <tr>\n",
       "      <th>0</th>\n",
       "      <td>60</td>\n",
       "      <td>0</td>\n",
       "    </tr>\n",
       "  </tbody>\n",
       "</table>\n",
       "</div>"
      ],
      "text/plain": [
       "   id  target\n",
       "0   0       1\n",
       "0   2       1\n",
       "0   3       1\n",
       "0   9       1\n",
       "0  11       1\n",
       "0  12       1\n",
       "0  21       0\n",
       "0  22       0\n",
       "0  27       0\n",
       "0  29       0\n",
       "0  30       0\n",
       "0  35       0\n",
       "0  42       0\n",
       "0  43       0\n",
       "0  45       0\n",
       "0  46       1\n",
       "0  47       0\n",
       "0  51       0\n",
       "0  58       0\n",
       "0  60       0"
      ]
     },
     "execution_count": 42,
     "metadata": {},
     "output_type": "execute_result"
    }
   ],
   "source": [
    "predictions_df.target = predictions_df.target.astype(int)\n",
    "predictions_df.id = predictions_df.id.astype(int)\n",
    "predictions_df.head(20)"
   ]
  },
  {
   "cell_type": "code",
   "execution_count": 43,
   "id": "02ec2d78",
   "metadata": {
    "execution": {
     "iopub.execute_input": "2023-04-06T00:15:16.591520Z",
     "iopub.status.busy": "2023-04-06T00:15:16.591065Z",
     "iopub.status.idle": "2023-04-06T00:15:16.603126Z",
     "shell.execute_reply": "2023-04-06T00:15:16.601694Z"
    },
    "papermill": {
     "duration": 1.091908,
     "end_time": "2023-04-06T00:15:16.605624",
     "exception": false,
     "start_time": "2023-04-06T00:15:15.513716",
     "status": "completed"
    },
    "tags": []
   },
   "outputs": [
    {
     "name": "stdout",
     "output_type": "stream",
     "text": [
      "Done!\n"
     ]
    }
   ],
   "source": [
    "predictions_df.to_csv('submission.csv', index=False)\n",
    "print('Done!')"
   ]
  },
  {
   "cell_type": "code",
   "execution_count": null,
   "id": "83578c30",
   "metadata": {
    "papermill": {
     "duration": 0.979928,
     "end_time": "2023-04-06T00:15:18.493525",
     "exception": false,
     "start_time": "2023-04-06T00:15:17.513597",
     "status": "completed"
    },
    "tags": []
   },
   "outputs": [],
   "source": []
  }
 ],
 "metadata": {
  "kernelspec": {
   "display_name": "Python 3",
   "language": "python",
   "name": "python3"
  },
  "language_info": {
   "codemirror_mode": {
    "name": "ipython",
    "version": 3
   },
   "file_extension": ".py",
   "mimetype": "text/x-python",
   "name": "python",
   "nbconvert_exporter": "python",
   "pygments_lexer": "ipython3",
   "version": "3.7.12"
  },
  "papermill": {
   "default_parameters": {},
   "duration": 3995.304396,
   "end_time": "2023-04-06T00:15:21.411785",
   "environment_variables": {},
   "exception": null,
   "input_path": "__notebook__.ipynb",
   "output_path": "__notebook__.ipynb",
   "parameters": {},
   "start_time": "2023-04-05T23:08:46.107389",
   "version": "2.4.0"
  },
  "widgets": {
   "application/vnd.jupyter.widget-state+json": {
    "state": {
     "029e230f9a2a4d18bd3dcc796b2ac035": {
      "model_module": "@jupyter-widgets/controls",
      "model_module_version": "1.5.0",
      "model_name": "DescriptionStyleModel",
      "state": {
       "_model_module": "@jupyter-widgets/controls",
       "_model_module_version": "1.5.0",
       "_model_name": "DescriptionStyleModel",
       "_view_count": null,
       "_view_module": "@jupyter-widgets/base",
       "_view_module_version": "1.2.0",
       "_view_name": "StyleView",
       "description_width": ""
      }
     },
     "0437b7bcd8554103b608757686648dec": {
      "model_module": "@jupyter-widgets/base",
      "model_module_version": "1.2.0",
      "model_name": "LayoutModel",
      "state": {
       "_model_module": "@jupyter-widgets/base",
       "_model_module_version": "1.2.0",
       "_model_name": "LayoutModel",
       "_view_count": null,
       "_view_module": "@jupyter-widgets/base",
       "_view_module_version": "1.2.0",
       "_view_name": "LayoutView",
       "align_content": null,
       "align_items": null,
       "align_self": null,
       "border": null,
       "bottom": null,
       "display": null,
       "flex": null,
       "flex_flow": null,
       "grid_area": null,
       "grid_auto_columns": null,
       "grid_auto_flow": null,
       "grid_auto_rows": null,
       "grid_column": null,
       "grid_gap": null,
       "grid_row": null,
       "grid_template_areas": null,
       "grid_template_columns": null,
       "grid_template_rows": null,
       "height": null,
       "justify_content": null,
       "justify_items": null,
       "left": null,
       "margin": null,
       "max_height": null,
       "max_width": null,
       "min_height": null,
       "min_width": null,
       "object_fit": null,
       "object_position": null,
       "order": null,
       "overflow": null,
       "overflow_x": null,
       "overflow_y": null,
       "padding": null,
       "right": null,
       "top": null,
       "visibility": null,
       "width": null
      }
     },
     "0b2c01477a4143d5ba0af228833ce2c1": {
      "model_module": "@jupyter-widgets/controls",
      "model_module_version": "1.5.0",
      "model_name": "ProgressStyleModel",
      "state": {
       "_model_module": "@jupyter-widgets/controls",
       "_model_module_version": "1.5.0",
       "_model_name": "ProgressStyleModel",
       "_view_count": null,
       "_view_module": "@jupyter-widgets/base",
       "_view_module_version": "1.2.0",
       "_view_name": "StyleView",
       "bar_color": null,
       "description_width": ""
      }
     },
     "0cca8594bf064f158eb9a5bd0946ac2a": {
      "model_module": "@jupyter-widgets/controls",
      "model_module_version": "1.5.0",
      "model_name": "HBoxModel",
      "state": {
       "_dom_classes": [],
       "_model_module": "@jupyter-widgets/controls",
       "_model_module_version": "1.5.0",
       "_model_name": "HBoxModel",
       "_view_count": null,
       "_view_module": "@jupyter-widgets/controls",
       "_view_module_version": "1.5.0",
       "_view_name": "HBoxView",
       "box_style": "",
       "children": [
        "IPY_MODEL_fad4bd7f104c45cca22cc9c157db643a",
        "IPY_MODEL_6e4f34c107d54137ad39b57bbe7a2e31",
        "IPY_MODEL_2e1844d605fb4cf9a0b7c214d0307854"
       ],
       "layout": "IPY_MODEL_d6d8a69975ce4222b159bc5775284be8"
      }
     },
     "1b92f77edd8945908b35f91db9ac47a9": {
      "model_module": "@jupyter-widgets/base",
      "model_module_version": "1.2.0",
      "model_name": "LayoutModel",
      "state": {
       "_model_module": "@jupyter-widgets/base",
       "_model_module_version": "1.2.0",
       "_model_name": "LayoutModel",
       "_view_count": null,
       "_view_module": "@jupyter-widgets/base",
       "_view_module_version": "1.2.0",
       "_view_name": "LayoutView",
       "align_content": null,
       "align_items": null,
       "align_self": null,
       "border": null,
       "bottom": null,
       "display": null,
       "flex": null,
       "flex_flow": null,
       "grid_area": null,
       "grid_auto_columns": null,
       "grid_auto_flow": null,
       "grid_auto_rows": null,
       "grid_column": null,
       "grid_gap": null,
       "grid_row": null,
       "grid_template_areas": null,
       "grid_template_columns": null,
       "grid_template_rows": null,
       "height": null,
       "justify_content": null,
       "justify_items": null,
       "left": null,
       "margin": null,
       "max_height": null,
       "max_width": null,
       "min_height": null,
       "min_width": null,
       "object_fit": null,
       "object_position": null,
       "order": null,
       "overflow": null,
       "overflow_x": null,
       "overflow_y": null,
       "padding": null,
       "right": null,
       "top": null,
       "visibility": null,
       "width": null
      }
     },
     "1d658ec9fe75476bbcc387f9d93833f3": {
      "model_module": "@jupyter-widgets/controls",
      "model_module_version": "1.5.0",
      "model_name": "DescriptionStyleModel",
      "state": {
       "_model_module": "@jupyter-widgets/controls",
       "_model_module_version": "1.5.0",
       "_model_name": "DescriptionStyleModel",
       "_view_count": null,
       "_view_module": "@jupyter-widgets/base",
       "_view_module_version": "1.2.0",
       "_view_name": "StyleView",
       "description_width": ""
      }
     },
     "2980492832274c269ad9a0f1fa981cf4": {
      "model_module": "@jupyter-widgets/base",
      "model_module_version": "1.2.0",
      "model_name": "LayoutModel",
      "state": {
       "_model_module": "@jupyter-widgets/base",
       "_model_module_version": "1.2.0",
       "_model_name": "LayoutModel",
       "_view_count": null,
       "_view_module": "@jupyter-widgets/base",
       "_view_module_version": "1.2.0",
       "_view_name": "LayoutView",
       "align_content": null,
       "align_items": null,
       "align_self": null,
       "border": null,
       "bottom": null,
       "display": null,
       "flex": null,
       "flex_flow": null,
       "grid_area": null,
       "grid_auto_columns": null,
       "grid_auto_flow": null,
       "grid_auto_rows": null,
       "grid_column": null,
       "grid_gap": null,
       "grid_row": null,
       "grid_template_areas": null,
       "grid_template_columns": null,
       "grid_template_rows": null,
       "height": null,
       "justify_content": null,
       "justify_items": null,
       "left": null,
       "margin": null,
       "max_height": null,
       "max_width": null,
       "min_height": null,
       "min_width": null,
       "object_fit": null,
       "object_position": null,
       "order": null,
       "overflow": null,
       "overflow_x": null,
       "overflow_y": null,
       "padding": null,
       "right": null,
       "top": null,
       "visibility": null,
       "width": null
      }
     },
     "2e1844d605fb4cf9a0b7c214d0307854": {
      "model_module": "@jupyter-widgets/controls",
      "model_module_version": "1.5.0",
      "model_name": "HTMLModel",
      "state": {
       "_dom_classes": [],
       "_model_module": "@jupyter-widgets/controls",
       "_model_module_version": "1.5.0",
       "_model_name": "HTMLModel",
       "_view_count": null,
       "_view_module": "@jupyter-widgets/controls",
       "_view_module_version": "1.5.0",
       "_view_name": "HTMLView",
       "description": "",
       "description_tooltip": null,
       "layout": "IPY_MODEL_cf6a0790e19346079b20af163ed12cd0",
       "placeholder": "​",
       "style": "IPY_MODEL_b4872845867844a8a4769ad39b00aa61",
       "value": " 481/481 [00:00&lt;00:00, 19.7kB/s]"
      }
     },
     "399d7620e2114794bc685b08b8feb841": {
      "model_module": "@jupyter-widgets/controls",
      "model_module_version": "1.5.0",
      "model_name": "HTMLModel",
      "state": {
       "_dom_classes": [],
       "_model_module": "@jupyter-widgets/controls",
       "_model_module_version": "1.5.0",
       "_model_name": "HTMLModel",
       "_view_count": null,
       "_view_module": "@jupyter-widgets/controls",
       "_view_module_version": "1.5.0",
       "_view_name": "HTMLView",
       "description": "",
       "description_tooltip": null,
       "layout": "IPY_MODEL_a4b57308fc7846db93ccbb2a2c326657",
       "placeholder": "​",
       "style": "IPY_MODEL_a50b0c5b78e2440fbc51a64ff40f4a4c",
       "value": " 456k/? [00:00&lt;00:00, 7.41MB/s]"
      }
     },
     "4ac165aef76f4ffa9d86ed80d1797a09": {
      "model_module": "@jupyter-widgets/controls",
      "model_module_version": "1.5.0",
      "model_name": "HTMLModel",
      "state": {
       "_dom_classes": [],
       "_model_module": "@jupyter-widgets/controls",
       "_model_module_version": "1.5.0",
       "_model_name": "HTMLModel",
       "_view_count": null,
       "_view_module": "@jupyter-widgets/controls",
       "_view_module_version": "1.5.0",
       "_view_name": "HTMLView",
       "description": "",
       "description_tooltip": null,
       "layout": "IPY_MODEL_e0bb60eea027466f90d0991e7800681a",
       "placeholder": "​",
       "style": "IPY_MODEL_8f327fe96f2e4fdba7476b098a79a5de",
       "value": "Downloading (…)olve/main/merges.txt: "
      }
     },
     "52e3bb5b9a28423992c90e8896bf282c": {
      "model_module": "@jupyter-widgets/base",
      "model_module_version": "1.2.0",
      "model_name": "LayoutModel",
      "state": {
       "_model_module": "@jupyter-widgets/base",
       "_model_module_version": "1.2.0",
       "_model_name": "LayoutModel",
       "_view_count": null,
       "_view_module": "@jupyter-widgets/base",
       "_view_module_version": "1.2.0",
       "_view_name": "LayoutView",
       "align_content": null,
       "align_items": null,
       "align_self": null,
       "border": null,
       "bottom": null,
       "display": null,
       "flex": null,
       "flex_flow": null,
       "grid_area": null,
       "grid_auto_columns": null,
       "grid_auto_flow": null,
       "grid_auto_rows": null,
       "grid_column": null,
       "grid_gap": null,
       "grid_row": null,
       "grid_template_areas": null,
       "grid_template_columns": null,
       "grid_template_rows": null,
       "height": null,
       "justify_content": null,
       "justify_items": null,
       "left": null,
       "margin": null,
       "max_height": null,
       "max_width": null,
       "min_height": null,
       "min_width": null,
       "object_fit": null,
       "object_position": null,
       "order": null,
       "overflow": null,
       "overflow_x": null,
       "overflow_y": null,
       "padding": null,
       "right": null,
       "top": null,
       "visibility": null,
       "width": null
      }
     },
     "57df9d9e1e5c485fa3a1f0b6fcbdb705": {
      "model_module": "@jupyter-widgets/controls",
      "model_module_version": "1.5.0",
      "model_name": "HBoxModel",
      "state": {
       "_dom_classes": [],
       "_model_module": "@jupyter-widgets/controls",
       "_model_module_version": "1.5.0",
       "_model_name": "HBoxModel",
       "_view_count": null,
       "_view_module": "@jupyter-widgets/controls",
       "_view_module_version": "1.5.0",
       "_view_name": "HBoxView",
       "box_style": "",
       "children": [
        "IPY_MODEL_ea4a8d5ecff04c6581c34e4572880a0d",
        "IPY_MODEL_eaedf4aef75f43e7b5d4818b8b3b9493",
        "IPY_MODEL_e7c9e5d5ea66429998edb76f1963539b"
       ],
       "layout": "IPY_MODEL_f5245b77b6bc4501b944a0f2d940ce4d"
      }
     },
     "5b092f870ca64b628228d46b211abc92": {
      "model_module": "@jupyter-widgets/controls",
      "model_module_version": "1.5.0",
      "model_name": "HBoxModel",
      "state": {
       "_dom_classes": [],
       "_model_module": "@jupyter-widgets/controls",
       "_model_module_version": "1.5.0",
       "_model_name": "HBoxModel",
       "_view_count": null,
       "_view_module": "@jupyter-widgets/controls",
       "_view_module_version": "1.5.0",
       "_view_name": "HBoxView",
       "box_style": "",
       "children": [
        "IPY_MODEL_d4cdc311ef674710ba01efbed3ae5b21",
        "IPY_MODEL_b1a2994bae0145989b60c94f1c35a202",
        "IPY_MODEL_d559dd0b95af4cd4ae5141901ea8952d"
       ],
       "layout": "IPY_MODEL_fdc47a24eb2742158cadf57ec65fdd35"
      }
     },
     "6e4f34c107d54137ad39b57bbe7a2e31": {
      "model_module": "@jupyter-widgets/controls",
      "model_module_version": "1.5.0",
      "model_name": "FloatProgressModel",
      "state": {
       "_dom_classes": [],
       "_model_module": "@jupyter-widgets/controls",
       "_model_module_version": "1.5.0",
       "_model_name": "FloatProgressModel",
       "_view_count": null,
       "_view_module": "@jupyter-widgets/controls",
       "_view_module_version": "1.5.0",
       "_view_name": "ProgressView",
       "bar_style": "success",
       "description": "",
       "description_tooltip": null,
       "layout": "IPY_MODEL_d710df2bc2904402985d10efc44ea801",
       "max": 481.0,
       "min": 0.0,
       "orientation": "horizontal",
       "style": "IPY_MODEL_0b2c01477a4143d5ba0af228833ce2c1",
       "value": 481.0
      }
     },
     "78ef52cd4ef7415ab563f6163b73c246": {
      "model_module": "@jupyter-widgets/base",
      "model_module_version": "1.2.0",
      "model_name": "LayoutModel",
      "state": {
       "_model_module": "@jupyter-widgets/base",
       "_model_module_version": "1.2.0",
       "_model_name": "LayoutModel",
       "_view_count": null,
       "_view_module": "@jupyter-widgets/base",
       "_view_module_version": "1.2.0",
       "_view_name": "LayoutView",
       "align_content": null,
       "align_items": null,
       "align_self": null,
       "border": null,
       "bottom": null,
       "display": null,
       "flex": null,
       "flex_flow": null,
       "grid_area": null,
       "grid_auto_columns": null,
       "grid_auto_flow": null,
       "grid_auto_rows": null,
       "grid_column": null,
       "grid_gap": null,
       "grid_row": null,
       "grid_template_areas": null,
       "grid_template_columns": null,
       "grid_template_rows": null,
       "height": null,
       "justify_content": null,
       "justify_items": null,
       "left": null,
       "margin": null,
       "max_height": null,
       "max_width": null,
       "min_height": null,
       "min_width": null,
       "object_fit": null,
       "object_position": null,
       "order": null,
       "overflow": null,
       "overflow_x": null,
       "overflow_y": null,
       "padding": null,
       "right": null,
       "top": null,
       "visibility": null,
       "width": null
      }
     },
     "79f213f08a7847b0baa1a7cc29fd3284": {
      "model_module": "@jupyter-widgets/controls",
      "model_module_version": "1.5.0",
      "model_name": "FloatProgressModel",
      "state": {
       "_dom_classes": [],
       "_model_module": "@jupyter-widgets/controls",
       "_model_module_version": "1.5.0",
       "_model_name": "FloatProgressModel",
       "_view_count": null,
       "_view_module": "@jupyter-widgets/controls",
       "_view_module_version": "1.5.0",
       "_view_name": "ProgressView",
       "bar_style": "success",
       "description": "",
       "description_tooltip": null,
       "layout": "IPY_MODEL_d5a84eb599924c77ad42fc0162cc4485",
       "max": 1.0,
       "min": 0.0,
       "orientation": "horizontal",
       "style": "IPY_MODEL_accadfa78db24124a1b8e0d8303edf0e",
       "value": 1.0
      }
     },
     "7a6c71806b4b44b38da67c893581cf99": {
      "model_module": "@jupyter-widgets/controls",
      "model_module_version": "1.5.0",
      "model_name": "DescriptionStyleModel",
      "state": {
       "_model_module": "@jupyter-widgets/controls",
       "_model_module_version": "1.5.0",
       "_model_name": "DescriptionStyleModel",
       "_view_count": null,
       "_view_module": "@jupyter-widgets/base",
       "_view_module_version": "1.2.0",
       "_view_name": "StyleView",
       "description_width": ""
      }
     },
     "83733a1a77a84b1093fc7370a10f1217": {
      "model_module": "@jupyter-widgets/controls",
      "model_module_version": "1.5.0",
      "model_name": "ProgressStyleModel",
      "state": {
       "_model_module": "@jupyter-widgets/controls",
       "_model_module_version": "1.5.0",
       "_model_name": "ProgressStyleModel",
       "_view_count": null,
       "_view_module": "@jupyter-widgets/base",
       "_view_module_version": "1.2.0",
       "_view_name": "StyleView",
       "bar_color": null,
       "description_width": ""
      }
     },
     "8f327fe96f2e4fdba7476b098a79a5de": {
      "model_module": "@jupyter-widgets/controls",
      "model_module_version": "1.5.0",
      "model_name": "DescriptionStyleModel",
      "state": {
       "_model_module": "@jupyter-widgets/controls",
       "_model_module_version": "1.5.0",
       "_model_name": "DescriptionStyleModel",
       "_view_count": null,
       "_view_module": "@jupyter-widgets/base",
       "_view_module_version": "1.2.0",
       "_view_name": "StyleView",
       "description_width": ""
      }
     },
     "9163ec3ef8f245a6a5ffb4403f092e1b": {
      "model_module": "@jupyter-widgets/base",
      "model_module_version": "1.2.0",
      "model_name": "LayoutModel",
      "state": {
       "_model_module": "@jupyter-widgets/base",
       "_model_module_version": "1.2.0",
       "_model_name": "LayoutModel",
       "_view_count": null,
       "_view_module": "@jupyter-widgets/base",
       "_view_module_version": "1.2.0",
       "_view_name": "LayoutView",
       "align_content": null,
       "align_items": null,
       "align_self": null,
       "border": null,
       "bottom": null,
       "display": null,
       "flex": null,
       "flex_flow": null,
       "grid_area": null,
       "grid_auto_columns": null,
       "grid_auto_flow": null,
       "grid_auto_rows": null,
       "grid_column": null,
       "grid_gap": null,
       "grid_row": null,
       "grid_template_areas": null,
       "grid_template_columns": null,
       "grid_template_rows": null,
       "height": null,
       "justify_content": null,
       "justify_items": null,
       "left": null,
       "margin": null,
       "max_height": null,
       "max_width": null,
       "min_height": null,
       "min_width": null,
       "object_fit": null,
       "object_position": null,
       "order": null,
       "overflow": null,
       "overflow_x": null,
       "overflow_y": null,
       "padding": null,
       "right": null,
       "top": null,
       "visibility": null,
       "width": null
      }
     },
     "9caa4d5d089a43559a41ce4089975fb8": {
      "model_module": "@jupyter-widgets/controls",
      "model_module_version": "1.5.0",
      "model_name": "ProgressStyleModel",
      "state": {
       "_model_module": "@jupyter-widgets/controls",
       "_model_module_version": "1.5.0",
       "_model_name": "ProgressStyleModel",
       "_view_count": null,
       "_view_module": "@jupyter-widgets/base",
       "_view_module_version": "1.2.0",
       "_view_name": "StyleView",
       "bar_color": null,
       "description_width": ""
      }
     },
     "a4b57308fc7846db93ccbb2a2c326657": {
      "model_module": "@jupyter-widgets/base",
      "model_module_version": "1.2.0",
      "model_name": "LayoutModel",
      "state": {
       "_model_module": "@jupyter-widgets/base",
       "_model_module_version": "1.2.0",
       "_model_name": "LayoutModel",
       "_view_count": null,
       "_view_module": "@jupyter-widgets/base",
       "_view_module_version": "1.2.0",
       "_view_name": "LayoutView",
       "align_content": null,
       "align_items": null,
       "align_self": null,
       "border": null,
       "bottom": null,
       "display": null,
       "flex": null,
       "flex_flow": null,
       "grid_area": null,
       "grid_auto_columns": null,
       "grid_auto_flow": null,
       "grid_auto_rows": null,
       "grid_column": null,
       "grid_gap": null,
       "grid_row": null,
       "grid_template_areas": null,
       "grid_template_columns": null,
       "grid_template_rows": null,
       "height": null,
       "justify_content": null,
       "justify_items": null,
       "left": null,
       "margin": null,
       "max_height": null,
       "max_width": null,
       "min_height": null,
       "min_width": null,
       "object_fit": null,
       "object_position": null,
       "order": null,
       "overflow": null,
       "overflow_x": null,
       "overflow_y": null,
       "padding": null,
       "right": null,
       "top": null,
       "visibility": null,
       "width": null
      }
     },
     "a50b0c5b78e2440fbc51a64ff40f4a4c": {
      "model_module": "@jupyter-widgets/controls",
      "model_module_version": "1.5.0",
      "model_name": "DescriptionStyleModel",
      "state": {
       "_model_module": "@jupyter-widgets/controls",
       "_model_module_version": "1.5.0",
       "_model_name": "DescriptionStyleModel",
       "_view_count": null,
       "_view_module": "@jupyter-widgets/base",
       "_view_module_version": "1.2.0",
       "_view_name": "StyleView",
       "description_width": ""
      }
     },
     "a5d564553ca841be8ab4172fda027c62": {
      "model_module": "@jupyter-widgets/controls",
      "model_module_version": "1.5.0",
      "model_name": "HBoxModel",
      "state": {
       "_dom_classes": [],
       "_model_module": "@jupyter-widgets/controls",
       "_model_module_version": "1.5.0",
       "_model_name": "HBoxModel",
       "_view_count": null,
       "_view_module": "@jupyter-widgets/controls",
       "_view_module_version": "1.5.0",
       "_view_name": "HBoxView",
       "box_style": "",
       "children": [
        "IPY_MODEL_4ac165aef76f4ffa9d86ed80d1797a09",
        "IPY_MODEL_79f213f08a7847b0baa1a7cc29fd3284",
        "IPY_MODEL_399d7620e2114794bc685b08b8feb841"
       ],
       "layout": "IPY_MODEL_78ef52cd4ef7415ab563f6163b73c246"
      }
     },
     "a85928d286dd4e83a5d026b1bfda8e73": {
      "model_module": "@jupyter-widgets/base",
      "model_module_version": "1.2.0",
      "model_name": "LayoutModel",
      "state": {
       "_model_module": "@jupyter-widgets/base",
       "_model_module_version": "1.2.0",
       "_model_name": "LayoutModel",
       "_view_count": null,
       "_view_module": "@jupyter-widgets/base",
       "_view_module_version": "1.2.0",
       "_view_name": "LayoutView",
       "align_content": null,
       "align_items": null,
       "align_self": null,
       "border": null,
       "bottom": null,
       "display": null,
       "flex": null,
       "flex_flow": null,
       "grid_area": null,
       "grid_auto_columns": null,
       "grid_auto_flow": null,
       "grid_auto_rows": null,
       "grid_column": null,
       "grid_gap": null,
       "grid_row": null,
       "grid_template_areas": null,
       "grid_template_columns": null,
       "grid_template_rows": null,
       "height": null,
       "justify_content": null,
       "justify_items": null,
       "left": null,
       "margin": null,
       "max_height": null,
       "max_width": null,
       "min_height": null,
       "min_width": null,
       "object_fit": null,
       "object_position": null,
       "order": null,
       "overflow": null,
       "overflow_x": null,
       "overflow_y": null,
       "padding": null,
       "right": null,
       "top": null,
       "visibility": null,
       "width": null
      }
     },
     "a9d69410e95d4863803e07693f083a4f": {
      "model_module": "@jupyter-widgets/controls",
      "model_module_version": "1.5.0",
      "model_name": "DescriptionStyleModel",
      "state": {
       "_model_module": "@jupyter-widgets/controls",
       "_model_module_version": "1.5.0",
       "_model_name": "DescriptionStyleModel",
       "_view_count": null,
       "_view_module": "@jupyter-widgets/base",
       "_view_module_version": "1.2.0",
       "_view_name": "StyleView",
       "description_width": ""
      }
     },
     "aa3dd1858c28433788c451e28571be8f": {
      "model_module": "@jupyter-widgets/controls",
      "model_module_version": "1.5.0",
      "model_name": "DescriptionStyleModel",
      "state": {
       "_model_module": "@jupyter-widgets/controls",
       "_model_module_version": "1.5.0",
       "_model_name": "DescriptionStyleModel",
       "_view_count": null,
       "_view_module": "@jupyter-widgets/base",
       "_view_module_version": "1.2.0",
       "_view_name": "StyleView",
       "description_width": ""
      }
     },
     "accadfa78db24124a1b8e0d8303edf0e": {
      "model_module": "@jupyter-widgets/controls",
      "model_module_version": "1.5.0",
      "model_name": "ProgressStyleModel",
      "state": {
       "_model_module": "@jupyter-widgets/controls",
       "_model_module_version": "1.5.0",
       "_model_name": "ProgressStyleModel",
       "_view_count": null,
       "_view_module": "@jupyter-widgets/base",
       "_view_module_version": "1.2.0",
       "_view_name": "StyleView",
       "bar_color": null,
       "description_width": ""
      }
     },
     "b1a2994bae0145989b60c94f1c35a202": {
      "model_module": "@jupyter-widgets/controls",
      "model_module_version": "1.5.0",
      "model_name": "FloatProgressModel",
      "state": {
       "_dom_classes": [],
       "_model_module": "@jupyter-widgets/controls",
       "_model_module_version": "1.5.0",
       "_model_name": "FloatProgressModel",
       "_view_count": null,
       "_view_module": "@jupyter-widgets/controls",
       "_view_module_version": "1.5.0",
       "_view_name": "ProgressView",
       "bar_style": "success",
       "description": "",
       "description_tooltip": null,
       "layout": "IPY_MODEL_f96f07943fce45fba37d9d8c82bf70b0",
       "max": 1.0,
       "min": 0.0,
       "orientation": "horizontal",
       "style": "IPY_MODEL_9caa4d5d089a43559a41ce4089975fb8",
       "value": 1.0
      }
     },
     "b4872845867844a8a4769ad39b00aa61": {
      "model_module": "@jupyter-widgets/controls",
      "model_module_version": "1.5.0",
      "model_name": "DescriptionStyleModel",
      "state": {
       "_model_module": "@jupyter-widgets/controls",
       "_model_module_version": "1.5.0",
       "_model_name": "DescriptionStyleModel",
       "_view_count": null,
       "_view_module": "@jupyter-widgets/base",
       "_view_module_version": "1.2.0",
       "_view_name": "StyleView",
       "description_width": ""
      }
     },
     "cf6a0790e19346079b20af163ed12cd0": {
      "model_module": "@jupyter-widgets/base",
      "model_module_version": "1.2.0",
      "model_name": "LayoutModel",
      "state": {
       "_model_module": "@jupyter-widgets/base",
       "_model_module_version": "1.2.0",
       "_model_name": "LayoutModel",
       "_view_count": null,
       "_view_module": "@jupyter-widgets/base",
       "_view_module_version": "1.2.0",
       "_view_name": "LayoutView",
       "align_content": null,
       "align_items": null,
       "align_self": null,
       "border": null,
       "bottom": null,
       "display": null,
       "flex": null,
       "flex_flow": null,
       "grid_area": null,
       "grid_auto_columns": null,
       "grid_auto_flow": null,
       "grid_auto_rows": null,
       "grid_column": null,
       "grid_gap": null,
       "grid_row": null,
       "grid_template_areas": null,
       "grid_template_columns": null,
       "grid_template_rows": null,
       "height": null,
       "justify_content": null,
       "justify_items": null,
       "left": null,
       "margin": null,
       "max_height": null,
       "max_width": null,
       "min_height": null,
       "min_width": null,
       "object_fit": null,
       "object_position": null,
       "order": null,
       "overflow": null,
       "overflow_x": null,
       "overflow_y": null,
       "padding": null,
       "right": null,
       "top": null,
       "visibility": null,
       "width": null
      }
     },
     "d4cdc311ef674710ba01efbed3ae5b21": {
      "model_module": "@jupyter-widgets/controls",
      "model_module_version": "1.5.0",
      "model_name": "HTMLModel",
      "state": {
       "_dom_classes": [],
       "_model_module": "@jupyter-widgets/controls",
       "_model_module_version": "1.5.0",
       "_model_name": "HTMLModel",
       "_view_count": null,
       "_view_module": "@jupyter-widgets/controls",
       "_view_module_version": "1.5.0",
       "_view_name": "HTMLView",
       "description": "",
       "description_tooltip": null,
       "layout": "IPY_MODEL_9163ec3ef8f245a6a5ffb4403f092e1b",
       "placeholder": "​",
       "style": "IPY_MODEL_7a6c71806b4b44b38da67c893581cf99",
       "value": "Downloading (…)olve/main/vocab.json: "
      }
     },
     "d559dd0b95af4cd4ae5141901ea8952d": {
      "model_module": "@jupyter-widgets/controls",
      "model_module_version": "1.5.0",
      "model_name": "HTMLModel",
      "state": {
       "_dom_classes": [],
       "_model_module": "@jupyter-widgets/controls",
       "_model_module_version": "1.5.0",
       "_model_name": "HTMLModel",
       "_view_count": null,
       "_view_module": "@jupyter-widgets/controls",
       "_view_module_version": "1.5.0",
       "_view_name": "HTMLView",
       "description": "",
       "description_tooltip": null,
       "layout": "IPY_MODEL_2980492832274c269ad9a0f1fa981cf4",
       "placeholder": "​",
       "style": "IPY_MODEL_1d658ec9fe75476bbcc387f9d93833f3",
       "value": " 899k/? [00:00&lt;00:00, 11.6MB/s]"
      }
     },
     "d5a84eb599924c77ad42fc0162cc4485": {
      "model_module": "@jupyter-widgets/base",
      "model_module_version": "1.2.0",
      "model_name": "LayoutModel",
      "state": {
       "_model_module": "@jupyter-widgets/base",
       "_model_module_version": "1.2.0",
       "_model_name": "LayoutModel",
       "_view_count": null,
       "_view_module": "@jupyter-widgets/base",
       "_view_module_version": "1.2.0",
       "_view_name": "LayoutView",
       "align_content": null,
       "align_items": null,
       "align_self": null,
       "border": null,
       "bottom": null,
       "display": null,
       "flex": null,
       "flex_flow": null,
       "grid_area": null,
       "grid_auto_columns": null,
       "grid_auto_flow": null,
       "grid_auto_rows": null,
       "grid_column": null,
       "grid_gap": null,
       "grid_row": null,
       "grid_template_areas": null,
       "grid_template_columns": null,
       "grid_template_rows": null,
       "height": null,
       "justify_content": null,
       "justify_items": null,
       "left": null,
       "margin": null,
       "max_height": null,
       "max_width": null,
       "min_height": null,
       "min_width": null,
       "object_fit": null,
       "object_position": null,
       "order": null,
       "overflow": null,
       "overflow_x": null,
       "overflow_y": null,
       "padding": null,
       "right": null,
       "top": null,
       "visibility": null,
       "width": "20px"
      }
     },
     "d6d8a69975ce4222b159bc5775284be8": {
      "model_module": "@jupyter-widgets/base",
      "model_module_version": "1.2.0",
      "model_name": "LayoutModel",
      "state": {
       "_model_module": "@jupyter-widgets/base",
       "_model_module_version": "1.2.0",
       "_model_name": "LayoutModel",
       "_view_count": null,
       "_view_module": "@jupyter-widgets/base",
       "_view_module_version": "1.2.0",
       "_view_name": "LayoutView",
       "align_content": null,
       "align_items": null,
       "align_self": null,
       "border": null,
       "bottom": null,
       "display": null,
       "flex": null,
       "flex_flow": null,
       "grid_area": null,
       "grid_auto_columns": null,
       "grid_auto_flow": null,
       "grid_auto_rows": null,
       "grid_column": null,
       "grid_gap": null,
       "grid_row": null,
       "grid_template_areas": null,
       "grid_template_columns": null,
       "grid_template_rows": null,
       "height": null,
       "justify_content": null,
       "justify_items": null,
       "left": null,
       "margin": null,
       "max_height": null,
       "max_width": null,
       "min_height": null,
       "min_width": null,
       "object_fit": null,
       "object_position": null,
       "order": null,
       "overflow": null,
       "overflow_x": null,
       "overflow_y": null,
       "padding": null,
       "right": null,
       "top": null,
       "visibility": null,
       "width": null
      }
     },
     "d710df2bc2904402985d10efc44ea801": {
      "model_module": "@jupyter-widgets/base",
      "model_module_version": "1.2.0",
      "model_name": "LayoutModel",
      "state": {
       "_model_module": "@jupyter-widgets/base",
       "_model_module_version": "1.2.0",
       "_model_name": "LayoutModel",
       "_view_count": null,
       "_view_module": "@jupyter-widgets/base",
       "_view_module_version": "1.2.0",
       "_view_name": "LayoutView",
       "align_content": null,
       "align_items": null,
       "align_self": null,
       "border": null,
       "bottom": null,
       "display": null,
       "flex": null,
       "flex_flow": null,
       "grid_area": null,
       "grid_auto_columns": null,
       "grid_auto_flow": null,
       "grid_auto_rows": null,
       "grid_column": null,
       "grid_gap": null,
       "grid_row": null,
       "grid_template_areas": null,
       "grid_template_columns": null,
       "grid_template_rows": null,
       "height": null,
       "justify_content": null,
       "justify_items": null,
       "left": null,
       "margin": null,
       "max_height": null,
       "max_width": null,
       "min_height": null,
       "min_width": null,
       "object_fit": null,
       "object_position": null,
       "order": null,
       "overflow": null,
       "overflow_x": null,
       "overflow_y": null,
       "padding": null,
       "right": null,
       "top": null,
       "visibility": null,
       "width": null
      }
     },
     "e0bb60eea027466f90d0991e7800681a": {
      "model_module": "@jupyter-widgets/base",
      "model_module_version": "1.2.0",
      "model_name": "LayoutModel",
      "state": {
       "_model_module": "@jupyter-widgets/base",
       "_model_module_version": "1.2.0",
       "_model_name": "LayoutModel",
       "_view_count": null,
       "_view_module": "@jupyter-widgets/base",
       "_view_module_version": "1.2.0",
       "_view_name": "LayoutView",
       "align_content": null,
       "align_items": null,
       "align_self": null,
       "border": null,
       "bottom": null,
       "display": null,
       "flex": null,
       "flex_flow": null,
       "grid_area": null,
       "grid_auto_columns": null,
       "grid_auto_flow": null,
       "grid_auto_rows": null,
       "grid_column": null,
       "grid_gap": null,
       "grid_row": null,
       "grid_template_areas": null,
       "grid_template_columns": null,
       "grid_template_rows": null,
       "height": null,
       "justify_content": null,
       "justify_items": null,
       "left": null,
       "margin": null,
       "max_height": null,
       "max_width": null,
       "min_height": null,
       "min_width": null,
       "object_fit": null,
       "object_position": null,
       "order": null,
       "overflow": null,
       "overflow_x": null,
       "overflow_y": null,
       "padding": null,
       "right": null,
       "top": null,
       "visibility": null,
       "width": null
      }
     },
     "e7c9e5d5ea66429998edb76f1963539b": {
      "model_module": "@jupyter-widgets/controls",
      "model_module_version": "1.5.0",
      "model_name": "HTMLModel",
      "state": {
       "_dom_classes": [],
       "_model_module": "@jupyter-widgets/controls",
       "_model_module_version": "1.5.0",
       "_model_name": "HTMLModel",
       "_view_count": null,
       "_view_module": "@jupyter-widgets/controls",
       "_view_module_version": "1.5.0",
       "_view_name": "HTMLView",
       "description": "",
       "description_tooltip": null,
       "layout": "IPY_MODEL_0437b7bcd8554103b608757686648dec",
       "placeholder": "​",
       "style": "IPY_MODEL_aa3dd1858c28433788c451e28571be8f",
       "value": " 501M/501M [00:02&lt;00:00, 214MB/s]"
      }
     },
     "ea4a8d5ecff04c6581c34e4572880a0d": {
      "model_module": "@jupyter-widgets/controls",
      "model_module_version": "1.5.0",
      "model_name": "HTMLModel",
      "state": {
       "_dom_classes": [],
       "_model_module": "@jupyter-widgets/controls",
       "_model_module_version": "1.5.0",
       "_model_name": "HTMLModel",
       "_view_count": null,
       "_view_module": "@jupyter-widgets/controls",
       "_view_module_version": "1.5.0",
       "_view_name": "HTMLView",
       "description": "",
       "description_tooltip": null,
       "layout": "IPY_MODEL_52e3bb5b9a28423992c90e8896bf282c",
       "placeholder": "​",
       "style": "IPY_MODEL_a9d69410e95d4863803e07693f083a4f",
       "value": "Downloading pytorch_model.bin: 100%"
      }
     },
     "eaedf4aef75f43e7b5d4818b8b3b9493": {
      "model_module": "@jupyter-widgets/controls",
      "model_module_version": "1.5.0",
      "model_name": "FloatProgressModel",
      "state": {
       "_dom_classes": [],
       "_model_module": "@jupyter-widgets/controls",
       "_model_module_version": "1.5.0",
       "_model_name": "FloatProgressModel",
       "_view_count": null,
       "_view_module": "@jupyter-widgets/controls",
       "_view_module_version": "1.5.0",
       "_view_name": "ProgressView",
       "bar_style": "success",
       "description": "",
       "description_tooltip": null,
       "layout": "IPY_MODEL_1b92f77edd8945908b35f91db9ac47a9",
       "max": 501200538.0,
       "min": 0.0,
       "orientation": "horizontal",
       "style": "IPY_MODEL_83733a1a77a84b1093fc7370a10f1217",
       "value": 501200538.0
      }
     },
     "f5245b77b6bc4501b944a0f2d940ce4d": {
      "model_module": "@jupyter-widgets/base",
      "model_module_version": "1.2.0",
      "model_name": "LayoutModel",
      "state": {
       "_model_module": "@jupyter-widgets/base",
       "_model_module_version": "1.2.0",
       "_model_name": "LayoutModel",
       "_view_count": null,
       "_view_module": "@jupyter-widgets/base",
       "_view_module_version": "1.2.0",
       "_view_name": "LayoutView",
       "align_content": null,
       "align_items": null,
       "align_self": null,
       "border": null,
       "bottom": null,
       "display": null,
       "flex": null,
       "flex_flow": null,
       "grid_area": null,
       "grid_auto_columns": null,
       "grid_auto_flow": null,
       "grid_auto_rows": null,
       "grid_column": null,
       "grid_gap": null,
       "grid_row": null,
       "grid_template_areas": null,
       "grid_template_columns": null,
       "grid_template_rows": null,
       "height": null,
       "justify_content": null,
       "justify_items": null,
       "left": null,
       "margin": null,
       "max_height": null,
       "max_width": null,
       "min_height": null,
       "min_width": null,
       "object_fit": null,
       "object_position": null,
       "order": null,
       "overflow": null,
       "overflow_x": null,
       "overflow_y": null,
       "padding": null,
       "right": null,
       "top": null,
       "visibility": null,
       "width": null
      }
     },
     "f96f07943fce45fba37d9d8c82bf70b0": {
      "model_module": "@jupyter-widgets/base",
      "model_module_version": "1.2.0",
      "model_name": "LayoutModel",
      "state": {
       "_model_module": "@jupyter-widgets/base",
       "_model_module_version": "1.2.0",
       "_model_name": "LayoutModel",
       "_view_count": null,
       "_view_module": "@jupyter-widgets/base",
       "_view_module_version": "1.2.0",
       "_view_name": "LayoutView",
       "align_content": null,
       "align_items": null,
       "align_self": null,
       "border": null,
       "bottom": null,
       "display": null,
       "flex": null,
       "flex_flow": null,
       "grid_area": null,
       "grid_auto_columns": null,
       "grid_auto_flow": null,
       "grid_auto_rows": null,
       "grid_column": null,
       "grid_gap": null,
       "grid_row": null,
       "grid_template_areas": null,
       "grid_template_columns": null,
       "grid_template_rows": null,
       "height": null,
       "justify_content": null,
       "justify_items": null,
       "left": null,
       "margin": null,
       "max_height": null,
       "max_width": null,
       "min_height": null,
       "min_width": null,
       "object_fit": null,
       "object_position": null,
       "order": null,
       "overflow": null,
       "overflow_x": null,
       "overflow_y": null,
       "padding": null,
       "right": null,
       "top": null,
       "visibility": null,
       "width": "20px"
      }
     },
     "fad4bd7f104c45cca22cc9c157db643a": {
      "model_module": "@jupyter-widgets/controls",
      "model_module_version": "1.5.0",
      "model_name": "HTMLModel",
      "state": {
       "_dom_classes": [],
       "_model_module": "@jupyter-widgets/controls",
       "_model_module_version": "1.5.0",
       "_model_name": "HTMLModel",
       "_view_count": null,
       "_view_module": "@jupyter-widgets/controls",
       "_view_module_version": "1.5.0",
       "_view_name": "HTMLView",
       "description": "",
       "description_tooltip": null,
       "layout": "IPY_MODEL_a85928d286dd4e83a5d026b1bfda8e73",
       "placeholder": "​",
       "style": "IPY_MODEL_029e230f9a2a4d18bd3dcc796b2ac035",
       "value": "Downloading (…)lve/main/config.json: 100%"
      }
     },
     "fdc47a24eb2742158cadf57ec65fdd35": {
      "model_module": "@jupyter-widgets/base",
      "model_module_version": "1.2.0",
      "model_name": "LayoutModel",
      "state": {
       "_model_module": "@jupyter-widgets/base",
       "_model_module_version": "1.2.0",
       "_model_name": "LayoutModel",
       "_view_count": null,
       "_view_module": "@jupyter-widgets/base",
       "_view_module_version": "1.2.0",
       "_view_name": "LayoutView",
       "align_content": null,
       "align_items": null,
       "align_self": null,
       "border": null,
       "bottom": null,
       "display": null,
       "flex": null,
       "flex_flow": null,
       "grid_area": null,
       "grid_auto_columns": null,
       "grid_auto_flow": null,
       "grid_auto_rows": null,
       "grid_column": null,
       "grid_gap": null,
       "grid_row": null,
       "grid_template_areas": null,
       "grid_template_columns": null,
       "grid_template_rows": null,
       "height": null,
       "justify_content": null,
       "justify_items": null,
       "left": null,
       "margin": null,
       "max_height": null,
       "max_width": null,
       "min_height": null,
       "min_width": null,
       "object_fit": null,
       "object_position": null,
       "order": null,
       "overflow": null,
       "overflow_x": null,
       "overflow_y": null,
       "padding": null,
       "right": null,
       "top": null,
       "visibility": null,
       "width": null
      }
     }
    },
    "version_major": 2,
    "version_minor": 0
   }
  }
 },
 "nbformat": 4,
 "nbformat_minor": 5
}

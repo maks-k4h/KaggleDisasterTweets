{
 "cells": [
  {
   "cell_type": "code",
   "execution_count": 1,
   "metadata": {
    "collapsed": true
   },
   "outputs": [],
   "source": [
    "import torch\n",
    "import torch.nn as nn\n",
    "import torch.nn.functional as F\n",
    "import torch.optim as optim\n",
    "import torch.utils as utils\n",
    "import torchtext\n",
    "\n",
    "from data import dataset\n",
    "import tweet_utils as tu\n",
    "import pandas as pd"
   ]
  },
  {
   "cell_type": "code",
   "execution_count": 2,
   "outputs": [
    {
     "name": "stdout",
     "output_type": "stream",
     "text": [
      "data/train.csv successfully shuffled!\r\n"
     ]
    },
    {
     "name": "stderr",
     "output_type": "stream",
     "text": [
      "/Users/makskonevych/Documents/Python/ML/KaggleCompetitions/DisasterTweets/data/dataset.py:36: SettingWithCopyWarning: \n",
      "A value is trying to be set on a copy of a slice from a DataFrame.\n",
      "Try using .loc[row_indexer,col_indexer] = value instead\n",
      "\n",
      "See the caveats in the documentation: https://pandas.pydata.org/pandas-docs/stable/user_guide/indexing.html#returning-a-view-versus-a-copy\n",
      "  self._data['text'] = self._data['text'].apply(tweet_prep_fn)\n",
      "/Users/makskonevych/Documents/Python/ML/KaggleCompetitions/DisasterTweets/data/dataset.py:36: SettingWithCopyWarning: \n",
      "A value is trying to be set on a copy of a slice from a DataFrame.\n",
      "Try using .loc[row_indexer,col_indexer] = value instead\n",
      "\n",
      "See the caveats in the documentation: https://pandas.pydata.org/pandas-docs/stable/user_guide/indexing.html#returning-a-view-versus-a-copy\n",
      "  self._data['text'] = self._data['text'].apply(tweet_prep_fn)\n"
     ]
    }
   ],
   "source": [
    "! python3 data/_shuffle.py data/\n",
    "train_dataset = dataset.DisasterData('train', path='data/', tweet_prep_fn=tu.process_tweet)\n",
    "valid_dataset = dataset.DisasterData('valid', path='data/', tweet_prep_fn=tu.process_tweet)\n",
    "test_dataset = dataset.DisasterData('test', path='data/', tweet_prep_fn=tu.process_tweet)\n",
    "all_dataset = dataset.DisasterData('all', path='data/', tweet_prep_fn=tu.process_tweet)"
   ],
   "metadata": {
    "collapsed": false
   }
  },
  {
   "cell_type": "code",
   "execution_count": 3,
   "outputs": [],
   "source": [
    "# load embeddings\n",
    "EMBEDDING_N = 300\n",
    "vec = torchtext.vocab.GloVe(name='6B', dim=EMBEDDING_N)\n",
    "UNK_T = torch.randn(EMBEDDING_N)\n",
    "EOS_T = torch.randn(EMBEDDING_N)\n",
    "PAD_T = [0.] * EMBEDDING_N\n",
    "vec.unk_init = lambda x: UNK_T"
   ],
   "metadata": {
    "collapsed": false
   }
  },
  {
   "cell_type": "code",
   "execution_count": 4,
   "outputs": [
    {
     "data": {
      "text/plain": "True"
     },
     "execution_count": 4,
     "metadata": {},
     "output_type": "execute_result"
    }
   ],
   "source": [
    "torch.equal(vec['thereisnotimeforfussingandfighting'], UNK_T)"
   ],
   "metadata": {
    "collapsed": false
   }
  },
  {
   "cell_type": "code",
   "execution_count": 5,
   "outputs": [
    {
     "data": {
      "text/plain": "((1873,\n  'the stars are burning i here your voice in my mind',\n  '627',\n  'burning'),\n 0)"
     },
     "execution_count": 5,
     "metadata": {},
     "output_type": "execute_result"
    }
   ],
   "source": [
    "next(iter(train_dataset))"
   ],
   "metadata": {
    "collapsed": false
   }
  },
  {
   "cell_type": "code",
   "execution_count": 6,
   "outputs": [],
   "source": [
    "def text_to_vector(text, pad_n=0, add_eos=True, prep_fn=tu.process_tweet):\n",
    "    if prep_fn:\n",
    "        tokens = prep_fn(text, rm_weblinks=True).split()\n",
    "    else:\n",
    "        tokens = text.split()\n",
    "\n",
    "    res = [vec[token] for token in tokens]\n",
    "    if add_eos:\n",
    "        res += [EOS_T]\n",
    "    if pad_n > 0:\n",
    "        res += [PAD_T] * pad_n\n",
    "\n",
    "    return [[float(v) for v in b] for b in res]"
   ],
   "metadata": {
    "collapsed": false
   }
  },
  {
   "cell_type": "code",
   "execution_count": 7,
   "outputs": [],
   "source": [
    "def collate(batch):\n",
    "    ids = []\n",
    "    X = []\n",
    "    targets = []\n",
    "    max_len = 0\n",
    "\n",
    "    for ((id, text, location, keyword), target) in batch:\n",
    "        X.append(text_to_vector(text, prep_fn=None))\n",
    "        max_len = max(len(X[-1]), max_len)\n",
    "\n",
    "        ids.append(id)\n",
    "        targets.append([target])\n",
    "\n",
    "    for v in X:\n",
    "        for t in range(len(v), max_len):\n",
    "            v.append(PAD_T)\n",
    "\n",
    "\n",
    "    return torch.tensor(ids), torch.tensor(X), torch.tensor(targets, dtype=torch.float) if targets[0][0] is not None else None"
   ],
   "metadata": {
    "collapsed": false
   }
  },
  {
   "cell_type": "code",
   "execution_count": 8,
   "outputs": [],
   "source": [
    "train_dataloader = utils.data.DataLoader(train_dataset, batch_size=32, shuffle=True, collate_fn=collate)\n",
    "all_dataloader = utils.data.DataLoader(all_dataset, batch_size=32, shuffle=True, collate_fn=collate)\n",
    "valid_dataloader = utils.data.DataLoader(valid_dataset, batch_size=32, collate_fn=collate)\n",
    "test_dataloader = utils.data.DataLoader(test_dataset, batch_size=32, collate_fn=collate)"
   ],
   "metadata": {
    "collapsed": false
   }
  },
  {
   "cell_type": "code",
   "execution_count": 9,
   "outputs": [],
   "source": [
    "class Model(nn.Module):\n",
    "\n",
    "    def __init__(self, input_d, hidden_d, layers_n=1):\n",
    "        super(Model, self).__init__()\n",
    "\n",
    "        self.Lstm = nn.LSTM(input_size=input_d, hidden_size=hidden_d, num_layers=layers_n, batch_first=True)\n",
    "        self.Fc = nn.Linear(hidden_d, 1)\n",
    "        self.Dropout1 = nn.Dropout(0.5)\n",
    "        self.Dropout2 = nn.Dropout(0.4)\n",
    "\n",
    "    def forward(self, x):\n",
    "\n",
    "        if len(x.shape) == 2:\n",
    "            x = x[:,None,:]\n",
    "\n",
    "        x = self.Dropout1(x)\n",
    "        x, _ = self.Lstm(x)\n",
    "        x = x[:,-1,:]     # taking the last output for each sequence\n",
    "\n",
    "        x = self.Dropout2(x)\n",
    "        x = self.Fc(x)\n",
    "        return x"
   ],
   "metadata": {
    "collapsed": false
   }
  },
  {
   "cell_type": "code",
   "execution_count": 10,
   "outputs": [],
   "source": [
    "model1 = Model(EMBEDDING_N, 100, layers_n=2)"
   ],
   "metadata": {
    "collapsed": false
   }
  },
  {
   "cell_type": "code",
   "execution_count": 11,
   "outputs": [
    {
     "name": "stdout",
     "output_type": "stream",
     "text": [
      "Parameters number: 3202\n"
     ]
    }
   ],
   "source": [
    "n_param = 0\n",
    "for param in model1.parameters():\n",
    "    n_param += len(param)\n",
    "\n",
    "print('Parameters number:', n_param)"
   ],
   "metadata": {
    "collapsed": false
   }
  },
  {
   "cell_type": "code",
   "execution_count": 12,
   "outputs": [],
   "source": [
    "optimizer = torch.optim.Adam(model1.parameters(), lr=1e-4)"
   ],
   "metadata": {
    "collapsed": false
   }
  },
  {
   "cell_type": "code",
   "execution_count": 13,
   "outputs": [],
   "source": [
    "def get_accuracy(model, dataloader):\n",
    "    accurate = 0\n",
    "    total = 0\n",
    "\n",
    "    model.eval()\n",
    "\n",
    "    with torch.no_grad():\n",
    "        for id, x, y in dataloader:\n",
    "            y_hat = torch.sigmoid(model.forward(x)).round()\n",
    "            accurate += float((y_hat == y).sum())\n",
    "            total += float(x.shape[0])\n",
    "\n",
    "    return accurate / total"
   ],
   "metadata": {
    "collapsed": false
   }
  },
  {
   "cell_type": "code",
   "execution_count": 14,
   "outputs": [],
   "source": [
    "def train(epochs, model, optimizer, valid_dataloader, train_dataloader, loss_fn=nn.BCELoss(), display_epoch=0):\n",
    "    print(\"Initial validation accuracy:\", get_accuracy(model, valid_dataloader))\n",
    "\n",
    "    for i in range(epochs):\n",
    "\n",
    "        j = 0\n",
    "        epoch_loss = 0\n",
    "        batches = len(train_dataloader)\n",
    "\n",
    "        accurate = 0\n",
    "        total = 0\n",
    "\n",
    "        model.train()\n",
    "        for b_i, (id, x, y) in enumerate(train_dataloader):\n",
    "            y_hat = torch.sigmoid(model.forward(x))\n",
    "            loss = loss_fn(y_hat, y)\n",
    "\n",
    "            with torch.no_grad():\n",
    "                accurate += float((y_hat.round() == y).sum())\n",
    "                total += float(x.shape[0])\n",
    "\n",
    "            j += 1\n",
    "            epoch_loss += float(loss)\n",
    "\n",
    "            optimizer.zero_grad()\n",
    "            loss.backward()\n",
    "            optimizer.step()\n",
    "\n",
    "            if b_i % (batches // 12) == 0:\n",
    "                print('-', end='')\n",
    "\n",
    "        print(' EPOCH %03d' % int(i + 1 + display_epoch),\n",
    "              '| TLoss: %.4f' % round(epoch_loss / j, 4),\n",
    "              '| TAccuracy: %.4f' % round(accurate / total, 4),\n",
    "              '| VAccuracy: %.4f' % round(get_accuracy(model, valid_dataloader), 4))"
   ],
   "metadata": {
    "collapsed": false
   }
  },
  {
   "cell_type": "code",
   "execution_count": 15,
   "outputs": [
    {
     "name": "stdout",
     "output_type": "stream",
     "text": [
      "Initial validation accuracy: 0.6089238845144357\n",
      "------------- EPOCH 101 | TLoss: 0.6846 | TAccuracy: 0.5662 | VAccuracy: 0.6089\n",
      "------------- EPOCH 102 | TLoss: 0.6228 | TAccuracy: 0.6479 | VAccuracy: 0.7231\n",
      "------------- EPOCH 103 | TLoss: 0.5139 | TAccuracy: 0.7634 | VAccuracy: 0.7769\n",
      "------------- EPOCH 104 | TLoss: 0.4847 | TAccuracy: 0.7824 | VAccuracy: 0.7953\n",
      "------------- EPOCH 105 | TLoss: 0.4747 | TAccuracy: 0.7888 | VAccuracy: 0.8031\n",
      "------------- EPOCH 106 | TLoss: 0.4587 | TAccuracy: 0.7943 | VAccuracy: 0.8097\n",
      "------------- EPOCH 107 | TLoss: 0.4523 | TAccuracy: 0.7952 | VAccuracy: 0.8176\n",
      "------------- EPOCH 108 | TLoss: 0.4528 | TAccuracy: 0.7958 | VAccuracy: 0.8110\n",
      "------------- EPOCH 109 | TLoss: 0.4474 | TAccuracy: 0.7945 | VAccuracy: 0.8150\n",
      "------------- EPOCH 110 | TLoss: 0.4402 | TAccuracy: 0.8085 | VAccuracy: 0.8189\n",
      "------------- EPOCH 111 | TLoss: 0.4358 | TAccuracy: 0.8076 | VAccuracy: 0.8189\n",
      "------------- EPOCH 112 | TLoss: 0.4387 | TAccuracy: 0.8032 | VAccuracy: 0.8123\n",
      "------------- EPOCH 113 | TLoss: 0.4350 | TAccuracy: 0.8098 | VAccuracy: 0.8097\n",
      "------------- EPOCH 114 | TLoss: 0.4370 | TAccuracy: 0.8085 | VAccuracy: 0.8163\n",
      "------------- EPOCH 115 | TLoss: 0.4293 | TAccuracy: 0.8101 | VAccuracy: 0.8136\n",
      "------------- EPOCH 116 | TLoss: 0.4304 | TAccuracy: 0.8117 | VAccuracy: 0.8150\n",
      "------------- EPOCH 117 | TLoss: 0.4270 | TAccuracy: 0.8130 | VAccuracy: 0.8084\n",
      "------------- EPOCH 118 | TLoss: 0.4221 | TAccuracy: 0.8187 | VAccuracy: 0.8071\n",
      "------------- EPOCH 119 | TLoss: 0.4241 | TAccuracy: 0.8123 | VAccuracy: 0.8097\n",
      "------------- EPOCH 120 | TLoss: 0.4194 | TAccuracy: 0.8164 | VAccuracy: 0.8018\n",
      "------------- EPOCH 121 | TLoss: 0.4201 | TAccuracy: 0.8149 | VAccuracy: 0.8150\n",
      "------------- EPOCH 122 | TLoss: 0.4142 | TAccuracy: 0.8136 | VAccuracy: 0.8084\n",
      "------------- EPOCH 123 | TLoss: 0.4115 | TAccuracy: 0.8194 | VAccuracy: 0.8136\n",
      "------------- EPOCH 124 | TLoss: 0.4152 | TAccuracy: 0.8159 | VAccuracy: 0.8110\n",
      "------------- EPOCH 125 | TLoss: 0.4067 | TAccuracy: 0.8192 | VAccuracy: 0.8136\n",
      "------------- EPOCH 126 | TLoss: 0.4083 | TAccuracy: 0.8158 | VAccuracy: 0.8097\n",
      "------------- EPOCH 127 | TLoss: 0.4045 | TAccuracy: 0.8205 | VAccuracy: 0.8071\n",
      "------------- EPOCH 128 | TLoss: 0.4024 | TAccuracy: 0.8267 | VAccuracy: 0.8136\n",
      "------------- EPOCH 129 | TLoss: 0.4018 | TAccuracy: 0.8247 | VAccuracy: 0.8097\n",
      "------------- EPOCH 130 | TLoss: 0.4035 | TAccuracy: 0.8247 | VAccuracy: 0.8058\n"
     ]
    }
   ],
   "source": [
    "train(30, model1, optimizer, valid_dataloader, train_dataloader, display_epoch=100)"
   ],
   "metadata": {
    "collapsed": false
   }
  },
  {
   "cell_type": "code",
   "execution_count": 16,
   "outputs": [
    {
     "data": {
      "text/plain": "0.8057742782152231"
     },
     "execution_count": 16,
     "metadata": {},
     "output_type": "execute_result"
    }
   ],
   "source": [
    "get_accuracy(model1, valid_dataloader)"
   ],
   "metadata": {
    "collapsed": false
   }
  },
  {
   "cell_type": "code",
   "execution_count": 16,
   "outputs": [],
   "source": [],
   "metadata": {
    "collapsed": false
   }
  },
  {
   "cell_type": "markdown",
   "source": [
    "# Predictions"
   ],
   "metadata": {
    "collapsed": false
   }
  },
  {
   "cell_type": "code",
   "execution_count": 17,
   "outputs": [],
   "source": [
    "predictions_df = pd.DataFrame()\n",
    "\n",
    "for ids, x, _ in test_dataloader:\n",
    "    y_hat = torch.sigmoid(model1.forward(x)).round()\n",
    "    r = torch.concat([ids[:, None], y_hat], dim=1)\n",
    "    predictions_df = pd.concat([predictions_df, pd.DataFrame(r.detach().numpy(), columns=['id', 'target'])])"
   ],
   "metadata": {
    "collapsed": false
   }
  },
  {
   "cell_type": "code",
   "execution_count": 18,
   "outputs": [],
   "source": [
    "predictions_df.target = predictions_df.target.astype(int)\n",
    "predictions_df.id = predictions_df.id.astype(int)"
   ],
   "metadata": {
    "collapsed": false
   }
  },
  {
   "cell_type": "code",
   "execution_count": 19,
   "outputs": [
    {
     "data": {
      "text/plain": "       id  target\n0       0       1\n1       2       1\n2       3       1\n3       9       1\n4      11       1\n..    ...     ...\n26  10861       1\n27  10865       1\n28  10868       1\n29  10874       1\n30  10875       1\n\n[3263 rows x 2 columns]",
      "text/html": "<div>\n<style scoped>\n    .dataframe tbody tr th:only-of-type {\n        vertical-align: middle;\n    }\n\n    .dataframe tbody tr th {\n        vertical-align: top;\n    }\n\n    .dataframe thead th {\n        text-align: right;\n    }\n</style>\n<table border=\"1\" class=\"dataframe\">\n  <thead>\n    <tr style=\"text-align: right;\">\n      <th></th>\n      <th>id</th>\n      <th>target</th>\n    </tr>\n  </thead>\n  <tbody>\n    <tr>\n      <th>0</th>\n      <td>0</td>\n      <td>1</td>\n    </tr>\n    <tr>\n      <th>1</th>\n      <td>2</td>\n      <td>1</td>\n    </tr>\n    <tr>\n      <th>2</th>\n      <td>3</td>\n      <td>1</td>\n    </tr>\n    <tr>\n      <th>3</th>\n      <td>9</td>\n      <td>1</td>\n    </tr>\n    <tr>\n      <th>4</th>\n      <td>11</td>\n      <td>1</td>\n    </tr>\n    <tr>\n      <th>...</th>\n      <td>...</td>\n      <td>...</td>\n    </tr>\n    <tr>\n      <th>26</th>\n      <td>10861</td>\n      <td>1</td>\n    </tr>\n    <tr>\n      <th>27</th>\n      <td>10865</td>\n      <td>1</td>\n    </tr>\n    <tr>\n      <th>28</th>\n      <td>10868</td>\n      <td>1</td>\n    </tr>\n    <tr>\n      <th>29</th>\n      <td>10874</td>\n      <td>1</td>\n    </tr>\n    <tr>\n      <th>30</th>\n      <td>10875</td>\n      <td>1</td>\n    </tr>\n  </tbody>\n</table>\n<p>3263 rows × 2 columns</p>\n</div>"
     },
     "execution_count": 19,
     "metadata": {},
     "output_type": "execute_result"
    }
   ],
   "source": [
    "predictions_df"
   ],
   "metadata": {
    "collapsed": false
   }
  },
  {
   "cell_type": "code",
   "execution_count": 20,
   "outputs": [],
   "source": [
    "predictions_df.to_csv('predictions/LSTM.csv', index=False)"
   ],
   "metadata": {
    "collapsed": false
   }
  },
  {
   "cell_type": "code",
   "execution_count": 20,
   "outputs": [],
   "source": [],
   "metadata": {
    "collapsed": false
   }
  }
 ],
 "metadata": {
  "kernelspec": {
   "display_name": "Python 3",
   "language": "python",
   "name": "python3"
  },
  "language_info": {
   "codemirror_mode": {
    "name": "ipython",
    "version": 2
   },
   "file_extension": ".py",
   "mimetype": "text/x-python",
   "name": "python",
   "nbconvert_exporter": "python",
   "pygments_lexer": "ipython2",
   "version": "2.7.6"
  }
 },
 "nbformat": 4,
 "nbformat_minor": 0
}

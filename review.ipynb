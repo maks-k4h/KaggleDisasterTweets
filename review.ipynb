{
 "cells": [
  {
   "cell_type": "code",
   "execution_count": 2,
   "metadata": {
    "collapsed": true
   },
   "outputs": [],
   "source": [
    "import pandas as pd"
   ]
  },
  {
   "cell_type": "code",
   "execution_count": 3,
   "outputs": [],
   "source": [
    "train_df_raw = pd.read_csv('data/train.csv')\n",
    "test_df_raw = pd.read_csv('data/test.csv')"
   ],
   "metadata": {
    "collapsed": false
   }
  },
  {
   "cell_type": "code",
   "execution_count": 4,
   "outputs": [
    {
     "data": {
      "text/plain": "    id keyword location                                               text  \\\n0    1     NaN      NaN  Our Deeds are the Reason of this #earthquake M...   \n1    4     NaN      NaN             Forest fire near La Ronge Sask. Canada   \n2    5     NaN      NaN  All residents asked to 'shelter in place' are ...   \n3    6     NaN      NaN  13,000 people receive #wildfires evacuation or...   \n4    7     NaN      NaN  Just got sent this photo from Ruby #Alaska as ...   \n5    8     NaN      NaN  #RockyFire Update => California Hwy. 20 closed...   \n6   10     NaN      NaN  #flood #disaster Heavy rain causes flash flood...   \n7   13     NaN      NaN  I'm on top of the hill and I can see a fire in...   \n8   14     NaN      NaN  There's an emergency evacuation happening now ...   \n9   15     NaN      NaN  I'm afraid that the tornado is coming to our a...   \n10  16     NaN      NaN        Three people died from the heat wave so far   \n11  17     NaN      NaN  Haha South Tampa is getting flooded hah- WAIT ...   \n12  18     NaN      NaN  #raining #flooding #Florida #TampaBay #Tampa 1...   \n13  19     NaN      NaN            #Flood in Bago Myanmar #We arrived Bago   \n14  20     NaN      NaN  Damage to school bus on 80 in multi car crash ...   \n15  23     NaN      NaN                                     What's up man?   \n16  24     NaN      NaN                                      I love fruits   \n17  25     NaN      NaN                                   Summer is lovely   \n18  26     NaN      NaN                                  My car is so fast   \n19  28     NaN      NaN                       What a goooooooaaaaaal!!!!!!   \n20  31     NaN      NaN                             this is ridiculous....   \n21  32     NaN      NaN                                  London is cool ;)   \n22  33     NaN      NaN                                        Love skiing   \n23  34     NaN      NaN                              What a wonderful day!   \n24  36     NaN      NaN                                           LOOOOOOL   \n25  37     NaN      NaN                     No way...I can't eat that shit   \n26  38     NaN      NaN                              Was in NYC last week!   \n27  39     NaN      NaN                                 Love my girlfriend   \n28  40     NaN      NaN                                          Cooool :)   \n29  41     NaN      NaN                                 Do you like pasta?   \n\n    target  \n0        1  \n1        1  \n2        1  \n3        1  \n4        1  \n5        1  \n6        1  \n7        1  \n8        1  \n9        1  \n10       1  \n11       1  \n12       1  \n13       1  \n14       1  \n15       0  \n16       0  \n17       0  \n18       0  \n19       0  \n20       0  \n21       0  \n22       0  \n23       0  \n24       0  \n25       0  \n26       0  \n27       0  \n28       0  \n29       0  ",
      "text/html": "<div>\n<style scoped>\n    .dataframe tbody tr th:only-of-type {\n        vertical-align: middle;\n    }\n\n    .dataframe tbody tr th {\n        vertical-align: top;\n    }\n\n    .dataframe thead th {\n        text-align: right;\n    }\n</style>\n<table border=\"1\" class=\"dataframe\">\n  <thead>\n    <tr style=\"text-align: right;\">\n      <th></th>\n      <th>id</th>\n      <th>keyword</th>\n      <th>location</th>\n      <th>text</th>\n      <th>target</th>\n    </tr>\n  </thead>\n  <tbody>\n    <tr>\n      <th>0</th>\n      <td>1</td>\n      <td>NaN</td>\n      <td>NaN</td>\n      <td>Our Deeds are the Reason of this #earthquake M...</td>\n      <td>1</td>\n    </tr>\n    <tr>\n      <th>1</th>\n      <td>4</td>\n      <td>NaN</td>\n      <td>NaN</td>\n      <td>Forest fire near La Ronge Sask. Canada</td>\n      <td>1</td>\n    </tr>\n    <tr>\n      <th>2</th>\n      <td>5</td>\n      <td>NaN</td>\n      <td>NaN</td>\n      <td>All residents asked to 'shelter in place' are ...</td>\n      <td>1</td>\n    </tr>\n    <tr>\n      <th>3</th>\n      <td>6</td>\n      <td>NaN</td>\n      <td>NaN</td>\n      <td>13,000 people receive #wildfires evacuation or...</td>\n      <td>1</td>\n    </tr>\n    <tr>\n      <th>4</th>\n      <td>7</td>\n      <td>NaN</td>\n      <td>NaN</td>\n      <td>Just got sent this photo from Ruby #Alaska as ...</td>\n      <td>1</td>\n    </tr>\n    <tr>\n      <th>5</th>\n      <td>8</td>\n      <td>NaN</td>\n      <td>NaN</td>\n      <td>#RockyFire Update =&gt; California Hwy. 20 closed...</td>\n      <td>1</td>\n    </tr>\n    <tr>\n      <th>6</th>\n      <td>10</td>\n      <td>NaN</td>\n      <td>NaN</td>\n      <td>#flood #disaster Heavy rain causes flash flood...</td>\n      <td>1</td>\n    </tr>\n    <tr>\n      <th>7</th>\n      <td>13</td>\n      <td>NaN</td>\n      <td>NaN</td>\n      <td>I'm on top of the hill and I can see a fire in...</td>\n      <td>1</td>\n    </tr>\n    <tr>\n      <th>8</th>\n      <td>14</td>\n      <td>NaN</td>\n      <td>NaN</td>\n      <td>There's an emergency evacuation happening now ...</td>\n      <td>1</td>\n    </tr>\n    <tr>\n      <th>9</th>\n      <td>15</td>\n      <td>NaN</td>\n      <td>NaN</td>\n      <td>I'm afraid that the tornado is coming to our a...</td>\n      <td>1</td>\n    </tr>\n    <tr>\n      <th>10</th>\n      <td>16</td>\n      <td>NaN</td>\n      <td>NaN</td>\n      <td>Three people died from the heat wave so far</td>\n      <td>1</td>\n    </tr>\n    <tr>\n      <th>11</th>\n      <td>17</td>\n      <td>NaN</td>\n      <td>NaN</td>\n      <td>Haha South Tampa is getting flooded hah- WAIT ...</td>\n      <td>1</td>\n    </tr>\n    <tr>\n      <th>12</th>\n      <td>18</td>\n      <td>NaN</td>\n      <td>NaN</td>\n      <td>#raining #flooding #Florida #TampaBay #Tampa 1...</td>\n      <td>1</td>\n    </tr>\n    <tr>\n      <th>13</th>\n      <td>19</td>\n      <td>NaN</td>\n      <td>NaN</td>\n      <td>#Flood in Bago Myanmar #We arrived Bago</td>\n      <td>1</td>\n    </tr>\n    <tr>\n      <th>14</th>\n      <td>20</td>\n      <td>NaN</td>\n      <td>NaN</td>\n      <td>Damage to school bus on 80 in multi car crash ...</td>\n      <td>1</td>\n    </tr>\n    <tr>\n      <th>15</th>\n      <td>23</td>\n      <td>NaN</td>\n      <td>NaN</td>\n      <td>What's up man?</td>\n      <td>0</td>\n    </tr>\n    <tr>\n      <th>16</th>\n      <td>24</td>\n      <td>NaN</td>\n      <td>NaN</td>\n      <td>I love fruits</td>\n      <td>0</td>\n    </tr>\n    <tr>\n      <th>17</th>\n      <td>25</td>\n      <td>NaN</td>\n      <td>NaN</td>\n      <td>Summer is lovely</td>\n      <td>0</td>\n    </tr>\n    <tr>\n      <th>18</th>\n      <td>26</td>\n      <td>NaN</td>\n      <td>NaN</td>\n      <td>My car is so fast</td>\n      <td>0</td>\n    </tr>\n    <tr>\n      <th>19</th>\n      <td>28</td>\n      <td>NaN</td>\n      <td>NaN</td>\n      <td>What a goooooooaaaaaal!!!!!!</td>\n      <td>0</td>\n    </tr>\n    <tr>\n      <th>20</th>\n      <td>31</td>\n      <td>NaN</td>\n      <td>NaN</td>\n      <td>this is ridiculous....</td>\n      <td>0</td>\n    </tr>\n    <tr>\n      <th>21</th>\n      <td>32</td>\n      <td>NaN</td>\n      <td>NaN</td>\n      <td>London is cool ;)</td>\n      <td>0</td>\n    </tr>\n    <tr>\n      <th>22</th>\n      <td>33</td>\n      <td>NaN</td>\n      <td>NaN</td>\n      <td>Love skiing</td>\n      <td>0</td>\n    </tr>\n    <tr>\n      <th>23</th>\n      <td>34</td>\n      <td>NaN</td>\n      <td>NaN</td>\n      <td>What a wonderful day!</td>\n      <td>0</td>\n    </tr>\n    <tr>\n      <th>24</th>\n      <td>36</td>\n      <td>NaN</td>\n      <td>NaN</td>\n      <td>LOOOOOOL</td>\n      <td>0</td>\n    </tr>\n    <tr>\n      <th>25</th>\n      <td>37</td>\n      <td>NaN</td>\n      <td>NaN</td>\n      <td>No way...I can't eat that shit</td>\n      <td>0</td>\n    </tr>\n    <tr>\n      <th>26</th>\n      <td>38</td>\n      <td>NaN</td>\n      <td>NaN</td>\n      <td>Was in NYC last week!</td>\n      <td>0</td>\n    </tr>\n    <tr>\n      <th>27</th>\n      <td>39</td>\n      <td>NaN</td>\n      <td>NaN</td>\n      <td>Love my girlfriend</td>\n      <td>0</td>\n    </tr>\n    <tr>\n      <th>28</th>\n      <td>40</td>\n      <td>NaN</td>\n      <td>NaN</td>\n      <td>Cooool :)</td>\n      <td>0</td>\n    </tr>\n    <tr>\n      <th>29</th>\n      <td>41</td>\n      <td>NaN</td>\n      <td>NaN</td>\n      <td>Do you like pasta?</td>\n      <td>0</td>\n    </tr>\n  </tbody>\n</table>\n</div>"
     },
     "execution_count": 4,
     "metadata": {},
     "output_type": "execute_result"
    }
   ],
   "source": [
    "train_df_raw.head(30)"
   ],
   "metadata": {
    "collapsed": false
   }
  },
  {
   "cell_type": "code",
   "execution_count": 5,
   "outputs": [
    {
     "data": {
      "text/plain": "         id keyword location  \\\n7583  10835     NaN      NaN   \n7584  10837     NaN      NaN   \n7585  10839     NaN      NaN   \n7586  10840     NaN      NaN   \n7587  10841     NaN      NaN   \n7588  10842     NaN      NaN   \n7589  10843     NaN      NaN   \n7590  10844     NaN      NaN   \n7591  10846     NaN      NaN   \n7592  10847     NaN      NaN   \n7593  10848     NaN      NaN   \n7594  10849     NaN      NaN   \n7595  10850     NaN      NaN   \n7596  10851     NaN      NaN   \n7597  10852     NaN      NaN   \n7598  10853     NaN      NaN   \n7599  10854     NaN      NaN   \n7600  10855     NaN      NaN   \n7601  10859     NaN      NaN   \n7602  10860     NaN      NaN   \n7603  10862     NaN      NaN   \n7604  10863     NaN      NaN   \n7605  10864     NaN      NaN   \n7606  10866     NaN      NaN   \n7607  10867     NaN      NaN   \n7608  10869     NaN      NaN   \n7609  10870     NaN      NaN   \n7610  10871     NaN      NaN   \n7611  10872     NaN      NaN   \n7612  10873     NaN      NaN   \n\n                                                   text  target  \n7583  Pic of 16yr old PKK suicide bomber who detonat...       1  \n7584  These boxes are ready to explode! Exploding Ki...       0  \n7585  Calgary Police Flood Road Closures in Calgary....       1  \n7586  #Sismo DETECTADO #JapÌ_n 15:41:07 Seismic inte...       1  \n7587                                 Sirens everywhere!       0  \n7588  BREAKING: #ISIS claims responsibility for mosq...       1  \n7589                                     Omg earthquake       1  \n7590  SEVERE WEATHER BULLETIN No. 5 FOR: TYPHOON ÛÏ...       1  \n7591  Heat wave warning aa? Ayyo dei. Just when I pl...       1  \n7592  An IS group suicide bomber detonated an explos...       1  \n7593  I just heard a really loud bang and everyone i...       0  \n7594  A gas thing just exploded and I heard screams ...       1  \n7595  NWS: Flash Flood Warning Continued for Shelby ...       1  \n7596  RT @LivingSafely: #NWS issues Severe #Thunders...       1  \n7597  #??? #?? #??? #??? MH370: Aircraft debris foun...       1  \n7598  Father-of-three Lost Control of Car After Over...       1  \n7599  1.3 #Earthquake in 9Km Ssw Of Anza California ...       1  \n7600  Evacuation order lifted for town of Roosevelt:...       1  \n7601  #breaking #LA Refugio oil spill may have been ...       1  \n7602  a siren just went off and it wasn't the Forney...       1  \n7603  Officials say a quarantine is in place at an A...       1  \n7604  #WorldNews Fallen powerlines on G:link tram: U...       1  \n7605  on the flip side I'm at Walmart and there is a...       1  \n7606  Suicide bomber kills 15 in Saudi security site...       1  \n7607  #stormchase Violent Record Breaking EF-5 El Re...       1  \n7608  Two giant cranes holding a bridge collapse int...       1  \n7609  @aria_ahrary @TheTawniest The out of control w...       1  \n7610  M1.94 [01:04 UTC]?5km S of Volcano Hawaii. htt...       1  \n7611  Police investigating after an e-bike collided ...       1  \n7612  The Latest: More Homes Razed by Northern Calif...       1  ",
      "text/html": "<div>\n<style scoped>\n    .dataframe tbody tr th:only-of-type {\n        vertical-align: middle;\n    }\n\n    .dataframe tbody tr th {\n        vertical-align: top;\n    }\n\n    .dataframe thead th {\n        text-align: right;\n    }\n</style>\n<table border=\"1\" class=\"dataframe\">\n  <thead>\n    <tr style=\"text-align: right;\">\n      <th></th>\n      <th>id</th>\n      <th>keyword</th>\n      <th>location</th>\n      <th>text</th>\n      <th>target</th>\n    </tr>\n  </thead>\n  <tbody>\n    <tr>\n      <th>7583</th>\n      <td>10835</td>\n      <td>NaN</td>\n      <td>NaN</td>\n      <td>Pic of 16yr old PKK suicide bomber who detonat...</td>\n      <td>1</td>\n    </tr>\n    <tr>\n      <th>7584</th>\n      <td>10837</td>\n      <td>NaN</td>\n      <td>NaN</td>\n      <td>These boxes are ready to explode! Exploding Ki...</td>\n      <td>0</td>\n    </tr>\n    <tr>\n      <th>7585</th>\n      <td>10839</td>\n      <td>NaN</td>\n      <td>NaN</td>\n      <td>Calgary Police Flood Road Closures in Calgary....</td>\n      <td>1</td>\n    </tr>\n    <tr>\n      <th>7586</th>\n      <td>10840</td>\n      <td>NaN</td>\n      <td>NaN</td>\n      <td>#Sismo DETECTADO #JapÌ_n 15:41:07 Seismic inte...</td>\n      <td>1</td>\n    </tr>\n    <tr>\n      <th>7587</th>\n      <td>10841</td>\n      <td>NaN</td>\n      <td>NaN</td>\n      <td>Sirens everywhere!</td>\n      <td>0</td>\n    </tr>\n    <tr>\n      <th>7588</th>\n      <td>10842</td>\n      <td>NaN</td>\n      <td>NaN</td>\n      <td>BREAKING: #ISIS claims responsibility for mosq...</td>\n      <td>1</td>\n    </tr>\n    <tr>\n      <th>7589</th>\n      <td>10843</td>\n      <td>NaN</td>\n      <td>NaN</td>\n      <td>Omg earthquake</td>\n      <td>1</td>\n    </tr>\n    <tr>\n      <th>7590</th>\n      <td>10844</td>\n      <td>NaN</td>\n      <td>NaN</td>\n      <td>SEVERE WEATHER BULLETIN No. 5 FOR: TYPHOON ÛÏ...</td>\n      <td>1</td>\n    </tr>\n    <tr>\n      <th>7591</th>\n      <td>10846</td>\n      <td>NaN</td>\n      <td>NaN</td>\n      <td>Heat wave warning aa? Ayyo dei. Just when I pl...</td>\n      <td>1</td>\n    </tr>\n    <tr>\n      <th>7592</th>\n      <td>10847</td>\n      <td>NaN</td>\n      <td>NaN</td>\n      <td>An IS group suicide bomber detonated an explos...</td>\n      <td>1</td>\n    </tr>\n    <tr>\n      <th>7593</th>\n      <td>10848</td>\n      <td>NaN</td>\n      <td>NaN</td>\n      <td>I just heard a really loud bang and everyone i...</td>\n      <td>0</td>\n    </tr>\n    <tr>\n      <th>7594</th>\n      <td>10849</td>\n      <td>NaN</td>\n      <td>NaN</td>\n      <td>A gas thing just exploded and I heard screams ...</td>\n      <td>1</td>\n    </tr>\n    <tr>\n      <th>7595</th>\n      <td>10850</td>\n      <td>NaN</td>\n      <td>NaN</td>\n      <td>NWS: Flash Flood Warning Continued for Shelby ...</td>\n      <td>1</td>\n    </tr>\n    <tr>\n      <th>7596</th>\n      <td>10851</td>\n      <td>NaN</td>\n      <td>NaN</td>\n      <td>RT @LivingSafely: #NWS issues Severe #Thunders...</td>\n      <td>1</td>\n    </tr>\n    <tr>\n      <th>7597</th>\n      <td>10852</td>\n      <td>NaN</td>\n      <td>NaN</td>\n      <td>#??? #?? #??? #??? MH370: Aircraft debris foun...</td>\n      <td>1</td>\n    </tr>\n    <tr>\n      <th>7598</th>\n      <td>10853</td>\n      <td>NaN</td>\n      <td>NaN</td>\n      <td>Father-of-three Lost Control of Car After Over...</td>\n      <td>1</td>\n    </tr>\n    <tr>\n      <th>7599</th>\n      <td>10854</td>\n      <td>NaN</td>\n      <td>NaN</td>\n      <td>1.3 #Earthquake in 9Km Ssw Of Anza California ...</td>\n      <td>1</td>\n    </tr>\n    <tr>\n      <th>7600</th>\n      <td>10855</td>\n      <td>NaN</td>\n      <td>NaN</td>\n      <td>Evacuation order lifted for town of Roosevelt:...</td>\n      <td>1</td>\n    </tr>\n    <tr>\n      <th>7601</th>\n      <td>10859</td>\n      <td>NaN</td>\n      <td>NaN</td>\n      <td>#breaking #LA Refugio oil spill may have been ...</td>\n      <td>1</td>\n    </tr>\n    <tr>\n      <th>7602</th>\n      <td>10860</td>\n      <td>NaN</td>\n      <td>NaN</td>\n      <td>a siren just went off and it wasn't the Forney...</td>\n      <td>1</td>\n    </tr>\n    <tr>\n      <th>7603</th>\n      <td>10862</td>\n      <td>NaN</td>\n      <td>NaN</td>\n      <td>Officials say a quarantine is in place at an A...</td>\n      <td>1</td>\n    </tr>\n    <tr>\n      <th>7604</th>\n      <td>10863</td>\n      <td>NaN</td>\n      <td>NaN</td>\n      <td>#WorldNews Fallen powerlines on G:link tram: U...</td>\n      <td>1</td>\n    </tr>\n    <tr>\n      <th>7605</th>\n      <td>10864</td>\n      <td>NaN</td>\n      <td>NaN</td>\n      <td>on the flip side I'm at Walmart and there is a...</td>\n      <td>1</td>\n    </tr>\n    <tr>\n      <th>7606</th>\n      <td>10866</td>\n      <td>NaN</td>\n      <td>NaN</td>\n      <td>Suicide bomber kills 15 in Saudi security site...</td>\n      <td>1</td>\n    </tr>\n    <tr>\n      <th>7607</th>\n      <td>10867</td>\n      <td>NaN</td>\n      <td>NaN</td>\n      <td>#stormchase Violent Record Breaking EF-5 El Re...</td>\n      <td>1</td>\n    </tr>\n    <tr>\n      <th>7608</th>\n      <td>10869</td>\n      <td>NaN</td>\n      <td>NaN</td>\n      <td>Two giant cranes holding a bridge collapse int...</td>\n      <td>1</td>\n    </tr>\n    <tr>\n      <th>7609</th>\n      <td>10870</td>\n      <td>NaN</td>\n      <td>NaN</td>\n      <td>@aria_ahrary @TheTawniest The out of control w...</td>\n      <td>1</td>\n    </tr>\n    <tr>\n      <th>7610</th>\n      <td>10871</td>\n      <td>NaN</td>\n      <td>NaN</td>\n      <td>M1.94 [01:04 UTC]?5km S of Volcano Hawaii. htt...</td>\n      <td>1</td>\n    </tr>\n    <tr>\n      <th>7611</th>\n      <td>10872</td>\n      <td>NaN</td>\n      <td>NaN</td>\n      <td>Police investigating after an e-bike collided ...</td>\n      <td>1</td>\n    </tr>\n    <tr>\n      <th>7612</th>\n      <td>10873</td>\n      <td>NaN</td>\n      <td>NaN</td>\n      <td>The Latest: More Homes Razed by Northern Calif...</td>\n      <td>1</td>\n    </tr>\n  </tbody>\n</table>\n</div>"
     },
     "execution_count": 5,
     "metadata": {},
     "output_type": "execute_result"
    }
   ],
   "source": [
    "train_df_raw.tail(30)"
   ],
   "metadata": {
    "collapsed": false
   }
  },
  {
   "cell_type": "code",
   "execution_count": 6,
   "outputs": [
    {
     "data": {
      "text/plain": "                  id     keyword location  \\\ncount    7613.000000        7552     5080   \nunique           NaN         221     3341   \ntop              NaN  fatalities      USA   \nfreq             NaN          45      104   \nmean     5441.934848         NaN      NaN   \nstd      3137.116090         NaN      NaN   \nmin         1.000000         NaN      NaN   \n25%      2734.000000         NaN      NaN   \n50%      5408.000000         NaN      NaN   \n75%      8146.000000         NaN      NaN   \nmax     10873.000000         NaN      NaN   \n\n                                                     text      target  \ncount                                                7613  7613.00000  \nunique                                               7503         NaN  \ntop     11-Year-Old Boy Charged With Manslaughter of T...         NaN  \nfreq                                                   10         NaN  \nmean                                                  NaN     0.42966  \nstd                                                   NaN     0.49506  \nmin                                                   NaN     0.00000  \n25%                                                   NaN     0.00000  \n50%                                                   NaN     0.00000  \n75%                                                   NaN     1.00000  \nmax                                                   NaN     1.00000  ",
      "text/html": "<div>\n<style scoped>\n    .dataframe tbody tr th:only-of-type {\n        vertical-align: middle;\n    }\n\n    .dataframe tbody tr th {\n        vertical-align: top;\n    }\n\n    .dataframe thead th {\n        text-align: right;\n    }\n</style>\n<table border=\"1\" class=\"dataframe\">\n  <thead>\n    <tr style=\"text-align: right;\">\n      <th></th>\n      <th>id</th>\n      <th>keyword</th>\n      <th>location</th>\n      <th>text</th>\n      <th>target</th>\n    </tr>\n  </thead>\n  <tbody>\n    <tr>\n      <th>count</th>\n      <td>7613.000000</td>\n      <td>7552</td>\n      <td>5080</td>\n      <td>7613</td>\n      <td>7613.00000</td>\n    </tr>\n    <tr>\n      <th>unique</th>\n      <td>NaN</td>\n      <td>221</td>\n      <td>3341</td>\n      <td>7503</td>\n      <td>NaN</td>\n    </tr>\n    <tr>\n      <th>top</th>\n      <td>NaN</td>\n      <td>fatalities</td>\n      <td>USA</td>\n      <td>11-Year-Old Boy Charged With Manslaughter of T...</td>\n      <td>NaN</td>\n    </tr>\n    <tr>\n      <th>freq</th>\n      <td>NaN</td>\n      <td>45</td>\n      <td>104</td>\n      <td>10</td>\n      <td>NaN</td>\n    </tr>\n    <tr>\n      <th>mean</th>\n      <td>5441.934848</td>\n      <td>NaN</td>\n      <td>NaN</td>\n      <td>NaN</td>\n      <td>0.42966</td>\n    </tr>\n    <tr>\n      <th>std</th>\n      <td>3137.116090</td>\n      <td>NaN</td>\n      <td>NaN</td>\n      <td>NaN</td>\n      <td>0.49506</td>\n    </tr>\n    <tr>\n      <th>min</th>\n      <td>1.000000</td>\n      <td>NaN</td>\n      <td>NaN</td>\n      <td>NaN</td>\n      <td>0.00000</td>\n    </tr>\n    <tr>\n      <th>25%</th>\n      <td>2734.000000</td>\n      <td>NaN</td>\n      <td>NaN</td>\n      <td>NaN</td>\n      <td>0.00000</td>\n    </tr>\n    <tr>\n      <th>50%</th>\n      <td>5408.000000</td>\n      <td>NaN</td>\n      <td>NaN</td>\n      <td>NaN</td>\n      <td>0.00000</td>\n    </tr>\n    <tr>\n      <th>75%</th>\n      <td>8146.000000</td>\n      <td>NaN</td>\n      <td>NaN</td>\n      <td>NaN</td>\n      <td>1.00000</td>\n    </tr>\n    <tr>\n      <th>max</th>\n      <td>10873.000000</td>\n      <td>NaN</td>\n      <td>NaN</td>\n      <td>NaN</td>\n      <td>1.00000</td>\n    </tr>\n  </tbody>\n</table>\n</div>"
     },
     "execution_count": 6,
     "metadata": {},
     "output_type": "execute_result"
    }
   ],
   "source": [
    "train_df_raw.describe(include='all')"
   ],
   "metadata": {
    "collapsed": false
   }
  },
  {
   "cell_type": "code",
   "execution_count": 7,
   "outputs": [
    {
     "data": {
      "text/plain": "Empty DataFrame\nColumns: [id, keyword, location, text, target]\nIndex: []",
      "text/html": "<div>\n<style scoped>\n    .dataframe tbody tr th:only-of-type {\n        vertical-align: middle;\n    }\n\n    .dataframe tbody tr th {\n        vertical-align: top;\n    }\n\n    .dataframe thead th {\n        text-align: right;\n    }\n</style>\n<table border=\"1\" class=\"dataframe\">\n  <thead>\n    <tr style=\"text-align: right;\">\n      <th></th>\n      <th>id</th>\n      <th>keyword</th>\n      <th>location</th>\n      <th>text</th>\n      <th>target</th>\n    </tr>\n  </thead>\n  <tbody>\n  </tbody>\n</table>\n</div>"
     },
     "execution_count": 7,
     "metadata": {},
     "output_type": "execute_result"
    }
   ],
   "source": [
    "# every entry has non-empty id and text\n",
    "train_df_raw[(pd.isna(train_df_raw.text)) | (pd.isna(train_df_raw.text))]"
   ],
   "metadata": {
    "collapsed": false
   }
  },
  {
   "cell_type": "code",
   "execution_count": 8,
   "outputs": [
    {
     "data": {
      "text/plain": "1.0"
     },
     "execution_count": 8,
     "metadata": {},
     "output_type": "execute_result"
    }
   ],
   "source": [
    "len(train_df_raw.id.unique()) / len(train_df_raw)"
   ],
   "metadata": {
    "collapsed": false
   }
  },
  {
   "cell_type": "code",
   "execution_count": 9,
   "outputs": [
    {
     "data": {
      "text/plain": "0.9855510311309602"
     },
     "execution_count": 9,
     "metadata": {},
     "output_type": "execute_result"
    }
   ],
   "source": [
    "# not all texts are unique\n",
    "len(train_df_raw.text.unique()) / len(train_df_raw)"
   ],
   "metadata": {
    "collapsed": false
   }
  },
  {
   "cell_type": "code",
   "execution_count": 10,
   "outputs": [],
   "source": [
    "s = set(train_df_raw.text[train_df_raw.text.duplicated()])"
   ],
   "metadata": {
    "collapsed": false
   }
  },
  {
   "cell_type": "code",
   "execution_count": 11,
   "outputs": [
    {
     "data": {
      "text/plain": "69"
     },
     "execution_count": 11,
     "metadata": {},
     "output_type": "execute_result"
    }
   ],
   "source": [
    "len(s)"
   ],
   "metadata": {
    "collapsed": false
   }
  },
  {
   "cell_type": "code",
   "execution_count": 12,
   "outputs": [
    {
     "data": {
      "text/plain": "         id     keyword        location  \\\n40       59      ablaze  Live On Webcam   \n48       68      ablaze  Live On Webcam   \n106     156  aftershock              US   \n115     165  aftershock              US   \n118     171  aftershock     Switzerland   \n...     ...         ...             ...   \n7600  10855         NaN             NaN   \n7607  10867         NaN             NaN   \n7609  10870         NaN             NaN   \n7610  10871         NaN             NaN   \n7611  10872         NaN             NaN   \n\n                                                   text  target  \n40    Check these out: http://t.co/rOI2NSmEJJ http:/...       0  \n48    Check these out: http://t.co/rOI2NSmEJJ http:/...       0  \n106   320 [IR] ICEMOON [AFTERSHOCK] | http://t.co/vA...       0  \n115   320 [IR] ICEMOON [AFTERSHOCK] | http://t.co/vA...       0  \n118   320 [IR] ICEMOON [AFTERSHOCK] | http://t.co/TH...       0  \n...                                                 ...     ...  \n7600  Evacuation order lifted for town of Roosevelt:...       1  \n7607  #stormchase Violent Record Breaking EF-5 El Re...       1  \n7609  @aria_ahrary @TheTawniest The out of control w...       1  \n7610  M1.94 [01:04 UTC]?5km S of Volcano Hawaii. htt...       1  \n7611  Police investigating after an e-bike collided ...       1  \n\n[179 rows x 5 columns]",
      "text/html": "<div>\n<style scoped>\n    .dataframe tbody tr th:only-of-type {\n        vertical-align: middle;\n    }\n\n    .dataframe tbody tr th {\n        vertical-align: top;\n    }\n\n    .dataframe thead th {\n        text-align: right;\n    }\n</style>\n<table border=\"1\" class=\"dataframe\">\n  <thead>\n    <tr style=\"text-align: right;\">\n      <th></th>\n      <th>id</th>\n      <th>keyword</th>\n      <th>location</th>\n      <th>text</th>\n      <th>target</th>\n    </tr>\n  </thead>\n  <tbody>\n    <tr>\n      <th>40</th>\n      <td>59</td>\n      <td>ablaze</td>\n      <td>Live On Webcam</td>\n      <td>Check these out: http://t.co/rOI2NSmEJJ http:/...</td>\n      <td>0</td>\n    </tr>\n    <tr>\n      <th>48</th>\n      <td>68</td>\n      <td>ablaze</td>\n      <td>Live On Webcam</td>\n      <td>Check these out: http://t.co/rOI2NSmEJJ http:/...</td>\n      <td>0</td>\n    </tr>\n    <tr>\n      <th>106</th>\n      <td>156</td>\n      <td>aftershock</td>\n      <td>US</td>\n      <td>320 [IR] ICEMOON [AFTERSHOCK] | http://t.co/vA...</td>\n      <td>0</td>\n    </tr>\n    <tr>\n      <th>115</th>\n      <td>165</td>\n      <td>aftershock</td>\n      <td>US</td>\n      <td>320 [IR] ICEMOON [AFTERSHOCK] | http://t.co/vA...</td>\n      <td>0</td>\n    </tr>\n    <tr>\n      <th>118</th>\n      <td>171</td>\n      <td>aftershock</td>\n      <td>Switzerland</td>\n      <td>320 [IR] ICEMOON [AFTERSHOCK] | http://t.co/TH...</td>\n      <td>0</td>\n    </tr>\n    <tr>\n      <th>...</th>\n      <td>...</td>\n      <td>...</td>\n      <td>...</td>\n      <td>...</td>\n      <td>...</td>\n    </tr>\n    <tr>\n      <th>7600</th>\n      <td>10855</td>\n      <td>NaN</td>\n      <td>NaN</td>\n      <td>Evacuation order lifted for town of Roosevelt:...</td>\n      <td>1</td>\n    </tr>\n    <tr>\n      <th>7607</th>\n      <td>10867</td>\n      <td>NaN</td>\n      <td>NaN</td>\n      <td>#stormchase Violent Record Breaking EF-5 El Re...</td>\n      <td>1</td>\n    </tr>\n    <tr>\n      <th>7609</th>\n      <td>10870</td>\n      <td>NaN</td>\n      <td>NaN</td>\n      <td>@aria_ahrary @TheTawniest The out of control w...</td>\n      <td>1</td>\n    </tr>\n    <tr>\n      <th>7610</th>\n      <td>10871</td>\n      <td>NaN</td>\n      <td>NaN</td>\n      <td>M1.94 [01:04 UTC]?5km S of Volcano Hawaii. htt...</td>\n      <td>1</td>\n    </tr>\n    <tr>\n      <th>7611</th>\n      <td>10872</td>\n      <td>NaN</td>\n      <td>NaN</td>\n      <td>Police investigating after an e-bike collided ...</td>\n      <td>1</td>\n    </tr>\n  </tbody>\n</table>\n<p>179 rows × 5 columns</p>\n</div>"
     },
     "execution_count": 12,
     "metadata": {},
     "output_type": "execute_result"
    }
   ],
   "source": [
    "# there are up to 2 hundred records with texts that occur more than ones.\n",
    "# The first two rows are illustrative examples of ambiguity — the same\n",
    "# record corresponds to both labels\n",
    "train_df_raw[train_df_raw.apply(lambda x: x.text in s, axis=1)]"
   ],
   "metadata": {
    "collapsed": false
   }
  },
  {
   "cell_type": "code",
   "execution_count": 13,
   "outputs": [
    {
     "data": {
      "text/plain": "Series([], Name: text, dtype: object)"
     },
     "execution_count": 13,
     "metadata": {},
     "output_type": "execute_result"
    }
   ],
   "source": [
    "train_df_raw[train_df_raw.id == 51].text"
   ],
   "metadata": {
    "collapsed": false
   }
  },
  {
   "cell_type": "code",
   "execution_count": 14,
   "outputs": [
    {
     "data": {
      "text/plain": "['T',\n '_AXIS_LEN',\n '_AXIS_ORDERS',\n '_AXIS_TO_AXIS_NUMBER',\n '_HANDLED_TYPES',\n '__abs__',\n '__add__',\n '__and__',\n '__annotations__',\n '__array__',\n '__array_priority__',\n '__array_ufunc__',\n '__array_wrap__',\n '__bool__',\n '__class__',\n '__contains__',\n '__copy__',\n '__dataframe__',\n '__deepcopy__',\n '__delattr__',\n '__delitem__',\n '__dict__',\n '__dir__',\n '__divmod__',\n '__doc__',\n '__eq__',\n '__finalize__',\n '__floordiv__',\n '__format__',\n '__ge__',\n '__getattr__',\n '__getattribute__',\n '__getitem__',\n '__getstate__',\n '__gt__',\n '__hash__',\n '__iadd__',\n '__iand__',\n '__ifloordiv__',\n '__imod__',\n '__imul__',\n '__init__',\n '__init_subclass__',\n '__invert__',\n '__ior__',\n '__ipow__',\n '__isub__',\n '__iter__',\n '__itruediv__',\n '__ixor__',\n '__le__',\n '__len__',\n '__lt__',\n '__matmul__',\n '__mod__',\n '__module__',\n '__mul__',\n '__ne__',\n '__neg__',\n '__new__',\n '__nonzero__',\n '__or__',\n '__pos__',\n '__pow__',\n '__radd__',\n '__rand__',\n '__rdivmod__',\n '__reduce__',\n '__reduce_ex__',\n '__repr__',\n '__rfloordiv__',\n '__rmatmul__',\n '__rmod__',\n '__rmul__',\n '__ror__',\n '__round__',\n '__rpow__',\n '__rsub__',\n '__rtruediv__',\n '__rxor__',\n '__setattr__',\n '__setitem__',\n '__setstate__',\n '__sizeof__',\n '__str__',\n '__sub__',\n '__subclasshook__',\n '__truediv__',\n '__weakref__',\n '__xor__',\n '_accessors',\n '_accum_func',\n '_add_numeric_operations',\n '_agg_by_level',\n '_agg_examples_doc',\n '_agg_summary_and_see_also_doc',\n '_align_frame',\n '_align_series',\n '_append',\n '_arith_method',\n '_as_manager',\n '_attrs',\n '_box_col_values',\n '_can_fast_transpose',\n '_check_inplace_and_allows_duplicate_labels',\n '_check_inplace_setting',\n '_check_is_chained_assignment_possible',\n '_check_label_or_level_ambiguity',\n '_check_setitem_copy',\n '_clear_item_cache',\n '_clip_with_one_bound',\n '_clip_with_scalar',\n '_cmp_method',\n '_combine_frame',\n '_consolidate',\n '_consolidate_inplace',\n '_construct_axes_dict',\n '_construct_axes_from_arguments',\n '_construct_result',\n '_constructor',\n '_constructor_sliced',\n '_convert',\n '_count_level',\n '_data',\n '_dir_additions',\n '_dir_deletions',\n '_dispatch_frame_op',\n '_drop_axis',\n '_drop_labels_or_levels',\n '_ensure_valid_index',\n '_find_valid_index',\n '_flags',\n '_from_arrays',\n '_get_agg_axis',\n '_get_axis',\n '_get_axis_name',\n '_get_axis_number',\n '_get_axis_resolvers',\n '_get_block_manager_axis',\n '_get_bool_data',\n '_get_cleaned_column_resolvers',\n '_get_column_array',\n '_get_index_resolvers',\n '_get_item_cache',\n '_get_label_or_level_values',\n '_get_numeric_data',\n '_get_value',\n '_getitem_bool_array',\n '_getitem_multilevel',\n '_gotitem',\n '_hidden_attrs',\n '_indexed_same',\n '_info_axis',\n '_info_axis_name',\n '_info_axis_number',\n '_info_repr',\n '_init_mgr',\n '_inplace_method',\n '_internal_names',\n '_internal_names_set',\n '_is_copy',\n '_is_homogeneous_type',\n '_is_label_or_level_reference',\n '_is_label_reference',\n '_is_level_reference',\n '_is_mixed_type',\n '_is_view',\n '_iset_item',\n '_iset_item_mgr',\n '_iset_not_inplace',\n '_item_cache',\n '_iter_column_arrays',\n '_ixs',\n '_join_compat',\n '_logical_func',\n '_logical_method',\n '_maybe_cache_changed',\n '_maybe_update_cacher',\n '_metadata',\n '_mgr',\n '_min_count_stat_function',\n '_needs_reindex_multi',\n '_protect_consolidate',\n '_reduce',\n '_reduce_axis1',\n '_reindex_axes',\n '_reindex_columns',\n '_reindex_index',\n '_reindex_multi',\n '_reindex_with_indexers',\n '_rename',\n '_replace_columnwise',\n '_repr_data_resource_',\n '_repr_fits_horizontal_',\n '_repr_fits_vertical_',\n '_repr_html_',\n '_repr_latex_',\n '_reset_cache',\n '_reset_cacher',\n '_sanitize_column',\n '_series',\n '_set_axis',\n '_set_axis_name',\n '_set_axis_nocheck',\n '_set_is_copy',\n '_set_item',\n '_set_item_frame_value',\n '_set_item_mgr',\n '_set_value',\n '_setitem_array',\n '_setitem_frame',\n '_setitem_slice',\n '_slice',\n '_stat_axis',\n '_stat_axis_name',\n '_stat_axis_number',\n '_stat_function',\n '_stat_function_ddof',\n '_take',\n '_take_with_is_copy',\n '_to_dict_of_blocks',\n '_typ',\n '_update_inplace',\n '_validate_dtype',\n '_values',\n '_where',\n 'abs',\n 'add',\n 'add_prefix',\n 'add_suffix',\n 'agg',\n 'aggregate',\n 'align',\n 'all',\n 'any',\n 'append',\n 'apply',\n 'applymap',\n 'asfreq',\n 'asof',\n 'assign',\n 'astype',\n 'at',\n 'at_time',\n 'attrs',\n 'axes',\n 'backfill',\n 'between_time',\n 'bfill',\n 'bool',\n 'boxplot',\n 'clip',\n 'columns',\n 'combine',\n 'combine_first',\n 'compare',\n 'convert_dtypes',\n 'copy',\n 'corr',\n 'corrwith',\n 'count',\n 'cov',\n 'cummax',\n 'cummin',\n 'cumprod',\n 'cumsum',\n 'describe',\n 'diff',\n 'div',\n 'divide',\n 'dot',\n 'drop',\n 'drop_duplicates',\n 'droplevel',\n 'dropna',\n 'dtypes',\n 'duplicated',\n 'empty',\n 'eq',\n 'equals',\n 'eval',\n 'ewm',\n 'expanding',\n 'explode',\n 'ffill',\n 'fillna',\n 'filter',\n 'first',\n 'first_valid_index',\n 'flags',\n 'floordiv',\n 'from_dict',\n 'from_records',\n 'ge',\n 'get',\n 'groupby',\n 'gt',\n 'head',\n 'hist',\n 'iat',\n 'id',\n 'idxmax',\n 'idxmin',\n 'iloc',\n 'index',\n 'infer_objects',\n 'info',\n 'insert',\n 'interpolate',\n 'isetitem',\n 'isin',\n 'isna',\n 'isnull',\n 'items',\n 'iteritems',\n 'iterrows',\n 'itertuples',\n 'join',\n 'keys',\n 'keyword',\n 'kurt',\n 'kurtosis',\n 'last',\n 'last_valid_index',\n 'le',\n 'loc',\n 'location',\n 'lookup',\n 'lt',\n 'mad',\n 'mask',\n 'max',\n 'mean',\n 'median',\n 'melt',\n 'memory_usage',\n 'merge',\n 'min',\n 'mod',\n 'mode',\n 'mul',\n 'multiply',\n 'ndim',\n 'ne',\n 'nlargest',\n 'notna',\n 'notnull',\n 'nsmallest',\n 'nunique',\n 'pad',\n 'pct_change',\n 'pipe',\n 'pivot',\n 'pivot_table',\n 'plot',\n 'pop',\n 'pow',\n 'prod',\n 'product',\n 'quantile',\n 'query',\n 'radd',\n 'rank',\n 'rdiv',\n 'reindex',\n 'reindex_like',\n 'rename',\n 'rename_axis',\n 'reorder_levels',\n 'replace',\n 'resample',\n 'reset_index',\n 'rfloordiv',\n 'rmod',\n 'rmul',\n 'rolling',\n 'round',\n 'rpow',\n 'rsub',\n 'rtruediv',\n 'sample',\n 'select_dtypes',\n 'sem',\n 'set_axis',\n 'set_flags',\n 'set_index',\n 'shape',\n 'shift',\n 'size',\n 'skew',\n 'slice_shift',\n 'sort_index',\n 'sort_values',\n 'squeeze',\n 'stack',\n 'std',\n 'style',\n 'sub',\n 'subtract',\n 'sum',\n 'swapaxes',\n 'swaplevel',\n 'tail',\n 'take',\n 'target',\n 'text',\n 'to_clipboard',\n 'to_csv',\n 'to_dict',\n 'to_excel',\n 'to_feather',\n 'to_gbq',\n 'to_hdf',\n 'to_html',\n 'to_json',\n 'to_latex',\n 'to_markdown',\n 'to_numpy',\n 'to_orc',\n 'to_parquet',\n 'to_period',\n 'to_pickle',\n 'to_records',\n 'to_sql',\n 'to_stata',\n 'to_string',\n 'to_timestamp',\n 'to_xarray',\n 'to_xml',\n 'transform',\n 'transpose',\n 'truediv',\n 'truncate',\n 'tz_convert',\n 'tz_localize',\n 'unstack',\n 'update',\n 'value_counts',\n 'values',\n 'var',\n 'where',\n 'xs']"
     },
     "execution_count": 14,
     "metadata": {},
     "output_type": "execute_result"
    }
   ],
   "source": [
    "dir(train_df_raw.loc[train_df_raw['id'] == 10851])"
   ],
   "metadata": {
    "collapsed": false
   }
  },
  {
   "cell_type": "code",
   "execution_count": 15,
   "outputs": [
    {
     "data": {
      "text/plain": "         id keyword location  \\\n7596  10851     NaN      NaN   \n\n                                                   text  target  \n7596  RT @LivingSafely: #NWS issues Severe #Thunders...       1  ",
      "text/html": "<div>\n<style scoped>\n    .dataframe tbody tr th:only-of-type {\n        vertical-align: middle;\n    }\n\n    .dataframe tbody tr th {\n        vertical-align: top;\n    }\n\n    .dataframe thead th {\n        text-align: right;\n    }\n</style>\n<table border=\"1\" class=\"dataframe\">\n  <thead>\n    <tr style=\"text-align: right;\">\n      <th></th>\n      <th>id</th>\n      <th>keyword</th>\n      <th>location</th>\n      <th>text</th>\n      <th>target</th>\n    </tr>\n  </thead>\n  <tbody>\n    <tr>\n      <th>7596</th>\n      <td>10851</td>\n      <td>NaN</td>\n      <td>NaN</td>\n      <td>RT @LivingSafely: #NWS issues Severe #Thunders...</td>\n      <td>1</td>\n    </tr>\n  </tbody>\n</table>\n</div>"
     },
     "execution_count": 15,
     "metadata": {},
     "output_type": "execute_result"
    }
   ],
   "source": [
    "# as we see, the text can contain website and user links, hashtags,\n",
    "# numbers, dates and sometimes different embeddings.\n",
    "train_df_raw.loc[train_df_raw['id'] == 10851]"
   ],
   "metadata": {
    "collapsed": false
   }
  },
  {
   "cell_type": "code",
   "execution_count": 34,
   "outputs": [
    {
     "name": "stdout",
     "output_type": "stream",
     "text": [
      "122\n",
      "['\\n', ' ', '!', '#', '$', '%', '&', \"'\", '(', ')', '*', '+', ',', '-', '.', '/', '0', '1', '2', '3', '4', '5', '6', '7', '8', '9', ':', ';', '=', '>', '?', '@', 'A', 'B', 'C', 'D', 'E', 'F', 'G', 'H', 'I', 'J', 'K', 'L', 'M', 'N', 'O', 'P', 'Q', 'R', 'S', 'T', 'U', 'V', 'W', 'X', 'Y', 'Z', '[', '\\\\', ']', '^', '_', '`', 'a', 'b', 'c', 'd', 'e', 'f', 'g', 'h', 'i', 'j', 'k', 'l', 'm', 'n', 'o', 'p', 'q', 'r', 's', 't', 'u', 'v', 'w', 'x', 'y', 'z', '{', '|', '}', '~', '\\x89', '\\x9d', '¡', '¢', '£', '¤', '¨', '©', 'ª', '«', '¬', '´', '¼', 'Â', 'Ç', 'È', 'Ê', 'Ì', 'Ï', 'Ñ', 'Ò', 'Ó', 'Û', 'â', 'ã', 'å', '÷', 'ü']\n"
     ]
    }
   ],
   "source": [
    "unique_characters = set()\n",
    "for tweet in train_df_raw.text:\n",
    "    for c in tweet:\n",
    "        unique_characters.add(c)\n",
    "\n",
    "print(len(unique_characters))\n",
    "print(sorted(unique_characters))"
   ],
   "metadata": {
    "collapsed": false
   }
  },
  {
   "cell_type": "markdown",
   "source": [
    "Some characters are seemingly not useful for the task. We'll omit those by setting a frequency threshold."
   ],
   "metadata": {
    "collapsed": false
   }
  },
  {
   "cell_type": "code",
   "execution_count": 30,
   "outputs": [],
   "source": [],
   "metadata": {
    "collapsed": false
   }
  }
 ],
 "metadata": {
  "kernelspec": {
   "display_name": "Python 3",
   "language": "python",
   "name": "python3"
  },
  "language_info": {
   "codemirror_mode": {
    "name": "ipython",
    "version": 2
   },
   "file_extension": ".py",
   "mimetype": "text/x-python",
   "name": "python",
   "nbconvert_exporter": "python",
   "pygments_lexer": "ipython2",
   "version": "2.7.6"
  }
 },
 "nbformat": 4,
 "nbformat_minor": 0
}

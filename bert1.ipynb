{
 "metadata": {
  "kernelspec": {
   "language": "python",
   "display_name": "Python 3",
   "name": "python3"
  },
  "language_info": {
   "pygments_lexer": "ipython3",
   "nbconvert_exporter": "python",
   "version": "3.6.4",
   "file_extension": ".py",
   "codemirror_mode": {
    "name": "ipython",
    "version": 3
   },
   "name": "python",
   "mimetype": "text/x-python"
  }
 },
 "nbformat_minor": 4,
 "nbformat": 4,
 "cells": [
  {
   "cell_type": "code",
   "source": [
    "# This Python 3 environment comes with many helpful analytics libraries installed\n",
    "# It is defined by the kaggle/python Docker image: https://github.com/kaggle/docker-python\n",
    "# For example, here's several helpful packages to load\n",
    "\n",
    "import numpy as np # linear algebra\n",
    "import pandas as pd # data processing, CSV file I/O (e.g. pd.read_csv)\n",
    "\n",
    "# Input data files are available in the read-only \"../input/\" directory\n",
    "# For example, running this (by clicking run or pressing Shift+Enter) will list all files under the input directory\n",
    "\n",
    "import os\n",
    "for dirname, _, filenames in os.walk('/kaggle/input'):\n",
    "    for filename in filenames:\n",
    "        print(os.path.join(dirname, filename))\n",
    "\n",
    "# You can write up to 20GB to the current directory (/kaggle/working/) that gets preserved as output when you create a version using \"Save & Run All\" \n",
    "# You can also write temporary files to /kaggle/temp/, but they won't be saved outside of the current session"
   ],
   "metadata": {
    "_uuid": "8f2839f25d086af736a60e9eeb907d3b93b6e0e5",
    "_cell_guid": "b1076dfc-b9ad-4769-8c92-a6c4dae69d19",
    "execution": {
     "iopub.status.busy": "2023-03-30T12:51:50.808038Z",
     "iopub.execute_input": "2023-03-30T12:51:50.808814Z",
     "iopub.status.idle": "2023-03-30T12:51:50.825138Z",
     "shell.execute_reply.started": "2023-03-30T12:51:50.808773Z",
     "shell.execute_reply": "2023-03-30T12:51:50.823974Z"
    },
    "trusted": true
   },
   "execution_count": null,
   "outputs": []
  },
  {
   "cell_type": "markdown",
   "source": [
    "## Preprocessing Data"
   ],
   "metadata": {}
  },
  {
   "cell_type": "code",
   "source": [
    "from transformers import AutoTokenizer\n",
    "from datasets import load_dataset\n",
    "import torch as pt\n",
    "import numpy as np\n",
    "\n",
    "tokenizer = AutoTokenizer.from_pretrained(\"bert-base-uncased\")"
   ],
   "metadata": {
    "execution": {
     "iopub.status.busy": "2023-03-30T12:51:50.828722Z",
     "iopub.execute_input": "2023-03-30T12:51:50.830534Z",
     "iopub.status.idle": "2023-03-30T12:51:50.964847Z",
     "shell.execute_reply.started": "2023-03-30T12:51:50.830492Z",
     "shell.execute_reply": "2023-03-30T12:51:50.963766Z"
    },
    "trusted": true
   },
   "execution_count": null,
   "outputs": []
  },
  {
   "cell_type": "code",
   "source": [
    "for id in tokenizer.all_special_ids:\n",
    "    print(tokenizer.convert_ids_to_tokens(id))"
   ],
   "metadata": {
    "execution": {
     "iopub.status.busy": "2023-03-30T12:51:50.967548Z",
     "iopub.execute_input": "2023-03-30T12:51:50.968314Z",
     "iopub.status.idle": "2023-03-30T12:51:50.974433Z",
     "shell.execute_reply.started": "2023-03-30T12:51:50.968271Z",
     "shell.execute_reply": "2023-03-30T12:51:50.973265Z"
    },
    "trusted": true
   },
   "execution_count": null,
   "outputs": []
  },
  {
   "cell_type": "code",
   "source": [
    "for id in tokenizer.encode(\"geopolitical\"):\n",
    "    print(tokenizer.convert_ids_to_tokens(id), end=' ')"
   ],
   "metadata": {
    "execution": {
     "iopub.status.busy": "2023-03-30T12:51:50.976219Z",
     "iopub.execute_input": "2023-03-30T12:51:50.976916Z",
     "iopub.status.idle": "2023-03-30T12:51:50.990106Z",
     "shell.execute_reply.started": "2023-03-30T12:51:50.976878Z",
     "shell.execute_reply": "2023-03-30T12:51:50.989021Z"
    },
    "trusted": true
   },
   "execution_count": null,
   "outputs": []
  },
  {
   "cell_type": "code",
   "source": [
    "data_files = {'train':'train.csv'}"
   ],
   "metadata": {
    "execution": {
     "iopub.status.busy": "2023-03-30T12:51:51.630885Z",
     "iopub.execute_input": "2023-03-30T12:51:51.631349Z",
     "iopub.status.idle": "2023-03-30T12:51:51.636626Z",
     "shell.execute_reply.started": "2023-03-30T12:51:51.631309Z",
     "shell.execute_reply": "2023-03-30T12:51:51.635516Z"
    },
    "trusted": true
   },
   "execution_count": null,
   "outputs": []
  },
  {
   "cell_type": "code",
   "source": [
    "dataset = load_dataset('/kaggle/input/nlp-getting-started', data_files=data_files)['train']"
   ],
   "metadata": {
    "execution": {
     "iopub.status.busy": "2023-03-30T12:52:02.612193Z",
     "iopub.execute_input": "2023-03-30T12:52:02.613250Z",
     "iopub.status.idle": "2023-03-30T12:52:02.802335Z",
     "shell.execute_reply.started": "2023-03-30T12:52:02.613177Z",
     "shell.execute_reply": "2023-03-30T12:52:02.801269Z"
    },
    "trusted": true
   },
   "execution_count": null,
   "outputs": []
  },
  {
   "cell_type": "code",
   "source": [],
   "metadata": {
    "trusted": true
   },
   "execution_count": null,
   "outputs": []
  },
  {
   "cell_type": "code",
   "source": [
    "dataset"
   ],
   "metadata": {
    "execution": {
     "iopub.status.busy": "2023-03-30T12:52:04.486390Z",
     "iopub.execute_input": "2023-03-30T12:52:04.486799Z",
     "iopub.status.idle": "2023-03-30T12:52:04.494243Z",
     "shell.execute_reply.started": "2023-03-30T12:52:04.486764Z",
     "shell.execute_reply": "2023-03-30T12:52:04.493179Z"
    },
    "trusted": true
   },
   "execution_count": null,
   "outputs": []
  },
  {
   "cell_type": "code",
   "source": [
    "max_len = 128"
   ],
   "metadata": {
    "execution": {
     "iopub.status.busy": "2023-03-30T12:52:08.255175Z",
     "iopub.execute_input": "2023-03-30T12:52:08.255800Z",
     "iopub.status.idle": "2023-03-30T12:52:08.261080Z",
     "shell.execute_reply.started": "2023-03-30T12:52:08.255740Z",
     "shell.execute_reply": "2023-03-30T12:52:08.259919Z"
    },
    "trusted": true
   },
   "execution_count": null,
   "outputs": []
  },
  {
   "cell_type": "code",
   "source": [
    "def preprocess_data(examples):\n",
    "    # take a batch of texts\n",
    "    text = examples[\"text\"]\n",
    "    # encode them\n",
    "    encoding = tokenizer(text, padding=\"max_length\", truncation=True, max_length=max_len)\n",
    "\n",
    "    encoding[\"labels\"] = examples['target']\n",
    "\n",
    "    return encoding"
   ],
   "metadata": {
    "execution": {
     "iopub.status.busy": "2023-03-30T12:52:08.500307Z",
     "iopub.execute_input": "2023-03-30T12:52:08.501332Z",
     "iopub.status.idle": "2023-03-30T12:52:08.507015Z",
     "shell.execute_reply.started": "2023-03-30T12:52:08.501296Z",
     "shell.execute_reply": "2023-03-30T12:52:08.505742Z"
    },
    "trusted": true
   },
   "execution_count": null,
   "outputs": []
  },
  {
   "cell_type": "code",
   "source": [
    "encoded_train_dataset = dataset.map(preprocess_data, batched=True, remove_columns=dataset.column_names)"
   ],
   "metadata": {
    "execution": {
     "iopub.status.busy": "2023-03-30T12:52:08.872030Z",
     "iopub.execute_input": "2023-03-30T12:52:08.872774Z",
     "iopub.status.idle": "2023-03-30T12:52:10.006643Z",
     "shell.execute_reply.started": "2023-03-30T12:52:08.872734Z",
     "shell.execute_reply": "2023-03-30T12:52:10.005618Z"
    },
    "trusted": true
   },
   "execution_count": null,
   "outputs": []
  },
  {
   "cell_type": "code",
   "source": [
    "encoded_train_dataset = encoded_train_dataset.train_test_split(.1)"
   ],
   "metadata": {
    "execution": {
     "iopub.status.busy": "2023-03-30T12:53:09.456005Z",
     "iopub.execute_input": "2023-03-30T12:53:09.457026Z",
     "iopub.status.idle": "2023-03-30T12:53:09.474010Z",
     "shell.execute_reply.started": "2023-03-30T12:53:09.456982Z",
     "shell.execute_reply": "2023-03-30T12:53:09.472792Z"
    },
    "trusted": true
   },
   "execution_count": null,
   "outputs": []
  },
  {
   "cell_type": "code",
   "source": [
    "encoded_train_dataset"
   ],
   "metadata": {
    "execution": {
     "iopub.status.busy": "2023-03-30T12:53:10.225740Z",
     "iopub.execute_input": "2023-03-30T12:53:10.226160Z",
     "iopub.status.idle": "2023-03-30T12:53:10.233703Z",
     "shell.execute_reply.started": "2023-03-30T12:53:10.226125Z",
     "shell.execute_reply": "2023-03-30T12:53:10.232333Z"
    },
    "trusted": true
   },
   "execution_count": null,
   "outputs": []
  },
  {
   "cell_type": "code",
   "source": [
    "tokenizer.decode(encoded_train_dataset['train'][123]['input_ids'])"
   ],
   "metadata": {
    "execution": {
     "iopub.status.busy": "2023-03-30T12:53:23.340866Z",
     "iopub.execute_input": "2023-03-30T12:53:23.341366Z",
     "iopub.status.idle": "2023-03-30T12:53:23.353620Z",
     "shell.execute_reply.started": "2023-03-30T12:53:23.341320Z",
     "shell.execute_reply": "2023-03-30T12:53:23.352259Z"
    },
    "trusted": true
   },
   "execution_count": null,
   "outputs": []
  },
  {
   "cell_type": "code",
   "source": [
    "encoded_train_dataset['train'][:20]['labels']"
   ],
   "metadata": {
    "execution": {
     "iopub.status.busy": "2023-03-30T12:53:30.796685Z",
     "iopub.execute_input": "2023-03-30T12:53:30.797096Z",
     "iopub.status.idle": "2023-03-30T12:53:30.810105Z",
     "shell.execute_reply.started": "2023-03-30T12:53:30.797058Z",
     "shell.execute_reply": "2023-03-30T12:53:30.808891Z"
    },
    "trusted": true
   },
   "execution_count": null,
   "outputs": []
  },
  {
   "cell_type": "markdown",
   "source": [
    "## Define model"
   ],
   "metadata": {}
  },
  {
   "cell_type": "code",
   "source": [
    "from transformers import BertForSequenceClassification"
   ],
   "metadata": {
    "execution": {
     "iopub.status.busy": "2023-03-30T12:53:33.608290Z",
     "iopub.execute_input": "2023-03-30T12:53:33.609352Z",
     "iopub.status.idle": "2023-03-30T12:53:34.266760Z",
     "shell.execute_reply.started": "2023-03-30T12:53:33.609301Z",
     "shell.execute_reply": "2023-03-30T12:53:34.265576Z"
    },
    "trusted": true
   },
   "execution_count": null,
   "outputs": []
  },
  {
   "cell_type": "code",
   "source": [
    "model = BertForSequenceClassification.from_pretrained(\"bert-base-uncased\")"
   ],
   "metadata": {
    "execution": {
     "iopub.status.busy": "2023-03-30T12:53:34.269038Z",
     "iopub.execute_input": "2023-03-30T12:53:34.270158Z",
     "iopub.status.idle": "2023-03-30T12:53:38.741826Z",
     "shell.execute_reply.started": "2023-03-30T12:53:34.270111Z",
     "shell.execute_reply": "2023-03-30T12:53:38.740747Z"
    },
    "trusted": true
   },
   "execution_count": null,
   "outputs": []
  },
  {
   "cell_type": "code",
   "source": [
    "def classify(text):\n",
    "    with pt.no_grad():\n",
    "        encoding = tokenizer(text, return_tensors=\"pt\")\n",
    "        encoding = {k: v.to(model.device) for k,v in encoding.items()}\n",
    "\n",
    "        outputs = model(**encoding)\n",
    "\n",
    "        return pt.argmax(outputs.logits, axis=1)"
   ],
   "metadata": {
    "execution": {
     "iopub.status.busy": "2023-03-30T13:08:14.955583Z",
     "iopub.execute_input": "2023-03-30T13:08:14.956039Z",
     "iopub.status.idle": "2023-03-30T13:08:14.964408Z",
     "shell.execute_reply.started": "2023-03-30T13:08:14.955998Z",
     "shell.execute_reply": "2023-03-30T13:08:14.963268Z"
    },
    "trusted": true
   },
   "execution_count": null,
   "outputs": []
  },
  {
   "cell_type": "markdown",
   "source": [
    "## Finetune the model"
   ],
   "metadata": {}
  },
  {
   "cell_type": "code",
   "source": [
    "batch_size = 8\n",
    "metric_name = 'f1'\n",
    "epoches = 3"
   ],
   "metadata": {
    "execution": {
     "iopub.status.busy": "2023-03-30T12:53:47.402518Z",
     "iopub.execute_input": "2023-03-30T12:53:47.402935Z",
     "iopub.status.idle": "2023-03-30T12:53:47.410505Z",
     "shell.execute_reply.started": "2023-03-30T12:53:47.402899Z",
     "shell.execute_reply": "2023-03-30T12:53:47.406793Z"
    },
    "trusted": true
   },
   "execution_count": null,
   "outputs": []
  },
  {
   "cell_type": "code",
   "source": [
    "from transformers import TrainingArguments, Trainer\n",
    "\n",
    "args = TrainingArguments(\n",
    "    f\"bert-finetuned-disaster-english-tweets\",\n",
    "    evaluation_strategy = \"steps\",\n",
    "    save_strategy = \"steps\",\n",
    "    learning_rate=2e-5,\n",
    "    per_device_train_batch_size=batch_size,\n",
    "    per_device_eval_batch_size=batch_size,\n",
    "    eval_steps=epoches*100,\n",
    "    save_steps=epoches*100,\n",
    "    num_train_epochs=epoches,\n",
    "    weight_decay=0.01,\n",
    "    load_best_model_at_end=True,\n",
    "    metric_for_best_model=metric_name,\n",
    "    report_to=\"none\"\n",
    ")"
   ],
   "metadata": {
    "execution": {
     "iopub.status.busy": "2023-03-30T12:53:59.257091Z",
     "iopub.execute_input": "2023-03-30T12:53:59.257899Z",
     "iopub.status.idle": "2023-03-30T12:53:59.678284Z",
     "shell.execute_reply.started": "2023-03-30T12:53:59.257857Z",
     "shell.execute_reply": "2023-03-30T12:53:59.677128Z"
    },
    "trusted": true
   },
   "execution_count": null,
   "outputs": []
  },
  {
   "cell_type": "code",
   "source": [
    "from sklearn.metrics import f1_score, roc_auc_score, accuracy_score\n",
    "from transformers import EvalPrediction\n",
    "\n",
    "def compute_metrics(p: EvalPrediction):\n",
    "    preds = p.predictions[0] if isinstance(p.predictions, \n",
    "            tuple) else p.predictions\n",
    "    \n",
    "    y_pred = np.argmax(preds, axis=1)\n",
    "    y_true = p.label_ids\n",
    "    \n",
    "    f1_micro_average = f1_score(y_true=y_true, y_pred=y_pred, average='micro')\n",
    "    roc_auc = roc_auc_score(y_true, y_pred, average = 'micro')\n",
    "    accuracy = accuracy_score(y_true, y_pred)\n",
    "    \n",
    "    # return as dictionary\n",
    "    metrics = {'f1': f1_micro_average,\n",
    "               'roc_auc': roc_auc,\n",
    "               'accuracy': accuracy}\n",
    "    return metrics"
   ],
   "metadata": {
    "execution": {
     "iopub.status.busy": "2023-03-30T12:54:07.906276Z",
     "iopub.execute_input": "2023-03-30T12:54:07.907503Z",
     "iopub.status.idle": "2023-03-30T12:54:07.915645Z",
     "shell.execute_reply.started": "2023-03-30T12:54:07.907445Z",
     "shell.execute_reply": "2023-03-30T12:54:07.914267Z"
    },
    "trusted": true
   },
   "execution_count": null,
   "outputs": []
  },
  {
   "cell_type": "code",
   "source": [
    "trainer = Trainer(\n",
    "    model,\n",
    "    args,\n",
    "    train_dataset=encoded_train_dataset['train'],\n",
    "    eval_dataset=encoded_train_dataset['test'],\n",
    "    tokenizer=tokenizer,\n",
    "    compute_metrics=compute_metrics,\n",
    ")"
   ],
   "metadata": {
    "execution": {
     "iopub.status.busy": "2023-03-30T12:54:15.006192Z",
     "iopub.execute_input": "2023-03-30T12:54:15.007458Z",
     "iopub.status.idle": "2023-03-30T12:54:19.601385Z",
     "shell.execute_reply.started": "2023-03-30T12:54:15.007407Z",
     "shell.execute_reply": "2023-03-30T12:54:19.600262Z"
    },
    "trusted": true
   },
   "execution_count": null,
   "outputs": []
  },
  {
   "cell_type": "code",
   "source": [
    "trainer.train()"
   ],
   "metadata": {
    "execution": {
     "iopub.status.busy": "2023-03-30T12:54:19.603424Z",
     "iopub.execute_input": "2023-03-30T12:54:19.603900Z",
     "iopub.status.idle": "2023-03-30T12:57:04.061594Z",
     "shell.execute_reply.started": "2023-03-30T12:54:19.603861Z",
     "shell.execute_reply": "2023-03-30T12:57:04.060397Z"
    },
    "trusted": true
   },
   "execution_count": null,
   "outputs": []
  },
  {
   "cell_type": "markdown",
   "source": [
    "## Evaluation"
   ],
   "metadata": {}
  },
  {
   "cell_type": "code",
   "source": [
    "trainer.evaluate()"
   ],
   "metadata": {
    "execution": {
     "iopub.status.busy": "2023-03-30T12:57:44.166886Z",
     "iopub.execute_input": "2023-03-30T12:57:44.168158Z",
     "iopub.status.idle": "2023-03-30T12:57:47.849855Z",
     "shell.execute_reply.started": "2023-03-30T12:57:44.168105Z",
     "shell.execute_reply": "2023-03-30T12:57:47.847499Z"
    },
    "trusted": true
   },
   "execution_count": null,
   "outputs": []
  },
  {
   "cell_type": "code",
   "source": [
    "classify(\"There are new reports on the earthquake near the city of Kansas.\")"
   ],
   "metadata": {
    "execution": {
     "iopub.status.busy": "2023-03-30T13:08:19.693451Z",
     "iopub.execute_input": "2023-03-30T13:08:19.693829Z",
     "iopub.status.idle": "2023-03-30T13:08:19.715857Z",
     "shell.execute_reply.started": "2023-03-30T13:08:19.693796Z",
     "shell.execute_reply": "2023-03-30T13:08:19.714718Z"
    },
    "trusted": true
   },
   "execution_count": null,
   "outputs": []
  },
  {
   "cell_type": "code",
   "source": [
    "import pandas as pd"
   ],
   "metadata": {
    "execution": {
     "iopub.status.busy": "2023-03-30T13:08:33.629657Z",
     "iopub.execute_input": "2023-03-30T13:08:33.630082Z",
     "iopub.status.idle": "2023-03-30T13:08:33.635700Z",
     "shell.execute_reply.started": "2023-03-30T13:08:33.630042Z",
     "shell.execute_reply": "2023-03-30T13:08:33.634576Z"
    },
    "trusted": true
   },
   "execution_count": null,
   "outputs": []
  },
  {
   "cell_type": "code",
   "source": [
    "eval_df = pd.read_csv('/kaggle/input/nlp-getting-started/test.csv')"
   ],
   "metadata": {
    "execution": {
     "iopub.status.busy": "2023-03-30T13:08:33.943833Z",
     "iopub.execute_input": "2023-03-30T13:08:33.944249Z",
     "iopub.status.idle": "2023-03-30T13:08:33.960067Z",
     "shell.execute_reply.started": "2023-03-30T13:08:33.944186Z",
     "shell.execute_reply": "2023-03-30T13:08:33.958807Z"
    },
    "trusted": true
   },
   "execution_count": null,
   "outputs": []
  },
  {
   "cell_type": "code",
   "source": [
    "predictions_df = pd.DataFrame()"
   ],
   "metadata": {
    "execution": {
     "iopub.status.busy": "2023-03-30T13:13:28.032275Z",
     "iopub.execute_input": "2023-03-30T13:13:28.033350Z",
     "iopub.status.idle": "2023-03-30T13:13:28.038349Z",
     "shell.execute_reply.started": "2023-03-30T13:13:28.033310Z",
     "shell.execute_reply": "2023-03-30T13:13:28.037095Z"
    },
    "trusted": true
   },
   "execution_count": null,
   "outputs": []
  },
  {
   "cell_type": "code",
   "source": [
    "for i, text in zip(eval_df['id'], eval_df['text']):\n",
    "    y_hat = int(classify(text))\n",
    "    r = [i, y_hat]\n",
    "    predictions_df = pd.concat([predictions_df, pd.DataFrame(np.array(r)[None,:], columns=['id', 'target'])])"
   ],
   "metadata": {
    "execution": {
     "iopub.status.busy": "2023-03-30T13:14:23.840351Z",
     "iopub.execute_input": "2023-03-30T13:14:23.841012Z",
     "iopub.status.idle": "2023-03-30T13:14:53.489711Z",
     "shell.execute_reply.started": "2023-03-30T13:14:23.840973Z",
     "shell.execute_reply": "2023-03-30T13:14:53.488656Z"
    },
    "trusted": true
   },
   "execution_count": null,
   "outputs": []
  },
  {
   "cell_type": "code",
   "source": [
    "predictions_df.target = predictions_df.target.astype(int)\n",
    "predictions_df.id = predictions_df.id.astype(int)"
   ],
   "metadata": {
    "execution": {
     "iopub.status.busy": "2023-03-30T13:15:03.764127Z",
     "iopub.execute_input": "2023-03-30T13:15:03.764772Z",
     "iopub.status.idle": "2023-03-30T13:15:03.773929Z",
     "shell.execute_reply.started": "2023-03-30T13:15:03.764733Z",
     "shell.execute_reply": "2023-03-30T13:15:03.770315Z"
    },
    "trusted": true
   },
   "execution_count": null,
   "outputs": []
  },
  {
   "cell_type": "code",
   "source": [
    "print('Predictions')\n",
    "predictions_df.head(20)"
   ],
   "metadata": {
    "execution": {
     "iopub.status.busy": "2023-03-30T13:15:16.091096Z",
     "iopub.execute_input": "2023-03-30T13:15:16.091794Z",
     "iopub.status.idle": "2023-03-30T13:15:16.101816Z",
     "shell.execute_reply.started": "2023-03-30T13:15:16.091755Z",
     "shell.execute_reply": "2023-03-30T13:15:16.100796Z"
    },
    "trusted": true
   },
   "execution_count": null,
   "outputs": []
  },
  {
   "cell_type": "code",
   "source": [
    "predictions_df.to_csv('submission.csv', index=False)\n",
    "print('Done!')"
   ],
   "metadata": {
    "execution": {
     "iopub.status.busy": "2023-03-30T13:18:48.668832Z",
     "iopub.execute_input": "2023-03-30T13:18:48.669227Z",
     "iopub.status.idle": "2023-03-30T13:18:48.681320Z",
     "shell.execute_reply.started": "2023-03-30T13:18:48.669175Z",
     "shell.execute_reply": "2023-03-30T13:18:48.680251Z"
    },
    "trusted": true
   },
   "execution_count": null,
   "outputs": []
  },
  {
   "cell_type": "code",
   "source": [],
   "metadata": {},
   "execution_count": null,
   "outputs": []
  }
 ]
}
